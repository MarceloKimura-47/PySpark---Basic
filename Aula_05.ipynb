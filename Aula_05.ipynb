{
 "cells": [
  {
   "cell_type": "code",
   "execution_count": 2,
   "id": "7a90c139-de03-4ef4-a028-df202ce2133a",
   "metadata": {},
   "outputs": [],
   "source": [
    "from pyspark.sql import SparkSession\n",
    "import pyspark.sql.functions as F"
   ]
  },
  {
   "cell_type": "code",
   "execution_count": 7,
   "id": "d0f7d90a-2810-41eb-9c80-b5802b7a945d",
   "metadata": {},
   "outputs": [],
   "source": [
    "spark = (\n",
    "    SparkSession.builder.appName('Curso PySpark')\n",
    "    .config('spark.sql.repl.eagerEval.enabled',True)\n",
    "    .getOrCreate()\n",
    ")"
   ]
  },
  {
   "cell_type": "code",
   "execution_count": 9,
   "id": "9d4f0560-4ff4-4cd7-abe9-60b14abe767e",
   "metadata": {},
   "outputs": [
    {
     "data": {
      "text/html": [
       "\n",
       "            <div>\n",
       "                <p><b>SparkSession - in-memory</b></p>\n",
       "                \n",
       "        <div>\n",
       "            <p><b>SparkContext</b></p>\n",
       "\n",
       "            <p><a href=\"http://DESKTOP-M2UR532:4040\">Spark UI</a></p>\n",
       "\n",
       "            <dl>\n",
       "              <dt>Version</dt>\n",
       "                <dd><code>v3.3.2</code></dd>\n",
       "              <dt>Master</dt>\n",
       "                <dd><code>local[*]</code></dd>\n",
       "              <dt>AppName</dt>\n",
       "                <dd><code>Curso PySpark</code></dd>\n",
       "            </dl>\n",
       "        </div>\n",
       "        \n",
       "            </div>\n",
       "        "
      ],
      "text/plain": [
       "<pyspark.sql.session.SparkSession at 0x1f474ba3650>"
      ]
     },
     "execution_count": 9,
     "metadata": {},
     "output_type": "execute_result"
    }
   ],
   "source": [
    "spark"
   ]
  },
  {
   "cell_type": "code",
   "execution_count": 16,
   "id": "6cba2d71-d7d1-4077-9136-64869cf52588",
   "metadata": {},
   "outputs": [],
   "source": [
    "df = spark.read.parquet('C:/Users/Kimura/Desktop/Curso PySpark/DATASETS/DATASETS/LOGINS.parquet')"
   ]
  },
  {
   "cell_type": "code",
   "execution_count": 22,
   "id": "7dbb0202-c6dd-47e9-8851-dd68b3afd212",
   "metadata": {
    "scrolled": true
   },
   "outputs": [
    {
     "data": {
      "text/html": [
       "<table border='1'>\n",
       "<tr><th>email</th><th>senha</th><th>estado</th><th>cor_favorita</th><th>profissao</th></tr>\n",
       "<tr><td>pedro-lucas53@gma...</td><td>+7^7E%xFBc</td><td>RR</td><td>Roxo</td><td>Jogador De Golfe</td></tr>\n",
       "<tr><td>rezendeisaac@hotm...</td><td>_O_2GRnGOe</td><td>GO</td><td>Ciano</td><td>Atleta De Arremes...</td></tr>\n",
       "<tr><td>felipepires@uol.c...</td><td>*Aw5EOAvy9</td><td>MG</td><td>Azul</td><td>Papiloscopista</td></tr>\n",
       "<tr><td>stellamoraes@bol....</td><td>mw0AWYAs#s</td><td>AC</td><td>Marrom</td><td>Aeromoça</td></tr>\n",
       "<tr><td>wcarvalho@ig.com.br</td><td>pGD%!2Pq5X</td><td>AP</td><td>Laranja</td><td>Fonoaudiólogo</td></tr>\n",
       "<tr><td>da-conceicaodavi-...</td><td>uhBbFxPA&amp;9</td><td>MG</td><td>Rosa</td><td>Taxista</td></tr>\n",
       "<tr><td>efreitas@bol.com.br</td><td>s#q9VZt&amp;xl</td><td>MG</td><td>Branco</td><td>Produtor De Audio...</td></tr>\n",
       "<tr><td>wnunes@bol.com.br</td><td>_8az1W%n7g</td><td>SE</td><td>Azul</td><td>Cadeirinha</td></tr>\n",
       "<tr><td>jribeiro@bol.com.br</td><td>MEf1X7fj_0</td><td>PA</td><td>Marrom</td><td>Geólogo</td></tr>\n",
       "<tr><td>murilo05@gmail.com</td><td>Te&amp;gO7GkKs</td><td>MT</td><td>Marrom</td><td>Técnico De Som</td></tr>\n",
       "<tr><td>joaquim57@ig.com.br</td><td>&amp;2E1NY+ARc</td><td>BA</td><td>Rosa</td><td>Esteticista</td></tr>\n",
       "<tr><td>alexiada-rocha@ig...</td><td>@f@!Z!2c*2</td><td>MS</td><td>Laranja</td><td>Microfonista</td></tr>\n",
       "<tr><td>pmendes@gmail.com</td><td>M+^XDBfe(2</td><td>RR</td><td>Verde Claro</td><td>Fiscal</td></tr>\n",
       "<tr><td>renan46@bol.com.br</td><td>Rp%2pVqfe$</td><td>PA</td><td>Verde Escuro</td><td>Contabilista</td></tr>\n",
       "<tr><td>manuelada-rosa@ho...</td><td>#hEIEOztQ3</td><td>SE</td><td>Violeta</td><td>Seguidor De Compras</td></tr>\n",
       "<tr><td>usales@ig.com.br</td><td>b_8xaY$ozJ</td><td>AM</td><td>Rosa</td><td>Almirante</td></tr>\n",
       "<tr><td>pereiranicolas@ho...</td><td>YA9I85Wb+2</td><td>MA</td><td>Amarelo</td><td>Consultor De Moda</td></tr>\n",
       "<tr><td>cardosolivia@ig.c...</td><td>yXkDW7Ebh*</td><td>GO</td><td>Laranja</td><td>Barbeiro</td></tr>\n",
       "<tr><td>brenda39@ig.com.br</td><td>XS$84Hpsnw</td><td>RJ</td><td>Branco</td><td>Promotor De Vendas</td></tr>\n",
       "<tr><td>luizapeixoto@gmai...</td><td>TbKy82Kda$</td><td>DF</td><td>Ciano</td><td>Implantodontista</td></tr>\n",
       "</table>\n",
       "only showing top 20 rows\n"
      ],
      "text/plain": [
       "+--------------------+----------+------+------------+--------------------+\n",
       "|               email|     senha|estado|cor_favorita|           profissao|\n",
       "+--------------------+----------+------+------------+--------------------+\n",
       "|pedro-lucas53@gma...|+7^7E%xFBc|    RR|        Roxo|    Jogador De Golfe|\n",
       "|rezendeisaac@hotm...|_O_2GRnGOe|    GO|       Ciano|Atleta De Arremes...|\n",
       "|felipepires@uol.c...|*Aw5EOAvy9|    MG|        Azul|      Papiloscopista|\n",
       "|stellamoraes@bol....|mw0AWYAs#s|    AC|      Marrom|            Aeromoça|\n",
       "| wcarvalho@ig.com.br|pGD%!2Pq5X|    AP|     Laranja|       Fonoaudiólogo|\n",
       "|da-conceicaodavi-...|uhBbFxPA&9|    MG|        Rosa|             Taxista|\n",
       "| efreitas@bol.com.br|s#q9VZt&xl|    MG|      Branco|Produtor De Audio...|\n",
       "|   wnunes@bol.com.br|_8az1W%n7g|    SE|        Azul|          Cadeirinha|\n",
       "| jribeiro@bol.com.br|MEf1X7fj_0|    PA|      Marrom|             Geólogo|\n",
       "|  murilo05@gmail.com|Te&gO7GkKs|    MT|      Marrom|      Técnico De Som|\n",
       "| joaquim57@ig.com.br|&2E1NY+ARc|    BA|        Rosa|         Esteticista|\n",
       "|alexiada-rocha@ig...|@f@!Z!2c*2|    MS|     Laranja|        Microfonista|\n",
       "|   pmendes@gmail.com|M+^XDBfe(2|    RR| Verde Claro|              Fiscal|\n",
       "|  renan46@bol.com.br|Rp%2pVqfe$|    PA|Verde Escuro|        Contabilista|\n",
       "|manuelada-rosa@ho...|#hEIEOztQ3|    SE|     Violeta| Seguidor De Compras|\n",
       "|    usales@ig.com.br|b_8xaY$ozJ|    AM|        Rosa|           Almirante|\n",
       "|pereiranicolas@ho...|YA9I85Wb+2|    MA|     Amarelo|   Consultor De Moda|\n",
       "|cardosolivia@ig.c...|yXkDW7Ebh*|    GO|     Laranja|            Barbeiro|\n",
       "|  brenda39@ig.com.br|XS$84Hpsnw|    RJ|      Branco|  Promotor De Vendas|\n",
       "|luizapeixoto@gmai...|TbKy82Kda$|    DF|       Ciano|    Implantodontista|\n",
       "+--------------------+----------+------+------------+--------------------+\n",
       "only showing top 20 rows"
      ]
     },
     "execution_count": 22,
     "metadata": {},
     "output_type": "execute_result"
    }
   ],
   "source": [
    "# Aqui basicamente criei outro DataFrame para adicionar as colunas que serão utilizadas nesse notebook.\n",
    "# O DataFrame original ainda contêm todos os dados.\n",
    "\n",
    "df_01 = df.select('email','senha','estado','cor_favorita','profissao')\n",
    "df_01"
   ]
  },
  {
   "cell_type": "code",
   "execution_count": 54,
   "id": "d62ef606-b2b0-4bf8-98b1-5e4b1210a080",
   "metadata": {},
   "outputs": [
    {
     "name": "stdout",
     "output_type": "stream",
     "text": [
      "+----------------------------------+----------+------+------------+------------------------------+-------------------------------------+----------------------+------------+-------------+\n",
      "|email                             |senha     |estado|cor_favorita|profissao                     |email_separado                       |usuario               |provedor    |nome_provedor|\n",
      "+----------------------------------+----------+------+------------+------------------------------+-------------------------------------+----------------------+------------+-------------+\n",
      "|pedro-lucas53@gmail.com           |+7^7E%xFBc|RR    |Roxo        |Jogador De Golfe              |[pedro-lucas53, gmail.com]           |pedro-lucas53         |gmail.com   |gmail        |\n",
      "|rezendeisaac@hotmail.com          |_O_2GRnGOe|GO    |Ciano       |Atleta De Arremesso De Peso   |[rezendeisaac, hotmail.com]          |rezendeisaac          |hotmail.com |hotmail      |\n",
      "|felipepires@uol.com.br            |*Aw5EOAvy9|MG    |Azul        |Papiloscopista                |[felipepires, uol.com.br]            |felipepires           |uol.com.br  |uol          |\n",
      "|stellamoraes@bol.com.br           |mw0AWYAs#s|AC    |Marrom      |Aeromoça                      |[stellamoraes, bol.com.br]           |stellamoraes          |bol.com.br  |bol          |\n",
      "|wcarvalho@ig.com.br               |pGD%!2Pq5X|AP    |Laranja     |Fonoaudiólogo                 |[wcarvalho, ig.com.br]               |wcarvalho             |ig.com.br   |ig           |\n",
      "|da-conceicaodavi-lucas@hotmail.com|uhBbFxPA&9|MG    |Rosa        |Taxista                       |[da-conceicaodavi-lucas, hotmail.com]|da-conceicaodavi-lucas|hotmail.com |hotmail      |\n",
      "|efreitas@bol.com.br               |s#q9VZt&xl|MG    |Branco      |Produtor De Audio Visual      |[efreitas, bol.com.br]               |efreitas              |bol.com.br  |bol          |\n",
      "|wnunes@bol.com.br                 |_8az1W%n7g|SE    |Azul        |Cadeirinha                    |[wnunes, bol.com.br]                 |wnunes                |bol.com.br  |bol          |\n",
      "|jribeiro@bol.com.br               |MEf1X7fj_0|PA    |Marrom      |Geólogo                       |[jribeiro, bol.com.br]               |jribeiro              |bol.com.br  |bol          |\n",
      "|murilo05@gmail.com                |Te&gO7GkKs|MT    |Marrom      |Técnico De Som                |[murilo05, gmail.com]                |murilo05              |gmail.com   |gmail        |\n",
      "|joaquim57@ig.com.br               |&2E1NY+ARc|BA    |Rosa        |Esteticista                   |[joaquim57, ig.com.br]               |joaquim57             |ig.com.br   |ig           |\n",
      "|alexiada-rocha@ig.com.br          |@f@!Z!2c*2|MS    |Laranja     |Microfonista                  |[alexiada-rocha, ig.com.br]          |alexiada-rocha        |ig.com.br   |ig           |\n",
      "|pmendes@gmail.com                 |M+^XDBfe(2|RR    |Verde Claro |Fiscal                        |[pmendes, gmail.com]                 |pmendes               |gmail.com   |gmail        |\n",
      "|renan46@bol.com.br                |Rp%2pVqfe$|PA    |Verde Escuro|Contabilista                  |[renan46, bol.com.br]                |renan46               |bol.com.br  |bol          |\n",
      "|manuelada-rosa@hotmail.com        |#hEIEOztQ3|SE    |Violeta     |Seguidor De Compras           |[manuelada-rosa, hotmail.com]        |manuelada-rosa        |hotmail.com |hotmail      |\n",
      "|usales@ig.com.br                  |b_8xaY$ozJ|AM    |Rosa        |Almirante                     |[usales, ig.com.br]                  |usales                |ig.com.br   |ig           |\n",
      "|pereiranicolas@hotmail.com        |YA9I85Wb+2|MA    |Amarelo     |Consultor De Moda             |[pereiranicolas, hotmail.com]        |pereiranicolas        |hotmail.com |hotmail      |\n",
      "|cardosolivia@ig.com.br            |yXkDW7Ebh*|GO    |Laranja     |Barbeiro                      |[cardosolivia, ig.com.br]            |cardosolivia          |ig.com.br   |ig           |\n",
      "|brenda39@ig.com.br                |XS$84Hpsnw|RJ    |Branco      |Promotor De Vendas            |[brenda39, ig.com.br]                |brenda39              |ig.com.br   |ig           |\n",
      "|luizapeixoto@gmail.com            |TbKy82Kda$|DF    |Ciano       |Implantodontista              |[luizapeixoto, gmail.com]            |luizapeixoto          |gmail.com   |gmail        |\n",
      "|msilveira@hotmail.com             |*JGkXTxw20|RS    |Marrom      |Transcritor                   |[msilveira, hotmail.com]             |msilveira             |hotmail.com |hotmail      |\n",
      "|vinicius86@yahoo.com.br           |)0UFwLnQeY|MA    |Amarelo     |Geólogo                       |[vinicius86, yahoo.com.br]           |vinicius86            |yahoo.com.br|yahoo        |\n",
      "|thomas46@hotmail.com              |(nHUASneS4|CE    |Roxo        |Judoca                        |[thomas46, hotmail.com]              |thomas46              |hotmail.com |hotmail      |\n",
      "|hnogueira@ig.com.br               |&9Ejtll$PF|SP    |Cinza       |Instalador De Linha Telefônica|[hnogueira, ig.com.br]               |hnogueira             |ig.com.br   |ig           |\n",
      "|qdias@gmail.com                   |6z5AgU_##v|GO    |Verde       |Auditor                       |[qdias, gmail.com]                   |qdias                 |gmail.com   |gmail        |\n",
      "|rgoncalves@hotmail.com            |!ZL!yIcdt2|SC    |Cinza       |Instalador De Linha Telefônica|[rgoncalves, hotmail.com]            |rgoncalves            |hotmail.com |hotmail      |\n",
      "|omoreira@bol.com.br               |!8maDkdVnY|MG    |Verde Escuro|Adestrador De Animais         |[omoreira, bol.com.br]               |omoreira              |bol.com.br  |bol          |\n",
      "|da-rocharebeca@hotmail.com        |FlOoH0I6)6|PE    |Violeta     |Modelista                     |[da-rocharebeca, hotmail.com]        |da-rocharebeca        |hotmail.com |hotmail      |\n",
      "|costagabriel@gmail.com            |^+kLpbkVw2|DF    |Amarelo     |Neurocirurgião                |[costagabriel, gmail.com]            |costagabriel          |gmail.com   |gmail        |\n",
      "|davi47@bol.com.br                 |$XJ)MDIUj7|MA    |Azul        |Lenhador                      |[davi47, bol.com.br]                 |davi47                |bol.com.br  |bol          |\n",
      "+----------------------------------+----------+------+------------+------------------------------+-------------------------------------+----------------------+------------+-------------+\n",
      "only showing top 30 rows\n",
      "\n"
     ]
    },
    {
     "name": "stderr",
     "output_type": "stream",
     "text": [
      "<>:16: SyntaxWarning: invalid escape sequence '\\.'\n",
      "<>:16: SyntaxWarning: invalid escape sequence '\\.'\n",
      "C:\\Users\\Kimura\\AppData\\Local\\Temp\\ipykernel_13788\\869825367.py:16: SyntaxWarning: invalid escape sequence '\\.'\n",
      "  .withColumn('nome_provedor', F.split(F.col('provedor'), '\\.').getItem(0))\n"
     ]
    }
   ],
   "source": [
    "# Aqui nós vamos utilizar o método .split para quebrar o valor da string.\n",
    "# No exemplo abaixo nós utilizamos o método .split para quebrar os valor de email em 2 partes a partir do caractere \"@\"\n",
    "# OBS: O .split aqui é igual ao do python base.\n",
    "# Separamos a coluna email em nome do usuário e provedor.\n",
    "# o resultado de .split sendo uma lista, para selecionar os dados basta usar o .getItem + indice da lista\n",
    "# outra informação interessante foi o uso do F.col no exemplo abaixo\n",
    "# perceba que, na forma da chamada da coluna df_01.email ela só funciona porque o 'email' é uma coluna nativa do 'df_01'\n",
    "# caso se crie outras colunas só é possível usar essa forma de atribuição SE SALVAR essas novas colunas no dataframe\n",
    "# o método F.col ignora essa regra e consegue acessar colunas criadas no DF sem a necessidade de salvá-lo\n",
    "\n",
    "(\n",
    "    df_01\n",
    "    .withColumn('email_separado', F.split(df_01.email, '@'))\n",
    "    .withColumn('usuario', F.split(df_01.email, '@').getItem(0))\n",
    "    .withColumn('provedor', F.split(df_01.email, '@').getItem(1))\n",
    "    .withColumn('nome_provedor', F.split(F.col('provedor'), '\\.').getItem(0))\n",
    "    .show(30,False)\n",
    "    \n",
    ")"
   ]
  },
  {
   "cell_type": "code",
   "execution_count": 64,
   "id": "97bfc35f-5aaa-4e42-8564-8a1e32dbc199",
   "metadata": {
    "scrolled": true
   },
   "outputs": [
    {
     "data": {
      "text/html": [
       "<table border='1'>\n",
       "<tr><th>email</th><th>senha</th><th>estado</th><th>cor_favorita</th><th>profissao</th><th>concat</th><th>concat_2</th></tr>\n",
       "<tr><td>pedro-lucas53@gma...</td><td>+7^7E%xFBc</td><td>RR</td><td>Roxo</td><td>Jogador De Golfe</td><td>Jogador De GolfeRoxo</td><td>RR - Brasil</td></tr>\n",
       "<tr><td>rezendeisaac@hotm...</td><td>_O_2GRnGOe</td><td>GO</td><td>Ciano</td><td>Atleta De Arremes...</td><td>Atleta De Arremes...</td><td>GO - Brasil</td></tr>\n",
       "<tr><td>felipepires@uol.c...</td><td>*Aw5EOAvy9</td><td>MG</td><td>Azul</td><td>Papiloscopista</td><td>PapiloscopistaAzul</td><td>MG - Brasil</td></tr>\n",
       "<tr><td>stellamoraes@bol....</td><td>mw0AWYAs#s</td><td>AC</td><td>Marrom</td><td>Aeromoça</td><td>AeromoçaMarrom</td><td>AC - Brasil</td></tr>\n",
       "<tr><td>wcarvalho@ig.com.br</td><td>pGD%!2Pq5X</td><td>AP</td><td>Laranja</td><td>Fonoaudiólogo</td><td>FonoaudiólogoLaranja</td><td>AP - Brasil</td></tr>\n",
       "<tr><td>da-conceicaodavi-...</td><td>uhBbFxPA&amp;9</td><td>MG</td><td>Rosa</td><td>Taxista</td><td>TaxistaRosa</td><td>MG - Brasil</td></tr>\n",
       "<tr><td>efreitas@bol.com.br</td><td>s#q9VZt&amp;xl</td><td>MG</td><td>Branco</td><td>Produtor De Audio...</td><td>Produtor De Audio...</td><td>MG - Brasil</td></tr>\n",
       "<tr><td>wnunes@bol.com.br</td><td>_8az1W%n7g</td><td>SE</td><td>Azul</td><td>Cadeirinha</td><td>CadeirinhaAzul</td><td>SE - Brasil</td></tr>\n",
       "<tr><td>jribeiro@bol.com.br</td><td>MEf1X7fj_0</td><td>PA</td><td>Marrom</td><td>Geólogo</td><td>GeólogoMarrom</td><td>PA - Brasil</td></tr>\n",
       "<tr><td>murilo05@gmail.com</td><td>Te&amp;gO7GkKs</td><td>MT</td><td>Marrom</td><td>Técnico De Som</td><td>Técnico De SomMarrom</td><td>MT - Brasil</td></tr>\n",
       "<tr><td>joaquim57@ig.com.br</td><td>&amp;2E1NY+ARc</td><td>BA</td><td>Rosa</td><td>Esteticista</td><td>EsteticistaRosa</td><td>BA - Brasil</td></tr>\n",
       "<tr><td>alexiada-rocha@ig...</td><td>@f@!Z!2c*2</td><td>MS</td><td>Laranja</td><td>Microfonista</td><td>MicrofonistaLaranja</td><td>MS - Brasil</td></tr>\n",
       "<tr><td>pmendes@gmail.com</td><td>M+^XDBfe(2</td><td>RR</td><td>Verde Claro</td><td>Fiscal</td><td>FiscalVerde Claro</td><td>RR - Brasil</td></tr>\n",
       "<tr><td>renan46@bol.com.br</td><td>Rp%2pVqfe$</td><td>PA</td><td>Verde Escuro</td><td>Contabilista</td><td>ContabilistaVerde...</td><td>PA - Brasil</td></tr>\n",
       "<tr><td>manuelada-rosa@ho...</td><td>#hEIEOztQ3</td><td>SE</td><td>Violeta</td><td>Seguidor De Compras</td><td>Seguidor De Compr...</td><td>SE - Brasil</td></tr>\n",
       "<tr><td>usales@ig.com.br</td><td>b_8xaY$ozJ</td><td>AM</td><td>Rosa</td><td>Almirante</td><td>AlmiranteRosa</td><td>AM - Brasil</td></tr>\n",
       "<tr><td>pereiranicolas@ho...</td><td>YA9I85Wb+2</td><td>MA</td><td>Amarelo</td><td>Consultor De Moda</td><td>Consultor De Moda...</td><td>MA - Brasil</td></tr>\n",
       "<tr><td>cardosolivia@ig.c...</td><td>yXkDW7Ebh*</td><td>GO</td><td>Laranja</td><td>Barbeiro</td><td>BarbeiroLaranja</td><td>GO - Brasil</td></tr>\n",
       "<tr><td>brenda39@ig.com.br</td><td>XS$84Hpsnw</td><td>RJ</td><td>Branco</td><td>Promotor De Vendas</td><td>Promotor De Venda...</td><td>RJ - Brasil</td></tr>\n",
       "<tr><td>luizapeixoto@gmai...</td><td>TbKy82Kda$</td><td>DF</td><td>Ciano</td><td>Implantodontista</td><td>ImplantodontistaC...</td><td>DF - Brasil</td></tr>\n",
       "</table>\n",
       "only showing top 20 rows\n"
      ],
      "text/plain": [
       "+--------------------+----------+------+------------+--------------------+--------------------+-----------+\n",
       "|               email|     senha|estado|cor_favorita|           profissao|              concat|   concat_2|\n",
       "+--------------------+----------+------+------------+--------------------+--------------------+-----------+\n",
       "|pedro-lucas53@gma...|+7^7E%xFBc|    RR|        Roxo|    Jogador De Golfe|Jogador De GolfeRoxo|RR - Brasil|\n",
       "|rezendeisaac@hotm...|_O_2GRnGOe|    GO|       Ciano|Atleta De Arremes...|Atleta De Arremes...|GO - Brasil|\n",
       "|felipepires@uol.c...|*Aw5EOAvy9|    MG|        Azul|      Papiloscopista|  PapiloscopistaAzul|MG - Brasil|\n",
       "|stellamoraes@bol....|mw0AWYAs#s|    AC|      Marrom|            Aeromoça|      AeromoçaMarrom|AC - Brasil|\n",
       "| wcarvalho@ig.com.br|pGD%!2Pq5X|    AP|     Laranja|       Fonoaudiólogo|FonoaudiólogoLaranja|AP - Brasil|\n",
       "|da-conceicaodavi-...|uhBbFxPA&9|    MG|        Rosa|             Taxista|         TaxistaRosa|MG - Brasil|\n",
       "| efreitas@bol.com.br|s#q9VZt&xl|    MG|      Branco|Produtor De Audio...|Produtor De Audio...|MG - Brasil|\n",
       "|   wnunes@bol.com.br|_8az1W%n7g|    SE|        Azul|          Cadeirinha|      CadeirinhaAzul|SE - Brasil|\n",
       "| jribeiro@bol.com.br|MEf1X7fj_0|    PA|      Marrom|             Geólogo|       GeólogoMarrom|PA - Brasil|\n",
       "|  murilo05@gmail.com|Te&gO7GkKs|    MT|      Marrom|      Técnico De Som|Técnico De SomMarrom|MT - Brasil|\n",
       "| joaquim57@ig.com.br|&2E1NY+ARc|    BA|        Rosa|         Esteticista|     EsteticistaRosa|BA - Brasil|\n",
       "|alexiada-rocha@ig...|@f@!Z!2c*2|    MS|     Laranja|        Microfonista| MicrofonistaLaranja|MS - Brasil|\n",
       "|   pmendes@gmail.com|M+^XDBfe(2|    RR| Verde Claro|              Fiscal|   FiscalVerde Claro|RR - Brasil|\n",
       "|  renan46@bol.com.br|Rp%2pVqfe$|    PA|Verde Escuro|        Contabilista|ContabilistaVerde...|PA - Brasil|\n",
       "|manuelada-rosa@ho...|#hEIEOztQ3|    SE|     Violeta| Seguidor De Compras|Seguidor De Compr...|SE - Brasil|\n",
       "|    usales@ig.com.br|b_8xaY$ozJ|    AM|        Rosa|           Almirante|       AlmiranteRosa|AM - Brasil|\n",
       "|pereiranicolas@ho...|YA9I85Wb+2|    MA|     Amarelo|   Consultor De Moda|Consultor De Moda...|MA - Brasil|\n",
       "|cardosolivia@ig.c...|yXkDW7Ebh*|    GO|     Laranja|            Barbeiro|     BarbeiroLaranja|GO - Brasil|\n",
       "|  brenda39@ig.com.br|XS$84Hpsnw|    RJ|      Branco|  Promotor De Vendas|Promotor De Venda...|RJ - Brasil|\n",
       "|luizapeixoto@gmai...|TbKy82Kda$|    DF|       Ciano|    Implantodontista|ImplantodontistaC...|DF - Brasil|\n",
       "+--------------------+----------+------+------------+--------------------+--------------------+-----------+\n",
       "only showing top 20 rows"
      ]
     },
     "execution_count": 64,
     "metadata": {},
     "output_type": "execute_result"
    }
   ],
   "source": [
    "# Método concat (bem padrão)\n",
    "\n",
    "(\n",
    "    df_01\n",
    "    .withColumn('concat', F.concat(df_01.profissao, df_01.cor_favorita))\n",
    "    .withColumn('concat_2', F.concat(df_01.estado, F.lit(' - Brasil' )))\n",
    ")"
   ]
  },
  {
   "cell_type": "code",
   "execution_count": 80,
   "id": "ff660d21-4e4a-45c8-a806-0ab8f9bb0775",
   "metadata": {},
   "outputs": [
    {
     "name": "stdout",
     "output_type": "stream",
     "text": [
      "+----------------------------------+----------+------+------------+---------------------------+-----+-------+--------+---------+---------------------------------------------------------------+\n",
      "|email                             |senha     |estado|cor_favorita|profissao                  |lower|upper  |init_cap|substring|format_string                                                  |\n",
      "+----------------------------------+----------+------+------------+---------------------------+-----+-------+--------+---------+---------------------------------------------------------------+\n",
      "|pedro-lucas53@gmail.com           |+7^7E%xFBc|RR    |Roxo        |Jogador De Golfe           |rr   |ROXO   |Rr      |Rox      |Olá pedro-lucas53@gmail.com, sua cor favorita é Roxo           |\n",
      "|rezendeisaac@hotmail.com          |_O_2GRnGOe|GO    |Ciano       |Atleta De Arremesso De Peso|go   |CIANO  |Go      |Cia      |Olá rezendeisaac@hotmail.com, sua cor favorita é Ciano         |\n",
      "|felipepires@uol.com.br            |*Aw5EOAvy9|MG    |Azul        |Papiloscopista             |mg   |AZUL   |Mg      |Azu      |Olá felipepires@uol.com.br, sua cor favorita é Azul            |\n",
      "|stellamoraes@bol.com.br           |mw0AWYAs#s|AC    |Marrom      |Aeromoça                   |ac   |MARROM |Ac      |Mar      |Olá stellamoraes@bol.com.br, sua cor favorita é Marrom         |\n",
      "|wcarvalho@ig.com.br               |pGD%!2Pq5X|AP    |Laranja     |Fonoaudiólogo              |ap   |LARANJA|Ap      |Lar      |Olá wcarvalho@ig.com.br, sua cor favorita é Laranja            |\n",
      "|da-conceicaodavi-lucas@hotmail.com|uhBbFxPA&9|MG    |Rosa        |Taxista                    |mg   |ROSA   |Mg      |Ros      |Olá da-conceicaodavi-lucas@hotmail.com, sua cor favorita é Rosa|\n",
      "|efreitas@bol.com.br               |s#q9VZt&xl|MG    |Branco      |Produtor De Audio Visual   |mg   |BRANCO |Mg      |Bra      |Olá efreitas@bol.com.br, sua cor favorita é Branco             |\n",
      "|wnunes@bol.com.br                 |_8az1W%n7g|SE    |Azul        |Cadeirinha                 |se   |AZUL   |Se      |Azu      |Olá wnunes@bol.com.br, sua cor favorita é Azul                 |\n",
      "|jribeiro@bol.com.br               |MEf1X7fj_0|PA    |Marrom      |Geólogo                    |pa   |MARROM |Pa      |Mar      |Olá jribeiro@bol.com.br, sua cor favorita é Marrom             |\n",
      "|murilo05@gmail.com                |Te&gO7GkKs|MT    |Marrom      |Técnico De Som             |mt   |MARROM |Mt      |Mar      |Olá murilo05@gmail.com, sua cor favorita é Marrom              |\n",
      "+----------------------------------+----------+------+------------+---------------------------+-----+-------+--------+---------+---------------------------------------------------------------+\n",
      "only showing top 10 rows\n",
      "\n"
     ]
    }
   ],
   "source": [
    "# upper | lower | initcap |  -> bem padrão\n",
    "# substring basicamente é um recorte da string nas colunas, podendo indicar caractere de início e quantidade de caracteres para considerar\n",
    "# format_string é igual ao .format do python\n",
    "\n",
    "\n",
    "(\n",
    "    df_01\n",
    "    .withColumn('lower', F.lower(df.estado))\n",
    "    .withColumn('upper', F.upper(df.cor_favorita))\n",
    "    .withColumn('init_cap', F.initcap(F.col('lower')))\n",
    "    .withColumn('substring', F.substring(df_01.cor_favorita,1,3))\n",
    "    .withColumn('format_string', F.format_string('Olá %s, sua cor favorita é %s',df_01.email, df_01.cor_favorita))\n",
    "    .show(10,False)\n",
    ")"
   ]
  },
  {
   "cell_type": "code",
   "execution_count": 116,
   "id": "5a4f10ea-1f68-4bb4-9074-cc50bbe98319",
   "metadata": {
    "scrolled": true
   },
   "outputs": [
    {
     "data": {
      "text/html": [
       "<table border='1'>\n",
       "<tr><th>email</th><th>senha</th><th>estado</th><th>cor_favorita</th><th>profissao</th><th>instr</th><th>tamanho_str</th><th>repete</th><th>Retira_Espaço</th><th>preenche_esqueda</th><th>preenche_direita</th></tr>\n",
       "<tr><td>pedro-lucas53@gma...</td><td>+7^7E%xFBc</td><td>RR</td><td>Roxo</td><td>Jogador De Golfe</td><td>14</td><td>16</td><td>RRRRRR</td><td>RR</td><td>::::::Roxo</td><td>Roxo::::::</td></tr>\n",
       "<tr><td>rezendeisaac@hotm...</td><td>_O_2GRnGOe</td><td>GO</td><td>Ciano</td><td>Atleta De Arremes...</td><td>0</td><td>27</td><td>GOGOGO</td><td>GO</td><td>:::::Ciano</td><td>Ciano:::::</td></tr>\n",
       "<tr><td>felipepires@uol.c...</td><td>*Aw5EOAvy9</td><td>MG</td><td>Azul</td><td>Papiloscopista</td><td>0</td><td>14</td><td>MGMGMG</td><td>MG</td><td>::::::Azul</td><td>Azul::::::</td></tr>\n",
       "<tr><td>stellamoraes@bol....</td><td>mw0AWYAs#s</td><td>AC</td><td>Marrom</td><td>Aeromoça</td><td>0</td><td>8</td><td>ACACAC</td><td>AC</td><td>::::Marrom</td><td>Marrom::::</td></tr>\n",
       "<tr><td>wcarvalho@ig.com.br</td><td>pGD%!2Pq5X</td><td>AP</td><td>Laranja</td><td>Fonoaudiólogo</td><td>0</td><td>13</td><td>APAPAP</td><td>AP</td><td>:::Laranja</td><td>Laranja:::</td></tr>\n",
       "<tr><td>da-conceicaodavi-...</td><td>uhBbFxPA&amp;9</td><td>MG</td><td>Rosa</td><td>Taxista</td><td>0</td><td>7</td><td>MGMGMG</td><td>MG</td><td>::::::Rosa</td><td>Rosa::::::</td></tr>\n",
       "<tr><td>efreitas@bol.com.br</td><td>s#q9VZt&amp;xl</td><td>MG</td><td>Branco</td><td>Produtor De Audio...</td><td>0</td><td>24</td><td>MGMGMG</td><td>MG</td><td>::::Branco</td><td>Branco::::</td></tr>\n",
       "<tr><td>wnunes@bol.com.br</td><td>_8az1W%n7g</td><td>SE</td><td>Azul</td><td>Cadeirinha</td><td>0</td><td>10</td><td>SESESE</td><td>SE</td><td>::::::Azul</td><td>Azul::::::</td></tr>\n",
       "<tr><td>jribeiro@bol.com.br</td><td>MEf1X7fj_0</td><td>PA</td><td>Marrom</td><td>Geólogo</td><td>0</td><td>7</td><td>PAPAPA</td><td>PA</td><td>::::Marrom</td><td>Marrom::::</td></tr>\n",
       "<tr><td>murilo05@gmail.com</td><td>Te&amp;gO7GkKs</td><td>MT</td><td>Marrom</td><td>Técnico De Som</td><td>9</td><td>14</td><td>MTMTMT</td><td>MT</td><td>::::Marrom</td><td>Marrom::::</td></tr>\n",
       "<tr><td>joaquim57@ig.com.br</td><td>&amp;2E1NY+ARc</td><td>BA</td><td>Rosa</td><td>Esteticista</td><td>0</td><td>11</td><td>BABABA</td><td>BA</td><td>::::::Rosa</td><td>Rosa::::::</td></tr>\n",
       "<tr><td>alexiada-rocha@ig...</td><td>@f@!Z!2c*2</td><td>MS</td><td>Laranja</td><td>Microfonista</td><td>0</td><td>12</td><td>MSMSMS</td><td>MS</td><td>:::Laranja</td><td>Laranja:::</td></tr>\n",
       "<tr><td>pmendes@gmail.com</td><td>M+^XDBfe(2</td><td>RR</td><td>Verde Claro</td><td>Fiscal</td><td>8</td><td>6</td><td>RRRRRR</td><td>RR</td><td>Verde Clar</td><td>Verde Clar</td></tr>\n",
       "<tr><td>renan46@bol.com.br</td><td>Rp%2pVqfe$</td><td>PA</td><td>Verde Escuro</td><td>Contabilista</td><td>0</td><td>12</td><td>PAPAPA</td><td>PA</td><td>Verde Escu</td><td>Verde Escu</td></tr>\n",
       "<tr><td>manuelada-rosa@ho...</td><td>#hEIEOztQ3</td><td>SE</td><td>Violeta</td><td>Seguidor De Compras</td><td>0</td><td>19</td><td>SESESE</td><td>SE</td><td>:::Violeta</td><td>Violeta:::</td></tr>\n",
       "<tr><td>usales@ig.com.br</td><td>b_8xaY$ozJ</td><td>AM</td><td>Rosa</td><td>Almirante</td><td>0</td><td>9</td><td>AMAMAM</td><td>AM</td><td>::::::Rosa</td><td>Rosa::::::</td></tr>\n",
       "<tr><td>pereiranicolas@ho...</td><td>YA9I85Wb+2</td><td>MA</td><td>Amarelo</td><td>Consultor De Moda</td><td>0</td><td>17</td><td>MAMAMA</td><td>MA</td><td>:::Amarelo</td><td>Amarelo:::</td></tr>\n",
       "<tr><td>cardosolivia@ig.c...</td><td>yXkDW7Ebh*</td><td>GO</td><td>Laranja</td><td>Barbeiro</td><td>0</td><td>8</td><td>GOGOGO</td><td>GO</td><td>:::Laranja</td><td>Laranja:::</td></tr>\n",
       "<tr><td>brenda39@ig.com.br</td><td>XS$84Hpsnw</td><td>RJ</td><td>Branco</td><td>Promotor De Vendas</td><td>0</td><td>18</td><td>RJRJRJ</td><td>RJ</td><td>::::Branco</td><td>Branco::::</td></tr>\n",
       "<tr><td>luizapeixoto@gmai...</td><td>TbKy82Kda$</td><td>DF</td><td>Ciano</td><td>Implantodontista</td><td>13</td><td>16</td><td>DFDFDF</td><td>DF</td><td>:::::Ciano</td><td>Ciano:::::</td></tr>\n",
       "</table>\n",
       "only showing top 20 rows\n"
      ],
      "text/plain": [
       "+--------------------+----------+------+------------+--------------------+-----+-----------+------+-------------+----------------+----------------+\n",
       "|               email|     senha|estado|cor_favorita|           profissao|instr|tamanho_str|repete|Retira_Espaço|preenche_esqueda|preenche_direita|\n",
       "+--------------------+----------+------+------------+--------------------+-----+-----------+------+-------------+----------------+----------------+\n",
       "|pedro-lucas53@gma...|+7^7E%xFBc|    RR|        Roxo|    Jogador De Golfe|   14|         16|RRRRRR|           RR|      ::::::Roxo|      Roxo::::::|\n",
       "|rezendeisaac@hotm...|_O_2GRnGOe|    GO|       Ciano|Atleta De Arremes...|    0|         27|GOGOGO|           GO|      :::::Ciano|      Ciano:::::|\n",
       "|felipepires@uol.c...|*Aw5EOAvy9|    MG|        Azul|      Papiloscopista|    0|         14|MGMGMG|           MG|      ::::::Azul|      Azul::::::|\n",
       "|stellamoraes@bol....|mw0AWYAs#s|    AC|      Marrom|            Aeromoça|    0|          8|ACACAC|           AC|      ::::Marrom|      Marrom::::|\n",
       "| wcarvalho@ig.com.br|pGD%!2Pq5X|    AP|     Laranja|       Fonoaudiólogo|    0|         13|APAPAP|           AP|      :::Laranja|      Laranja:::|\n",
       "|da-conceicaodavi-...|uhBbFxPA&9|    MG|        Rosa|             Taxista|    0|          7|MGMGMG|           MG|      ::::::Rosa|      Rosa::::::|\n",
       "| efreitas@bol.com.br|s#q9VZt&xl|    MG|      Branco|Produtor De Audio...|    0|         24|MGMGMG|           MG|      ::::Branco|      Branco::::|\n",
       "|   wnunes@bol.com.br|_8az1W%n7g|    SE|        Azul|          Cadeirinha|    0|         10|SESESE|           SE|      ::::::Azul|      Azul::::::|\n",
       "| jribeiro@bol.com.br|MEf1X7fj_0|    PA|      Marrom|             Geólogo|    0|          7|PAPAPA|           PA|      ::::Marrom|      Marrom::::|\n",
       "|  murilo05@gmail.com|Te&gO7GkKs|    MT|      Marrom|      Técnico De Som|    9|         14|MTMTMT|           MT|      ::::Marrom|      Marrom::::|\n",
       "| joaquim57@ig.com.br|&2E1NY+ARc|    BA|        Rosa|         Esteticista|    0|         11|BABABA|           BA|      ::::::Rosa|      Rosa::::::|\n",
       "|alexiada-rocha@ig...|@f@!Z!2c*2|    MS|     Laranja|        Microfonista|    0|         12|MSMSMS|           MS|      :::Laranja|      Laranja:::|\n",
       "|   pmendes@gmail.com|M+^XDBfe(2|    RR| Verde Claro|              Fiscal|    8|          6|RRRRRR|           RR|      Verde Clar|      Verde Clar|\n",
       "|  renan46@bol.com.br|Rp%2pVqfe$|    PA|Verde Escuro|        Contabilista|    0|         12|PAPAPA|           PA|      Verde Escu|      Verde Escu|\n",
       "|manuelada-rosa@ho...|#hEIEOztQ3|    SE|     Violeta| Seguidor De Compras|    0|         19|SESESE|           SE|      :::Violeta|      Violeta:::|\n",
       "|    usales@ig.com.br|b_8xaY$ozJ|    AM|        Rosa|           Almirante|    0|          9|AMAMAM|           AM|      ::::::Rosa|      Rosa::::::|\n",
       "|pereiranicolas@ho...|YA9I85Wb+2|    MA|     Amarelo|   Consultor De Moda|    0|         17|MAMAMA|           MA|      :::Amarelo|      Amarelo:::|\n",
       "|cardosolivia@ig.c...|yXkDW7Ebh*|    GO|     Laranja|            Barbeiro|    0|          8|GOGOGO|           GO|      :::Laranja|      Laranja:::|\n",
       "|  brenda39@ig.com.br|XS$84Hpsnw|    RJ|      Branco|  Promotor De Vendas|    0|         18|RJRJRJ|           RJ|      ::::Branco|      Branco::::|\n",
       "|luizapeixoto@gmai...|TbKy82Kda$|    DF|       Ciano|    Implantodontista|   13|         16|DFDFDF|           DF|      :::::Ciano|      Ciano:::::|\n",
       "+--------------------+----------+------+------------+--------------------+-----+-----------+------+-------------+----------------+----------------+\n",
       "only showing top 20 rows"
      ]
     },
     "execution_count": 116,
     "metadata": {},
     "output_type": "execute_result"
    }
   ],
   "source": [
    "# método instr mostra a posição (índice) de um str no valor da coluna\n",
    "# caso seja adicionado no parâmetro de busca um valor que não exista na string ele retorna 0\n",
    "# a length é padrão, conta a quantidade de caracteres na célula do texto\n",
    "# repeat só repete o valor da string\n",
    "# método trim elimina os espaços no início e no fim das strings\n",
    "# LPAD e RPAD são métodos onde predefinimos o tamanho da string e adicionamos um valor de caractere de preenchimento\n",
    "\n",
    "(\n",
    "    df_01\n",
    "    .withColumn('instr', F.instr(df_01.email, '@'))\n",
    "    .withColumn('instr', F.instr(df_01.email, '@gmail'))\n",
    "    .withColumn('tamanho_str', F.length(df_01.profissao))\n",
    "    .withColumn('repete', F.repeat(df_01.estado, 3))\n",
    "    .withColumn('Retira_Espaço', F.trim(df_01.estado))\n",
    "    .withColumn('preenche_esqueda', F.lpad(df_01.cor_favorita,10,':'))\n",
    "    .withColumn('preenche_direita', F.rpad(df_01.cor_favorita,10,':'))\n",
    ")"
   ]
  },
  {
   "cell_type": "markdown",
   "id": "6778c364-9d0e-482f-a39e-d461b7a97788",
   "metadata": {},
   "source": [
    "## Resumo\n",
    "\n",
    "Nós testamos vários métodos de manipulação de Strings:\n",
    "\n",
    "- `.split`: separa a string e aloca o resultado em uma lista usando como parâmetro um str\n",
    "    - `.withColumn('email_separado', F.split(df_01.email, '@'))` --> caractere de separação = \"@\"\n",
    "    - podemos acessar os valores presentes nessa lista:\n",
    "        - `.withColumn('usuario', F.split(df_01.email, '@').getItem(0))` --> seleciona o resultado no índice 0\n",
    "        - `.withColumn('provedor', F.split(df_01.email, '@').getItem(1))` --> seleciona o resultado no índice 1\n",
    "    - Podemos realizar o `.split` usando alguma coluna criada no próprio código, porém devemos usar o método `.col`:\n",
    "        - `.withColumn('nome_provedor', F.split(F.col('provedor'), '\\.').getItem(0))` --> selecionei o índice 0\n",
    "\n",
    "- `.concat`: junta dois trechos de STR\n",
    "    - `.withColumn('concat', F.concat(df_01.profissao, df_01.cor_favorita))` --> concatenando valores de 2 colunas;\n",
    "    - `.withColumn('concat_2', F.concat(df_01.estado, F.lit(' - Brasil' )))` --> concatenando o valor de uma coluna com um trecho str literal com o `.lit`\n",
    "\n",
    "- LOWER -> todos caracteres minusculas: `.withColumn('lower', F.lower(df.estado))`\n",
    "- UPPER -> todos caracteres maiúsculas: `.withColumn('upper', F.upper(df.cor_favorita))`\n",
    "- INIT_CAP -> primeira letra maiúscula: `.withColumn('init_cap', F.initcap(F.col('lower')))`\n",
    "\n",
    "- substring: possibilita um recorte dos valores da string\n",
    "    - parâmetros: coluna, string inicial, quantidade de strings\n",
    "    - `.withColumn('substring', F.substring(df_01.cor_favorita,1,3))`\n",
    "\n",
    "- format_string: é IGUAL ao `.format` do python, única diferençã é que utilizamos essa notação com o `%d`,`%s`,`%i`, etc...:\n",
    "    - `.withColumn('format_string', F.format_string('Olá %s, sua cor favorita é %s',df_01.email, df_01.cor_favorita))`\n",
    "\n",
    "- instr: mostra o índice que o caractere se encontra:\n",
    "    - `.withColumn('instr', F.instr(df_01.email, '@'))` --> str base para a busca é o '@' (segundo parâmetro)\n",
    "    - Caso não exista o caractere no texto em questão, retorno é 0\n",
    "\n",
    "- length: tamanha da string:\n",
    "    - `.withColumn('tamanho_str', F.length(df_01.profissao))` --> Motorista = 9 caracteres\n",
    " \n",
    "- repeat: repete o valor da string n vezes \n",
    "    - `.withColumn('repete', F.repeat(df_01.estado, 3))` --> nesse caso vai repetir 3 vezes\n",
    "\n",
    "- trim: elimina os espaços iniciais e finais na string:\n",
    "    - `.withColumn('Retira_Espaço', F.trim(df_01.estado))` --> \"....olá......\" ==>> \"olá\"\n",
    "\n",
    "- lpad & rpad: determina um valor fixo para a string, caso o valor importado não preencha por completo, ele completa com algum outro caractere:\n",
    "    - `.withColumn('preenche_esqueda', F.lpad(df_01.cor_favorita,10,':'))` - n=10 | str=\"Roxo\" | caractere=\":\" ==>> ::::::Roxo\tlpad (LADO ESQUERDO)\n",
    "    - `.withColumn('preenche_direita', F.rpad(df_01.cor_favorita,10,':'))` - n=10 | str=\"Roxo\" | caractere=\":\" ==>> Roxo::::::   rpad (LADO DIREITO)\n",
    "\n"
   ]
  }
 ],
 "metadata": {
  "kernelspec": {
   "display_name": "Python [conda env:base] *",
   "language": "python",
   "name": "conda-base-py"
  },
  "language_info": {
   "codemirror_mode": {
    "name": "ipython",
    "version": 3
   },
   "file_extension": ".py",
   "mimetype": "text/x-python",
   "name": "python",
   "nbconvert_exporter": "python",
   "pygments_lexer": "ipython3",
   "version": "3.12.7"
  }
 },
 "nbformat": 4,
 "nbformat_minor": 5
}
