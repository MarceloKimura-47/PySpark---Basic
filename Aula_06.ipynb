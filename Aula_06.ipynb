{
 "cells": [
  {
   "cell_type": "code",
   "execution_count": 16,
   "id": "6785e3eb-6061-42ce-8de3-a60cadf8d592",
   "metadata": {},
   "outputs": [
    {
     "data": {
      "text/html": [
       "\n",
       "            <div>\n",
       "                <p><b>SparkSession - in-memory</b></p>\n",
       "                \n",
       "        <div>\n",
       "            <p><b>SparkContext</b></p>\n",
       "\n",
       "            <p><a href=\"http://DESKTOP-M2UR532:4041\">Spark UI</a></p>\n",
       "\n",
       "            <dl>\n",
       "              <dt>Version</dt>\n",
       "                <dd><code>v3.3.2</code></dd>\n",
       "              <dt>Master</dt>\n",
       "                <dd><code>local[*]</code></dd>\n",
       "              <dt>AppName</dt>\n",
       "                <dd><code>Curso PySpark</code></dd>\n",
       "            </dl>\n",
       "        </div>\n",
       "        \n",
       "            </div>\n",
       "        "
      ],
      "text/plain": [
       "<pyspark.sql.session.SparkSession at 0x289e70ce8d0>"
      ]
     },
     "execution_count": 16,
     "metadata": {},
     "output_type": "execute_result"
    }
   ],
   "source": [
    "from pyspark.sql import SparkSession\n",
    "import pyspark.sql.functions as F\n",
    "\n",
    "spark = (\n",
    "    SparkSession.builder.appName('Curso PySpark')\n",
    "    .config('spark.sql.repl.eagerEval.enabled',True)\n",
    "    .getOrCreate()\n",
    ")\n",
    "\n",
    "spark"
   ]
  },
  {
   "cell_type": "code",
   "execution_count": 20,
   "id": "4b9a66f1-443a-4d81-a97b-11657721e460",
   "metadata": {},
   "outputs": [
    {
     "data": {
      "text/html": [
       "<table border='1'>\n",
       "<tr><th>nome</th><th>altura</th><th>peso</th></tr>\n",
       "<tr><td>Pietra Fernandes</td><td>176</td><td>97.88</td></tr>\n",
       "<tr><td>Ana Júlia da Rosa</td><td>163</td><td>80.56</td></tr>\n",
       "<tr><td>Fernando Martins</td><td>150</td><td>85.55</td></tr>\n",
       "<tr><td>Isis Silveira</td><td>173</td><td>70.1</td></tr>\n",
       "<tr><td>Cecília Porto</td><td>190</td><td>93.42</td></tr>\n",
       "<tr><td>Sra. Bruna Almeida</td><td>198</td><td>73.07</td></tr>\n",
       "<tr><td>Maria Julia Silva</td><td>170</td><td>71.36</td></tr>\n",
       "<tr><td>Pedro Henrique da...</td><td>188</td><td>105.57</td></tr>\n",
       "<tr><td>Davi Lucas Campos</td><td>180</td><td>98.49</td></tr>\n",
       "<tr><td>Juan Gonçalves</td><td>175</td><td>71.87</td></tr>\n",
       "</table>\n"
      ],
      "text/plain": [
       "+--------------------+------+------+\n",
       "|                nome|altura|  peso|\n",
       "+--------------------+------+------+\n",
       "|    Pietra Fernandes|   176| 97.88|\n",
       "|   Ana Júlia da Rosa|   163| 80.56|\n",
       "|    Fernando Martins|   150| 85.55|\n",
       "|       Isis Silveira|   173|  70.1|\n",
       "|       Cecília Porto|   190| 93.42|\n",
       "|  Sra. Bruna Almeida|   198| 73.07|\n",
       "|   Maria Julia Silva|   170| 71.36|\n",
       "|Pedro Henrique da...|   188|105.57|\n",
       "|   Davi Lucas Campos|   180| 98.49|\n",
       "|      Juan Gonçalves|   175| 71.87|\n",
       "+--------------------+------+------+"
      ]
     },
     "execution_count": 20,
     "metadata": {},
     "output_type": "execute_result"
    }
   ],
   "source": [
    "df = spark.read.parquet('C:/Users/Kimura/Desktop/Curso PySpark/DATASETS/DATASETS/IMC.parquet')\n",
    "df"
   ]
  },
  {
   "cell_type": "code",
   "execution_count": 40,
   "id": "acc378e0-9b13-4210-8815-f74c41265280",
   "metadata": {},
   "outputs": [
    {
     "data": {
      "text/html": [
       "<table border='1'>\n",
       "<tr><th>nome</th><th>altura</th><th>peso</th><th>Round</th><th>Ceil</th><th>Floor</th><th>Valor_Abs</th><th>Potencia</th><th>Raiz</th></tr>\n",
       "<tr><td>Pietra Fernandes</td><td>176</td><td>97.88</td><td>97.9</td><td>98</td><td>97</td><td>176</td><td>9580.4944</td><td>97.88</td></tr>\n",
       "<tr><td>Ana Júlia da Rosa</td><td>163</td><td>80.56</td><td>80.6</td><td>81</td><td>80</td><td>163</td><td>6489.913600000001</td><td>80.56</td></tr>\n",
       "<tr><td>Fernando Martins</td><td>150</td><td>85.55</td><td>85.6</td><td>86</td><td>85</td><td>150</td><td>7318.8025</td><td>85.55</td></tr>\n",
       "<tr><td>Isis Silveira</td><td>173</td><td>70.1</td><td>70.1</td><td>71</td><td>70</td><td>173</td><td>4914.009999999999</td><td>70.1</td></tr>\n",
       "<tr><td>Cecília Porto</td><td>190</td><td>93.42</td><td>93.4</td><td>94</td><td>93</td><td>190</td><td>8727.296400000001</td><td>93.42</td></tr>\n",
       "<tr><td>Sra. Bruna Almeida</td><td>198</td><td>73.07</td><td>73.1</td><td>74</td><td>73</td><td>198</td><td>5339.224899999999</td><td>73.07</td></tr>\n",
       "<tr><td>Maria Julia Silva</td><td>170</td><td>71.36</td><td>71.4</td><td>72</td><td>71</td><td>170</td><td>5092.2496</td><td>71.36</td></tr>\n",
       "<tr><td>Pedro Henrique da...</td><td>188</td><td>105.57</td><td>105.6</td><td>106</td><td>105</td><td>188</td><td>11145.024899999999</td><td>105.57</td></tr>\n",
       "<tr><td>Davi Lucas Campos</td><td>180</td><td>98.49</td><td>98.5</td><td>99</td><td>98</td><td>180</td><td>9700.280099999998</td><td>98.49</td></tr>\n",
       "<tr><td>Juan Gonçalves</td><td>175</td><td>71.87</td><td>71.9</td><td>72</td><td>71</td><td>175</td><td>5165.2969</td><td>71.87</td></tr>\n",
       "</table>\n"
      ],
      "text/plain": [
       "+--------------------+------+------+-----+----+-----+---------+------------------+------+\n",
       "|                nome|altura|  peso|Round|Ceil|Floor|Valor_Abs|          Potencia|  Raiz|\n",
       "+--------------------+------+------+-----+----+-----+---------+------------------+------+\n",
       "|    Pietra Fernandes|   176| 97.88| 97.9|  98|   97|      176|         9580.4944| 97.88|\n",
       "|   Ana Júlia da Rosa|   163| 80.56| 80.6|  81|   80|      163| 6489.913600000001| 80.56|\n",
       "|    Fernando Martins|   150| 85.55| 85.6|  86|   85|      150|         7318.8025| 85.55|\n",
       "|       Isis Silveira|   173|  70.1| 70.1|  71|   70|      173| 4914.009999999999|  70.1|\n",
       "|       Cecília Porto|   190| 93.42| 93.4|  94|   93|      190| 8727.296400000001| 93.42|\n",
       "|  Sra. Bruna Almeida|   198| 73.07| 73.1|  74|   73|      198| 5339.224899999999| 73.07|\n",
       "|   Maria Julia Silva|   170| 71.36| 71.4|  72|   71|      170|         5092.2496| 71.36|\n",
       "|Pedro Henrique da...|   188|105.57|105.6| 106|  105|      188|11145.024899999999|105.57|\n",
       "|   Davi Lucas Campos|   180| 98.49| 98.5|  99|   98|      180| 9700.280099999998| 98.49|\n",
       "|      Juan Gonçalves|   175| 71.87| 71.9|  72|   71|      175|         5165.2969| 71.87|\n",
       "+--------------------+------+------+-----+----+-----+---------+------------------+------+"
      ]
     },
     "execution_count": 40,
     "metadata": {},
     "output_type": "execute_result"
    }
   ],
   "source": [
    "# Round = Arredondamento | 1 parâmetro -> coluna | 2 parâmetro -> quantidade de casas decimais\n",
    "# Ceil = Arredonda para um número inteiro para cima. Ex.: 51.5 --> 52\n",
    "# Floor = Arredonda para um número inteiro para baixo Ex.: 51.5 --> 51\n",
    "# ABS = Transforma qualquer valor (positiva e negativo) para um valor absoluto\n",
    "# pow = eleva o valor da coluna a n potência\n",
    "# sqrt = raiz quadrada\n",
    "\n",
    "(\n",
    "    df\n",
    "    .withColumn('Round', F.round(df.peso,1))\n",
    "    .withColumn('Ceil', F.ceil(df.peso))\n",
    "    .withColumn('Floor', F.floor(df.peso))\n",
    "    .withColumn('Valor_Abs', F.abs(df.altura))\n",
    "    .withColumn('Potencia', F.pow(df.peso,2))\n",
    "    .withColumn('Raiz', F.sqrt(F.col('Potencia')))\n",
    ")"
   ]
  },
  {
   "cell_type": "code",
   "execution_count": 48,
   "id": "1a0ec6ed-73a2-4741-a835-4fb4d55df861",
   "metadata": {},
   "outputs": [
    {
     "data": {
      "text/html": [
       "<table border='1'>\n",
       "<tr><th>nome</th><th>altura</th><th>peso</th><th>imc</th></tr>\n",
       "<tr><td>Pietra Fernandes</td><td>176</td><td>97.88</td><td>54.4</td></tr>\n",
       "<tr><td>Ana Júlia da Rosa</td><td>163</td><td>80.56</td><td>39.8</td></tr>\n",
       "<tr><td>Fernando Martins</td><td>150</td><td>85.55</td><td>48.8</td></tr>\n",
       "<tr><td>Isis Silveira</td><td>173</td><td>70.1</td><td>28.4</td></tr>\n",
       "<tr><td>Cecília Porto</td><td>190</td><td>93.42</td><td>45.9</td></tr>\n",
       "<tr><td>Sra. Bruna Almeida</td><td>198</td><td>73.07</td><td>27.0</td></tr>\n",
       "<tr><td>Maria Julia Silva</td><td>170</td><td>71.36</td><td>30.0</td></tr>\n",
       "<tr><td>Pedro Henrique da...</td><td>188</td><td>105.57</td><td>59.3</td></tr>\n",
       "<tr><td>Davi Lucas Campos</td><td>180</td><td>98.49</td><td>53.9</td></tr>\n",
       "<tr><td>Juan Gonçalves</td><td>175</td><td>71.87</td><td>29.5</td></tr>\n",
       "</table>\n"
      ],
      "text/plain": [
       "+--------------------+------+------+----+\n",
       "|                nome|altura|  peso| imc|\n",
       "+--------------------+------+------+----+\n",
       "|    Pietra Fernandes|   176| 97.88|54.4|\n",
       "|   Ana Júlia da Rosa|   163| 80.56|39.8|\n",
       "|    Fernando Martins|   150| 85.55|48.8|\n",
       "|       Isis Silveira|   173|  70.1|28.4|\n",
       "|       Cecília Porto|   190| 93.42|45.9|\n",
       "|  Sra. Bruna Almeida|   198| 73.07|27.0|\n",
       "|   Maria Julia Silva|   170| 71.36|30.0|\n",
       "|Pedro Henrique da...|   188|105.57|59.3|\n",
       "|   Davi Lucas Campos|   180| 98.49|53.9|\n",
       "|      Juan Gonçalves|   175| 71.87|29.5|\n",
       "+--------------------+------+------+----+"
      ]
     },
     "execution_count": 48,
     "metadata": {},
     "output_type": "execute_result"
    }
   ],
   "source": [
    "# Cálculo de IMC:\n",
    "\n",
    "(\n",
    "    df\n",
    "    .withColumn('imc', F.round(F.pow(df.peso,2) / df.altura,1))\n",
    ")"
   ]
  },
  {
   "cell_type": "markdown",
   "id": "ba7f1ebc-96bb-407a-be89-cecabb458b9d",
   "metadata": {},
   "source": [
    "## Resumo\n",
    "\n",
    "Desenvolvemos algumas operações numéricas utilizando funções do PySpark.\n",
    "\n",
    "#### Round\n",
    "Arrendonda o número considerando N casas decimais:\n",
    "- `.withColumn('Round', F.round(df.peso,1))`: Parâmetro 1 = seleção coluna | Parâmetro 2 = quantidade de casas decimais;\n",
    "\n",
    "#### Ceil\n",
    "Arredonda o valor para cima:\n",
    "- `.withColumn('Ceil', F.ceil(df.peso))`: basta selecionar a coluna;\n",
    "\n",
    "#### Floor\n",
    "Arredonda o valor para baixo:\n",
    "- `.withColumn('Floor', F.floor(df.peso))`: basta adicionar a coluna;\n",
    "\n",
    "#### ABS\n",
    "Transforma o valor (positivo ou negativo) em um valor absoluto:\n",
    "- `.withColumn('Valor_Abs', F.abs(df.altura))`: basta adicionar a coluna;\n",
    "\n",
    "#### POW\n",
    "Método para calcular a potência:\n",
    "- `.withColumn('Potencia', F.pow(df.peso,2))`: adiona a coluna e o valor da potência;\n",
    "\n",
    "#### SQRT\n",
    "Método que calcula a raiz quadrada:\n",
    "- `.withColumn('Raiz', F.sqrt(F.col('Potencia')))`: basta adicionar o valor;\n",
    "\n"
   ]
  }
 ],
 "metadata": {
  "kernelspec": {
   "display_name": "Python [conda env:base] *",
   "language": "python",
   "name": "conda-base-py"
  },
  "language_info": {
   "codemirror_mode": {
    "name": "ipython",
    "version": 3
   },
   "file_extension": ".py",
   "mimetype": "text/x-python",
   "name": "python",
   "nbconvert_exporter": "python",
   "pygments_lexer": "ipython3",
   "version": "3.12.7"
  }
 },
 "nbformat": 4,
 "nbformat_minor": 5
}
