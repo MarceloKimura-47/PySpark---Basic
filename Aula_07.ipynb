{
 "cells": [
  {
   "cell_type": "code",
   "execution_count": 2,
   "id": "315bc484-992b-4231-9e57-14978a172431",
   "metadata": {},
   "outputs": [
    {
     "data": {
      "text/html": [
       "\n",
       "            <div>\n",
       "                <p><b>SparkSession - in-memory</b></p>\n",
       "                \n",
       "        <div>\n",
       "            <p><b>SparkContext</b></p>\n",
       "\n",
       "            <p><a href=\"http://DESKTOP-M2UR532:4042\">Spark UI</a></p>\n",
       "\n",
       "            <dl>\n",
       "              <dt>Version</dt>\n",
       "                <dd><code>v3.3.2</code></dd>\n",
       "              <dt>Master</dt>\n",
       "                <dd><code>local[*]</code></dd>\n",
       "              <dt>AppName</dt>\n",
       "                <dd><code>Curso PySpark</code></dd>\n",
       "            </dl>\n",
       "        </div>\n",
       "        \n",
       "            </div>\n",
       "        "
      ],
      "text/plain": [
       "<pyspark.sql.session.SparkSession at 0x1fbe08b35c0>"
      ]
     },
     "execution_count": 2,
     "metadata": {},
     "output_type": "execute_result"
    }
   ],
   "source": [
    "from pyspark.sql import SparkSession\n",
    "import pyspark.sql.functions as F\n",
    "\n",
    "spark = (\n",
    "    SparkSession.builder.appName('Curso PySpark')\n",
    "    .config('spark.sql.repl.eagerEval.enabled',True)\n",
    "    .getOrCreate()\n",
    ")\n",
    "\n",
    "spark"
   ]
  },
  {
   "cell_type": "code",
   "execution_count": 12,
   "id": "5fea7a87-ea59-49cd-b0f6-49fc836f6646",
   "metadata": {
    "scrolled": true
   },
   "outputs": [],
   "source": [
    "df = spark.read.parquet('C:/Users/Kimura/Desktop/Curso PySpark/DATASETS/DATASETS/LOGINS.parquet').select('data_de_nascimento','data_cadastro')\n"
   ]
  },
  {
   "cell_type": "code",
   "execution_count": 14,
   "id": "3b744361-d176-4d86-bfab-8eadb8838db7",
   "metadata": {
    "scrolled": true
   },
   "outputs": [
    {
     "data": {
      "text/html": [
       "<table border='1'>\n",
       "<tr><th>data_de_nascimento</th><th>data_cadastro</th></tr>\n",
       "<tr><td>2006-12-18</td><td>2023-02-26</td></tr>\n",
       "<tr><td>1992-06-17</td><td>2023-02-16</td></tr>\n",
       "<tr><td>1921-11-11</td><td>2023-01-02</td></tr>\n",
       "<tr><td>2021-06-01</td><td>2023-01-08</td></tr>\n",
       "<tr><td>1969-10-28</td><td>2023-02-14</td></tr>\n",
       "<tr><td>1986-05-19</td><td>2023-03-07</td></tr>\n",
       "<tr><td>2018-04-20</td><td>2023-01-13</td></tr>\n",
       "<tr><td>1996-05-12</td><td>2023-02-04</td></tr>\n",
       "<tr><td>2021-10-05</td><td>2023-03-02</td></tr>\n",
       "<tr><td>1917-01-05</td><td>2023-02-21</td></tr>\n",
       "<tr><td>1912-05-25</td><td>2023-01-25</td></tr>\n",
       "<tr><td>1920-05-26</td><td>2023-02-18</td></tr>\n",
       "<tr><td>1938-03-11</td><td>2023-01-19</td></tr>\n",
       "<tr><td>1922-09-01</td><td>2023-02-01</td></tr>\n",
       "<tr><td>2013-01-10</td><td>2023-01-07</td></tr>\n",
       "<tr><td>1992-10-16</td><td>2023-01-05</td></tr>\n",
       "<tr><td>1945-11-18</td><td>2023-01-24</td></tr>\n",
       "<tr><td>1915-11-15</td><td>2023-01-22</td></tr>\n",
       "<tr><td>1964-02-01</td><td>2023-02-16</td></tr>\n",
       "<tr><td>1959-02-01</td><td>2023-02-25</td></tr>\n",
       "</table>\n",
       "only showing top 20 rows\n"
      ],
      "text/plain": [
       "+------------------+-------------+\n",
       "|data_de_nascimento|data_cadastro|\n",
       "+------------------+-------------+\n",
       "|        2006-12-18|   2023-02-26|\n",
       "|        1992-06-17|   2023-02-16|\n",
       "|        1921-11-11|   2023-01-02|\n",
       "|        2021-06-01|   2023-01-08|\n",
       "|        1969-10-28|   2023-02-14|\n",
       "|        1986-05-19|   2023-03-07|\n",
       "|        2018-04-20|   2023-01-13|\n",
       "|        1996-05-12|   2023-02-04|\n",
       "|        2021-10-05|   2023-03-02|\n",
       "|        1917-01-05|   2023-02-21|\n",
       "|        1912-05-25|   2023-01-25|\n",
       "|        1920-05-26|   2023-02-18|\n",
       "|        1938-03-11|   2023-01-19|\n",
       "|        1922-09-01|   2023-02-01|\n",
       "|        2013-01-10|   2023-01-07|\n",
       "|        1992-10-16|   2023-01-05|\n",
       "|        1945-11-18|   2023-01-24|\n",
       "|        1915-11-15|   2023-01-22|\n",
       "|        1964-02-01|   2023-02-16|\n",
       "|        1959-02-01|   2023-02-25|\n",
       "+------------------+-------------+\n",
       "only showing top 20 rows"
      ]
     },
     "execution_count": 14,
     "metadata": {},
     "output_type": "execute_result"
    }
   ],
   "source": [
    "df"
   ]
  },
  {
   "cell_type": "code",
   "execution_count": 92,
   "id": "a9bd8e56-d4d8-4a5a-8c09-f43e57eaffe4",
   "metadata": {
    "scrolled": true
   },
   "outputs": [
    {
     "data": {
      "text/html": [
       "<table border='1'>\n",
       "<tr><th>data_de_nascimento</th><th>data_cadastro</th><th>Adicionar_mês</th><th>Subtrair_mês</th><th>Data_atual</th><th>Data_hora_atual</th><th>Adicionar_dias</th><th>Subtrair_dias</th><th>Subtrair_dias_sub</th><th>Formatação_Data</th><th>Diferença_Datas</th><th>Dia_do_Mês</th><th>Dia_da_Semana</th><th>Semana_do_ano</th><th>Ano</th><th>Mês</th><th>Ultimo_dia_mês</th><th>Meses_Entre</th><th>Próximo_Dia</th><th>Criar_Data</th><th>Formatar_como_data</th></tr>\n",
       "<tr><td>2006-12-18</td><td>2023-02-26</td><td>2023-03-26</td><td>2023-01-26</td><td>2025-04-06</td><td>2025-04-06 17:14:...</td><td>2023-03-13</td><td>2023-02-11</td><td>2023-03-13</td><td>Mon, 18-Dec-2006</td><td>6684</td><td>18</td><td>2</td><td>51</td><td>2006</td><td>12</td><td>2006-12-31</td><td>219.61290323</td><td>2006-12-25</td><td>1996-06-19</td><td>1996-06-19</td></tr>\n",
       "<tr><td>1992-06-17</td><td>2023-02-16</td><td>2023-03-16</td><td>2023-01-16</td><td>2025-04-06</td><td>2025-04-06 17:14:...</td><td>2023-03-03</td><td>2023-02-01</td><td>2023-03-03</td><td>Wed, 17-Jun-1992</td><td>11981</td><td>17</td><td>4</td><td>25</td><td>1992</td><td>6</td><td>1992-06-30</td><td>393.64516129</td><td>1992-06-22</td><td>1996-06-19</td><td>1996-06-19</td></tr>\n",
       "<tr><td>1921-11-11</td><td>2023-01-02</td><td>2023-02-02</td><td>2022-12-02</td><td>2025-04-06</td><td>2025-04-06 17:14:...</td><td>2023-01-17</td><td>2022-12-18</td><td>2023-01-17</td><td>Fri, 11-Nov-1921</td><td>37767</td><td>11</td><td>6</td><td>45</td><td>1921</td><td>11</td><td>1921-11-30</td><td>1240.83870968</td><td>1921-11-14</td><td>1996-06-19</td><td>1996-06-19</td></tr>\n",
       "<tr><td>2021-06-01</td><td>2023-01-08</td><td>2023-02-08</td><td>2022-12-08</td><td>2025-04-06</td><td>2025-04-06 17:14:...</td><td>2023-01-23</td><td>2022-12-24</td><td>2023-01-23</td><td>Tue, 01-Jun-2021</td><td>1405</td><td>1</td><td>3</td><td>22</td><td>2021</td><td>6</td><td>2021-06-30</td><td>46.16129032</td><td>2021-06-07</td><td>1996-06-19</td><td>1996-06-19</td></tr>\n",
       "<tr><td>1969-10-28</td><td>2023-02-14</td><td>2023-03-14</td><td>2023-01-14</td><td>2025-04-06</td><td>2025-04-06 17:14:...</td><td>2023-03-01</td><td>2023-01-30</td><td>2023-03-01</td><td>Tue, 28-Oct-1969</td><td>20249</td><td>28</td><td>3</td><td>44</td><td>1969</td><td>10</td><td>1969-10-31</td><td>665.29032258</td><td>1969-11-03</td><td>1996-06-19</td><td>1996-06-19</td></tr>\n",
       "<tr><td>1986-05-19</td><td>2023-03-07</td><td>2023-04-07</td><td>2023-02-07</td><td>2025-04-06</td><td>2025-04-06 17:14:...</td><td>2023-03-22</td><td>2023-02-20</td><td>2023-03-22</td><td>Mon, 19-May-1986</td><td>14202</td><td>19</td><td>2</td><td>21</td><td>1986</td><td>5</td><td>1986-05-31</td><td>466.58064516</td><td>1986-05-26</td><td>1996-06-19</td><td>1996-06-19</td></tr>\n",
       "<tr><td>2018-04-20</td><td>2023-01-13</td><td>2023-02-13</td><td>2022-12-13</td><td>2025-04-06</td><td>2025-04-06 17:14:...</td><td>2023-01-28</td><td>2022-12-29</td><td>2023-01-28</td><td>Fri, 20-Apr-2018</td><td>2543</td><td>20</td><td>6</td><td>16</td><td>2018</td><td>4</td><td>2018-04-30</td><td>83.5483871</td><td>2018-04-23</td><td>1996-06-19</td><td>1996-06-19</td></tr>\n",
       "<tr><td>1996-05-12</td><td>2023-02-04</td><td>2023-03-04</td><td>2023-01-04</td><td>2025-04-06</td><td>2025-04-06 17:14:...</td><td>2023-02-19</td><td>2023-01-20</td><td>2023-02-19</td><td>Sun, 12-May-1996</td><td>10556</td><td>12</td><td>1</td><td>19</td><td>1996</td><td>5</td><td>1996-05-31</td><td>346.80645161</td><td>1996-05-13</td><td>1996-06-19</td><td>1996-06-19</td></tr>\n",
       "<tr><td>2021-10-05</td><td>2023-03-02</td><td>2023-04-02</td><td>2023-02-02</td><td>2025-04-06</td><td>2025-04-06 17:14:...</td><td>2023-03-17</td><td>2023-02-15</td><td>2023-03-17</td><td>Tue, 05-Oct-2021</td><td>1279</td><td>5</td><td>3</td><td>40</td><td>2021</td><td>10</td><td>2021-10-31</td><td>42.03225806</td><td>2021-10-11</td><td>1996-06-19</td><td>1996-06-19</td></tr>\n",
       "<tr><td>1917-01-05</td><td>2023-02-21</td><td>2023-03-21</td><td>2023-01-21</td><td>2025-04-06</td><td>2025-04-06 17:14:...</td><td>2023-03-08</td><td>2023-02-06</td><td>2023-03-08</td><td>Fri, 05-Jan-1917</td><td>39538</td><td>5</td><td>6</td><td>1</td><td>1917</td><td>1</td><td>1917-01-31</td><td>1299.03225806</td><td>1917-01-08</td><td>1996-06-19</td><td>1996-06-19</td></tr>\n",
       "<tr><td>1912-05-25</td><td>2023-01-25</td><td>2023-02-25</td><td>2022-12-25</td><td>2025-04-06</td><td>2025-04-06 17:14:...</td><td>2023-02-09</td><td>2023-01-10</td><td>2023-02-09</td><td>Sat, 25-May-1912</td><td>41224</td><td>25</td><td>7</td><td>21</td><td>1912</td><td>5</td><td>1912-05-31</td><td>1354.38709677</td><td>1912-05-27</td><td>1996-06-19</td><td>1996-06-19</td></tr>\n",
       "<tr><td>1920-05-26</td><td>2023-02-18</td><td>2023-03-18</td><td>2023-01-18</td><td>2025-04-06</td><td>2025-04-06 17:14:...</td><td>2023-03-05</td><td>2023-02-03</td><td>2023-03-05</td><td>Wed, 26-May-1920</td><td>38301</td><td>26</td><td>4</td><td>22</td><td>1920</td><td>5</td><td>1920-05-31</td><td>1258.35483871</td><td>1920-05-31</td><td>1996-06-19</td><td>1996-06-19</td></tr>\n",
       "<tr><td>1938-03-11</td><td>2023-01-19</td><td>2023-02-19</td><td>2022-12-19</td><td>2025-04-06</td><td>2025-04-06 17:14:...</td><td>2023-02-03</td><td>2023-01-04</td><td>2023-02-03</td><td>Fri, 11-Mar-1938</td><td>31803</td><td>11</td><td>6</td><td>10</td><td>1938</td><td>3</td><td>1938-03-31</td><td>1044.83870968</td><td>1938-03-14</td><td>1996-06-19</td><td>1996-06-19</td></tr>\n",
       "<tr><td>1922-09-01</td><td>2023-02-01</td><td>2023-03-01</td><td>2023-01-01</td><td>2025-04-06</td><td>2025-04-06 17:14:...</td><td>2023-02-16</td><td>2023-01-17</td><td>2023-02-16</td><td>Fri, 01-Sep-1922</td><td>37473</td><td>1</td><td>6</td><td>35</td><td>1922</td><td>9</td><td>1922-09-30</td><td>1231.16129032</td><td>1922-09-04</td><td>1996-06-19</td><td>1996-06-19</td></tr>\n",
       "<tr><td>2013-01-10</td><td>2023-01-07</td><td>2023-02-07</td><td>2022-12-07</td><td>2025-04-06</td><td>2025-04-06 17:14:...</td><td>2023-01-22</td><td>2022-12-23</td><td>2023-01-22</td><td>Thu, 10-Jan-2013</td><td>4469</td><td>10</td><td>5</td><td>2</td><td>2013</td><td>1</td><td>2013-01-31</td><td>146.87096774</td><td>2013-01-14</td><td>1996-06-19</td><td>1996-06-19</td></tr>\n",
       "<tr><td>1992-10-16</td><td>2023-01-05</td><td>2023-02-05</td><td>2022-12-05</td><td>2025-04-06</td><td>2025-04-06 17:14:...</td><td>2023-01-20</td><td>2022-12-21</td><td>2023-01-20</td><td>Fri, 16-Oct-1992</td><td>11860</td><td>16</td><td>6</td><td>42</td><td>1992</td><td>10</td><td>1992-10-31</td><td>389.67741935</td><td>1992-10-19</td><td>1996-06-19</td><td>1996-06-19</td></tr>\n",
       "<tr><td>1945-11-18</td><td>2023-01-24</td><td>2023-02-24</td><td>2022-12-24</td><td>2025-04-06</td><td>2025-04-06 17:14:...</td><td>2023-02-08</td><td>2023-01-09</td><td>2023-02-08</td><td>Sun, 18-Nov-1945</td><td>28994</td><td>18</td><td>1</td><td>46</td><td>1945</td><td>11</td><td>1945-11-30</td><td>952.61290323</td><td>1945-11-19</td><td>1996-06-19</td><td>1996-06-19</td></tr>\n",
       "<tr><td>1915-11-15</td><td>2023-01-22</td><td>2023-02-22</td><td>2022-12-22</td><td>2025-04-06</td><td>2025-04-06 17:14:...</td><td>2023-02-06</td><td>2023-01-07</td><td>2023-02-06</td><td>Mon, 15-Nov-1915</td><td>39955</td><td>15</td><td>2</td><td>46</td><td>1915</td><td>11</td><td>1915-11-30</td><td>1312.70967742</td><td>1915-11-22</td><td>1996-06-19</td><td>1996-06-19</td></tr>\n",
       "<tr><td>1964-02-01</td><td>2023-02-16</td><td>2023-03-16</td><td>2023-01-16</td><td>2025-04-06</td><td>2025-04-06 17:14:...</td><td>2023-03-03</td><td>2023-02-01</td><td>2023-03-03</td><td>Sat, 01-Feb-1964</td><td>22345</td><td>1</td><td>7</td><td>5</td><td>1964</td><td>2</td><td>1964-02-29</td><td>734.16129032</td><td>1964-02-03</td><td>1996-06-19</td><td>1996-06-19</td></tr>\n",
       "<tr><td>1959-02-01</td><td>2023-02-25</td><td>2023-03-25</td><td>2023-01-25</td><td>2025-04-06</td><td>2025-04-06 17:14:...</td><td>2023-03-12</td><td>2023-02-10</td><td>2023-03-12</td><td>Sun, 01-Feb-1959</td><td>24171</td><td>1</td><td>1</td><td>5</td><td>1959</td><td>2</td><td>1959-02-28</td><td>794.16129032</td><td>1959-02-02</td><td>1996-06-19</td><td>1996-06-19</td></tr>\n",
       "</table>\n",
       "only showing top 20 rows\n"
      ],
      "text/plain": [
       "+------------------+-------------+-------------+------------+----------+--------------------+--------------+-------------+-----------------+----------------+---------------+----------+-------------+-------------+----+---+--------------+-------------+-----------+----------+------------------+\n",
       "|data_de_nascimento|data_cadastro|Adicionar_mês|Subtrair_mês|Data_atual|     Data_hora_atual|Adicionar_dias|Subtrair_dias|Subtrair_dias_sub| Formatação_Data|Diferença_Datas|Dia_do_Mês|Dia_da_Semana|Semana_do_ano| Ano|Mês|Ultimo_dia_mês|  Meses_Entre|Próximo_Dia|Criar_Data|Formatar_como_data|\n",
       "+------------------+-------------+-------------+------------+----------+--------------------+--------------+-------------+-----------------+----------------+---------------+----------+-------------+-------------+----+---+--------------+-------------+-----------+----------+------------------+\n",
       "|        2006-12-18|   2023-02-26|   2023-03-26|  2023-01-26|2025-04-06|2025-04-06 17:14:...|    2023-03-13|   2023-02-11|       2023-03-13|Mon, 18-Dec-2006|           6684|        18|            2|           51|2006| 12|    2006-12-31| 219.61290323| 2006-12-25|1996-06-19|        1996-06-19|\n",
       "|        1992-06-17|   2023-02-16|   2023-03-16|  2023-01-16|2025-04-06|2025-04-06 17:14:...|    2023-03-03|   2023-02-01|       2023-03-03|Wed, 17-Jun-1992|          11981|        17|            4|           25|1992|  6|    1992-06-30| 393.64516129| 1992-06-22|1996-06-19|        1996-06-19|\n",
       "|        1921-11-11|   2023-01-02|   2023-02-02|  2022-12-02|2025-04-06|2025-04-06 17:14:...|    2023-01-17|   2022-12-18|       2023-01-17|Fri, 11-Nov-1921|          37767|        11|            6|           45|1921| 11|    1921-11-30|1240.83870968| 1921-11-14|1996-06-19|        1996-06-19|\n",
       "|        2021-06-01|   2023-01-08|   2023-02-08|  2022-12-08|2025-04-06|2025-04-06 17:14:...|    2023-01-23|   2022-12-24|       2023-01-23|Tue, 01-Jun-2021|           1405|         1|            3|           22|2021|  6|    2021-06-30|  46.16129032| 2021-06-07|1996-06-19|        1996-06-19|\n",
       "|        1969-10-28|   2023-02-14|   2023-03-14|  2023-01-14|2025-04-06|2025-04-06 17:14:...|    2023-03-01|   2023-01-30|       2023-03-01|Tue, 28-Oct-1969|          20249|        28|            3|           44|1969| 10|    1969-10-31| 665.29032258| 1969-11-03|1996-06-19|        1996-06-19|\n",
       "|        1986-05-19|   2023-03-07|   2023-04-07|  2023-02-07|2025-04-06|2025-04-06 17:14:...|    2023-03-22|   2023-02-20|       2023-03-22|Mon, 19-May-1986|          14202|        19|            2|           21|1986|  5|    1986-05-31| 466.58064516| 1986-05-26|1996-06-19|        1996-06-19|\n",
       "|        2018-04-20|   2023-01-13|   2023-02-13|  2022-12-13|2025-04-06|2025-04-06 17:14:...|    2023-01-28|   2022-12-29|       2023-01-28|Fri, 20-Apr-2018|           2543|        20|            6|           16|2018|  4|    2018-04-30|   83.5483871| 2018-04-23|1996-06-19|        1996-06-19|\n",
       "|        1996-05-12|   2023-02-04|   2023-03-04|  2023-01-04|2025-04-06|2025-04-06 17:14:...|    2023-02-19|   2023-01-20|       2023-02-19|Sun, 12-May-1996|          10556|        12|            1|           19|1996|  5|    1996-05-31| 346.80645161| 1996-05-13|1996-06-19|        1996-06-19|\n",
       "|        2021-10-05|   2023-03-02|   2023-04-02|  2023-02-02|2025-04-06|2025-04-06 17:14:...|    2023-03-17|   2023-02-15|       2023-03-17|Tue, 05-Oct-2021|           1279|         5|            3|           40|2021| 10|    2021-10-31|  42.03225806| 2021-10-11|1996-06-19|        1996-06-19|\n",
       "|        1917-01-05|   2023-02-21|   2023-03-21|  2023-01-21|2025-04-06|2025-04-06 17:14:...|    2023-03-08|   2023-02-06|       2023-03-08|Fri, 05-Jan-1917|          39538|         5|            6|            1|1917|  1|    1917-01-31|1299.03225806| 1917-01-08|1996-06-19|        1996-06-19|\n",
       "|        1912-05-25|   2023-01-25|   2023-02-25|  2022-12-25|2025-04-06|2025-04-06 17:14:...|    2023-02-09|   2023-01-10|       2023-02-09|Sat, 25-May-1912|          41224|        25|            7|           21|1912|  5|    1912-05-31|1354.38709677| 1912-05-27|1996-06-19|        1996-06-19|\n",
       "|        1920-05-26|   2023-02-18|   2023-03-18|  2023-01-18|2025-04-06|2025-04-06 17:14:...|    2023-03-05|   2023-02-03|       2023-03-05|Wed, 26-May-1920|          38301|        26|            4|           22|1920|  5|    1920-05-31|1258.35483871| 1920-05-31|1996-06-19|        1996-06-19|\n",
       "|        1938-03-11|   2023-01-19|   2023-02-19|  2022-12-19|2025-04-06|2025-04-06 17:14:...|    2023-02-03|   2023-01-04|       2023-02-03|Fri, 11-Mar-1938|          31803|        11|            6|           10|1938|  3|    1938-03-31|1044.83870968| 1938-03-14|1996-06-19|        1996-06-19|\n",
       "|        1922-09-01|   2023-02-01|   2023-03-01|  2023-01-01|2025-04-06|2025-04-06 17:14:...|    2023-02-16|   2023-01-17|       2023-02-16|Fri, 01-Sep-1922|          37473|         1|            6|           35|1922|  9|    1922-09-30|1231.16129032| 1922-09-04|1996-06-19|        1996-06-19|\n",
       "|        2013-01-10|   2023-01-07|   2023-02-07|  2022-12-07|2025-04-06|2025-04-06 17:14:...|    2023-01-22|   2022-12-23|       2023-01-22|Thu, 10-Jan-2013|           4469|        10|            5|            2|2013|  1|    2013-01-31| 146.87096774| 2013-01-14|1996-06-19|        1996-06-19|\n",
       "|        1992-10-16|   2023-01-05|   2023-02-05|  2022-12-05|2025-04-06|2025-04-06 17:14:...|    2023-01-20|   2022-12-21|       2023-01-20|Fri, 16-Oct-1992|          11860|        16|            6|           42|1992| 10|    1992-10-31| 389.67741935| 1992-10-19|1996-06-19|        1996-06-19|\n",
       "|        1945-11-18|   2023-01-24|   2023-02-24|  2022-12-24|2025-04-06|2025-04-06 17:14:...|    2023-02-08|   2023-01-09|       2023-02-08|Sun, 18-Nov-1945|          28994|        18|            1|           46|1945| 11|    1945-11-30| 952.61290323| 1945-11-19|1996-06-19|        1996-06-19|\n",
       "|        1915-11-15|   2023-01-22|   2023-02-22|  2022-12-22|2025-04-06|2025-04-06 17:14:...|    2023-02-06|   2023-01-07|       2023-02-06|Mon, 15-Nov-1915|          39955|        15|            2|           46|1915| 11|    1915-11-30|1312.70967742| 1915-11-22|1996-06-19|        1996-06-19|\n",
       "|        1964-02-01|   2023-02-16|   2023-03-16|  2023-01-16|2025-04-06|2025-04-06 17:14:...|    2023-03-03|   2023-02-01|       2023-03-03|Sat, 01-Feb-1964|          22345|         1|            7|            5|1964|  2|    1964-02-29| 734.16129032| 1964-02-03|1996-06-19|        1996-06-19|\n",
       "|        1959-02-01|   2023-02-25|   2023-03-25|  2023-01-25|2025-04-06|2025-04-06 17:14:...|    2023-03-12|   2023-02-10|       2023-03-12|Sun, 01-Feb-1959|          24171|         1|            1|            5|1959|  2|    1959-02-28| 794.16129032| 1959-02-02|1996-06-19|        1996-06-19|\n",
       "+------------------+-------------+-------------+------------+----------+--------------------+--------------+-------------+-----------------+----------------+---------------+----------+-------------+-------------+----+---+--------------+-------------+-----------+----------+------------------+\n",
       "only showing top 20 rows"
      ]
     },
     "execution_count": 92,
     "metadata": {},
     "output_type": "execute_result"
    }
   ],
   "source": [
    "# Adicionar Mês -> add_months: 1 parâmetro - coluna com data | 2 parâmetro - quantidade de meses para adicionar (+ para avançar e - para recuar os meses)\n",
    "# Data Atual -> current_date: retorna a data atual\n",
    "# Data e Hora Atual -> current_timestamp: retorna data e hora atual\n",
    "# Adicionar Dias -> date_add: 1 parâmetro - coluna com data | 2 parâmetro - quantidade de dias a ser adicionado (+ para avançar e - para recuar os dias)\n",
    "    # podemos utilizar também o date_sub: faz a mesma função do date_add porém com o sinal inverso\n",
    "# Formatação de Datas -> date_format: podemos pegar um formato de data e configurá-lo para o modelo que quisermos. d = dia | M = mês | y = ano\n",
    "# Diferença de Datas -> datediff: parâmetro 1 - data final (ou de refência) | parâmetro 2 - data  inicial\n",
    "# Dia do Mês e da Semana -> dayofmonth & dayofweek: traz o dia do mês e o dia da semana respectivamente\n",
    "# Semana do Ano -> weekofyear: Um ano tem 55 semanas, essa função traz a semana em que a data está\n",
    "# Ano e Mês -> year & month: traz o Ano e o Mês da data, respectivamente;\n",
    "# Último dia do mês -> last_day: traz o último dia do mês da data em questão\n",
    "# Diferença de datas -> months_between: calcula a diferença entre datas, semelhante ao datediff\n",
    "# Próximo Dia -> next_day: ele verificar qual é a próxima data considerando o dia e a data em questão\n",
    "\n",
    "\n",
    "(\n",
    "    df\n",
    "    .withColumn('Adicionar_mês', F.add_months(df.data_cadastro, 1))\n",
    "    .withColumn('Subtrair_mês', F.add_months(df.data_cadastro, -1))\n",
    "    .withColumn('Data_atual', F.current_date())\n",
    "    .withColumn('Data_hora_atual', F.current_timestamp())\n",
    "    .withColumn('Adicionar_dias', F.date_add(df.data_cadastro, 15))\n",
    "    .withColumn('Subtrair_dias', F.date_add(df.data_cadastro, -15))\n",
    "    .withColumn('Subtrair_dias_sub', F.date_sub(df.data_cadastro, 15))\n",
    "    .withColumn('Subtrair_dias_sub', F.date_sub(df.data_cadastro, -15))\n",
    "    .withColumn('Formatação_Data', F.date_format(df.data_de_nascimento, 'dd/MM/yyyy'))\n",
    "    .withColumn('Formatação_Data', F.date_format(df.data_de_nascimento, 'E, dd-MMM-yyyy'))\n",
    "    .withColumn('Diferença_Datas', F.datediff(F.current_date(), df.data_de_nascimento))\n",
    "    .withColumn('Dia_do_Mês', F.dayofmonth(df.data_de_nascimento))\n",
    "    .withColumn('Dia_da_Semana', F.dayofweek(df.data_de_nascimento))\n",
    "    .withColumn('Semana_do_ano', F.weekofyear(df.data_de_nascimento))\n",
    "    .withColumn('Ano', F.year(df.data_de_nascimento))\n",
    "    .withColumn('Mês', F.month(df.data_de_nascimento))\n",
    "    .withColumn('Ultimo_dia_mês', F.last_day(df.data_de_nascimento))\n",
    "    .withColumn('Meses_Entre', F.months_between(F.current_date(), df.data_de_nascimento))\n",
    "    .withColumn('Próximo_Dia', F.next_day(df.data_de_nascimento, 'Mon'))\n",
    "    .withColumn('Criar_Data', F.make_date(F.lit(1996), F.lit(6), F.lit(19)))\n",
    "    .withColumn('Formatar_como_data', F.to_date(F.lit('1996-06-19')))\n",
    ")\n"
   ]
  },
  {
   "cell_type": "markdown",
   "id": "9ce7382d-64ab-4864-9891-17d8f2b11981",
   "metadata": {},
   "source": [
    "## Resumo\n",
    "\n",
    "#### Adicionar ou Subtrair MESES\n",
    "Utilizamos o método `add_months`. Quando usado com o parâmetro positivo, adicionamos meses, com o parâmetro negativo, subtraimos meses.\n",
    "- `.withColumn('Adicionar_mês', F.add_months(df.data_cadastro, 1))` -> Adiciona meses\n",
    "- `.withColumn('Subtrair_mês', F.add_months(df.data_cadastro, -1))` -> Subtrai meses\n",
    "\n",
    "#### Tempo Atual\n",
    "Podemos utilizar 2 métodos: `current_date` ou `current_timestamp`.\n",
    "- `.withColumn('Data_atual', F.current_date())` -> traz a data atual\n",
    "- `.withColumn('Data_hora_atual', F.current_timestamp())` -> traz a data e hora atual\n",
    "\n",
    "#### Adicionar ou Subtrair DIAS\n",
    "Podemos utilizar 2 métodos: `date_add` ou `date_sub`. \\\n",
    "OBS: o `date_add` irá SOMAR valores indicados, mas se os valores forem negativos, ele irá subtrair;\\\n",
    "OBS2: o `date_sub` irá SUBTRAIR valores indicados, mas se os valores forem negativos, ele irá somar;\n",
    "\n",
    "- `.withColumn('Adicionar_dias', F.date_add(df.data_cadastro, 15))` -> adiciona 15 dias;\n",
    "- `.withColumn('Subtrair_dias', F.date_add(df.data_cadastro, -15))` -> subtrai 15 dias;\n",
    "- `.withColumn('Subtrair_dias_sub', F.date_sub(df.data_cadastro, -15))` -> adiciona 15 dias;\n",
    "- `.withColumn('Subtrair_dias_sub', F.date_sub(df.data_cadastro, 15))` -> subtrai 15 dias\n",
    "\n",
    "#### Formatação Data\n",
    "Temos a opção de alterar o formato de data com o `date_format`.\n",
    "- `.withColumn('Formatação_Data', F.date_format(df.data_de_nascimento, 'dd/MM/yyyy'))` -> altera para o formato dia mes ano\n",
    "- `.withColumn('Formatação_Data', F.date_format(df.data_de_nascimento, 'E, dd-MMM-yyyy'))` -> altera para o formato dia_semana dia mes ano\n",
    "- OBS: doc -> `https://spark.apache.org/docs/latest/sql-ref-datetime-pattern`\n",
    "\n",
    "Podemos também CONVERTER a data de STRING para DATE com o `to_date`:\n",
    "- `.withColumn('Formatar_como_data', F.to_date(F.lit('1996-06-19')))`\n",
    "\n",
    "#### Diferença entre datas\n",
    "Podemos calcular a diferença entre duas datas com o `datediff` e o `date_between`:\n",
    "- `.withColumn('Diferença_Datas', F.datediff(F.current_date(), df.data_de_nascimento))` -> diferença entre dias\n",
    "- `.withColumn('Meses_Entre', F.months_between(F.current_date(), df.data_de_nascimento))` -> diferença entre meses\n",
    "\n",
    "#### Seleção de parte da data\n",
    "Seleção de ANO:\n",
    "- `year` : `.withColumn('Ano', F.year(df.data_de_nascimento))` -> retorna o ano da data\n",
    "\n",
    "Seleção de MêS:\n",
    "- `month` : `.withColumn('Mês', F.month(df.data_de_nascimento))` -> retorna o mês da data\n",
    "\n",
    "Seleção do último dia do MêS:\n",
    "- `last_day` : `.withColumn('Ultimo_dia_mês', F.last_day(df.data_de_nascimento))` -> retorna a última data do mês\n",
    "\n",
    "Seleção do próximo dia da data selecionada (necessário indicar qual dia deseja selecionar):\n",
    "- `next_day` : `.withColumn('Próximo_Dia', F.next_day(df.data_de_nascimento, 'Mon'))` -> no exemplo, retorna a próxima segunda feira a partir da data da coluna\n",
    "\n",
    "Criação de data:\n",
    "- `make_date` : `.withColumn('Criar_Data', F.make_date(F.lit(1996), F.lit(6), F.lit(19)))` -> cria uma data a partir de valores LITERAIS `(.lit)`\n",
    "\n",
    "\n",
    "\n",
    "    \n",
    "    \n",
    "    "
   ]
  }
 ],
 "metadata": {
  "kernelspec": {
   "display_name": "Python [conda env:base] *",
   "language": "python",
   "name": "conda-base-py"
  },
  "language_info": {
   "codemirror_mode": {
    "name": "ipython",
    "version": 3
   },
   "file_extension": ".py",
   "mimetype": "text/x-python",
   "name": "python",
   "nbconvert_exporter": "python",
   "pygments_lexer": "ipython3",
   "version": "3.12.7"
  }
 },
 "nbformat": 4,
 "nbformat_minor": 5
}
