{
 "cells": [
  {
   "cell_type": "code",
   "execution_count": 2,
   "id": "641b5f10-4e55-4268-bf96-7aeda4c46185",
   "metadata": {},
   "outputs": [
    {
     "data": {
      "text/html": [
       "\n",
       "            <div>\n",
       "                <p><b>SparkSession - in-memory</b></p>\n",
       "                \n",
       "        <div>\n",
       "            <p><b>SparkContext</b></p>\n",
       "\n",
       "            <p><a href=\"http://DESKTOP-M2UR532:4045\">Spark UI</a></p>\n",
       "\n",
       "            <dl>\n",
       "              <dt>Version</dt>\n",
       "                <dd><code>v3.3.2</code></dd>\n",
       "              <dt>Master</dt>\n",
       "                <dd><code>local[*]</code></dd>\n",
       "              <dt>AppName</dt>\n",
       "                <dd><code>Curso PySpark</code></dd>\n",
       "            </dl>\n",
       "        </div>\n",
       "        \n",
       "            </div>\n",
       "        "
      ],
      "text/plain": [
       "<pyspark.sql.session.SparkSession at 0x225fcdd35c0>"
      ]
     },
     "execution_count": 2,
     "metadata": {},
     "output_type": "execute_result"
    }
   ],
   "source": [
    "from pyspark.sql import SparkSession\n",
    "import pyspark.sql.functions as F\n",
    "\n",
    "spark = (\n",
    "    SparkSession.builder.appName('Curso PySpark')\n",
    "    .config('spark.sql.repl.eagerEval.enabled',True)\n",
    "    .getOrCreate()\n",
    ")\n",
    "\n",
    "spark"
   ]
  },
  {
   "cell_type": "code",
   "execution_count": 9,
   "id": "776a95a7-9fc5-4d50-bbee-32c538a771d7",
   "metadata": {
    "scrolled": true
   },
   "outputs": [],
   "source": [
    "df = spark.read.parquet('C:/Users/Kimura/Desktop/Curso PySpark/DATASETS/DATASETS/LOGINS.parquet')\n",
    "df=df.withColumn('num', F.dayofmonth(df.data_de_nascimento))"
   ]
  },
  {
   "cell_type": "code",
   "execution_count": 11,
   "id": "8af34aca-5aa8-4ec2-a3dd-34703392d807",
   "metadata": {
    "scrolled": true
   },
   "outputs": [
    {
     "data": {
      "text/html": [
       "<table border='1'>\n",
       "<tr><th>cor_favorita</th><th>count</th></tr>\n",
       "<tr><td>Preto</td><td>57</td></tr>\n",
       "<tr><td>Violeta</td><td>47</td></tr>\n",
       "<tr><td>Rosa</td><td>81</td></tr>\n",
       "<tr><td>Marrom</td><td>62</td></tr>\n",
       "<tr><td>Ciano</td><td>59</td></tr>\n",
       "<tr><td>Laranja</td><td>53</td></tr>\n",
       "<tr><td>Azul</td><td>76</td></tr>\n",
       "<tr><td>Verde Claro</td><td>66</td></tr>\n",
       "<tr><td>Roxo</td><td>64</td></tr>\n",
       "<tr><td>Branco</td><td>66</td></tr>\n",
       "<tr><td>Verde Escuro</td><td>65</td></tr>\n",
       "<tr><td>Azul Escuro</td><td>62</td></tr>\n",
       "<tr><td>Verde</td><td>53</td></tr>\n",
       "<tr><td>Magenta</td><td>54</td></tr>\n",
       "<tr><td>Cinza</td><td>75</td></tr>\n",
       "<tr><td>Amarelo</td><td>60</td></tr>\n",
       "</table>\n"
      ],
      "text/plain": [
       "+------------+-----+\n",
       "|cor_favorita|count|\n",
       "+------------+-----+\n",
       "|       Preto|   57|\n",
       "|     Violeta|   47|\n",
       "|        Rosa|   81|\n",
       "|      Marrom|   62|\n",
       "|       Ciano|   59|\n",
       "|     Laranja|   53|\n",
       "|        Azul|   76|\n",
       "| Verde Claro|   66|\n",
       "|        Roxo|   64|\n",
       "|      Branco|   66|\n",
       "|Verde Escuro|   65|\n",
       "| Azul Escuro|   62|\n",
       "|       Verde|   53|\n",
       "|     Magenta|   54|\n",
       "|       Cinza|   75|\n",
       "|     Amarelo|   60|\n",
       "+------------+-----+"
      ]
     },
     "execution_count": 11,
     "metadata": {},
     "output_type": "execute_result"
    }
   ],
   "source": [
    "df.groupBy('cor_favorita').count()"
   ]
  },
  {
   "cell_type": "code",
   "execution_count": 13,
   "id": "d4b25803-53d0-4181-bee3-9fd76c77fc78",
   "metadata": {
    "scrolled": true
   },
   "outputs": [
    {
     "data": {
      "text/html": [
       "<table border='1'>\n",
       "<tr><th>cor_favorita</th><th>sum(num)</th></tr>\n",
       "<tr><td>Preto</td><td>893</td></tr>\n",
       "<tr><td>Violeta</td><td>773</td></tr>\n",
       "<tr><td>Rosa</td><td>1146</td></tr>\n",
       "<tr><td>Marrom</td><td>916</td></tr>\n",
       "<tr><td>Ciano</td><td>1085</td></tr>\n",
       "<tr><td>Laranja</td><td>956</td></tr>\n",
       "<tr><td>Azul</td><td>1295</td></tr>\n",
       "<tr><td>Verde Claro</td><td>1179</td></tr>\n",
       "<tr><td>Roxo</td><td>1025</td></tr>\n",
       "<tr><td>Branco</td><td>1085</td></tr>\n",
       "<tr><td>Verde Escuro</td><td>1103</td></tr>\n",
       "<tr><td>Azul Escuro</td><td>1042</td></tr>\n",
       "<tr><td>Verde</td><td>858</td></tr>\n",
       "<tr><td>Magenta</td><td>935</td></tr>\n",
       "<tr><td>Cinza</td><td>1208</td></tr>\n",
       "<tr><td>Amarelo</td><td>828</td></tr>\n",
       "</table>\n"
      ],
      "text/plain": [
       "+------------+--------+\n",
       "|cor_favorita|sum(num)|\n",
       "+------------+--------+\n",
       "|       Preto|     893|\n",
       "|     Violeta|     773|\n",
       "|        Rosa|    1146|\n",
       "|      Marrom|     916|\n",
       "|       Ciano|    1085|\n",
       "|     Laranja|     956|\n",
       "|        Azul|    1295|\n",
       "| Verde Claro|    1179|\n",
       "|        Roxo|    1025|\n",
       "|      Branco|    1085|\n",
       "|Verde Escuro|    1103|\n",
       "| Azul Escuro|    1042|\n",
       "|       Verde|     858|\n",
       "|     Magenta|     935|\n",
       "|       Cinza|    1208|\n",
       "|     Amarelo|     828|\n",
       "+------------+--------+"
      ]
     },
     "execution_count": 13,
     "metadata": {},
     "output_type": "execute_result"
    }
   ],
   "source": [
    "df.groupBy('cor_favorita').sum('num')"
   ]
  },
  {
   "cell_type": "code",
   "execution_count": 24,
   "id": "6592c3d2-d46b-4be7-b277-0bdbae48e244",
   "metadata": {
    "scrolled": true
   },
   "outputs": [
    {
     "data": {
      "text/html": [
       "<table border='1'>\n",
       "<tr><th>cor_favorita</th><th>count(1)</th><th>sum(num)</th><th>avg(num)</th><th>max(num)</th><th>min(num)</th><th>stddev_samp(num)</th></tr>\n",
       "<tr><td>Preto</td><td>57</td><td>893</td><td>15.666666666666666</td><td>31</td><td>1</td><td>9.158004565354158</td></tr>\n",
       "<tr><td>Violeta</td><td>47</td><td>773</td><td>16.4468085106383</td><td>31</td><td>1</td><td>8.609419792191972</td></tr>\n",
       "<tr><td>Rosa</td><td>81</td><td>1146</td><td>14.148148148148149</td><td>31</td><td>1</td><td>8.153390569436604</td></tr>\n",
       "<tr><td>Marrom</td><td>62</td><td>916</td><td>14.774193548387096</td><td>31</td><td>1</td><td>8.952368227455667</td></tr>\n",
       "<tr><td>Ciano</td><td>59</td><td>1085</td><td>18.389830508474578</td><td>31</td><td>1</td><td>9.02681245369735</td></tr>\n",
       "<tr><td>Laranja</td><td>53</td><td>956</td><td>18.037735849056602</td><td>31</td><td>1</td><td>8.735344350904686</td></tr>\n",
       "<tr><td>Azul</td><td>76</td><td>1295</td><td>17.039473684210527</td><td>31</td><td>1</td><td>9.107419377589803</td></tr>\n",
       "<tr><td>Verde Claro</td><td>66</td><td>1179</td><td>17.863636363636363</td><td>31</td><td>1</td><td>9.121211734002424</td></tr>\n",
       "<tr><td>Roxo</td><td>64</td><td>1025</td><td>16.015625</td><td>31</td><td>1</td><td>9.005275680364543</td></tr>\n",
       "<tr><td>Branco</td><td>66</td><td>1085</td><td>16.439393939393938</td><td>31</td><td>1</td><td>9.907462281422465</td></tr>\n",
       "<tr><td>Verde Escuro</td><td>65</td><td>1103</td><td>16.96923076923077</td><td>31</td><td>1</td><td>8.96341388431542</td></tr>\n",
       "<tr><td>Azul Escuro</td><td>62</td><td>1042</td><td>16.806451612903224</td><td>31</td><td>1</td><td>9.289229987459422</td></tr>\n",
       "<tr><td>Verde</td><td>53</td><td>858</td><td>16.18867924528302</td><td>31</td><td>1</td><td>8.991569991629305</td></tr>\n",
       "<tr><td>Magenta</td><td>54</td><td>935</td><td>17.314814814814813</td><td>29</td><td>1</td><td>8.871884941650764</td></tr>\n",
       "<tr><td>Cinza</td><td>75</td><td>1208</td><td>16.106666666666666</td><td>31</td><td>1</td><td>8.658027572226912</td></tr>\n",
       "<tr><td>Amarelo</td><td>60</td><td>828</td><td>13.8</td><td>30</td><td>1</td><td>9.34607685301019</td></tr>\n",
       "</table>\n"
      ],
      "text/plain": [
       "+------------+--------+--------+------------------+--------+--------+-----------------+\n",
       "|cor_favorita|count(1)|sum(num)|          avg(num)|max(num)|min(num)| stddev_samp(num)|\n",
       "+------------+--------+--------+------------------+--------+--------+-----------------+\n",
       "|       Preto|      57|     893|15.666666666666666|      31|       1|9.158004565354158|\n",
       "|     Violeta|      47|     773|  16.4468085106383|      31|       1|8.609419792191972|\n",
       "|        Rosa|      81|    1146|14.148148148148149|      31|       1|8.153390569436604|\n",
       "|      Marrom|      62|     916|14.774193548387096|      31|       1|8.952368227455667|\n",
       "|       Ciano|      59|    1085|18.389830508474578|      31|       1| 9.02681245369735|\n",
       "|     Laranja|      53|     956|18.037735849056602|      31|       1|8.735344350904686|\n",
       "|        Azul|      76|    1295|17.039473684210527|      31|       1|9.107419377589803|\n",
       "| Verde Claro|      66|    1179|17.863636363636363|      31|       1|9.121211734002424|\n",
       "|        Roxo|      64|    1025|         16.015625|      31|       1|9.005275680364543|\n",
       "|      Branco|      66|    1085|16.439393939393938|      31|       1|9.907462281422465|\n",
       "|Verde Escuro|      65|    1103| 16.96923076923077|      31|       1| 8.96341388431542|\n",
       "| Azul Escuro|      62|    1042|16.806451612903224|      31|       1|9.289229987459422|\n",
       "|       Verde|      53|     858| 16.18867924528302|      31|       1|8.991569991629305|\n",
       "|     Magenta|      54|     935|17.314814814814813|      29|       1|8.871884941650764|\n",
       "|       Cinza|      75|    1208|16.106666666666666|      31|       1|8.658027572226912|\n",
       "|     Amarelo|      60|     828|              13.8|      30|       1| 9.34607685301019|\n",
       "+------------+--------+--------+------------------+--------+--------+-----------------+"
      ]
     },
     "execution_count": 24,
     "metadata": {},
     "output_type": "execute_result"
    }
   ],
   "source": [
    "# o método .agg permite a utilização de vários outros métodos de agregação no mesmo dataframe\n",
    "\n",
    "df.groupBy('cor_favorita').agg(F.count('*'), F.sum('num'), F.avg('num'), F.max('num'), F.min('num'), F.stddev('num'))"
   ]
  },
  {
   "cell_type": "code",
   "execution_count": 34,
   "id": "c3eb06c5-e2ce-4807-b298-3a047d9f9b70",
   "metadata": {
    "scrolled": true
   },
   "outputs": [
    {
     "data": {
      "text/html": [
       "<table border='1'>\n",
       "<tr><th>cor_favorita</th><th>avg(num)</th><th>count(1)</th></tr>\n",
       "<tr><td>Preto</td><td>15.666666666666666</td><td>57</td></tr>\n",
       "<tr><td>Violeta</td><td>16.4468085106383</td><td>47</td></tr>\n",
       "<tr><td>Rosa</td><td>14.148148148148149</td><td>81</td></tr>\n",
       "<tr><td>Marrom</td><td>14.774193548387096</td><td>62</td></tr>\n",
       "<tr><td>Ciano</td><td>18.389830508474578</td><td>59</td></tr>\n",
       "<tr><td>Laranja</td><td>18.037735849056602</td><td>53</td></tr>\n",
       "<tr><td>Azul</td><td>17.039473684210527</td><td>76</td></tr>\n",
       "<tr><td>Verde Claro</td><td>17.863636363636363</td><td>66</td></tr>\n",
       "<tr><td>Roxo</td><td>16.015625</td><td>64</td></tr>\n",
       "<tr><td>Branco</td><td>16.439393939393938</td><td>66</td></tr>\n",
       "<tr><td>Verde Escuro</td><td>16.96923076923077</td><td>65</td></tr>\n",
       "<tr><td>Azul Escuro</td><td>16.806451612903224</td><td>62</td></tr>\n",
       "<tr><td>Verde</td><td>16.18867924528302</td><td>53</td></tr>\n",
       "<tr><td>Magenta</td><td>17.314814814814813</td><td>54</td></tr>\n",
       "<tr><td>Cinza</td><td>16.106666666666666</td><td>75</td></tr>\n",
       "<tr><td>Amarelo</td><td>13.8</td><td>60</td></tr>\n",
       "</table>\n"
      ],
      "text/plain": [
       "+------------+------------------+--------+\n",
       "|cor_favorita|          avg(num)|count(1)|\n",
       "+------------+------------------+--------+\n",
       "|       Preto|15.666666666666666|      57|\n",
       "|     Violeta|  16.4468085106383|      47|\n",
       "|        Rosa|14.148148148148149|      81|\n",
       "|      Marrom|14.774193548387096|      62|\n",
       "|       Ciano|18.389830508474578|      59|\n",
       "|     Laranja|18.037735849056602|      53|\n",
       "|        Azul|17.039473684210527|      76|\n",
       "| Verde Claro|17.863636363636363|      66|\n",
       "|        Roxo|         16.015625|      64|\n",
       "|      Branco|16.439393939393938|      66|\n",
       "|Verde Escuro| 16.96923076923077|      65|\n",
       "| Azul Escuro|16.806451612903224|      62|\n",
       "|       Verde| 16.18867924528302|      53|\n",
       "|     Magenta|17.314814814814813|      54|\n",
       "|       Cinza|16.106666666666666|      75|\n",
       "|     Amarelo|              13.8|      60|\n",
       "+------------+------------------+--------+"
      ]
     },
     "execution_count": 34,
     "metadata": {},
     "output_type": "execute_result"
    }
   ],
   "source": [
    "# outra forma de escrever os dados\n",
    "# o problema dessa forma é que ela sobrescreve caso você tente escrever mais de um cálculo de agregação por vez\n",
    "\n",
    "df.groupBy('cor_favorita').agg({'*':'count','num':'sum','num':'avg'})"
   ]
  },
  {
   "cell_type": "markdown",
   "id": "a5f2b6b6-8beb-40c5-9024-c86988dd8800",
   "metadata": {},
   "source": [
    "## Resumo\n",
    "\n",
    "#### Agregando vários métodos em um DataFrame\n",
    "\n",
    "Iremos necessitar utilizar o método `.agg` para realizar várias agregações no DataFrame:\n",
    "- `df.groupBy('cor_favorita').agg(F.count('*'), F.sum('num'), F.avg('num'), F.max('num'), F.min('num'), F.stddev('num'))` -> nesse exemplo o `.agg` serve para aplicar 1 ou mais funções de agregação no mesmo DataFrame."
   ]
  }
 ],
 "metadata": {
  "kernelspec": {
   "display_name": "Python [conda env:base] *",
   "language": "python",
   "name": "conda-base-py"
  },
  "language_info": {
   "codemirror_mode": {
    "name": "ipython",
    "version": 3
   },
   "file_extension": ".py",
   "mimetype": "text/x-python",
   "name": "python",
   "nbconvert_exporter": "python",
   "pygments_lexer": "ipython3",
   "version": "3.12.7"
  }
 },
 "nbformat": 4,
 "nbformat_minor": 5
}
