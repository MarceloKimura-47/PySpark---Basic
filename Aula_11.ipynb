{
 "cells": [
  {
   "cell_type": "code",
   "execution_count": 2,
   "id": "56ec3640-e033-452d-b6a9-381d8b57eb88",
   "metadata": {},
   "outputs": [
    {
     "data": {
      "text/html": [
       "\n",
       "            <div>\n",
       "                <p><b>SparkSession - in-memory</b></p>\n",
       "                \n",
       "        <div>\n",
       "            <p><b>SparkContext</b></p>\n",
       "\n",
       "            <p><a href=\"http://DESKTOP-M2UR532:4046\">Spark UI</a></p>\n",
       "\n",
       "            <dl>\n",
       "              <dt>Version</dt>\n",
       "                <dd><code>v3.3.2</code></dd>\n",
       "              <dt>Master</dt>\n",
       "                <dd><code>local[*]</code></dd>\n",
       "              <dt>AppName</dt>\n",
       "                <dd><code>Curso PySpark</code></dd>\n",
       "            </dl>\n",
       "        </div>\n",
       "        \n",
       "            </div>\n",
       "        "
      ],
      "text/plain": [
       "<pyspark.sql.session.SparkSession at 0x1edec23a630>"
      ]
     },
     "execution_count": 2,
     "metadata": {},
     "output_type": "execute_result"
    }
   ],
   "source": [
    "from pyspark.sql import SparkSession\n",
    "import pyspark.sql.functions as F\n",
    "\n",
    "spark = (\n",
    "    SparkSession.builder.appName('Curso PySpark')\n",
    "    .config('spark.sql.repl.eagerEval.enabled',True)\n",
    "    .getOrCreate()\n",
    ")\n",
    "\n",
    "spark"
   ]
  },
  {
   "cell_type": "code",
   "execution_count": 9,
   "id": "4ddf382b-dd47-4c16-aa35-6730c40a6af3",
   "metadata": {},
   "outputs": [],
   "source": [
    "autores = spark.read.parquet('C:/Users/Kimura/Desktop/Curso PySpark/DATASETS/DATASETS/AUTORES.parquet')\n",
    "livros = spark.read.parquet('C:/Users/Kimura/Desktop/Curso PySpark/DATASETS/DATASETS/LIVROS.parquet')\n",
    "clientes = spark.read.parquet('C:/Users/Kimura/Desktop/Curso PySpark/DATASETS/DATASETS/CLIENTES.parquet')\n",
    "compras = spark.read.parquet('C:/Users/Kimura/Desktop/Curso PySpark/DATASETS/DATASETS/COMPRAS.parquet')"
   ]
  },
  {
   "cell_type": "code",
   "execution_count": 11,
   "id": "d085be10-4d78-45e6-a82f-6f8501b5c0d7",
   "metadata": {
    "scrolled": true
   },
   "outputs": [
    {
     "data": {
      "text/html": [
       "<table border='1'>\n",
       "<tr><th>id</th><th>titulo</th><th>autor</th></tr>\n",
       "<tr><td>106042959</td><td>1984 </td><td>George Orwell</td></tr>\n",
       "<tr><td>017551704</td><td>200 Crônicas Esco...</td><td>Rubem Braga</td></tr>\n",
       "<tr><td>054099410</td><td>A Alma Encantador...</td><td>João do Rio</td></tr>\n",
       "<tr><td>128422117</td><td>A Biblioteca da M...</td><td>Matt Haig</td></tr>\n",
       "<tr><td>049141399</td><td>A Coleira do Cão </td><td>Rubem Fonseca</td></tr>\n",
       "<tr><td>065490862</td><td>A Cor Púrpura </td><td>Alice Walker</td></tr>\n",
       "<tr><td>029077001</td><td>A Educação Sentim...</td><td>Gustave Flaubert</td></tr>\n",
       "<tr><td>032275599</td><td>A Escrava Isaura </td><td>Bernardo Guimarães</td></tr>\n",
       "<tr><td>090690941</td><td>A Estrela Sobe </td><td>Marques Rebelo</td></tr>\n",
       "<tr><td>095695255</td><td>A Hora da Estrela </td><td>Clarice Lispector</td></tr>\n",
       "<tr><td>036365230</td><td>A Hora dos Rumina...</td><td>José J. Veiga</td></tr>\n",
       "<tr><td>069146824</td><td>A Letra Escarlate </td><td>Nathaniel Hawthorne</td></tr>\n",
       "<tr><td>025903823</td><td>A Metamorfose </td><td>Franz Kafka</td></tr>\n",
       "<tr><td>015903574</td><td>A Montanha Mágica </td><td>Thomas Mann</td></tr>\n",
       "<tr><td>076938216</td><td>A Moreninha </td><td>Joaquim Manuel de...</td></tr>\n",
       "<tr><td>010325500</td><td>A Obscena Senhora D </td><td>Hilda Hilst</td></tr>\n",
       "<tr><td>095678890</td><td>A Paixão Segundo ...</td><td>Clarice Lispector</td></tr>\n",
       "<tr><td>073269564</td><td>A Revolução dos B...</td><td>George Orwell</td></tr>\n",
       "<tr><td>076121829</td><td>A Rosa do Povo </td><td>Carlos Drummond d...</td></tr>\n",
       "<tr><td>087365849</td><td>A Senhorita Simpson </td><td>Sérgio Sant’anna</td></tr>\n",
       "</table>\n",
       "only showing top 20 rows\n"
      ],
      "text/plain": [
       "+---------+--------------------+--------------------+\n",
       "|       id|              titulo|               autor|\n",
       "+---------+--------------------+--------------------+\n",
       "|106042959|               1984 |       George Orwell|\n",
       "|017551704|200 Crônicas Esco...|         Rubem Braga|\n",
       "|054099410|A Alma Encantador...|         João do Rio|\n",
       "|128422117|A Biblioteca da M...|           Matt Haig|\n",
       "|049141399|   A Coleira do Cão |       Rubem Fonseca|\n",
       "|065490862|      A Cor Púrpura |        Alice Walker|\n",
       "|029077001|A Educação Sentim...|    Gustave Flaubert|\n",
       "|032275599|   A Escrava Isaura |  Bernardo Guimarães|\n",
       "|090690941|     A Estrela Sobe |      Marques Rebelo|\n",
       "|095695255|  A Hora da Estrela |   Clarice Lispector|\n",
       "|036365230|A Hora dos Rumina...|       José J. Veiga|\n",
       "|069146824|  A Letra Escarlate | Nathaniel Hawthorne|\n",
       "|025903823|      A Metamorfose |         Franz Kafka|\n",
       "|015903574|  A Montanha Mágica |         Thomas Mann|\n",
       "|076938216|        A Moreninha |Joaquim Manuel de...|\n",
       "|010325500|A Obscena Senhora D |         Hilda Hilst|\n",
       "|095678890|A Paixão Segundo ...|   Clarice Lispector|\n",
       "|073269564|A Revolução dos B...|       George Orwell|\n",
       "|076121829|     A Rosa do Povo |Carlos Drummond d...|\n",
       "|087365849|A Senhorita Simpson |    Sérgio Sant’anna|\n",
       "+---------+--------------------+--------------------+\n",
       "only showing top 20 rows"
      ]
     },
     "execution_count": 11,
     "metadata": {},
     "output_type": "execute_result"
    }
   ],
   "source": [
    "autores"
   ]
  },
  {
   "cell_type": "code",
   "execution_count": 13,
   "id": "e31036dd-4f41-409e-b155-2e1240675301",
   "metadata": {
    "scrolled": true
   },
   "outputs": [
    {
     "data": {
      "text/html": [
       "<table border='1'>\n",
       "<tr><th>id</th><th>cnpj_editora</th><th>data_lancamento</th><th>ean</th><th>isbn10</th><th>numero_paginas</th><th>preco</th></tr>\n",
       "<tr><td>102961160</td><td>54.317.982/0001-79</td><td>2011-09-19</td><td>4367115749184</td><td>0-06-594558-1</td><td>516</td><td>113.84</td></tr>\n",
       "<tr><td>043636240</td><td>16.938.042/0001-08</td><td>2019-05-11</td><td>1239569754256</td><td>0-611-23680-X</td><td>371</td><td>207.67</td></tr>\n",
       "<tr><td>052928059</td><td>57.624.038/0001-52</td><td>2003-08-03</td><td>5462162528221</td><td>1-109-29542-1</td><td>198</td><td>107.89</td></tr>\n",
       "<tr><td>088482271</td><td>16.249.378/0001-63</td><td>2022-09-07</td><td>5713629047213</td><td>1-229-68842-0</td><td>632</td><td>143.95</td></tr>\n",
       "<tr><td>028125446</td><td>90.425.178/0001-77</td><td>2011-07-25</td><td>2226757040245</td><td>0-657-66391-3</td><td>384</td><td>156.49</td></tr>\n",
       "<tr><td>055610005</td><td>20.756.194/0001-67</td><td>2006-03-22</td><td>2114468195241</td><td>0-455-43278-3</td><td>419</td><td>37.08</td></tr>\n",
       "<tr><td>049806867</td><td>93.617.240/0001-10</td><td>2022-02-17</td><td>3166123637398</td><td>1-4822-8784-6</td><td>378</td><td>162.97</td></tr>\n",
       "<tr><td>102803370</td><td>48.760.531/0001-09</td><td>2011-12-13</td><td>2550608407612</td><td>0-399-05121-X</td><td>732</td><td>75.62</td></tr>\n",
       "<tr><td>084858867</td><td>10.752.843/0001-06</td><td>2015-04-30</td><td>6207011925788</td><td>1-03-549652-6</td><td>635</td><td>237.67</td></tr>\n",
       "<tr><td>059303729</td><td>05.129.783/0001-21</td><td>2001-08-25</td><td>1641133648784</td><td>0-620-46508-5</td><td>107</td><td>61.41</td></tr>\n",
       "<tr><td>064175052</td><td>65.301.927/0001-07</td><td>2008-05-29</td><td>6905480714673</td><td>1-876722-64-9</td><td>795</td><td>85.56</td></tr>\n",
       "<tr><td>080608956</td><td>90.563.247/0001-09</td><td>2011-10-05</td><td>0332981484891</td><td>1-925760-25-1</td><td>203</td><td>107.63</td></tr>\n",
       "<tr><td>018453254</td><td>95.367.280/0001-87</td><td>2012-11-02</td><td>0507454098268</td><td>0-609-21722-4</td><td>043</td><td>52.94</td></tr>\n",
       "<tr><td>021765997</td><td>59.374.801/0001-60</td><td>2014-05-17</td><td>4743679337089</td><td>1-85580-232-5</td><td>499</td><td>143.43</td></tr>\n",
       "<tr><td>023911383</td><td>98.526.047/0001-98</td><td>2005-11-12</td><td>4165252098109</td><td>1-369-22273-4</td><td>599</td><td>121.0</td></tr>\n",
       "<tr><td>029667220</td><td>20.136.498/0001-21</td><td>2008-09-22</td><td>9813450961422</td><td>0-466-92503-4</td><td>474</td><td>175.32</td></tr>\n",
       "<tr><td>030099528</td><td>28.103.975/0001-64</td><td>2000-02-06</td><td>9164658045347</td><td>0-904222-71-3</td><td>292</td><td>208.39</td></tr>\n",
       "<tr><td>034553086</td><td>29.507.683/0001-50</td><td>2016-12-29</td><td>7318970609554</td><td>1-4989-7802-9</td><td>540</td><td>113.52</td></tr>\n",
       "<tr><td>035350343</td><td>25.491.073/0001-54</td><td>2003-11-29</td><td>7630092024962</td><td>1-957157-95-X</td><td>109</td><td>58.61</td></tr>\n",
       "<tr><td>017477529</td><td>39.507.184/0001-16</td><td>2005-09-23</td><td>5930606400018</td><td>1-393-77728-7</td><td>747</td><td>232.65</td></tr>\n",
       "</table>\n",
       "only showing top 20 rows\n"
      ],
      "text/plain": [
       "+---------+------------------+---------------+-------------+-------------+--------------+------+\n",
       "|       id|      cnpj_editora|data_lancamento|          ean|       isbn10|numero_paginas| preco|\n",
       "+---------+------------------+---------------+-------------+-------------+--------------+------+\n",
       "|102961160|54.317.982/0001-79|     2011-09-19|4367115749184|0-06-594558-1|           516|113.84|\n",
       "|043636240|16.938.042/0001-08|     2019-05-11|1239569754256|0-611-23680-X|           371|207.67|\n",
       "|052928059|57.624.038/0001-52|     2003-08-03|5462162528221|1-109-29542-1|           198|107.89|\n",
       "|088482271|16.249.378/0001-63|     2022-09-07|5713629047213|1-229-68842-0|           632|143.95|\n",
       "|028125446|90.425.178/0001-77|     2011-07-25|2226757040245|0-657-66391-3|           384|156.49|\n",
       "|055610005|20.756.194/0001-67|     2006-03-22|2114468195241|0-455-43278-3|           419| 37.08|\n",
       "|049806867|93.617.240/0001-10|     2022-02-17|3166123637398|1-4822-8784-6|           378|162.97|\n",
       "|102803370|48.760.531/0001-09|     2011-12-13|2550608407612|0-399-05121-X|           732| 75.62|\n",
       "|084858867|10.752.843/0001-06|     2015-04-30|6207011925788|1-03-549652-6|           635|237.67|\n",
       "|059303729|05.129.783/0001-21|     2001-08-25|1641133648784|0-620-46508-5|           107| 61.41|\n",
       "|064175052|65.301.927/0001-07|     2008-05-29|6905480714673|1-876722-64-9|           795| 85.56|\n",
       "|080608956|90.563.247/0001-09|     2011-10-05|0332981484891|1-925760-25-1|           203|107.63|\n",
       "|018453254|95.367.280/0001-87|     2012-11-02|0507454098268|0-609-21722-4|           043| 52.94|\n",
       "|021765997|59.374.801/0001-60|     2014-05-17|4743679337089|1-85580-232-5|           499|143.43|\n",
       "|023911383|98.526.047/0001-98|     2005-11-12|4165252098109|1-369-22273-4|           599| 121.0|\n",
       "|029667220|20.136.498/0001-21|     2008-09-22|9813450961422|0-466-92503-4|           474|175.32|\n",
       "|030099528|28.103.975/0001-64|     2000-02-06|9164658045347|0-904222-71-3|           292|208.39|\n",
       "|034553086|29.507.683/0001-50|     2016-12-29|7318970609554|1-4989-7802-9|           540|113.52|\n",
       "|035350343|25.491.073/0001-54|     2003-11-29|7630092024962|1-957157-95-X|           109| 58.61|\n",
       "|017477529|39.507.184/0001-16|     2005-09-23|5930606400018|1-393-77728-7|           747|232.65|\n",
       "+---------+------------------+---------------+-------------+-------------+--------------+------+\n",
       "only showing top 20 rows"
      ]
     },
     "execution_count": 13,
     "metadata": {},
     "output_type": "execute_result"
    }
   ],
   "source": [
    "livros"
   ]
  },
  {
   "cell_type": "code",
   "execution_count": 15,
   "id": "6b0f73e5-0b3f-4bcb-886f-b570fcc5147a",
   "metadata": {
    "scrolled": true
   },
   "outputs": [
    {
     "data": {
      "text/html": [
       "<table border='1'>\n",
       "<tr><th>id</th><th>cpf</th><th>rg</th><th>name</th><th>email</th><th>data_de_nascimento</th><th>estado</th><th>profissao</th><th>telefone</th></tr>\n",
       "<tr><td>4738995</td><td>637.180.254-26</td><td>012835766</td><td>Srta. Ana Laura M...</td><td>eteixeira@uol.com.br</td><td>2003-02-03</td><td>RS</td><td>Profissional De R...</td><td>(011) 8424-0376</td></tr>\n",
       "<tr><td>4011280</td><td>689.750.231-68</td><td>01284357X</td><td>Ana Julia das Neves</td><td>xda-paz@hotmail.com</td><td>2009-05-29</td><td>PA</td><td>Engenheiro Sanita...</td><td>+55 71 9739-6705</td></tr>\n",
       "<tr><td>5662332</td><td>306.158.472-26</td><td>013562745</td><td>Milena Cunha</td><td>pietrada-rosa@bol...</td><td>2013-10-05</td><td>AC</td><td>Fonoaudiólogo</td><td>+55 81 5498-3331</td></tr>\n",
       "<tr><td>7450009</td><td>593.140.268-33</td><td>014736822</td><td>Sra. Eloah Nogueira</td><td>yda-paz@bol.com.br</td><td>1979-11-02</td><td>PI</td><td>Profissional De T...</td><td>(021) 8628-7265</td></tr>\n",
       "<tr><td>3583249</td><td>982.604.317-69</td><td>014876358</td><td>Nathan Azevedo</td><td>rafaelacostela@ya...</td><td>1931-08-29</td><td>ES</td><td>Profissional De C...</td><td>81 2925 1456</td></tr>\n",
       "<tr><td>2890701</td><td>721.395.064-99</td><td>01528637X</td><td>Esther Rodrigues</td><td>caue34@yahoo.com.br</td><td>1957-01-16</td><td>RO</td><td>Senador</td><td>(011) 5381 6173</td></tr>\n",
       "<tr><td>6685012</td><td>867.439.052-83</td><td>015842733</td><td>João Gabriel Barros</td><td>pedro-lucas13@gma...</td><td>1982-06-17</td><td>AM</td><td>Neonatologista</td><td>(071) 5210 2730</td></tr>\n",
       "<tr><td>2388467</td><td>470.815.269-85</td><td>01625837X</td><td>Luiz Otávio Rezende</td><td>portojoana@uol.co...</td><td>2017-07-16</td><td>MS</td><td>Profissional De L...</td><td>+55 71 5952-3387</td></tr>\n",
       "<tr><td>4279570</td><td>857.210.643-07</td><td>016487357</td><td>Gustavo Henrique ...</td><td>da-matabenjamin@i...</td><td>1983-06-24</td><td>BA</td><td>Engenheiro Agrícola</td><td>31 6727 6524</td></tr>\n",
       "<tr><td>8599757</td><td>810.563.427-90</td><td>017346587</td><td>Pietro Nunes</td><td>carvalholeandro@h...</td><td>2012-09-03</td><td>PI</td><td>Cobaia Médica</td><td>+55 (061) 3135-5607</td></tr>\n",
       "<tr><td>3441541</td><td>698.104.275-49</td><td>017583627</td><td>Agatha Peixoto</td><td>larissaporto@yaho...</td><td>1965-03-24</td><td>GO</td><td>Engenheiro Agrime...</td><td>0500-618-4617</td></tr>\n",
       "<tr><td>7687244</td><td>849.175.032-05</td><td>018256375</td><td>Dr. Otávio Araújo</td><td>maria-fernanda29@...</td><td>1923-04-25</td><td>PE</td><td>Deputado</td><td>(021) 5820 0740</td></tr>\n",
       "<tr><td>604220</td><td>491.567.308-10</td><td>018324654</td><td>Arthur Pereira</td><td>imendes@bol.com.br</td><td>1975-04-17</td><td>SE</td><td>Tenente</td><td>+55 (071) 3637 8445</td></tr>\n",
       "<tr><td>3336897</td><td>039.825.671-30</td><td>01856723X</td><td>Sra. Clarice Freitas</td><td>dfernandes@yahoo....</td><td>1910-12-17</td><td>PE</td><td>Despachante</td><td>+55 (051) 6274-3235</td></tr>\n",
       "<tr><td>5720641</td><td>508.314.976-10</td><td>02137465X</td><td>Sra. Eloah Silva</td><td>thiago69@gmail.com</td><td>1938-02-02</td><td>RR</td><td>Engenheiro Agrícola</td><td>(051) 6591 7177</td></tr>\n",
       "<tr><td>3100520</td><td>108.736.542-26</td><td>023147866</td><td>Srta. Clarice Fre...</td><td>cardosoelisa@gmai...</td><td>1980-06-11</td><td>AP</td><td>Encanador</td><td>(081) 3375 5349</td></tr>\n",
       "<tr><td>5706990</td><td>269.341.870-40</td><td>023856749</td><td>Dra. Beatriz da C...</td><td>gomesvitor@bol.co...</td><td>1992-09-09</td><td>PB</td><td>Técnico Em Radiol...</td><td>+55 81 1878-5560</td></tr>\n",
       "<tr><td>2350203</td><td>134.982.607-31</td><td>025864312</td><td>Davi Vieira</td><td>peixotoalexandre@...</td><td>1928-11-09</td><td>PR</td><td>Frentista</td><td>+55 71 6394 4879</td></tr>\n",
       "<tr><td>1351375</td><td>294.536.081-06</td><td>026715831</td><td>Diogo Nascimento</td><td>teixeiranicole@ig...</td><td>1947-05-15</td><td>PI</td><td>Prático</td><td>+55 81 1904-6183</td></tr>\n",
       "<tr><td>335510</td><td>361.794.520-16</td><td>027318564</td><td>Sra. Caroline da ...</td><td>waragao@ig.com.br</td><td>2016-08-23</td><td>RN</td><td>Preparador De Máq...</td><td>+55 (051) 4505 5080</td></tr>\n",
       "</table>\n",
       "only showing top 20 rows\n"
      ],
      "text/plain": [
       "+-------+--------------+---------+--------------------+--------------------+------------------+------+--------------------+-------------------+\n",
       "|     id|           cpf|       rg|                name|               email|data_de_nascimento|estado|           profissao|           telefone|\n",
       "+-------+--------------+---------+--------------------+--------------------+------------------+------+--------------------+-------------------+\n",
       "|4738995|637.180.254-26|012835766|Srta. Ana Laura M...|eteixeira@uol.com.br|        2003-02-03|    RS|Profissional De R...|    (011) 8424-0376|\n",
       "|4011280|689.750.231-68|01284357X| Ana Julia das Neves| xda-paz@hotmail.com|        2009-05-29|    PA|Engenheiro Sanita...|   +55 71 9739-6705|\n",
       "|5662332|306.158.472-26|013562745|        Milena Cunha|pietrada-rosa@bol...|        2013-10-05|    AC|       Fonoaudiólogo|   +55 81 5498-3331|\n",
       "|7450009|593.140.268-33|014736822| Sra. Eloah Nogueira|  yda-paz@bol.com.br|        1979-11-02|    PI|Profissional De T...|    (021) 8628-7265|\n",
       "|3583249|982.604.317-69|014876358|      Nathan Azevedo|rafaelacostela@ya...|        1931-08-29|    ES|Profissional De C...|       81 2925 1456|\n",
       "|2890701|721.395.064-99|01528637X|    Esther Rodrigues| caue34@yahoo.com.br|        1957-01-16|    RO|             Senador|    (011) 5381 6173|\n",
       "|6685012|867.439.052-83|015842733| João Gabriel Barros|pedro-lucas13@gma...|        1982-06-17|    AM|      Neonatologista|    (071) 5210 2730|\n",
       "|2388467|470.815.269-85|01625837X| Luiz Otávio Rezende|portojoana@uol.co...|        2017-07-16|    MS|Profissional De L...|   +55 71 5952-3387|\n",
       "|4279570|857.210.643-07|016487357|Gustavo Henrique ...|da-matabenjamin@i...|        1983-06-24|    BA| Engenheiro Agrícola|       31 6727 6524|\n",
       "|8599757|810.563.427-90|017346587|        Pietro Nunes|carvalholeandro@h...|        2012-09-03|    PI|       Cobaia Médica|+55 (061) 3135-5607|\n",
       "|3441541|698.104.275-49|017583627|      Agatha Peixoto|larissaporto@yaho...|        1965-03-24|    GO|Engenheiro Agrime...|      0500-618-4617|\n",
       "|7687244|849.175.032-05|018256375|   Dr. Otávio Araújo|maria-fernanda29@...|        1923-04-25|    PE|            Deputado|    (021) 5820 0740|\n",
       "| 604220|491.567.308-10|018324654|      Arthur Pereira|  imendes@bol.com.br|        1975-04-17|    SE|             Tenente|+55 (071) 3637 8445|\n",
       "|3336897|039.825.671-30|01856723X|Sra. Clarice Freitas|dfernandes@yahoo....|        1910-12-17|    PE|         Despachante|+55 (051) 6274-3235|\n",
       "|5720641|508.314.976-10|02137465X|    Sra. Eloah Silva|  thiago69@gmail.com|        1938-02-02|    RR| Engenheiro Agrícola|    (051) 6591 7177|\n",
       "|3100520|108.736.542-26|023147866|Srta. Clarice Fre...|cardosoelisa@gmai...|        1980-06-11|    AP|           Encanador|    (081) 3375 5349|\n",
       "|5706990|269.341.870-40|023856749|Dra. Beatriz da C...|gomesvitor@bol.co...|        1992-09-09|    PB|Técnico Em Radiol...|   +55 81 1878-5560|\n",
       "|2350203|134.982.607-31|025864312|         Davi Vieira|peixotoalexandre@...|        1928-11-09|    PR|           Frentista|   +55 71 6394 4879|\n",
       "|1351375|294.536.081-06|026715831|    Diogo Nascimento|teixeiranicole@ig...|        1947-05-15|    PI|             Prático|   +55 81 1904-6183|\n",
       "| 335510|361.794.520-16|027318564|Sra. Caroline da ...|   waragao@ig.com.br|        2016-08-23|    RN|Preparador De Máq...|+55 (051) 4505 5080|\n",
       "+-------+--------------+---------+--------------------+--------------------+------------------+------+--------------------+-------------------+\n",
       "only showing top 20 rows"
      ]
     },
     "execution_count": 15,
     "metadata": {},
     "output_type": "execute_result"
    }
   ],
   "source": [
    "clientes"
   ]
  },
  {
   "cell_type": "code",
   "execution_count": 17,
   "id": "a5b97ed6-e94c-4b01-8fd2-99a986570437",
   "metadata": {
    "scrolled": true
   },
   "outputs": [
    {
     "data": {
      "text/html": [
       "<table border='1'>\n",
       "<tr><th>id</th><th>cartao_data_expiracao</th><th>cartao_numero</th><th>cartao_bandeira</th><th>cartao_cvc</th><th>codigo_transacao_bancaria</th><th>data</th><th>hora</th><th>ipv4</th><th>ipv6</th><th>cep_entrega</th><th>cd_livro</th><th>cd_cliente</th></tr>\n",
       "<tr><td>012389</td><td>11/25</td><td>5500804500517692</td><td>Discover</td><td>959</td><td>GB98MPIH622108593...</td><td>2021-07-24</td><td>03:21:28</td><td>62.145.31.164</td><td>b23d:58a2:9eff:36...</td><td>36629-219</td><td>030334762</td><td>3339828</td></tr>\n",
       "<tr><td>012476</td><td>01/31</td><td>4609489235873</td><td>VISA 16 digit</td><td>6979</td><td>GB79GAVL233010819...</td><td>2021-08-23</td><td>11:15:52</td><td>185.150.224.52</td><td>1e2c:f641:49d1:5a...</td><td>17012-747</td><td>013721981</td><td>7624624</td></tr>\n",
       "<tr><td>012478</td><td>07/23</td><td>30072722359174</td><td>American Express</td><td>689</td><td>GB51SZOU538484531...</td><td>2020-01-27</td><td>17:08:10</td><td>40.179.153.24</td><td>9bcd:ee0c:af68:33...</td><td>25921298</td><td>019458805</td><td>8703114</td></tr>\n",
       "<tr><td>012534</td><td>09/29</td><td>4561935154572</td><td>VISA 16 digit</td><td>353</td><td>GB05UNEX021466511...</td><td>2021-07-15</td><td>07:39:25</td><td>86.20.51.194</td><td>be57:8f94:132:1cb...</td><td>73799370</td><td>014347542</td><td>7799936</td></tr>\n",
       "<tr><td>012549</td><td>01/31</td><td>3541220668415122</td><td>JCB 15 digit</td><td>967</td><td>GB97RCCC581942620...</td><td>2020-07-22</td><td>23:56:14</td><td>55.189.220.65</td><td>a1fd:9dd:115f:9d5...</td><td>50727-454</td><td>020215846</td><td>6703678</td></tr>\n",
       "<tr><td>012574</td><td>06/24</td><td>4155061214506542</td><td>JCB 16 digit</td><td>362</td><td>GB93YATI197164292...</td><td>2020-05-19</td><td>10:47:09</td><td>212.26.253.42</td><td>1815:dc0e:c557:96...</td><td>67662-182</td><td>010325500</td><td>6273720</td></tr>\n",
       "<tr><td>012579</td><td>01/27</td><td>30554213514227</td><td>Maestro</td><td>9847</td><td>GB54PQLN799705859...</td><td>2021-04-15</td><td>10:36:56</td><td>168.197.230.167</td><td>7f3b:4ada:4c62:3f...</td><td>61193-110</td><td>053479015</td><td>6977964</td></tr>\n",
       "<tr><td>012648</td><td>05/24</td><td>347386847428278</td><td>VISA 16 digit</td><td>823</td><td>GB90MYZL510193283...</td><td>2021-06-19</td><td>13:07:48</td><td>146.108.131.11</td><td>c52d:53d8:371a:34...</td><td>10059-723</td><td>012331534</td><td>6616715</td></tr>\n",
       "<tr><td>012675</td><td>04/29</td><td>4534805013764</td><td>Mastercard</td><td>384</td><td>GB11XMUH824876351...</td><td>2021-07-11</td><td>07:55:08</td><td>148.155.72.234</td><td>b290:d2b7:6a58:86...</td><td>79292884</td><td>035940339</td><td>649001</td></tr>\n",
       "<tr><td>012698</td><td>12/31</td><td>4450657280386776</td><td>American Express</td><td>247</td><td>GB79ECRO017868447...</td><td>2021-08-11</td><td>12:06:48</td><td>190.135.5.172</td><td>7cbc:4554:7f5d:65...</td><td>93609312</td><td>058320651</td><td>4523531</td></tr>\n",
       "<tr><td>012845</td><td>01/32</td><td>6589457551152257</td><td>Diners Club / Car...</td><td>081</td><td>GB54ZAJA800810561...</td><td>2023-02-27</td><td>09:34:58</td><td>117.107.7.243</td><td>d3f6:6a7f:32a8:eb...</td><td>65177115</td><td>032169692</td><td>8443760</td></tr>\n",
       "<tr><td>012948</td><td>12/28</td><td>373871288580551</td><td>Diners Club / Car...</td><td>619</td><td>GB43SXJF889505944...</td><td>2020-02-20</td><td>03:10:01</td><td>210.130.27.213</td><td>9ae4:b03a:1a1f:c6...</td><td>39334-766</td><td>032169692</td><td>1235431</td></tr>\n",
       "<tr><td>012964</td><td>12/30</td><td>4852311914204</td><td>Mastercard</td><td>555</td><td>GB64DLQF090053954...</td><td>2022-10-04</td><td>06:40:47</td><td>129.93.60.161</td><td>5bfe:ad1b:a4f1:f2...</td><td>41199-650</td><td>033338998</td><td>7811168</td></tr>\n",
       "<tr><td>012984</td><td>06/31</td><td>4513536757134128830</td><td>VISA 19 digit</td><td>834</td><td>GB32QSLY821583204...</td><td>2020-08-05</td><td>09:45:12</td><td>141.203.245.233</td><td>7528:d2f8:fa09:82...</td><td>84410-583</td><td>042900595</td><td>2093927</td></tr>\n",
       "<tr><td>012986</td><td>10/26</td><td>3585620838660639</td><td>Mastercard</td><td>440</td><td>GB79ZFSL741355562...</td><td>2020-05-06</td><td>23:22:03</td><td>221.251.216.243</td><td>5da7:4583:5800:96...</td><td>16961-730</td><td>019458805</td><td>3945329</td></tr>\n",
       "<tr><td>013257</td><td>05/23</td><td>6579633995016199</td><td>VISA 13 digit</td><td>9804</td><td>GB93NZLK218118563...</td><td>2022-11-28</td><td>02:09:43</td><td>189.189.141.229</td><td>7b91:3b21:d3f1:36...</td><td>83312054</td><td>027740385</td><td>6689138</td></tr>\n",
       "<tr><td>013265</td><td>12/31</td><td>3535506018736607</td><td>JCB 15 digit</td><td>702</td><td>GB97UUHZ239804882...</td><td>2020-10-27</td><td>18:17:07</td><td>24.152.218.181</td><td>77da:6ce5:522a:ac...</td><td>06479-166</td><td>049141690</td><td>1942388</td></tr>\n",
       "<tr><td>013274</td><td>01/24</td><td>3568580151701777</td><td>JCB 16 digit</td><td>257</td><td>GB80ISML116442671...</td><td>2021-12-20</td><td>14:44:09</td><td>42.253.7.153</td><td>cf6a:3335:55be:e0...</td><td>30462-427</td><td>104361784</td><td>2487770</td></tr>\n",
       "<tr><td>013457</td><td>06/28</td><td>4589839699652790803</td><td>Maestro</td><td>280</td><td>GB22HUUD094642820...</td><td>2021-10-26</td><td>23:04:27</td><td>207.179.196.45</td><td>9b03:e5f0:c72f:c7...</td><td>10506549</td><td>021006591</td><td>4312106</td></tr>\n",
       "<tr><td>013478</td><td>07/24</td><td>3560452545224585</td><td>VISA 16 digit</td><td>126</td><td>GB63LUHF437452702...</td><td>2020-05-10</td><td>02:33:28</td><td>105.127.245.188</td><td>dd79:3fca:9d38:98...</td><td>10354-560</td><td>019488257</td><td>670483</td></tr>\n",
       "</table>\n",
       "only showing top 20 rows\n"
      ],
      "text/plain": [
       "+------+---------------------+-------------------+--------------------+----------+-------------------------+----------+--------+---------------+--------------------+-----------+---------+----------+\n",
       "|    id|cartao_data_expiracao|      cartao_numero|     cartao_bandeira|cartao_cvc|codigo_transacao_bancaria|      data|    hora|           ipv4|                ipv6|cep_entrega| cd_livro|cd_cliente|\n",
       "+------+---------------------+-------------------+--------------------+----------+-------------------------+----------+--------+---------------+--------------------+-----------+---------+----------+\n",
       "|012389|                11/25|   5500804500517692|            Discover|       959|     GB98MPIH622108593...|2021-07-24|03:21:28|  62.145.31.164|b23d:58a2:9eff:36...|  36629-219|030334762|   3339828|\n",
       "|012476|                01/31|      4609489235873|       VISA 16 digit|      6979|     GB79GAVL233010819...|2021-08-23|11:15:52| 185.150.224.52|1e2c:f641:49d1:5a...|  17012-747|013721981|   7624624|\n",
       "|012478|                07/23|     30072722359174|    American Express|       689|     GB51SZOU538484531...|2020-01-27|17:08:10|  40.179.153.24|9bcd:ee0c:af68:33...|   25921298|019458805|   8703114|\n",
       "|012534|                09/29|      4561935154572|       VISA 16 digit|       353|     GB05UNEX021466511...|2021-07-15|07:39:25|   86.20.51.194|be57:8f94:132:1cb...|   73799370|014347542|   7799936|\n",
       "|012549|                01/31|   3541220668415122|        JCB 15 digit|       967|     GB97RCCC581942620...|2020-07-22|23:56:14|  55.189.220.65|a1fd:9dd:115f:9d5...|  50727-454|020215846|   6703678|\n",
       "|012574|                06/24|   4155061214506542|        JCB 16 digit|       362|     GB93YATI197164292...|2020-05-19|10:47:09|  212.26.253.42|1815:dc0e:c557:96...|  67662-182|010325500|   6273720|\n",
       "|012579|                01/27|     30554213514227|             Maestro|      9847|     GB54PQLN799705859...|2021-04-15|10:36:56|168.197.230.167|7f3b:4ada:4c62:3f...|  61193-110|053479015|   6977964|\n",
       "|012648|                05/24|    347386847428278|       VISA 16 digit|       823|     GB90MYZL510193283...|2021-06-19|13:07:48| 146.108.131.11|c52d:53d8:371a:34...|  10059-723|012331534|   6616715|\n",
       "|012675|                04/29|      4534805013764|          Mastercard|       384|     GB11XMUH824876351...|2021-07-11|07:55:08| 148.155.72.234|b290:d2b7:6a58:86...|   79292884|035940339|    649001|\n",
       "|012698|                12/31|   4450657280386776|    American Express|       247|     GB79ECRO017868447...|2021-08-11|12:06:48|  190.135.5.172|7cbc:4554:7f5d:65...|   93609312|058320651|   4523531|\n",
       "|012845|                01/32|   6589457551152257|Diners Club / Car...|       081|     GB54ZAJA800810561...|2023-02-27|09:34:58|  117.107.7.243|d3f6:6a7f:32a8:eb...|   65177115|032169692|   8443760|\n",
       "|012948|                12/28|    373871288580551|Diners Club / Car...|       619|     GB43SXJF889505944...|2020-02-20|03:10:01| 210.130.27.213|9ae4:b03a:1a1f:c6...|  39334-766|032169692|   1235431|\n",
       "|012964|                12/30|      4852311914204|          Mastercard|       555|     GB64DLQF090053954...|2022-10-04|06:40:47|  129.93.60.161|5bfe:ad1b:a4f1:f2...|  41199-650|033338998|   7811168|\n",
       "|012984|                06/31|4513536757134128830|       VISA 19 digit|       834|     GB32QSLY821583204...|2020-08-05|09:45:12|141.203.245.233|7528:d2f8:fa09:82...|  84410-583|042900595|   2093927|\n",
       "|012986|                10/26|   3585620838660639|          Mastercard|       440|     GB79ZFSL741355562...|2020-05-06|23:22:03|221.251.216.243|5da7:4583:5800:96...|  16961-730|019458805|   3945329|\n",
       "|013257|                05/23|   6579633995016199|       VISA 13 digit|      9804|     GB93NZLK218118563...|2022-11-28|02:09:43|189.189.141.229|7b91:3b21:d3f1:36...|   83312054|027740385|   6689138|\n",
       "|013265|                12/31|   3535506018736607|        JCB 15 digit|       702|     GB97UUHZ239804882...|2020-10-27|18:17:07| 24.152.218.181|77da:6ce5:522a:ac...|  06479-166|049141690|   1942388|\n",
       "|013274|                01/24|   3568580151701777|        JCB 16 digit|       257|     GB80ISML116442671...|2021-12-20|14:44:09|   42.253.7.153|cf6a:3335:55be:e0...|  30462-427|104361784|   2487770|\n",
       "|013457|                06/28|4589839699652790803|             Maestro|       280|     GB22HUUD094642820...|2021-10-26|23:04:27| 207.179.196.45|9b03:e5f0:c72f:c7...|   10506549|021006591|   4312106|\n",
       "|013478|                07/24|   3560452545224585|       VISA 16 digit|       126|     GB63LUHF437452702...|2020-05-10|02:33:28|105.127.245.188|dd79:3fca:9d38:98...|  10354-560|019488257|    670483|\n",
       "+------+---------------------+-------------------+--------------------+----------+-------------------------+----------+--------+---------------+--------------------+-----------+---------+----------+\n",
       "only showing top 20 rows"
      ]
     },
     "execution_count": 17,
     "metadata": {},
     "output_type": "execute_result"
    }
   ],
   "source": [
    "compras"
   ]
  },
  {
   "cell_type": "code",
   "execution_count": 27,
   "id": "b12e0d43-dd3f-4356-a0b9-1fab2d963493",
   "metadata": {
    "scrolled": true
   },
   "outputs": [
    {
     "data": {
      "text/html": [
       "<table border='1'>\n",
       "<tr><th>id</th><th>titulo</th><th>autor</th><th>cnpj_editora</th><th>data_lancamento</th><th>ean</th><th>isbn10</th><th>numero_paginas</th><th>preco</th></tr>\n",
       "<tr><td>106042959</td><td>1984 </td><td>George Orwell</td><td>null</td><td>null</td><td>null</td><td>null</td><td>null</td><td>null</td></tr>\n",
       "<tr><td>017551704</td><td>200 Crônicas Esco...</td><td>Rubem Braga</td><td>14.857.032/0001-12</td><td>2018-10-19</td><td>2352660010751</td><td>0-7433-6026-5</td><td>645</td><td>44.38</td></tr>\n",
       "<tr><td>054099410</td><td>A Alma Encantador...</td><td>João do Rio</td><td>null</td><td>null</td><td>null</td><td>null</td><td>null</td><td>null</td></tr>\n",
       "<tr><td>128422117</td><td>A Biblioteca da M...</td><td>Matt Haig</td><td>null</td><td>null</td><td>null</td><td>null</td><td>null</td><td>null</td></tr>\n",
       "<tr><td>049141399</td><td>A Coleira do Cão </td><td>Rubem Fonseca</td><td>null</td><td>null</td><td>null</td><td>null</td><td>null</td><td>null</td></tr>\n",
       "<tr><td>065490862</td><td>A Cor Púrpura </td><td>Alice Walker</td><td>null</td><td>null</td><td>null</td><td>null</td><td>null</td><td>null</td></tr>\n",
       "<tr><td>029077001</td><td>A Educação Sentim...</td><td>Gustave Flaubert</td><td>null</td><td>null</td><td>null</td><td>null</td><td>null</td><td>null</td></tr>\n",
       "<tr><td>032275599</td><td>A Escrava Isaura </td><td>Bernardo Guimarães</td><td>49.037.512/0001-11</td><td>2001-05-15</td><td>2964406383663</td><td>1-83335-705-1</td><td>752</td><td>184.42</td></tr>\n",
       "<tr><td>090690941</td><td>A Estrela Sobe </td><td>Marques Rebelo</td><td>null</td><td>null</td><td>null</td><td>null</td><td>null</td><td>null</td></tr>\n",
       "<tr><td>095695255</td><td>A Hora da Estrela </td><td>Clarice Lispector</td><td>94.567.038/0001-94</td><td>2015-04-23</td><td>4084520465552</td><td>0-7650-7381-1</td><td>572</td><td>83.33</td></tr>\n",
       "<tr><td>036365230</td><td>A Hora dos Rumina...</td><td>José J. Veiga</td><td>null</td><td>null</td><td>null</td><td>null</td><td>null</td><td>null</td></tr>\n",
       "<tr><td>069146824</td><td>A Letra Escarlate </td><td>Nathaniel Hawthorne</td><td>null</td><td>null</td><td>null</td><td>null</td><td>null</td><td>null</td></tr>\n",
       "<tr><td>025903823</td><td>A Metamorfose </td><td>Franz Kafka</td><td>64.315.082/0001-46</td><td>2006-01-05</td><td>7561853479861</td><td>0-10-032263-8</td><td>760</td><td>215.52</td></tr>\n",
       "<tr><td>015903574</td><td>A Montanha Mágica </td><td>Thomas Mann</td><td>25.908.643/0001-69</td><td>2006-03-03</td><td>7694802204365</td><td>0-931131-95-2</td><td>600</td><td>90.22</td></tr>\n",
       "<tr><td>076938216</td><td>A Moreninha </td><td>Joaquim Manuel de...</td><td>null</td><td>null</td><td>null</td><td>null</td><td>null</td><td>null</td></tr>\n",
       "<tr><td>010325500</td><td>A Obscena Senhora D </td><td>Hilda Hilst</td><td>27.689.540/0001-80</td><td>2000-09-09</td><td>8793472196570</td><td>0-933627-98-X</td><td>306</td><td>30.62</td></tr>\n",
       "<tr><td>095678890</td><td>A Paixão Segundo ...</td><td>Clarice Lispector</td><td>null</td><td>null</td><td>null</td><td>null</td><td>null</td><td>null</td></tr>\n",
       "<tr><td>073269564</td><td>A Revolução dos B...</td><td>George Orwell</td><td>null</td><td>null</td><td>null</td><td>null</td><td>null</td><td>null</td></tr>\n",
       "<tr><td>076121829</td><td>A Rosa do Povo </td><td>Carlos Drummond d...</td><td>null</td><td>null</td><td>null</td><td>null</td><td>null</td><td>null</td></tr>\n",
       "<tr><td>087365849</td><td>A Senhorita Simpson </td><td>Sérgio Sant’anna</td><td>null</td><td>null</td><td>null</td><td>null</td><td>null</td><td>null</td></tr>\n",
       "</table>\n",
       "only showing top 20 rows\n"
      ],
      "text/plain": [
       "+---------+--------------------+--------------------+------------------+---------------+-------------+-------------+--------------+------+\n",
       "|       id|              titulo|               autor|      cnpj_editora|data_lancamento|          ean|       isbn10|numero_paginas| preco|\n",
       "+---------+--------------------+--------------------+------------------+---------------+-------------+-------------+--------------+------+\n",
       "|106042959|               1984 |       George Orwell|              null|           null|         null|         null|          null|  null|\n",
       "|017551704|200 Crônicas Esco...|         Rubem Braga|14.857.032/0001-12|     2018-10-19|2352660010751|0-7433-6026-5|           645| 44.38|\n",
       "|054099410|A Alma Encantador...|         João do Rio|              null|           null|         null|         null|          null|  null|\n",
       "|128422117|A Biblioteca da M...|           Matt Haig|              null|           null|         null|         null|          null|  null|\n",
       "|049141399|   A Coleira do Cão |       Rubem Fonseca|              null|           null|         null|         null|          null|  null|\n",
       "|065490862|      A Cor Púrpura |        Alice Walker|              null|           null|         null|         null|          null|  null|\n",
       "|029077001|A Educação Sentim...|    Gustave Flaubert|              null|           null|         null|         null|          null|  null|\n",
       "|032275599|   A Escrava Isaura |  Bernardo Guimarães|49.037.512/0001-11|     2001-05-15|2964406383663|1-83335-705-1|           752|184.42|\n",
       "|090690941|     A Estrela Sobe |      Marques Rebelo|              null|           null|         null|         null|          null|  null|\n",
       "|095695255|  A Hora da Estrela |   Clarice Lispector|94.567.038/0001-94|     2015-04-23|4084520465552|0-7650-7381-1|           572| 83.33|\n",
       "|036365230|A Hora dos Rumina...|       José J. Veiga|              null|           null|         null|         null|          null|  null|\n",
       "|069146824|  A Letra Escarlate | Nathaniel Hawthorne|              null|           null|         null|         null|          null|  null|\n",
       "|025903823|      A Metamorfose |         Franz Kafka|64.315.082/0001-46|     2006-01-05|7561853479861|0-10-032263-8|           760|215.52|\n",
       "|015903574|  A Montanha Mágica |         Thomas Mann|25.908.643/0001-69|     2006-03-03|7694802204365|0-931131-95-2|           600| 90.22|\n",
       "|076938216|        A Moreninha |Joaquim Manuel de...|              null|           null|         null|         null|          null|  null|\n",
       "|010325500|A Obscena Senhora D |         Hilda Hilst|27.689.540/0001-80|     2000-09-09|8793472196570|0-933627-98-X|           306| 30.62|\n",
       "|095678890|A Paixão Segundo ...|   Clarice Lispector|              null|           null|         null|         null|          null|  null|\n",
       "|073269564|A Revolução dos B...|       George Orwell|              null|           null|         null|         null|          null|  null|\n",
       "|076121829|     A Rosa do Povo |Carlos Drummond d...|              null|           null|         null|         null|          null|  null|\n",
       "|087365849|A Senhorita Simpson |    Sérgio Sant’anna|              null|           null|         null|         null|          null|  null|\n",
       "+---------+--------------------+--------------------+------------------+---------------+-------------+-------------+--------------+------+\n",
       "only showing top 20 rows"
      ]
     },
     "execution_count": 27,
     "metadata": {},
     "output_type": "execute_result"
    }
   ],
   "source": [
    "# autores = base de dados A | other = base de dados B | on = coluna que iremos usar para conectar as duas bases | how = tipo de JOIN\n",
    "# no on podemos passar mais de uma coluna para verificação (todas dentro de colchetes)\n",
    "autores.join(other=livros, on='id', how='left')"
   ]
  },
  {
   "cell_type": "code",
   "execution_count": 33,
   "id": "b9cb3101-54ed-4c05-affe-9a6b53e7f11c",
   "metadata": {
    "scrolled": true
   },
   "outputs": [
    {
     "data": {
      "text/html": [
       "<table border='1'>\n",
       "<tr><th>id</th><th>cartao_data_expiracao</th><th>cartao_numero</th><th>cartao_bandeira</th><th>cartao_cvc</th><th>codigo_transacao_bancaria</th><th>data</th><th>hora</th><th>ipv4</th><th>ipv6</th><th>cep_entrega</th><th>cd_livro</th><th>cd_cliente</th><th>id</th><th>cnpj_editora</th><th>data_lancamento</th><th>ean</th><th>isbn10</th><th>numero_paginas</th><th>preco</th></tr>\n",
       "<tr><td>012389</td><td>11/25</td><td>5500804500517692</td><td>Discover</td><td>959</td><td>GB98MPIH622108593...</td><td>2021-07-24</td><td>03:21:28</td><td>62.145.31.164</td><td>b23d:58a2:9eff:36...</td><td>36629-219</td><td>030334762</td><td>3339828</td><td>030334762</td><td>80.463.719/0001-06</td><td>2013-05-08</td><td>7122725133429</td><td>0-85193-340-8</td><td>099</td><td>123.47</td></tr>\n",
       "<tr><td>012476</td><td>01/31</td><td>4609489235873</td><td>VISA 16 digit</td><td>6979</td><td>GB79GAVL233010819...</td><td>2021-08-23</td><td>11:15:52</td><td>185.150.224.52</td><td>1e2c:f641:49d1:5a...</td><td>17012-747</td><td>013721981</td><td>7624624</td><td>013721981</td><td>76.351.940/0001-97</td><td>2004-01-27</td><td>8786391051693</td><td>1-60705-523-6</td><td>379</td><td>133.43</td></tr>\n",
       "<tr><td>012478</td><td>07/23</td><td>30072722359174</td><td>American Express</td><td>689</td><td>GB51SZOU538484531...</td><td>2020-01-27</td><td>17:08:10</td><td>40.179.153.24</td><td>9bcd:ee0c:af68:33...</td><td>25921298</td><td>019458805</td><td>8703114</td><td>019458805</td><td>81.253.490/0001-30</td><td>2007-12-13</td><td>2628486550239</td><td>0-916523-25-X</td><td>788</td><td>238.54</td></tr>\n",
       "<tr><td>012534</td><td>09/29</td><td>4561935154572</td><td>VISA 16 digit</td><td>353</td><td>GB05UNEX021466511...</td><td>2021-07-15</td><td>07:39:25</td><td>86.20.51.194</td><td>be57:8f94:132:1cb...</td><td>73799370</td><td>014347542</td><td>7799936</td><td>014347542</td><td>76.415.890/0001-64</td><td>2007-04-05</td><td>3883750237349</td><td>0-8360-5203-X</td><td>452</td><td>182.43</td></tr>\n",
       "<tr><td>012549</td><td>01/31</td><td>3541220668415122</td><td>JCB 15 digit</td><td>967</td><td>GB97RCCC581942620...</td><td>2020-07-22</td><td>23:56:14</td><td>55.189.220.65</td><td>a1fd:9dd:115f:9d5...</td><td>50727-454</td><td>020215846</td><td>6703678</td><td>020215846</td><td>27.659.813/0001-44</td><td>2014-03-25</td><td>7684001180416</td><td>0-216-16469-9</td><td>794</td><td>155.18</td></tr>\n",
       "<tr><td>012574</td><td>06/24</td><td>4155061214506542</td><td>JCB 16 digit</td><td>362</td><td>GB93YATI197164292...</td><td>2020-05-19</td><td>10:47:09</td><td>212.26.253.42</td><td>1815:dc0e:c557:96...</td><td>67662-182</td><td>010325500</td><td>6273720</td><td>010325500</td><td>27.689.540/0001-80</td><td>2000-09-09</td><td>8793472196570</td><td>0-933627-98-X</td><td>306</td><td>30.62</td></tr>\n",
       "<tr><td>012579</td><td>01/27</td><td>30554213514227</td><td>Maestro</td><td>9847</td><td>GB54PQLN799705859...</td><td>2021-04-15</td><td>10:36:56</td><td>168.197.230.167</td><td>7f3b:4ada:4c62:3f...</td><td>61193-110</td><td>053479015</td><td>6977964</td><td>053479015</td><td>54.327.896/0001-47</td><td>2018-12-21</td><td>1750535865566</td><td>0-518-04786-5</td><td>105</td><td>207.52</td></tr>\n",
       "<tr><td>012648</td><td>05/24</td><td>347386847428278</td><td>VISA 16 digit</td><td>823</td><td>GB90MYZL510193283...</td><td>2021-06-19</td><td>13:07:48</td><td>146.108.131.11</td><td>c52d:53d8:371a:34...</td><td>10059-723</td><td>012331534</td><td>6616715</td><td>012331534</td><td>84.317.925/0001-50</td><td>2010-05-29</td><td>3177832263150</td><td>1-62649-755-9</td><td>129</td><td>175.67</td></tr>\n",
       "<tr><td>012675</td><td>04/29</td><td>4534805013764</td><td>Mastercard</td><td>384</td><td>GB11XMUH824876351...</td><td>2021-07-11</td><td>07:55:08</td><td>148.155.72.234</td><td>b290:d2b7:6a58:86...</td><td>79292884</td><td>035940339</td><td>649001</td><td>035940339</td><td>71.530.496/0001-53</td><td>2014-08-11</td><td>6764222732753</td><td>1-396-90787-4</td><td>327</td><td>213.6</td></tr>\n",
       "<tr><td>012698</td><td>12/31</td><td>4450657280386776</td><td>American Express</td><td>247</td><td>GB79ECRO017868447...</td><td>2021-08-11</td><td>12:06:48</td><td>190.135.5.172</td><td>7cbc:4554:7f5d:65...</td><td>93609312</td><td>058320651</td><td>4523531</td><td>058320651</td><td>82.439.107/0001-03</td><td>2013-01-30</td><td>6024459409867</td><td>1-61357-201-8</td><td>290</td><td>196.35</td></tr>\n",
       "<tr><td>012845</td><td>01/32</td><td>6589457551152257</td><td>Diners Club / Car...</td><td>081</td><td>GB54ZAJA800810561...</td><td>2023-02-27</td><td>09:34:58</td><td>117.107.7.243</td><td>d3f6:6a7f:32a8:eb...</td><td>65177115</td><td>032169692</td><td>8443760</td><td>032169692</td><td>14.603.275/0001-24</td><td>2000-05-15</td><td>4659106631807</td><td>1-81244-634-9</td><td>956</td><td>176.73</td></tr>\n",
       "<tr><td>012948</td><td>12/28</td><td>373871288580551</td><td>Diners Club / Car...</td><td>619</td><td>GB43SXJF889505944...</td><td>2020-02-20</td><td>03:10:01</td><td>210.130.27.213</td><td>9ae4:b03a:1a1f:c6...</td><td>39334-766</td><td>032169692</td><td>1235431</td><td>032169692</td><td>14.603.275/0001-24</td><td>2000-05-15</td><td>4659106631807</td><td>1-81244-634-9</td><td>956</td><td>176.73</td></tr>\n",
       "<tr><td>012964</td><td>12/30</td><td>4852311914204</td><td>Mastercard</td><td>555</td><td>GB64DLQF090053954...</td><td>2022-10-04</td><td>06:40:47</td><td>129.93.60.161</td><td>5bfe:ad1b:a4f1:f2...</td><td>41199-650</td><td>033338998</td><td>7811168</td><td>033338998</td><td>43.597.816/0001-57</td><td>2015-07-10</td><td>5973438592186</td><td>0-7598-2346-4</td><td>337</td><td>150.51</td></tr>\n",
       "<tr><td>012984</td><td>06/31</td><td>4513536757134128830</td><td>VISA 19 digit</td><td>834</td><td>GB32QSLY821583204...</td><td>2020-08-05</td><td>09:45:12</td><td>141.203.245.233</td><td>7528:d2f8:fa09:82...</td><td>84410-583</td><td>042900595</td><td>2093927</td><td>042900595</td><td>28.936.451/0001-54</td><td>2010-12-15</td><td>2655132597959</td><td>0-86582-172-0</td><td>169</td><td>59.35</td></tr>\n",
       "<tr><td>012986</td><td>10/26</td><td>3585620838660639</td><td>Mastercard</td><td>440</td><td>GB79ZFSL741355562...</td><td>2020-05-06</td><td>23:22:03</td><td>221.251.216.243</td><td>5da7:4583:5800:96...</td><td>16961-730</td><td>019458805</td><td>3945329</td><td>019458805</td><td>81.253.490/0001-30</td><td>2007-12-13</td><td>2628486550239</td><td>0-916523-25-X</td><td>788</td><td>238.54</td></tr>\n",
       "<tr><td>013257</td><td>05/23</td><td>6579633995016199</td><td>VISA 13 digit</td><td>9804</td><td>GB93NZLK218118563...</td><td>2022-11-28</td><td>02:09:43</td><td>189.189.141.229</td><td>7b91:3b21:d3f1:36...</td><td>83312054</td><td>027740385</td><td>6689138</td><td>027740385</td><td>13.695.847/0001-80</td><td>2008-01-05</td><td>7379429364080</td><td>1-327-99249-3</td><td>991</td><td>105.73</td></tr>\n",
       "<tr><td>013265</td><td>12/31</td><td>3535506018736607</td><td>JCB 15 digit</td><td>702</td><td>GB97UUHZ239804882...</td><td>2020-10-27</td><td>18:17:07</td><td>24.152.218.181</td><td>77da:6ce5:522a:ac...</td><td>06479-166</td><td>049141690</td><td>1942388</td><td>049141690</td><td>95.037.812/0001-18</td><td>2016-12-24</td><td>9032214793899</td><td>1-4076-9870-2</td><td>454</td><td>210.52</td></tr>\n",
       "<tr><td>013274</td><td>01/24</td><td>3568580151701777</td><td>JCB 16 digit</td><td>257</td><td>GB80ISML116442671...</td><td>2021-12-20</td><td>14:44:09</td><td>42.253.7.153</td><td>cf6a:3335:55be:e0...</td><td>30462-427</td><td>104361784</td><td>2487770</td><td>104361784</td><td>46.527.081/0001-83</td><td>2013-12-08</td><td>1491898510198</td><td>1-101-80944-2</td><td>478</td><td>109.14</td></tr>\n",
       "<tr><td>013457</td><td>06/28</td><td>4589839699652790803</td><td>Maestro</td><td>280</td><td>GB22HUUD094642820...</td><td>2021-10-26</td><td>23:04:27</td><td>207.179.196.45</td><td>9b03:e5f0:c72f:c7...</td><td>10506549</td><td>021006591</td><td>4312106</td><td>021006591</td><td>87.521.043/0001-09</td><td>2019-02-24</td><td>1222716689648</td><td>1-955093-40-7</td><td>382</td><td>96.84</td></tr>\n",
       "<tr><td>013478</td><td>07/24</td><td>3560452545224585</td><td>VISA 16 digit</td><td>126</td><td>GB63LUHF437452702...</td><td>2020-05-10</td><td>02:33:28</td><td>105.127.245.188</td><td>dd79:3fca:9d38:98...</td><td>10354-560</td><td>019488257</td><td>670483</td><td>019488257</td><td>56.783.210/0001-58</td><td>2013-05-19</td><td>3993489629534</td><td>0-589-10612-0</td><td>734</td><td>17.11</td></tr>\n",
       "</table>\n",
       "only showing top 20 rows\n"
      ],
      "text/plain": [
       "+------+---------------------+-------------------+--------------------+----------+-------------------------+----------+--------+---------------+--------------------+-----------+---------+----------+---------+------------------+---------------+-------------+-------------+--------------+------+\n",
       "|    id|cartao_data_expiracao|      cartao_numero|     cartao_bandeira|cartao_cvc|codigo_transacao_bancaria|      data|    hora|           ipv4|                ipv6|cep_entrega| cd_livro|cd_cliente|       id|      cnpj_editora|data_lancamento|          ean|       isbn10|numero_paginas| preco|\n",
       "+------+---------------------+-------------------+--------------------+----------+-------------------------+----------+--------+---------------+--------------------+-----------+---------+----------+---------+------------------+---------------+-------------+-------------+--------------+------+\n",
       "|012389|                11/25|   5500804500517692|            Discover|       959|     GB98MPIH622108593...|2021-07-24|03:21:28|  62.145.31.164|b23d:58a2:9eff:36...|  36629-219|030334762|   3339828|030334762|80.463.719/0001-06|     2013-05-08|7122725133429|0-85193-340-8|           099|123.47|\n",
       "|012476|                01/31|      4609489235873|       VISA 16 digit|      6979|     GB79GAVL233010819...|2021-08-23|11:15:52| 185.150.224.52|1e2c:f641:49d1:5a...|  17012-747|013721981|   7624624|013721981|76.351.940/0001-97|     2004-01-27|8786391051693|1-60705-523-6|           379|133.43|\n",
       "|012478|                07/23|     30072722359174|    American Express|       689|     GB51SZOU538484531...|2020-01-27|17:08:10|  40.179.153.24|9bcd:ee0c:af68:33...|   25921298|019458805|   8703114|019458805|81.253.490/0001-30|     2007-12-13|2628486550239|0-916523-25-X|           788|238.54|\n",
       "|012534|                09/29|      4561935154572|       VISA 16 digit|       353|     GB05UNEX021466511...|2021-07-15|07:39:25|   86.20.51.194|be57:8f94:132:1cb...|   73799370|014347542|   7799936|014347542|76.415.890/0001-64|     2007-04-05|3883750237349|0-8360-5203-X|           452|182.43|\n",
       "|012549|                01/31|   3541220668415122|        JCB 15 digit|       967|     GB97RCCC581942620...|2020-07-22|23:56:14|  55.189.220.65|a1fd:9dd:115f:9d5...|  50727-454|020215846|   6703678|020215846|27.659.813/0001-44|     2014-03-25|7684001180416|0-216-16469-9|           794|155.18|\n",
       "|012574|                06/24|   4155061214506542|        JCB 16 digit|       362|     GB93YATI197164292...|2020-05-19|10:47:09|  212.26.253.42|1815:dc0e:c557:96...|  67662-182|010325500|   6273720|010325500|27.689.540/0001-80|     2000-09-09|8793472196570|0-933627-98-X|           306| 30.62|\n",
       "|012579|                01/27|     30554213514227|             Maestro|      9847|     GB54PQLN799705859...|2021-04-15|10:36:56|168.197.230.167|7f3b:4ada:4c62:3f...|  61193-110|053479015|   6977964|053479015|54.327.896/0001-47|     2018-12-21|1750535865566|0-518-04786-5|           105|207.52|\n",
       "|012648|                05/24|    347386847428278|       VISA 16 digit|       823|     GB90MYZL510193283...|2021-06-19|13:07:48| 146.108.131.11|c52d:53d8:371a:34...|  10059-723|012331534|   6616715|012331534|84.317.925/0001-50|     2010-05-29|3177832263150|1-62649-755-9|           129|175.67|\n",
       "|012675|                04/29|      4534805013764|          Mastercard|       384|     GB11XMUH824876351...|2021-07-11|07:55:08| 148.155.72.234|b290:d2b7:6a58:86...|   79292884|035940339|    649001|035940339|71.530.496/0001-53|     2014-08-11|6764222732753|1-396-90787-4|           327| 213.6|\n",
       "|012698|                12/31|   4450657280386776|    American Express|       247|     GB79ECRO017868447...|2021-08-11|12:06:48|  190.135.5.172|7cbc:4554:7f5d:65...|   93609312|058320651|   4523531|058320651|82.439.107/0001-03|     2013-01-30|6024459409867|1-61357-201-8|           290|196.35|\n",
       "|012845|                01/32|   6589457551152257|Diners Club / Car...|       081|     GB54ZAJA800810561...|2023-02-27|09:34:58|  117.107.7.243|d3f6:6a7f:32a8:eb...|   65177115|032169692|   8443760|032169692|14.603.275/0001-24|     2000-05-15|4659106631807|1-81244-634-9|           956|176.73|\n",
       "|012948|                12/28|    373871288580551|Diners Club / Car...|       619|     GB43SXJF889505944...|2020-02-20|03:10:01| 210.130.27.213|9ae4:b03a:1a1f:c6...|  39334-766|032169692|   1235431|032169692|14.603.275/0001-24|     2000-05-15|4659106631807|1-81244-634-9|           956|176.73|\n",
       "|012964|                12/30|      4852311914204|          Mastercard|       555|     GB64DLQF090053954...|2022-10-04|06:40:47|  129.93.60.161|5bfe:ad1b:a4f1:f2...|  41199-650|033338998|   7811168|033338998|43.597.816/0001-57|     2015-07-10|5973438592186|0-7598-2346-4|           337|150.51|\n",
       "|012984|                06/31|4513536757134128830|       VISA 19 digit|       834|     GB32QSLY821583204...|2020-08-05|09:45:12|141.203.245.233|7528:d2f8:fa09:82...|  84410-583|042900595|   2093927|042900595|28.936.451/0001-54|     2010-12-15|2655132597959|0-86582-172-0|           169| 59.35|\n",
       "|012986|                10/26|   3585620838660639|          Mastercard|       440|     GB79ZFSL741355562...|2020-05-06|23:22:03|221.251.216.243|5da7:4583:5800:96...|  16961-730|019458805|   3945329|019458805|81.253.490/0001-30|     2007-12-13|2628486550239|0-916523-25-X|           788|238.54|\n",
       "|013257|                05/23|   6579633995016199|       VISA 13 digit|      9804|     GB93NZLK218118563...|2022-11-28|02:09:43|189.189.141.229|7b91:3b21:d3f1:36...|   83312054|027740385|   6689138|027740385|13.695.847/0001-80|     2008-01-05|7379429364080|1-327-99249-3|           991|105.73|\n",
       "|013265|                12/31|   3535506018736607|        JCB 15 digit|       702|     GB97UUHZ239804882...|2020-10-27|18:17:07| 24.152.218.181|77da:6ce5:522a:ac...|  06479-166|049141690|   1942388|049141690|95.037.812/0001-18|     2016-12-24|9032214793899|1-4076-9870-2|           454|210.52|\n",
       "|013274|                01/24|   3568580151701777|        JCB 16 digit|       257|     GB80ISML116442671...|2021-12-20|14:44:09|   42.253.7.153|cf6a:3335:55be:e0...|  30462-427|104361784|   2487770|104361784|46.527.081/0001-83|     2013-12-08|1491898510198|1-101-80944-2|           478|109.14|\n",
       "|013457|                06/28|4589839699652790803|             Maestro|       280|     GB22HUUD094642820...|2021-10-26|23:04:27| 207.179.196.45|9b03:e5f0:c72f:c7...|   10506549|021006591|   4312106|021006591|87.521.043/0001-09|     2019-02-24|1222716689648|1-955093-40-7|           382| 96.84|\n",
       "|013478|                07/24|   3560452545224585|       VISA 16 digit|       126|     GB63LUHF437452702...|2020-05-10|02:33:28|105.127.245.188|dd79:3fca:9d38:98...|  10354-560|019488257|    670483|019488257|56.783.210/0001-58|     2013-05-19|3993489629534|0-589-10612-0|           734| 17.11|\n",
       "+------+---------------------+-------------------+--------------------+----------+-------------------------+----------+--------+---------------+--------------------+-----------+---------+----------+---------+------------------+---------------+-------------+-------------+--------------+------+\n",
       "only showing top 20 rows"
      ]
     },
     "execution_count": 33,
     "metadata": {},
     "output_type": "execute_result"
    }
   ],
   "source": [
    "# Aqui temos um exemplo que as colunas de ligação tem nomes diferentes, nesse caso devemos indicar a Tabela+Coluna\n",
    "\n",
    "compras.join(other=livros, on=compras.cd_livro==livros.id, how='inner')"
   ]
  },
  {
   "cell_type": "code",
   "execution_count": 43,
   "id": "3188f6e3-c8f1-466f-9464-9fb994f5f00f",
   "metadata": {
    "scrolled": true
   },
   "outputs": [
    {
     "data": {
      "text/html": [
       "<table border='1'>\n",
       "<tr><th>id</th><th>cartao_data_expiracao</th><th>cartao_numero</th><th>cartao_bandeira</th><th>cartao_cvc</th><th>codigo_transacao_bancaria</th><th>data</th><th>hora</th><th>ipv4</th><th>ipv6</th><th>cep_entrega</th><th>cd_livro</th><th>cd_cliente</th><th>id</th><th>cnpj_editora</th><th>data_lancamento</th><th>ean</th><th>isbn10</th><th>numero_paginas</th><th>preco</th></tr>\n",
       "<tr><td>012389</td><td>11/25</td><td>5500804500517692</td><td>Discover</td><td>959</td><td>GB98MPIH622108593...</td><td>2021-07-24</td><td>03:21:28</td><td>62.145.31.164</td><td>b23d:58a2:9eff:36...</td><td>36629-219</td><td>030334762</td><td>3339828</td><td>030334762</td><td>80.463.719/0001-06</td><td>2013-05-08</td><td>7122725133429</td><td>0-85193-340-8</td><td>099</td><td>123.47</td></tr>\n",
       "<tr><td>012476</td><td>01/31</td><td>4609489235873</td><td>VISA 16 digit</td><td>6979</td><td>GB79GAVL233010819...</td><td>2021-08-23</td><td>11:15:52</td><td>185.150.224.52</td><td>1e2c:f641:49d1:5a...</td><td>17012-747</td><td>013721981</td><td>7624624</td><td>013721981</td><td>76.351.940/0001-97</td><td>2004-01-27</td><td>8786391051693</td><td>1-60705-523-6</td><td>379</td><td>133.43</td></tr>\n",
       "<tr><td>012478</td><td>07/23</td><td>30072722359174</td><td>American Express</td><td>689</td><td>GB51SZOU538484531...</td><td>2020-01-27</td><td>17:08:10</td><td>40.179.153.24</td><td>9bcd:ee0c:af68:33...</td><td>25921298</td><td>019458805</td><td>8703114</td><td>019458805</td><td>81.253.490/0001-30</td><td>2007-12-13</td><td>2628486550239</td><td>0-916523-25-X</td><td>788</td><td>238.54</td></tr>\n",
       "<tr><td>012534</td><td>09/29</td><td>4561935154572</td><td>VISA 16 digit</td><td>353</td><td>GB05UNEX021466511...</td><td>2021-07-15</td><td>07:39:25</td><td>86.20.51.194</td><td>be57:8f94:132:1cb...</td><td>73799370</td><td>014347542</td><td>7799936</td><td>014347542</td><td>76.415.890/0001-64</td><td>2007-04-05</td><td>3883750237349</td><td>0-8360-5203-X</td><td>452</td><td>182.43</td></tr>\n",
       "<tr><td>012549</td><td>01/31</td><td>3541220668415122</td><td>JCB 15 digit</td><td>967</td><td>GB97RCCC581942620...</td><td>2020-07-22</td><td>23:56:14</td><td>55.189.220.65</td><td>a1fd:9dd:115f:9d5...</td><td>50727-454</td><td>020215846</td><td>6703678</td><td>020215846</td><td>27.659.813/0001-44</td><td>2014-03-25</td><td>7684001180416</td><td>0-216-16469-9</td><td>794</td><td>155.18</td></tr>\n",
       "<tr><td>012574</td><td>06/24</td><td>4155061214506542</td><td>JCB 16 digit</td><td>362</td><td>GB93YATI197164292...</td><td>2020-05-19</td><td>10:47:09</td><td>212.26.253.42</td><td>1815:dc0e:c557:96...</td><td>67662-182</td><td>010325500</td><td>6273720</td><td>010325500</td><td>27.689.540/0001-80</td><td>2000-09-09</td><td>8793472196570</td><td>0-933627-98-X</td><td>306</td><td>30.62</td></tr>\n",
       "<tr><td>012579</td><td>01/27</td><td>30554213514227</td><td>Maestro</td><td>9847</td><td>GB54PQLN799705859...</td><td>2021-04-15</td><td>10:36:56</td><td>168.197.230.167</td><td>7f3b:4ada:4c62:3f...</td><td>61193-110</td><td>053479015</td><td>6977964</td><td>053479015</td><td>54.327.896/0001-47</td><td>2018-12-21</td><td>1750535865566</td><td>0-518-04786-5</td><td>105</td><td>207.52</td></tr>\n",
       "<tr><td>012648</td><td>05/24</td><td>347386847428278</td><td>VISA 16 digit</td><td>823</td><td>GB90MYZL510193283...</td><td>2021-06-19</td><td>13:07:48</td><td>146.108.131.11</td><td>c52d:53d8:371a:34...</td><td>10059-723</td><td>012331534</td><td>6616715</td><td>012331534</td><td>84.317.925/0001-50</td><td>2010-05-29</td><td>3177832263150</td><td>1-62649-755-9</td><td>129</td><td>175.67</td></tr>\n",
       "<tr><td>012675</td><td>04/29</td><td>4534805013764</td><td>Mastercard</td><td>384</td><td>GB11XMUH824876351...</td><td>2021-07-11</td><td>07:55:08</td><td>148.155.72.234</td><td>b290:d2b7:6a58:86...</td><td>79292884</td><td>035940339</td><td>649001</td><td>035940339</td><td>71.530.496/0001-53</td><td>2014-08-11</td><td>6764222732753</td><td>1-396-90787-4</td><td>327</td><td>213.6</td></tr>\n",
       "<tr><td>012698</td><td>12/31</td><td>4450657280386776</td><td>American Express</td><td>247</td><td>GB79ECRO017868447...</td><td>2021-08-11</td><td>12:06:48</td><td>190.135.5.172</td><td>7cbc:4554:7f5d:65...</td><td>93609312</td><td>058320651</td><td>4523531</td><td>058320651</td><td>82.439.107/0001-03</td><td>2013-01-30</td><td>6024459409867</td><td>1-61357-201-8</td><td>290</td><td>196.35</td></tr>\n",
       "<tr><td>012845</td><td>01/32</td><td>6589457551152257</td><td>Diners Club / Car...</td><td>081</td><td>GB54ZAJA800810561...</td><td>2023-02-27</td><td>09:34:58</td><td>117.107.7.243</td><td>d3f6:6a7f:32a8:eb...</td><td>65177115</td><td>032169692</td><td>8443760</td><td>032169692</td><td>14.603.275/0001-24</td><td>2000-05-15</td><td>4659106631807</td><td>1-81244-634-9</td><td>956</td><td>176.73</td></tr>\n",
       "<tr><td>012948</td><td>12/28</td><td>373871288580551</td><td>Diners Club / Car...</td><td>619</td><td>GB43SXJF889505944...</td><td>2020-02-20</td><td>03:10:01</td><td>210.130.27.213</td><td>9ae4:b03a:1a1f:c6...</td><td>39334-766</td><td>032169692</td><td>1235431</td><td>032169692</td><td>14.603.275/0001-24</td><td>2000-05-15</td><td>4659106631807</td><td>1-81244-634-9</td><td>956</td><td>176.73</td></tr>\n",
       "<tr><td>012964</td><td>12/30</td><td>4852311914204</td><td>Mastercard</td><td>555</td><td>GB64DLQF090053954...</td><td>2022-10-04</td><td>06:40:47</td><td>129.93.60.161</td><td>5bfe:ad1b:a4f1:f2...</td><td>41199-650</td><td>033338998</td><td>7811168</td><td>033338998</td><td>43.597.816/0001-57</td><td>2015-07-10</td><td>5973438592186</td><td>0-7598-2346-4</td><td>337</td><td>150.51</td></tr>\n",
       "<tr><td>012984</td><td>06/31</td><td>4513536757134128830</td><td>VISA 19 digit</td><td>834</td><td>GB32QSLY821583204...</td><td>2020-08-05</td><td>09:45:12</td><td>141.203.245.233</td><td>7528:d2f8:fa09:82...</td><td>84410-583</td><td>042900595</td><td>2093927</td><td>042900595</td><td>28.936.451/0001-54</td><td>2010-12-15</td><td>2655132597959</td><td>0-86582-172-0</td><td>169</td><td>59.35</td></tr>\n",
       "<tr><td>012986</td><td>10/26</td><td>3585620838660639</td><td>Mastercard</td><td>440</td><td>GB79ZFSL741355562...</td><td>2020-05-06</td><td>23:22:03</td><td>221.251.216.243</td><td>5da7:4583:5800:96...</td><td>16961-730</td><td>019458805</td><td>3945329</td><td>019458805</td><td>81.253.490/0001-30</td><td>2007-12-13</td><td>2628486550239</td><td>0-916523-25-X</td><td>788</td><td>238.54</td></tr>\n",
       "<tr><td>013257</td><td>05/23</td><td>6579633995016199</td><td>VISA 13 digit</td><td>9804</td><td>GB93NZLK218118563...</td><td>2022-11-28</td><td>02:09:43</td><td>189.189.141.229</td><td>7b91:3b21:d3f1:36...</td><td>83312054</td><td>027740385</td><td>6689138</td><td>027740385</td><td>13.695.847/0001-80</td><td>2008-01-05</td><td>7379429364080</td><td>1-327-99249-3</td><td>991</td><td>105.73</td></tr>\n",
       "<tr><td>013265</td><td>12/31</td><td>3535506018736607</td><td>JCB 15 digit</td><td>702</td><td>GB97UUHZ239804882...</td><td>2020-10-27</td><td>18:17:07</td><td>24.152.218.181</td><td>77da:6ce5:522a:ac...</td><td>06479-166</td><td>049141690</td><td>1942388</td><td>049141690</td><td>95.037.812/0001-18</td><td>2016-12-24</td><td>9032214793899</td><td>1-4076-9870-2</td><td>454</td><td>210.52</td></tr>\n",
       "<tr><td>013274</td><td>01/24</td><td>3568580151701777</td><td>JCB 16 digit</td><td>257</td><td>GB80ISML116442671...</td><td>2021-12-20</td><td>14:44:09</td><td>42.253.7.153</td><td>cf6a:3335:55be:e0...</td><td>30462-427</td><td>104361784</td><td>2487770</td><td>104361784</td><td>46.527.081/0001-83</td><td>2013-12-08</td><td>1491898510198</td><td>1-101-80944-2</td><td>478</td><td>109.14</td></tr>\n",
       "<tr><td>013457</td><td>06/28</td><td>4589839699652790803</td><td>Maestro</td><td>280</td><td>GB22HUUD094642820...</td><td>2021-10-26</td><td>23:04:27</td><td>207.179.196.45</td><td>9b03:e5f0:c72f:c7...</td><td>10506549</td><td>021006591</td><td>4312106</td><td>021006591</td><td>87.521.043/0001-09</td><td>2019-02-24</td><td>1222716689648</td><td>1-955093-40-7</td><td>382</td><td>96.84</td></tr>\n",
       "<tr><td>013478</td><td>07/24</td><td>3560452545224585</td><td>VISA 16 digit</td><td>126</td><td>GB63LUHF437452702...</td><td>2020-05-10</td><td>02:33:28</td><td>105.127.245.188</td><td>dd79:3fca:9d38:98...</td><td>10354-560</td><td>019488257</td><td>670483</td><td>019488257</td><td>56.783.210/0001-58</td><td>2013-05-19</td><td>3993489629534</td><td>0-589-10612-0</td><td>734</td><td>17.11</td></tr>\n",
       "</table>\n",
       "only showing top 20 rows\n"
      ],
      "text/plain": [
       "+------+---------------------+-------------------+--------------------+----------+-------------------------+----------+--------+---------------+--------------------+-----------+---------+----------+---------+------------------+---------------+-------------+-------------+--------------+------+\n",
       "|    id|cartao_data_expiracao|      cartao_numero|     cartao_bandeira|cartao_cvc|codigo_transacao_bancaria|      data|    hora|           ipv4|                ipv6|cep_entrega| cd_livro|cd_cliente|       id|      cnpj_editora|data_lancamento|          ean|       isbn10|numero_paginas| preco|\n",
       "+------+---------------------+-------------------+--------------------+----------+-------------------------+----------+--------+---------------+--------------------+-----------+---------+----------+---------+------------------+---------------+-------------+-------------+--------------+------+\n",
       "|012389|                11/25|   5500804500517692|            Discover|       959|     GB98MPIH622108593...|2021-07-24|03:21:28|  62.145.31.164|b23d:58a2:9eff:36...|  36629-219|030334762|   3339828|030334762|80.463.719/0001-06|     2013-05-08|7122725133429|0-85193-340-8|           099|123.47|\n",
       "|012476|                01/31|      4609489235873|       VISA 16 digit|      6979|     GB79GAVL233010819...|2021-08-23|11:15:52| 185.150.224.52|1e2c:f641:49d1:5a...|  17012-747|013721981|   7624624|013721981|76.351.940/0001-97|     2004-01-27|8786391051693|1-60705-523-6|           379|133.43|\n",
       "|012478|                07/23|     30072722359174|    American Express|       689|     GB51SZOU538484531...|2020-01-27|17:08:10|  40.179.153.24|9bcd:ee0c:af68:33...|   25921298|019458805|   8703114|019458805|81.253.490/0001-30|     2007-12-13|2628486550239|0-916523-25-X|           788|238.54|\n",
       "|012534|                09/29|      4561935154572|       VISA 16 digit|       353|     GB05UNEX021466511...|2021-07-15|07:39:25|   86.20.51.194|be57:8f94:132:1cb...|   73799370|014347542|   7799936|014347542|76.415.890/0001-64|     2007-04-05|3883750237349|0-8360-5203-X|           452|182.43|\n",
       "|012549|                01/31|   3541220668415122|        JCB 15 digit|       967|     GB97RCCC581942620...|2020-07-22|23:56:14|  55.189.220.65|a1fd:9dd:115f:9d5...|  50727-454|020215846|   6703678|020215846|27.659.813/0001-44|     2014-03-25|7684001180416|0-216-16469-9|           794|155.18|\n",
       "|012574|                06/24|   4155061214506542|        JCB 16 digit|       362|     GB93YATI197164292...|2020-05-19|10:47:09|  212.26.253.42|1815:dc0e:c557:96...|  67662-182|010325500|   6273720|010325500|27.689.540/0001-80|     2000-09-09|8793472196570|0-933627-98-X|           306| 30.62|\n",
       "|012579|                01/27|     30554213514227|             Maestro|      9847|     GB54PQLN799705859...|2021-04-15|10:36:56|168.197.230.167|7f3b:4ada:4c62:3f...|  61193-110|053479015|   6977964|053479015|54.327.896/0001-47|     2018-12-21|1750535865566|0-518-04786-5|           105|207.52|\n",
       "|012648|                05/24|    347386847428278|       VISA 16 digit|       823|     GB90MYZL510193283...|2021-06-19|13:07:48| 146.108.131.11|c52d:53d8:371a:34...|  10059-723|012331534|   6616715|012331534|84.317.925/0001-50|     2010-05-29|3177832263150|1-62649-755-9|           129|175.67|\n",
       "|012675|                04/29|      4534805013764|          Mastercard|       384|     GB11XMUH824876351...|2021-07-11|07:55:08| 148.155.72.234|b290:d2b7:6a58:86...|   79292884|035940339|    649001|035940339|71.530.496/0001-53|     2014-08-11|6764222732753|1-396-90787-4|           327| 213.6|\n",
       "|012698|                12/31|   4450657280386776|    American Express|       247|     GB79ECRO017868447...|2021-08-11|12:06:48|  190.135.5.172|7cbc:4554:7f5d:65...|   93609312|058320651|   4523531|058320651|82.439.107/0001-03|     2013-01-30|6024459409867|1-61357-201-8|           290|196.35|\n",
       "|012845|                01/32|   6589457551152257|Diners Club / Car...|       081|     GB54ZAJA800810561...|2023-02-27|09:34:58|  117.107.7.243|d3f6:6a7f:32a8:eb...|   65177115|032169692|   8443760|032169692|14.603.275/0001-24|     2000-05-15|4659106631807|1-81244-634-9|           956|176.73|\n",
       "|012948|                12/28|    373871288580551|Diners Club / Car...|       619|     GB43SXJF889505944...|2020-02-20|03:10:01| 210.130.27.213|9ae4:b03a:1a1f:c6...|  39334-766|032169692|   1235431|032169692|14.603.275/0001-24|     2000-05-15|4659106631807|1-81244-634-9|           956|176.73|\n",
       "|012964|                12/30|      4852311914204|          Mastercard|       555|     GB64DLQF090053954...|2022-10-04|06:40:47|  129.93.60.161|5bfe:ad1b:a4f1:f2...|  41199-650|033338998|   7811168|033338998|43.597.816/0001-57|     2015-07-10|5973438592186|0-7598-2346-4|           337|150.51|\n",
       "|012984|                06/31|4513536757134128830|       VISA 19 digit|       834|     GB32QSLY821583204...|2020-08-05|09:45:12|141.203.245.233|7528:d2f8:fa09:82...|  84410-583|042900595|   2093927|042900595|28.936.451/0001-54|     2010-12-15|2655132597959|0-86582-172-0|           169| 59.35|\n",
       "|012986|                10/26|   3585620838660639|          Mastercard|       440|     GB79ZFSL741355562...|2020-05-06|23:22:03|221.251.216.243|5da7:4583:5800:96...|  16961-730|019458805|   3945329|019458805|81.253.490/0001-30|     2007-12-13|2628486550239|0-916523-25-X|           788|238.54|\n",
       "|013257|                05/23|   6579633995016199|       VISA 13 digit|      9804|     GB93NZLK218118563...|2022-11-28|02:09:43|189.189.141.229|7b91:3b21:d3f1:36...|   83312054|027740385|   6689138|027740385|13.695.847/0001-80|     2008-01-05|7379429364080|1-327-99249-3|           991|105.73|\n",
       "|013265|                12/31|   3535506018736607|        JCB 15 digit|       702|     GB97UUHZ239804882...|2020-10-27|18:17:07| 24.152.218.181|77da:6ce5:522a:ac...|  06479-166|049141690|   1942388|049141690|95.037.812/0001-18|     2016-12-24|9032214793899|1-4076-9870-2|           454|210.52|\n",
       "|013274|                01/24|   3568580151701777|        JCB 16 digit|       257|     GB80ISML116442671...|2021-12-20|14:44:09|   42.253.7.153|cf6a:3335:55be:e0...|  30462-427|104361784|   2487770|104361784|46.527.081/0001-83|     2013-12-08|1491898510198|1-101-80944-2|           478|109.14|\n",
       "|013457|                06/28|4589839699652790803|             Maestro|       280|     GB22HUUD094642820...|2021-10-26|23:04:27| 207.179.196.45|9b03:e5f0:c72f:c7...|   10506549|021006591|   4312106|021006591|87.521.043/0001-09|     2019-02-24|1222716689648|1-955093-40-7|           382| 96.84|\n",
       "|013478|                07/24|   3560452545224585|       VISA 16 digit|       126|     GB63LUHF437452702...|2020-05-10|02:33:28|105.127.245.188|dd79:3fca:9d38:98...|  10354-560|019488257|    670483|019488257|56.783.210/0001-58|     2013-05-19|3993489629534|0-589-10612-0|           734| 17.11|\n",
       "+------+---------------------+-------------------+--------------------+----------+-------------------------+----------+--------+---------------+--------------------+-----------+---------+----------+---------+------------------+---------------+-------------+-------------+--------------+------+\n",
       "only showing top 20 rows"
      ]
     },
     "execution_count": 43,
     "metadata": {},
     "output_type": "execute_result"
    }
   ],
   "source": [
    "# podemos ocultar os nomes dos parâmetros\n",
    "\n",
    "compras.join(livros, compras.cd_livro==livros.id, 'inner')"
   ]
  },
  {
   "cell_type": "code",
   "execution_count": 69,
   "id": "925f3dec-c809-42f5-9a83-71bade47a192",
   "metadata": {},
   "outputs": [],
   "source": [
    "# criamos a variavel cond para passar o canal de ligação das tabelas E adicionar condições para o JOIN\n",
    "\n",
    "cond = [compras.cd_livro == livros.id, livros.preco <20, compras.cartao_bandeira == \"American Express\"]\n"
   ]
  },
  {
   "cell_type": "code",
   "execution_count": 71,
   "id": "9fa4bbf5-ff0d-467d-81de-12fd20e25167",
   "metadata": {
    "scrolled": true
   },
   "outputs": [
    {
     "data": {
      "text/html": [
       "<table border='1'>\n",
       "<tr><th>id</th><th>cartao_data_expiracao</th><th>cartao_numero</th><th>cartao_bandeira</th><th>cartao_cvc</th><th>codigo_transacao_bancaria</th><th>data</th><th>hora</th><th>ipv4</th><th>ipv6</th><th>cep_entrega</th><th>cd_livro</th><th>cd_cliente</th><th>id</th><th>cnpj_editora</th><th>data_lancamento</th><th>ean</th><th>isbn10</th><th>numero_paginas</th><th>preco</th></tr>\n",
       "<tr><td>015293</td><td>07/25</td><td>3556739121440148</td><td>American Express</td><td>545</td><td>GB48XYOL916840705...</td><td>2023-01-17</td><td>11:18:13</td><td>213.234.224.146</td><td>826f:59e0:495:da8...</td><td>95212-264</td><td>020113375</td><td>318091</td><td>020113375</td><td>72.513.640/0001-06</td><td>2004-05-20</td><td>6368864423927</td><td>1-4262-9302-X</td><td>979</td><td>11.22</td></tr>\n",
       "<tr><td>027534</td><td>04/30</td><td>341201325730846</td><td>American Express</td><td>724</td><td>GB51YZOU341035018...</td><td>2022-05-24</td><td>06:03:17</td><td>179.57.223.203</td><td>8821:e434:12e0:78...</td><td>98301-728</td><td>028590563</td><td>1220093</td><td>028590563</td><td>83.652.071/0001-04</td><td>2017-10-01</td><td>4098655700235</td><td>0-09-656628-0</td><td>580</td><td>18.31</td></tr>\n",
       "<tr><td>029758</td><td>02/30</td><td>3541503490537126</td><td>American Express</td><td>195</td><td>GB93ZUZX995042659...</td><td>2022-06-17</td><td>05:14:31</td><td>34.115.251.249</td><td>88c8:19e6:a1ce:f1...</td><td>99742343</td><td>031940993</td><td>4657085</td><td>031940993</td><td>03.854.176/0001-07</td><td>2018-01-06</td><td>8713441956769</td><td>1-380-31131-4</td><td>798</td><td>16.98</td></tr>\n",
       "<tr><td>037926</td><td>09/28</td><td>4964046684848848156</td><td>American Express</td><td>410</td><td>GB38GFDW577084469...</td><td>2020-04-06</td><td>04:41:47</td><td>221.122.230.97</td><td>d77c:9bc:e0a2:b9f...</td><td>12118690</td><td>028590563</td><td>1212779</td><td>028590563</td><td>83.652.071/0001-04</td><td>2017-10-01</td><td>4098655700235</td><td>0-09-656628-0</td><td>580</td><td>18.31</td></tr>\n",
       "<tr><td>074192</td><td>07/29</td><td>6505617947640254</td><td>American Express</td><td>488</td><td>GB69UKFN323550971...</td><td>2021-07-27</td><td>22:27:42</td><td>20.97.79.195</td><td>5873:437:4687:6e9...</td><td>30633-793</td><td>089990636</td><td>1046816</td><td>089990636</td><td>28.705.436/0001-03</td><td>2006-10-06</td><td>5157429795538</td><td>1-307-72868-5</td><td>478</td><td>19.58</td></tr>\n",
       "<tr><td>085471</td><td>04/26</td><td>2704647677825476</td><td>American Express</td><td>963</td><td>GB29CROP585194293...</td><td>2021-10-15</td><td>20:16:40</td><td>36.81.138.11</td><td>a84b:7b81:d8db:ae...</td><td>72514915</td><td>020113375</td><td>1966100</td><td>020113375</td><td>72.513.640/0001-06</td><td>2004-05-20</td><td>6368864423927</td><td>1-4262-9302-X</td><td>979</td><td>11.22</td></tr>\n",
       "<tr><td>089263</td><td>11/25</td><td>349069928553184</td><td>American Express</td><td>446</td><td>GB75COSU265519546...</td><td>2021-05-12</td><td>01:40:28</td><td>131.198.10.122</td><td>184b:412e:f352:38...</td><td>73246085</td><td>022112497</td><td>3093108</td><td>022112497</td><td>82.074.936/0001-21</td><td>2021-01-06</td><td>5078165920063</td><td>0-7763-1592-7</td><td>799</td><td>10.84</td></tr>\n",
       "<tr><td>102387</td><td>01/29</td><td>676323278405</td><td>American Express</td><td>950</td><td>GB35WVVT398876278...</td><td>2022-08-09</td><td>11:51:39</td><td>59.73.244.151</td><td>f66a:df4b:e720:2b...</td><td>46005785</td><td>019488257</td><td>3088080</td><td>019488257</td><td>56.783.210/0001-58</td><td>2013-05-19</td><td>3993489629534</td><td>0-589-10612-0</td><td>734</td><td>17.11</td></tr>\n",
       "<tr><td>102657</td><td>05/24</td><td>4093483772012046430</td><td>American Express</td><td>276</td><td>GB12SHUY141299339...</td><td>2020-01-16</td><td>11:58:02</td><td>70.21.104.237</td><td>4971:9b23:896d:67...</td><td>66963866</td><td>097717319</td><td>1611286</td><td>097717319</td><td>29.635.084/0001-11</td><td>2018-01-27</td><td>6029658867845</td><td>0-417-50357-1</td><td>919</td><td>10.87</td></tr>\n",
       "<tr><td>134860</td><td>01/24</td><td>4299112748805</td><td>American Express</td><td>494</td><td>GB07LXII672574861...</td><td>2022-06-13</td><td>09:51:39</td><td>57.242.114.53</td><td>bf32:6c2:e6ea:9d5...</td><td>37286187</td><td>022112497</td><td>4710747</td><td>022112497</td><td>82.074.936/0001-21</td><td>2021-01-06</td><td>5078165920063</td><td>0-7763-1592-7</td><td>799</td><td>10.84</td></tr>\n",
       "<tr><td>140296</td><td>12/24</td><td>6525080741106616</td><td>American Express</td><td>592</td><td>GB82LWOA553290476...</td><td>2021-12-27</td><td>08:26:59</td><td>161.74.204.113</td><td>d018:71a4:9db5:df...</td><td>77014666</td><td>028590563</td><td>2167033</td><td>028590563</td><td>83.652.071/0001-04</td><td>2017-10-01</td><td>4098655700235</td><td>0-09-656628-0</td><td>580</td><td>18.31</td></tr>\n",
       "<tr><td>158240</td><td>08/30</td><td>4121905841256590806</td><td>American Express</td><td>383</td><td>GB25TUDB280697722...</td><td>2022-07-28</td><td>06:12:49</td><td>43.151.249.34</td><td>e551:f617:466c:79...</td><td>70089-180</td><td>019488257</td><td>7495528</td><td>019488257</td><td>56.783.210/0001-58</td><td>2013-05-19</td><td>3993489629534</td><td>0-589-10612-0</td><td>734</td><td>17.11</td></tr>\n",
       "<tr><td>213906</td><td>06/24</td><td>3548291006815193</td><td>American Express</td><td>384</td><td>GB60CTDK261753253...</td><td>2020-09-19</td><td>13:52:42</td><td>29.54.211.166</td><td>9426:d03e:2a82:27...</td><td>52414145</td><td>019488257</td><td>2968688</td><td>019488257</td><td>56.783.210/0001-58</td><td>2013-05-19</td><td>3993489629534</td><td>0-589-10612-0</td><td>734</td><td>17.11</td></tr>\n",
       "<tr><td>216754</td><td>06/32</td><td>3563166654754979</td><td>American Express</td><td>2201</td><td>GB60FFEL759575321...</td><td>2021-07-17</td><td>12:27:09</td><td>19.164.27.88</td><td>129a:a9f2:33f0:90...</td><td>78515850</td><td>020113375</td><td>694923</td><td>020113375</td><td>72.513.640/0001-06</td><td>2004-05-20</td><td>6368864423927</td><td>1-4262-9302-X</td><td>979</td><td>11.22</td></tr>\n",
       "<tr><td>254608</td><td>01/33</td><td>4874064916319</td><td>American Express</td><td>183</td><td>GB12WEJL376409706...</td><td>2022-07-13</td><td>20:32:20</td><td>21.149.180.215</td><td>5695:2e9:7e71:ff4...</td><td>26877-973</td><td>097717319</td><td>2159921</td><td>097717319</td><td>29.635.084/0001-11</td><td>2018-01-27</td><td>6029658867845</td><td>0-417-50357-1</td><td>919</td><td>10.87</td></tr>\n",
       "<tr><td>259680</td><td>08/29</td><td>4957903722021979</td><td>American Express</td><td>587</td><td>GB88JEKO595051955...</td><td>2021-09-01</td><td>03:23:02</td><td>198.91.209.172</td><td>f957:b1cf:1a14:62...</td><td>04392-440</td><td>028590563</td><td>7732490</td><td>028590563</td><td>83.652.071/0001-04</td><td>2017-10-01</td><td>4098655700235</td><td>0-09-656628-0</td><td>580</td><td>18.31</td></tr>\n",
       "<tr><td>267038</td><td>02/28</td><td>213140937111968</td><td>American Express</td><td>676</td><td>GB11OPKI762799355...</td><td>2020-02-12</td><td>00:05:58</td><td>132.153.132.72</td><td>87e2:69c:2810:675...</td><td>01206-187</td><td>031940993</td><td>7965419</td><td>031940993</td><td>03.854.176/0001-07</td><td>2018-01-06</td><td>8713441956769</td><td>1-380-31131-4</td><td>798</td><td>16.98</td></tr>\n",
       "<tr><td>297154</td><td>04/31</td><td>4414484522817673</td><td>American Express</td><td>843</td><td>GB67IGJK719010153...</td><td>2022-06-30</td><td>02:28:21</td><td>202.155.225.99</td><td>8761:e3f8:71f0:72...</td><td>85751345</td><td>025900512</td><td>8394220</td><td>025900512</td><td>28.359.407/0001-29</td><td>2001-04-24</td><td>2793458725790</td><td>1-175-20698-9</td><td>623</td><td>12.32</td></tr>\n",
       "<tr><td>304986</td><td>10/23</td><td>584815561116</td><td>American Express</td><td>846</td><td>GB05IEMO873549942...</td><td>2020-05-01</td><td>16:53:06</td><td>117.119.236.182</td><td>d3bf:498e:db01:5d...</td><td>77908-823</td><td>022112497</td><td>5924651</td><td>022112497</td><td>82.074.936/0001-21</td><td>2021-01-06</td><td>5078165920063</td><td>0-7763-1592-7</td><td>799</td><td>10.84</td></tr>\n",
       "<tr><td>320497</td><td>10/24</td><td>571217192954</td><td>American Express</td><td>425</td><td>GB20EPHB982262999...</td><td>2022-10-07</td><td>02:42:40</td><td>27.165.243.208</td><td>917e:1ab0:1a11:7e...</td><td>10164578</td><td>028590563</td><td>6793672</td><td>028590563</td><td>83.652.071/0001-04</td><td>2017-10-01</td><td>4098655700235</td><td>0-09-656628-0</td><td>580</td><td>18.31</td></tr>\n",
       "</table>\n",
       "only showing top 20 rows\n"
      ],
      "text/plain": [
       "+------+---------------------+-------------------+----------------+----------+-------------------------+----------+--------+---------------+--------------------+-----------+---------+----------+---------+------------------+---------------+-------------+-------------+--------------+-----+\n",
       "|    id|cartao_data_expiracao|      cartao_numero| cartao_bandeira|cartao_cvc|codigo_transacao_bancaria|      data|    hora|           ipv4|                ipv6|cep_entrega| cd_livro|cd_cliente|       id|      cnpj_editora|data_lancamento|          ean|       isbn10|numero_paginas|preco|\n",
       "+------+---------------------+-------------------+----------------+----------+-------------------------+----------+--------+---------------+--------------------+-----------+---------+----------+---------+------------------+---------------+-------------+-------------+--------------+-----+\n",
       "|015293|                07/25|   3556739121440148|American Express|       545|     GB48XYOL916840705...|2023-01-17|11:18:13|213.234.224.146|826f:59e0:495:da8...|  95212-264|020113375|    318091|020113375|72.513.640/0001-06|     2004-05-20|6368864423927|1-4262-9302-X|           979|11.22|\n",
       "|027534|                04/30|    341201325730846|American Express|       724|     GB51YZOU341035018...|2022-05-24|06:03:17| 179.57.223.203|8821:e434:12e0:78...|  98301-728|028590563|   1220093|028590563|83.652.071/0001-04|     2017-10-01|4098655700235|0-09-656628-0|           580|18.31|\n",
       "|029758|                02/30|   3541503490537126|American Express|       195|     GB93ZUZX995042659...|2022-06-17|05:14:31| 34.115.251.249|88c8:19e6:a1ce:f1...|   99742343|031940993|   4657085|031940993|03.854.176/0001-07|     2018-01-06|8713441956769|1-380-31131-4|           798|16.98|\n",
       "|037926|                09/28|4964046684848848156|American Express|       410|     GB38GFDW577084469...|2020-04-06|04:41:47| 221.122.230.97|d77c:9bc:e0a2:b9f...|   12118690|028590563|   1212779|028590563|83.652.071/0001-04|     2017-10-01|4098655700235|0-09-656628-0|           580|18.31|\n",
       "|074192|                07/29|   6505617947640254|American Express|       488|     GB69UKFN323550971...|2021-07-27|22:27:42|   20.97.79.195|5873:437:4687:6e9...|  30633-793|089990636|   1046816|089990636|28.705.436/0001-03|     2006-10-06|5157429795538|1-307-72868-5|           478|19.58|\n",
       "|085471|                04/26|   2704647677825476|American Express|       963|     GB29CROP585194293...|2021-10-15|20:16:40|   36.81.138.11|a84b:7b81:d8db:ae...|   72514915|020113375|   1966100|020113375|72.513.640/0001-06|     2004-05-20|6368864423927|1-4262-9302-X|           979|11.22|\n",
       "|089263|                11/25|    349069928553184|American Express|       446|     GB75COSU265519546...|2021-05-12|01:40:28| 131.198.10.122|184b:412e:f352:38...|   73246085|022112497|   3093108|022112497|82.074.936/0001-21|     2021-01-06|5078165920063|0-7763-1592-7|           799|10.84|\n",
       "|102387|                01/29|       676323278405|American Express|       950|     GB35WVVT398876278...|2022-08-09|11:51:39|  59.73.244.151|f66a:df4b:e720:2b...|   46005785|019488257|   3088080|019488257|56.783.210/0001-58|     2013-05-19|3993489629534|0-589-10612-0|           734|17.11|\n",
       "|102657|                05/24|4093483772012046430|American Express|       276|     GB12SHUY141299339...|2020-01-16|11:58:02|  70.21.104.237|4971:9b23:896d:67...|   66963866|097717319|   1611286|097717319|29.635.084/0001-11|     2018-01-27|6029658867845|0-417-50357-1|           919|10.87|\n",
       "|134860|                01/24|      4299112748805|American Express|       494|     GB07LXII672574861...|2022-06-13|09:51:39|  57.242.114.53|bf32:6c2:e6ea:9d5...|   37286187|022112497|   4710747|022112497|82.074.936/0001-21|     2021-01-06|5078165920063|0-7763-1592-7|           799|10.84|\n",
       "|140296|                12/24|   6525080741106616|American Express|       592|     GB82LWOA553290476...|2021-12-27|08:26:59| 161.74.204.113|d018:71a4:9db5:df...|   77014666|028590563|   2167033|028590563|83.652.071/0001-04|     2017-10-01|4098655700235|0-09-656628-0|           580|18.31|\n",
       "|158240|                08/30|4121905841256590806|American Express|       383|     GB25TUDB280697722...|2022-07-28|06:12:49|  43.151.249.34|e551:f617:466c:79...|  70089-180|019488257|   7495528|019488257|56.783.210/0001-58|     2013-05-19|3993489629534|0-589-10612-0|           734|17.11|\n",
       "|213906|                06/24|   3548291006815193|American Express|       384|     GB60CTDK261753253...|2020-09-19|13:52:42|  29.54.211.166|9426:d03e:2a82:27...|   52414145|019488257|   2968688|019488257|56.783.210/0001-58|     2013-05-19|3993489629534|0-589-10612-0|           734|17.11|\n",
       "|216754|                06/32|   3563166654754979|American Express|      2201|     GB60FFEL759575321...|2021-07-17|12:27:09|   19.164.27.88|129a:a9f2:33f0:90...|   78515850|020113375|    694923|020113375|72.513.640/0001-06|     2004-05-20|6368864423927|1-4262-9302-X|           979|11.22|\n",
       "|254608|                01/33|      4874064916319|American Express|       183|     GB12WEJL376409706...|2022-07-13|20:32:20| 21.149.180.215|5695:2e9:7e71:ff4...|  26877-973|097717319|   2159921|097717319|29.635.084/0001-11|     2018-01-27|6029658867845|0-417-50357-1|           919|10.87|\n",
       "|259680|                08/29|   4957903722021979|American Express|       587|     GB88JEKO595051955...|2021-09-01|03:23:02| 198.91.209.172|f957:b1cf:1a14:62...|  04392-440|028590563|   7732490|028590563|83.652.071/0001-04|     2017-10-01|4098655700235|0-09-656628-0|           580|18.31|\n",
       "|267038|                02/28|    213140937111968|American Express|       676|     GB11OPKI762799355...|2020-02-12|00:05:58| 132.153.132.72|87e2:69c:2810:675...|  01206-187|031940993|   7965419|031940993|03.854.176/0001-07|     2018-01-06|8713441956769|1-380-31131-4|           798|16.98|\n",
       "|297154|                04/31|   4414484522817673|American Express|       843|     GB67IGJK719010153...|2022-06-30|02:28:21| 202.155.225.99|8761:e3f8:71f0:72...|   85751345|025900512|   8394220|025900512|28.359.407/0001-29|     2001-04-24|2793458725790|1-175-20698-9|           623|12.32|\n",
       "|304986|                10/23|       584815561116|American Express|       846|     GB05IEMO873549942...|2020-05-01|16:53:06|117.119.236.182|d3bf:498e:db01:5d...|  77908-823|022112497|   5924651|022112497|82.074.936/0001-21|     2021-01-06|5078165920063|0-7763-1592-7|           799|10.84|\n",
       "|320497|                10/24|       571217192954|American Express|       425|     GB20EPHB982262999...|2022-10-07|02:42:40| 27.165.243.208|917e:1ab0:1a11:7e...|   10164578|028590563|   6793672|028590563|83.652.071/0001-04|     2017-10-01|4098655700235|0-09-656628-0|           580|18.31|\n",
       "+------+---------------------+-------------------+----------------+----------+-------------------------+----------+--------+---------------+--------------------+-----------+---------+----------+---------+------------------+---------------+-------------+-------------+--------------+-----+\n",
       "only showing top 20 rows"
      ]
     },
     "execution_count": 71,
     "metadata": {},
     "output_type": "execute_result"
    }
   ],
   "source": [
    "compras.join(livros, cond, 'inner')"
   ]
  },
  {
   "cell_type": "code",
   "execution_count": 77,
   "id": "9a7b0c0e-23a3-4a5c-b818-e95b23a925f7",
   "metadata": {},
   "outputs": [],
   "source": [
    "cond = [(compras.cd_livro == livros.id) & (livros.preco <20) | (compras.cartao_bandeira == \"American Express\")]"
   ]
  },
  {
   "cell_type": "code",
   "execution_count": 79,
   "id": "1124433e-6e79-4761-b9c0-b860da8f1935",
   "metadata": {
    "scrolled": true
   },
   "outputs": [
    {
     "data": {
      "text/html": [
       "<table border='1'>\n",
       "<tr><th>id</th><th>cartao_data_expiracao</th><th>cartao_numero</th><th>cartao_bandeira</th><th>cartao_cvc</th><th>codigo_transacao_bancaria</th><th>data</th><th>hora</th><th>ipv4</th><th>ipv6</th><th>cep_entrega</th><th>cd_livro</th><th>cd_cliente</th><th>id</th><th>cnpj_editora</th><th>data_lancamento</th><th>ean</th><th>isbn10</th><th>numero_paginas</th><th>preco</th></tr>\n",
       "<tr><td>012478</td><td>07/23</td><td>30072722359174</td><td>American Express</td><td>689</td><td>GB51SZOU538484531...</td><td>2020-01-27</td><td>17:08:10</td><td>40.179.153.24</td><td>9bcd:ee0c:af68:33...</td><td>25921298</td><td>019458805</td><td>8703114</td><td>102961160</td><td>54.317.982/0001-79</td><td>2011-09-19</td><td>4367115749184</td><td>0-06-594558-1</td><td>516</td><td>113.84</td></tr>\n",
       "<tr><td>012478</td><td>07/23</td><td>30072722359174</td><td>American Express</td><td>689</td><td>GB51SZOU538484531...</td><td>2020-01-27</td><td>17:08:10</td><td>40.179.153.24</td><td>9bcd:ee0c:af68:33...</td><td>25921298</td><td>019458805</td><td>8703114</td><td>043636240</td><td>16.938.042/0001-08</td><td>2019-05-11</td><td>1239569754256</td><td>0-611-23680-X</td><td>371</td><td>207.67</td></tr>\n",
       "<tr><td>012478</td><td>07/23</td><td>30072722359174</td><td>American Express</td><td>689</td><td>GB51SZOU538484531...</td><td>2020-01-27</td><td>17:08:10</td><td>40.179.153.24</td><td>9bcd:ee0c:af68:33...</td><td>25921298</td><td>019458805</td><td>8703114</td><td>052928059</td><td>57.624.038/0001-52</td><td>2003-08-03</td><td>5462162528221</td><td>1-109-29542-1</td><td>198</td><td>107.89</td></tr>\n",
       "<tr><td>012478</td><td>07/23</td><td>30072722359174</td><td>American Express</td><td>689</td><td>GB51SZOU538484531...</td><td>2020-01-27</td><td>17:08:10</td><td>40.179.153.24</td><td>9bcd:ee0c:af68:33...</td><td>25921298</td><td>019458805</td><td>8703114</td><td>088482271</td><td>16.249.378/0001-63</td><td>2022-09-07</td><td>5713629047213</td><td>1-229-68842-0</td><td>632</td><td>143.95</td></tr>\n",
       "<tr><td>012478</td><td>07/23</td><td>30072722359174</td><td>American Express</td><td>689</td><td>GB51SZOU538484531...</td><td>2020-01-27</td><td>17:08:10</td><td>40.179.153.24</td><td>9bcd:ee0c:af68:33...</td><td>25921298</td><td>019458805</td><td>8703114</td><td>028125446</td><td>90.425.178/0001-77</td><td>2011-07-25</td><td>2226757040245</td><td>0-657-66391-3</td><td>384</td><td>156.49</td></tr>\n",
       "<tr><td>012478</td><td>07/23</td><td>30072722359174</td><td>American Express</td><td>689</td><td>GB51SZOU538484531...</td><td>2020-01-27</td><td>17:08:10</td><td>40.179.153.24</td><td>9bcd:ee0c:af68:33...</td><td>25921298</td><td>019458805</td><td>8703114</td><td>055610005</td><td>20.756.194/0001-67</td><td>2006-03-22</td><td>2114468195241</td><td>0-455-43278-3</td><td>419</td><td>37.08</td></tr>\n",
       "<tr><td>012478</td><td>07/23</td><td>30072722359174</td><td>American Express</td><td>689</td><td>GB51SZOU538484531...</td><td>2020-01-27</td><td>17:08:10</td><td>40.179.153.24</td><td>9bcd:ee0c:af68:33...</td><td>25921298</td><td>019458805</td><td>8703114</td><td>049806867</td><td>93.617.240/0001-10</td><td>2022-02-17</td><td>3166123637398</td><td>1-4822-8784-6</td><td>378</td><td>162.97</td></tr>\n",
       "<tr><td>012478</td><td>07/23</td><td>30072722359174</td><td>American Express</td><td>689</td><td>GB51SZOU538484531...</td><td>2020-01-27</td><td>17:08:10</td><td>40.179.153.24</td><td>9bcd:ee0c:af68:33...</td><td>25921298</td><td>019458805</td><td>8703114</td><td>102803370</td><td>48.760.531/0001-09</td><td>2011-12-13</td><td>2550608407612</td><td>0-399-05121-X</td><td>732</td><td>75.62</td></tr>\n",
       "<tr><td>012478</td><td>07/23</td><td>30072722359174</td><td>American Express</td><td>689</td><td>GB51SZOU538484531...</td><td>2020-01-27</td><td>17:08:10</td><td>40.179.153.24</td><td>9bcd:ee0c:af68:33...</td><td>25921298</td><td>019458805</td><td>8703114</td><td>084858867</td><td>10.752.843/0001-06</td><td>2015-04-30</td><td>6207011925788</td><td>1-03-549652-6</td><td>635</td><td>237.67</td></tr>\n",
       "<tr><td>012478</td><td>07/23</td><td>30072722359174</td><td>American Express</td><td>689</td><td>GB51SZOU538484531...</td><td>2020-01-27</td><td>17:08:10</td><td>40.179.153.24</td><td>9bcd:ee0c:af68:33...</td><td>25921298</td><td>019458805</td><td>8703114</td><td>059303729</td><td>05.129.783/0001-21</td><td>2001-08-25</td><td>1641133648784</td><td>0-620-46508-5</td><td>107</td><td>61.41</td></tr>\n",
       "<tr><td>012478</td><td>07/23</td><td>30072722359174</td><td>American Express</td><td>689</td><td>GB51SZOU538484531...</td><td>2020-01-27</td><td>17:08:10</td><td>40.179.153.24</td><td>9bcd:ee0c:af68:33...</td><td>25921298</td><td>019458805</td><td>8703114</td><td>064175052</td><td>65.301.927/0001-07</td><td>2008-05-29</td><td>6905480714673</td><td>1-876722-64-9</td><td>795</td><td>85.56</td></tr>\n",
       "<tr><td>012478</td><td>07/23</td><td>30072722359174</td><td>American Express</td><td>689</td><td>GB51SZOU538484531...</td><td>2020-01-27</td><td>17:08:10</td><td>40.179.153.24</td><td>9bcd:ee0c:af68:33...</td><td>25921298</td><td>019458805</td><td>8703114</td><td>080608956</td><td>90.563.247/0001-09</td><td>2011-10-05</td><td>0332981484891</td><td>1-925760-25-1</td><td>203</td><td>107.63</td></tr>\n",
       "<tr><td>012478</td><td>07/23</td><td>30072722359174</td><td>American Express</td><td>689</td><td>GB51SZOU538484531...</td><td>2020-01-27</td><td>17:08:10</td><td>40.179.153.24</td><td>9bcd:ee0c:af68:33...</td><td>25921298</td><td>019458805</td><td>8703114</td><td>018453254</td><td>95.367.280/0001-87</td><td>2012-11-02</td><td>0507454098268</td><td>0-609-21722-4</td><td>043</td><td>52.94</td></tr>\n",
       "<tr><td>012478</td><td>07/23</td><td>30072722359174</td><td>American Express</td><td>689</td><td>GB51SZOU538484531...</td><td>2020-01-27</td><td>17:08:10</td><td>40.179.153.24</td><td>9bcd:ee0c:af68:33...</td><td>25921298</td><td>019458805</td><td>8703114</td><td>021765997</td><td>59.374.801/0001-60</td><td>2014-05-17</td><td>4743679337089</td><td>1-85580-232-5</td><td>499</td><td>143.43</td></tr>\n",
       "<tr><td>012478</td><td>07/23</td><td>30072722359174</td><td>American Express</td><td>689</td><td>GB51SZOU538484531...</td><td>2020-01-27</td><td>17:08:10</td><td>40.179.153.24</td><td>9bcd:ee0c:af68:33...</td><td>25921298</td><td>019458805</td><td>8703114</td><td>023911383</td><td>98.526.047/0001-98</td><td>2005-11-12</td><td>4165252098109</td><td>1-369-22273-4</td><td>599</td><td>121.0</td></tr>\n",
       "<tr><td>012478</td><td>07/23</td><td>30072722359174</td><td>American Express</td><td>689</td><td>GB51SZOU538484531...</td><td>2020-01-27</td><td>17:08:10</td><td>40.179.153.24</td><td>9bcd:ee0c:af68:33...</td><td>25921298</td><td>019458805</td><td>8703114</td><td>029667220</td><td>20.136.498/0001-21</td><td>2008-09-22</td><td>9813450961422</td><td>0-466-92503-4</td><td>474</td><td>175.32</td></tr>\n",
       "<tr><td>012478</td><td>07/23</td><td>30072722359174</td><td>American Express</td><td>689</td><td>GB51SZOU538484531...</td><td>2020-01-27</td><td>17:08:10</td><td>40.179.153.24</td><td>9bcd:ee0c:af68:33...</td><td>25921298</td><td>019458805</td><td>8703114</td><td>030099528</td><td>28.103.975/0001-64</td><td>2000-02-06</td><td>9164658045347</td><td>0-904222-71-3</td><td>292</td><td>208.39</td></tr>\n",
       "<tr><td>012478</td><td>07/23</td><td>30072722359174</td><td>American Express</td><td>689</td><td>GB51SZOU538484531...</td><td>2020-01-27</td><td>17:08:10</td><td>40.179.153.24</td><td>9bcd:ee0c:af68:33...</td><td>25921298</td><td>019458805</td><td>8703114</td><td>034553086</td><td>29.507.683/0001-50</td><td>2016-12-29</td><td>7318970609554</td><td>1-4989-7802-9</td><td>540</td><td>113.52</td></tr>\n",
       "<tr><td>012478</td><td>07/23</td><td>30072722359174</td><td>American Express</td><td>689</td><td>GB51SZOU538484531...</td><td>2020-01-27</td><td>17:08:10</td><td>40.179.153.24</td><td>9bcd:ee0c:af68:33...</td><td>25921298</td><td>019458805</td><td>8703114</td><td>035350343</td><td>25.491.073/0001-54</td><td>2003-11-29</td><td>7630092024962</td><td>1-957157-95-X</td><td>109</td><td>58.61</td></tr>\n",
       "<tr><td>012478</td><td>07/23</td><td>30072722359174</td><td>American Express</td><td>689</td><td>GB51SZOU538484531...</td><td>2020-01-27</td><td>17:08:10</td><td>40.179.153.24</td><td>9bcd:ee0c:af68:33...</td><td>25921298</td><td>019458805</td><td>8703114</td><td>017477529</td><td>39.507.184/0001-16</td><td>2005-09-23</td><td>5930606400018</td><td>1-393-77728-7</td><td>747</td><td>232.65</td></tr>\n",
       "</table>\n",
       "only showing top 20 rows\n"
      ],
      "text/plain": [
       "+------+---------------------+--------------+----------------+----------+-------------------------+----------+--------+-------------+--------------------+-----------+---------+----------+---------+------------------+---------------+-------------+-------------+--------------+------+\n",
       "|    id|cartao_data_expiracao| cartao_numero| cartao_bandeira|cartao_cvc|codigo_transacao_bancaria|      data|    hora|         ipv4|                ipv6|cep_entrega| cd_livro|cd_cliente|       id|      cnpj_editora|data_lancamento|          ean|       isbn10|numero_paginas| preco|\n",
       "+------+---------------------+--------------+----------------+----------+-------------------------+----------+--------+-------------+--------------------+-----------+---------+----------+---------+------------------+---------------+-------------+-------------+--------------+------+\n",
       "|012478|                07/23|30072722359174|American Express|       689|     GB51SZOU538484531...|2020-01-27|17:08:10|40.179.153.24|9bcd:ee0c:af68:33...|   25921298|019458805|   8703114|102961160|54.317.982/0001-79|     2011-09-19|4367115749184|0-06-594558-1|           516|113.84|\n",
       "|012478|                07/23|30072722359174|American Express|       689|     GB51SZOU538484531...|2020-01-27|17:08:10|40.179.153.24|9bcd:ee0c:af68:33...|   25921298|019458805|   8703114|043636240|16.938.042/0001-08|     2019-05-11|1239569754256|0-611-23680-X|           371|207.67|\n",
       "|012478|                07/23|30072722359174|American Express|       689|     GB51SZOU538484531...|2020-01-27|17:08:10|40.179.153.24|9bcd:ee0c:af68:33...|   25921298|019458805|   8703114|052928059|57.624.038/0001-52|     2003-08-03|5462162528221|1-109-29542-1|           198|107.89|\n",
       "|012478|                07/23|30072722359174|American Express|       689|     GB51SZOU538484531...|2020-01-27|17:08:10|40.179.153.24|9bcd:ee0c:af68:33...|   25921298|019458805|   8703114|088482271|16.249.378/0001-63|     2022-09-07|5713629047213|1-229-68842-0|           632|143.95|\n",
       "|012478|                07/23|30072722359174|American Express|       689|     GB51SZOU538484531...|2020-01-27|17:08:10|40.179.153.24|9bcd:ee0c:af68:33...|   25921298|019458805|   8703114|028125446|90.425.178/0001-77|     2011-07-25|2226757040245|0-657-66391-3|           384|156.49|\n",
       "|012478|                07/23|30072722359174|American Express|       689|     GB51SZOU538484531...|2020-01-27|17:08:10|40.179.153.24|9bcd:ee0c:af68:33...|   25921298|019458805|   8703114|055610005|20.756.194/0001-67|     2006-03-22|2114468195241|0-455-43278-3|           419| 37.08|\n",
       "|012478|                07/23|30072722359174|American Express|       689|     GB51SZOU538484531...|2020-01-27|17:08:10|40.179.153.24|9bcd:ee0c:af68:33...|   25921298|019458805|   8703114|049806867|93.617.240/0001-10|     2022-02-17|3166123637398|1-4822-8784-6|           378|162.97|\n",
       "|012478|                07/23|30072722359174|American Express|       689|     GB51SZOU538484531...|2020-01-27|17:08:10|40.179.153.24|9bcd:ee0c:af68:33...|   25921298|019458805|   8703114|102803370|48.760.531/0001-09|     2011-12-13|2550608407612|0-399-05121-X|           732| 75.62|\n",
       "|012478|                07/23|30072722359174|American Express|       689|     GB51SZOU538484531...|2020-01-27|17:08:10|40.179.153.24|9bcd:ee0c:af68:33...|   25921298|019458805|   8703114|084858867|10.752.843/0001-06|     2015-04-30|6207011925788|1-03-549652-6|           635|237.67|\n",
       "|012478|                07/23|30072722359174|American Express|       689|     GB51SZOU538484531...|2020-01-27|17:08:10|40.179.153.24|9bcd:ee0c:af68:33...|   25921298|019458805|   8703114|059303729|05.129.783/0001-21|     2001-08-25|1641133648784|0-620-46508-5|           107| 61.41|\n",
       "|012478|                07/23|30072722359174|American Express|       689|     GB51SZOU538484531...|2020-01-27|17:08:10|40.179.153.24|9bcd:ee0c:af68:33...|   25921298|019458805|   8703114|064175052|65.301.927/0001-07|     2008-05-29|6905480714673|1-876722-64-9|           795| 85.56|\n",
       "|012478|                07/23|30072722359174|American Express|       689|     GB51SZOU538484531...|2020-01-27|17:08:10|40.179.153.24|9bcd:ee0c:af68:33...|   25921298|019458805|   8703114|080608956|90.563.247/0001-09|     2011-10-05|0332981484891|1-925760-25-1|           203|107.63|\n",
       "|012478|                07/23|30072722359174|American Express|       689|     GB51SZOU538484531...|2020-01-27|17:08:10|40.179.153.24|9bcd:ee0c:af68:33...|   25921298|019458805|   8703114|018453254|95.367.280/0001-87|     2012-11-02|0507454098268|0-609-21722-4|           043| 52.94|\n",
       "|012478|                07/23|30072722359174|American Express|       689|     GB51SZOU538484531...|2020-01-27|17:08:10|40.179.153.24|9bcd:ee0c:af68:33...|   25921298|019458805|   8703114|021765997|59.374.801/0001-60|     2014-05-17|4743679337089|1-85580-232-5|           499|143.43|\n",
       "|012478|                07/23|30072722359174|American Express|       689|     GB51SZOU538484531...|2020-01-27|17:08:10|40.179.153.24|9bcd:ee0c:af68:33...|   25921298|019458805|   8703114|023911383|98.526.047/0001-98|     2005-11-12|4165252098109|1-369-22273-4|           599| 121.0|\n",
       "|012478|                07/23|30072722359174|American Express|       689|     GB51SZOU538484531...|2020-01-27|17:08:10|40.179.153.24|9bcd:ee0c:af68:33...|   25921298|019458805|   8703114|029667220|20.136.498/0001-21|     2008-09-22|9813450961422|0-466-92503-4|           474|175.32|\n",
       "|012478|                07/23|30072722359174|American Express|       689|     GB51SZOU538484531...|2020-01-27|17:08:10|40.179.153.24|9bcd:ee0c:af68:33...|   25921298|019458805|   8703114|030099528|28.103.975/0001-64|     2000-02-06|9164658045347|0-904222-71-3|           292|208.39|\n",
       "|012478|                07/23|30072722359174|American Express|       689|     GB51SZOU538484531...|2020-01-27|17:08:10|40.179.153.24|9bcd:ee0c:af68:33...|   25921298|019458805|   8703114|034553086|29.507.683/0001-50|     2016-12-29|7318970609554|1-4989-7802-9|           540|113.52|\n",
       "|012478|                07/23|30072722359174|American Express|       689|     GB51SZOU538484531...|2020-01-27|17:08:10|40.179.153.24|9bcd:ee0c:af68:33...|   25921298|019458805|   8703114|035350343|25.491.073/0001-54|     2003-11-29|7630092024962|1-957157-95-X|           109| 58.61|\n",
       "|012478|                07/23|30072722359174|American Express|       689|     GB51SZOU538484531...|2020-01-27|17:08:10|40.179.153.24|9bcd:ee0c:af68:33...|   25921298|019458805|   8703114|017477529|39.507.184/0001-16|     2005-09-23|5930606400018|1-393-77728-7|           747|232.65|\n",
       "+------+---------------------+--------------+----------------+----------+-------------------------+----------+--------+-------------+--------------------+-----------+---------+----------+---------+------------------+---------------+-------------+-------------+--------------+------+\n",
       "only showing top 20 rows"
      ]
     },
     "execution_count": 79,
     "metadata": {},
     "output_type": "execute_result"
    }
   ],
   "source": [
    "compras.join(livros, cond, 'inner')"
   ]
  },
  {
   "cell_type": "code",
   "execution_count": null,
   "id": "4ff5da6a-6d38-48e1-8016-3d1cdd5704ec",
   "metadata": {},
   "outputs": [],
   "source": []
  },
  {
   "cell_type": "code",
   "execution_count": null,
   "id": "a6b24523-41cf-4d79-82d7-50e2cd9b9e38",
   "metadata": {},
   "outputs": [],
   "source": []
  },
  {
   "cell_type": "code",
   "execution_count": null,
   "id": "c39ac7a6-6112-44c7-adaa-57f00d33a074",
   "metadata": {},
   "outputs": [],
   "source": []
  },
  {
   "cell_type": "code",
   "execution_count": null,
   "id": "bcf43503-bb15-43e0-995b-e2f44759d366",
   "metadata": {},
   "outputs": [],
   "source": []
  }
 ],
 "metadata": {
  "kernelspec": {
   "display_name": "Python [conda env:base] *",
   "language": "python",
   "name": "conda-base-py"
  },
  "language_info": {
   "codemirror_mode": {
    "name": "ipython",
    "version": 3
   },
   "file_extension": ".py",
   "mimetype": "text/x-python",
   "name": "python",
   "nbconvert_exporter": "python",
   "pygments_lexer": "ipython3",
   "version": "3.12.7"
  }
 },
 "nbformat": 4,
 "nbformat_minor": 5
}
