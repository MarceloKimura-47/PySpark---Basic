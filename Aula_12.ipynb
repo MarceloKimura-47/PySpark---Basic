{
 "cells": [
  {
   "cell_type": "code",
   "execution_count": 2,
   "id": "232cf9e2-8441-4908-9d0e-9ec365a1bfd2",
   "metadata": {},
   "outputs": [
    {
     "data": {
      "text/html": [
       "\n",
       "            <div>\n",
       "                <p><b>SparkSession - in-memory</b></p>\n",
       "                \n",
       "        <div>\n",
       "            <p><b>SparkContext</b></p>\n",
       "\n",
       "            <p><a href=\"http://DESKTOP-M2UR532:4047\">Spark UI</a></p>\n",
       "\n",
       "            <dl>\n",
       "              <dt>Version</dt>\n",
       "                <dd><code>v3.3.2</code></dd>\n",
       "              <dt>Master</dt>\n",
       "                <dd><code>local[*]</code></dd>\n",
       "              <dt>AppName</dt>\n",
       "                <dd><code>Curso PySpark</code></dd>\n",
       "            </dl>\n",
       "        </div>\n",
       "        \n",
       "            </div>\n",
       "        "
      ],
      "text/plain": [
       "<pyspark.sql.session.SparkSession at 0x2474b2935c0>"
      ]
     },
     "execution_count": 2,
     "metadata": {},
     "output_type": "execute_result"
    }
   ],
   "source": [
    "from pyspark.sql import SparkSession\n",
    "import pyspark.sql.functions as F\n",
    "\n",
    "spark = (\n",
    "    SparkSession.builder.appName('Curso PySpark')\n",
    "    .config('spark.sql.repl.eagerEval.enabled',True)\n",
    "    .getOrCreate()\n",
    ")\n",
    "\n",
    "spark"
   ]
  },
  {
   "cell_type": "code",
   "execution_count": 4,
   "id": "dab1c0a2-b804-4aea-8f18-152ec7ddb538",
   "metadata": {},
   "outputs": [],
   "source": [
    "df = spark.read.parquet('C:/Users/Kimura/Desktop/Curso PySpark/DATASETS/DATASETS/LOGINS.parquet')\n"
   ]
  },
  {
   "cell_type": "code",
   "execution_count": 12,
   "id": "444f64e1-eae4-4172-8c75-a61d3ad63b24",
   "metadata": {
    "scrolled": true
   },
   "outputs": [
    {
     "data": {
      "text/html": [
       "<table border='1'>\n",
       "<tr><th>estado</th><th>quantidade</th></tr>\n",
       "<tr><td>SC</td><td>44</td></tr>\n",
       "<tr><td>RO</td><td>39</td></tr>\n",
       "<tr><td>PI</td><td>35</td></tr>\n",
       "<tr><td>AM</td><td>34</td></tr>\n",
       "<tr><td>RR</td><td>33</td></tr>\n",
       "<tr><td>GO</td><td>45</td></tr>\n",
       "<tr><td>TO</td><td>34</td></tr>\n",
       "<tr><td>MT</td><td>29</td></tr>\n",
       "<tr><td>SP</td><td>49</td></tr>\n",
       "<tr><td>ES</td><td>38</td></tr>\n",
       "<tr><td>PB</td><td>34</td></tr>\n",
       "<tr><td>RS</td><td>39</td></tr>\n",
       "<tr><td>MS</td><td>42</td></tr>\n",
       "<tr><td>AL</td><td>36</td></tr>\n",
       "<tr><td>MG</td><td>46</td></tr>\n",
       "<tr><td>PA</td><td>28</td></tr>\n",
       "<tr><td>BA</td><td>42</td></tr>\n",
       "<tr><td>SE</td><td>44</td></tr>\n",
       "<tr><td>PE</td><td>34</td></tr>\n",
       "<tr><td>CE</td><td>45</td></tr>\n",
       "</table>\n",
       "only showing top 20 rows\n"
      ],
      "text/plain": [
       "+------+----------+\n",
       "|estado|quantidade|\n",
       "+------+----------+\n",
       "|    SC|        44|\n",
       "|    RO|        39|\n",
       "|    PI|        35|\n",
       "|    AM|        34|\n",
       "|    RR|        33|\n",
       "|    GO|        45|\n",
       "|    TO|        34|\n",
       "|    MT|        29|\n",
       "|    SP|        49|\n",
       "|    ES|        38|\n",
       "|    PB|        34|\n",
       "|    RS|        39|\n",
       "|    MS|        42|\n",
       "|    AL|        36|\n",
       "|    MG|        46|\n",
       "|    PA|        28|\n",
       "|    BA|        42|\n",
       "|    SE|        44|\n",
       "|    PE|        34|\n",
       "|    CE|        45|\n",
       "+------+----------+\n",
       "only showing top 20 rows"
      ]
     },
     "execution_count": 12,
     "metadata": {},
     "output_type": "execute_result"
    }
   ],
   "source": [
    "df.groupBy('estado').agg(F.count('*').alias('quantidade'))"
   ]
  },
  {
   "cell_type": "code",
   "execution_count": 24,
   "id": "92f3806f-24bd-4e45-9ab1-fb6f8a6ba60a",
   "metadata": {
    "scrolled": true
   },
   "outputs": [
    {
     "data": {
      "text/html": [
       "<table border='1'>\n",
       "<tr><th>UF</th><th>quantidade</th></tr>\n",
       "<tr><td>SC</td><td>44</td></tr>\n",
       "<tr><td>RO</td><td>39</td></tr>\n",
       "<tr><td>PI</td><td>35</td></tr>\n",
       "<tr><td>AM</td><td>34</td></tr>\n",
       "<tr><td>RR</td><td>33</td></tr>\n",
       "<tr><td>GO</td><td>45</td></tr>\n",
       "<tr><td>TO</td><td>34</td></tr>\n",
       "<tr><td>MT</td><td>29</td></tr>\n",
       "<tr><td>SP</td><td>49</td></tr>\n",
       "<tr><td>ES</td><td>38</td></tr>\n",
       "<tr><td>PB</td><td>34</td></tr>\n",
       "<tr><td>RS</td><td>39</td></tr>\n",
       "<tr><td>MS</td><td>42</td></tr>\n",
       "<tr><td>AL</td><td>36</td></tr>\n",
       "<tr><td>MG</td><td>46</td></tr>\n",
       "<tr><td>PA</td><td>28</td></tr>\n",
       "<tr><td>BA</td><td>42</td></tr>\n",
       "<tr><td>SE</td><td>44</td></tr>\n",
       "<tr><td>PE</td><td>34</td></tr>\n",
       "<tr><td>CE</td><td>45</td></tr>\n",
       "</table>\n",
       "only showing top 20 rows\n"
      ],
      "text/plain": [
       "+---+----------+\n",
       "| UF|quantidade|\n",
       "+---+----------+\n",
       "| SC|        44|\n",
       "| RO|        39|\n",
       "| PI|        35|\n",
       "| AM|        34|\n",
       "| RR|        33|\n",
       "| GO|        45|\n",
       "| TO|        34|\n",
       "| MT|        29|\n",
       "| SP|        49|\n",
       "| ES|        38|\n",
       "| PB|        34|\n",
       "| RS|        39|\n",
       "| MS|        42|\n",
       "| AL|        36|\n",
       "| MG|        46|\n",
       "| PA|        28|\n",
       "| BA|        42|\n",
       "| SE|        44|\n",
       "| PE|        34|\n",
       "| CE|        45|\n",
       "+---+----------+\n",
       "only showing top 20 rows"
      ]
     },
     "execution_count": 24,
     "metadata": {},
     "output_type": "execute_result"
    }
   ],
   "source": [
    "df.groupBy(F.col('estado').alias('UF')).agg(F.count('*').alias('quantidade'))"
   ]
  },
  {
   "cell_type": "code",
   "execution_count": 26,
   "id": "fd3c80d8-6521-4a47-8b8c-7ba12735e349",
   "metadata": {},
   "outputs": [],
   "source": [
    "df1 = df.alias('loggins')"
   ]
  },
  {
   "cell_type": "code",
   "execution_count": 28,
   "id": "39a806f0-3262-49fd-960a-7382dff07824",
   "metadata": {
    "scrolled": true
   },
   "outputs": [
    {
     "data": {
      "text/html": [
       "<table border='1'>\n",
       "<tr><th>cpf</th><th>cpf</th></tr>\n",
       "<tr><td>981.507.362-12</td><td>981.507.362-12</td></tr>\n",
       "<tr><td>493.705.168-75</td><td>493.705.168-75</td></tr>\n",
       "<tr><td>398.471.625-73</td><td>398.471.625-73</td></tr>\n",
       "<tr><td>092.618.354-06</td><td>092.618.354-06</td></tr>\n",
       "<tr><td>509.427.136-99</td><td>509.427.136-99</td></tr>\n",
       "<tr><td>218.795.460-94</td><td>218.795.460-94</td></tr>\n",
       "<tr><td>715.836.940-48</td><td>715.836.940-48</td></tr>\n",
       "<tr><td>475.698.032-56</td><td>475.698.032-56</td></tr>\n",
       "<tr><td>217.639.540-99</td><td>217.639.540-99</td></tr>\n",
       "<tr><td>261.938.750-77</td><td>261.938.750-77</td></tr>\n",
       "<tr><td>520.831.796-68</td><td>520.831.796-68</td></tr>\n",
       "<tr><td>413.087.526-44</td><td>413.087.526-44</td></tr>\n",
       "<tr><td>509.287.143-14</td><td>509.287.143-14</td></tr>\n",
       "<tr><td>563.170.492-70</td><td>563.170.492-70</td></tr>\n",
       "<tr><td>098.712.346-78</td><td>098.712.346-78</td></tr>\n",
       "<tr><td>345.709.261-34</td><td>345.709.261-34</td></tr>\n",
       "<tr><td>318.254.906-51</td><td>318.254.906-51</td></tr>\n",
       "<tr><td>610.287.453-62</td><td>610.287.453-62</td></tr>\n",
       "<tr><td>615.790.842-49</td><td>615.790.842-49</td></tr>\n",
       "<tr><td>624.095.138-24</td><td>624.095.138-24</td></tr>\n",
       "</table>\n",
       "only showing top 20 rows\n"
      ],
      "text/plain": [
       "+--------------+--------------+\n",
       "|           cpf|           cpf|\n",
       "+--------------+--------------+\n",
       "|981.507.362-12|981.507.362-12|\n",
       "|493.705.168-75|493.705.168-75|\n",
       "|398.471.625-73|398.471.625-73|\n",
       "|092.618.354-06|092.618.354-06|\n",
       "|509.427.136-99|509.427.136-99|\n",
       "|218.795.460-94|218.795.460-94|\n",
       "|715.836.940-48|715.836.940-48|\n",
       "|475.698.032-56|475.698.032-56|\n",
       "|217.639.540-99|217.639.540-99|\n",
       "|261.938.750-77|261.938.750-77|\n",
       "|520.831.796-68|520.831.796-68|\n",
       "|413.087.526-44|413.087.526-44|\n",
       "|509.287.143-14|509.287.143-14|\n",
       "|563.170.492-70|563.170.492-70|\n",
       "|098.712.346-78|098.712.346-78|\n",
       "|345.709.261-34|345.709.261-34|\n",
       "|318.254.906-51|318.254.906-51|\n",
       "|610.287.453-62|610.287.453-62|\n",
       "|615.790.842-49|615.790.842-49|\n",
       "|624.095.138-24|624.095.138-24|\n",
       "+--------------+--------------+\n",
       "only showing top 20 rows"
      ]
     },
     "execution_count": 28,
     "metadata": {},
     "output_type": "execute_result"
    }
   ],
   "source": [
    "df1.select('cpf','loggins.cpf')"
   ]
  },
  {
   "cell_type": "code",
   "execution_count": null,
   "id": "d17e651a-6e49-4527-af1d-64e3b2ee73ca",
   "metadata": {},
   "outputs": [],
   "source": []
  },
  {
   "cell_type": "code",
   "execution_count": null,
   "id": "1b19b6fe-7e2c-4844-b79e-b30ba949865d",
   "metadata": {},
   "outputs": [],
   "source": []
  },
  {
   "cell_type": "code",
   "execution_count": null,
   "id": "bcbfd6db-d42c-4669-b2fc-cb4229861060",
   "metadata": {},
   "outputs": [],
   "source": []
  },
  {
   "cell_type": "code",
   "execution_count": null,
   "id": "2c07eced-2ea8-4b09-af3f-693dd5b163fc",
   "metadata": {},
   "outputs": [],
   "source": []
  },
  {
   "cell_type": "code",
   "execution_count": null,
   "id": "0b8a8d3f-2e75-4338-939f-405a9cf44d25",
   "metadata": {},
   "outputs": [],
   "source": []
  },
  {
   "cell_type": "code",
   "execution_count": null,
   "id": "bf6956c4-f82c-464f-8f3d-f6f23df8cc02",
   "metadata": {},
   "outputs": [],
   "source": []
  }
 ],
 "metadata": {
  "kernelspec": {
   "display_name": "Python [conda env:base] *",
   "language": "python",
   "name": "conda-base-py"
  },
  "language_info": {
   "codemirror_mode": {
    "name": "ipython",
    "version": 3
   },
   "file_extension": ".py",
   "mimetype": "text/x-python",
   "name": "python",
   "nbconvert_exporter": "python",
   "pygments_lexer": "ipython3",
   "version": "3.12.7"
  }
 },
 "nbformat": 4,
 "nbformat_minor": 5
}
