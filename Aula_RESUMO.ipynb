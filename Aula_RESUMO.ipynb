{
 "cells": [
  {
   "cell_type": "markdown",
   "id": "8c138c5d-a0e4-4f68-bc1f-d3a6eed6c81c",
   "metadata": {},
   "source": [
    "## Resumo PySpark\n",
    "\n",
    "#### Primeiros passos: Instalação e importação da biblioteca e módulos.\n",
    "\n",
    "Caso não se tenha instalado o PySpark basta executar o comando:\\\n",
    "`!pip install pyspark==3.3.2`  (o ==3.3.2 é opcional)\n",
    "\n",
    "Após a instalação da biblioteca iremos importar para o kernel e em seguida criar a sessão do spark como mostra o código abaixo:\n",
    "\n",
    "Finalizamos o código com `spark`."
   ]
  },
  {
   "cell_type": "code",
   "execution_count": 67,
   "id": "15419d87-270a-4b82-a3e1-9b5f9af752a9",
   "metadata": {},
   "outputs": [
    {
     "data": {
      "text/html": [
       "\n",
       "            <div>\n",
       "                <p><b>SparkSession - in-memory</b></p>\n",
       "                \n",
       "        <div>\n",
       "            <p><b>SparkContext</b></p>\n",
       "\n",
       "            <p><a href=\"http://host.docker.internal:4040\">Spark UI</a></p>\n",
       "\n",
       "            <dl>\n",
       "              <dt>Version</dt>\n",
       "                <dd><code>v3.3.2</code></dd>\n",
       "              <dt>Master</dt>\n",
       "                <dd><code>local[*]</code></dd>\n",
       "              <dt>AppName</dt>\n",
       "                <dd><code>Curso PySpark</code></dd>\n",
       "            </dl>\n",
       "        </div>\n",
       "        \n",
       "            </div>\n",
       "        "
      ],
      "text/plain": [
       "<pyspark.sql.session.SparkSession at 0x1d14a7810a0>"
      ]
     },
     "execution_count": 67,
     "metadata": {},
     "output_type": "execute_result"
    }
   ],
   "source": [
    "from pyspark.sql import SparkSession\n",
    "import pyspark.sql.functions as F\n",
    "\n",
    "spark = (\n",
    "    SparkSession.builder.appName('Curso PySpark')\n",
    "    .config('spark.sql.repl.eagerEval.enabled',True)\n",
    "    .getOrCreate()\n",
    ")\n",
    "\n",
    "spark"
   ]
  },
  {
   "cell_type": "markdown",
   "id": "8662bcc7-4efc-4a81-88b5-44560ba89e7c",
   "metadata": {},
   "source": [
    "#### Importando dados e criando DataFrames\n",
    "\n",
    "Para isso o comando é bem simples, basta criar a variável DataFrame `df` e em seguida aplicar o comando:\n",
    "\n",
    "`df = spark.read` + `.csv`  |  `.txt`  |  `.parquet`  | etc... depende do tipo de arquivo que estará sendo utilizado na sessão.\\\n",
    "O código completo ficaria mais ou menos assim:\n",
    "\n",
    "`df = spark.read.csv(\"Caminho do Arquivo + .tipo arquivo\"`"
   ]
  },
  {
   "cell_type": "code",
   "execution_count": 28,
   "id": "80837278-eeea-4b05-9575-ca06d173be27",
   "metadata": {},
   "outputs": [],
   "source": [
    "df = spark.read.parquet('C:/Users/Kimura/Desktop/Curso PySpark/DATASETS/DATASETS/LOGINS.parquet')"
   ]
  },
  {
   "cell_type": "markdown",
   "id": "1a7b7ddb-0375-45de-838d-32afae1179a8",
   "metadata": {},
   "source": [
    "### Comandos de checagens básicas do DataFrame\n",
    "\n",
    "`df.show()` --> é um tipo de print da tabela em um formato mais \"cru\" (podemos usar o `df` apenas); \\\n",
    "`df.printSchema()` --> esse é um comando que traz informações das colunas, tipo do dado e existência de dados nulos; \\\n",
    "`df.count()` --> contagem da quantidade de linhas do DF. \\\n",
    "`df.describe()` --> igual ao describe do pandas, traz algumas informações estatísticas do DF; \\\n",
    "`df.columns` --> traz os nomes das colunas; \\\n",
    "`df.dtypes` --> traz os nomes das colunas e o seu tipo de dado.\n",
    "\n"
   ]
  },
  {
   "cell_type": "code",
   "execution_count": 40,
   "id": "efe06a06-6dfe-47fc-92f9-b45a7812bbf0",
   "metadata": {
    "collapsed": true,
    "jupyter": {
     "outputs_hidden": true
    }
   },
   "outputs": [
    {
     "name": "stdout",
     "output_type": "stream",
     "text": [
      "+--------------+--------------------+----------+------------------+------+-------------+---------------+------------+--------------------+-------------------+\n",
      "|           cpf|               email|     senha|data_de_nascimento|estado|data_cadastro|           ipv4|cor_favorita|           profissao|           telefone|\n",
      "+--------------+--------------------+----------+------------------+------+-------------+---------------+------------+--------------------+-------------------+\n",
      "|981.507.362-12|pedro-lucas53@gma...|+7^7E%xFBc|        2006-12-18|    RR|   2023-02-26| 99.107.250.210|        Roxo|    Jogador De Golfe|       31 7785-4046|\n",
      "|493.705.168-75|rezendeisaac@hotm...|_O_2GRnGOe|        1992-06-17|    GO|   2023-02-16|  197.11.26.213|       Ciano|Atleta De Arremes...|    (031) 0803-6753|\n",
      "|398.471.625-73|felipepires@uol.c...|*Aw5EOAvy9|        1921-11-11|    MG|   2023-01-02|   181.90.63.58|        Azul|      Papiloscopista|       11 9674-0553|\n",
      "|092.618.354-06|stellamoraes@bol....|mw0AWYAs#s|        2021-06-01|    AC|   2023-01-08|  26.121.127.94|      Marrom|            Aeromoça|+55 (071) 3033 9177|\n",
      "|509.427.136-99| wcarvalho@ig.com.br|pGD%!2Pq5X|        1969-10-28|    AP|   2023-02-14|  76.184.52.163|     Laranja|       Fonoaudiólogo|+55 (071) 6272 2468|\n",
      "|218.795.460-94|da-conceicaodavi-...|uhBbFxPA&9|        1986-05-19|    MG|   2023-03-07|    192.93.0.24|        Rosa|             Taxista|   +55 84 0652 9691|\n",
      "|715.836.940-48| efreitas@bol.com.br|s#q9VZt&xl|        2018-04-20|    MG|   2023-01-13| 76.251.188.148|      Branco|Produtor De Audio...|+55 (084) 1363 0052|\n",
      "|475.698.032-56|   wnunes@bol.com.br|_8az1W%n7g|        1996-05-12|    SE|   2023-02-04|139.196.176.154|        Azul|          Cadeirinha|    (071) 1640-3388|\n",
      "|217.639.540-99| jribeiro@bol.com.br|MEf1X7fj_0|        2021-10-05|    PA|   2023-03-02|    71.22.224.5|      Marrom|             Geólogo|       21 1432 4092|\n",
      "|261.938.750-77|  murilo05@gmail.com|Te&gO7GkKs|        1917-01-05|    MT|   2023-02-21| 136.54.123.165|      Marrom|      Técnico De Som|+55 (084) 5878-3346|\n",
      "|520.831.796-68| joaquim57@ig.com.br|&2E1NY+ARc|        1912-05-25|    BA|   2023-01-25| 78.196.255.126|        Rosa|         Esteticista|       41 7914-3753|\n",
      "|413.087.526-44|alexiada-rocha@ig...|@f@!Z!2c*2|        1920-05-26|    MS|   2023-02-18|  182.61.65.201|     Laranja|        Microfonista|    (021) 3739-2944|\n",
      "|509.287.143-14|   pmendes@gmail.com|M+^XDBfe(2|        1938-03-11|    RR|   2023-01-19|  61.234.208.17| Verde Claro|              Fiscal|+55 (084) 5940-1932|\n",
      "|563.170.492-70|  renan46@bol.com.br|Rp%2pVqfe$|        1922-09-01|    PA|   2023-02-01| 122.203.83.177|Verde Escuro|        Contabilista|   +55 41 6248 5773|\n",
      "|098.712.346-78|manuelada-rosa@ho...|#hEIEOztQ3|        2013-01-10|    SE|   2023-01-07|  175.18.73.211|     Violeta| Seguidor De Compras|       51 0278 0564|\n",
      "|345.709.261-34|    usales@ig.com.br|b_8xaY$ozJ|        1992-10-16|    AM|   2023-01-05|    97.93.29.75|        Rosa|           Almirante|    (084) 8993-4521|\n",
      "|318.254.906-51|pereiranicolas@ho...|YA9I85Wb+2|        1945-11-18|    MA|   2023-01-24| 182.195.33.137|     Amarelo|   Consultor De Moda|    (084) 4591 3795|\n",
      "|610.287.453-62|cardosolivia@ig.c...|yXkDW7Ebh*|        1915-11-15|    GO|   2023-01-22| 195.194.63.184|     Laranja|            Barbeiro|   +55 61 8967-9563|\n",
      "|615.790.842-49|  brenda39@ig.com.br|XS$84Hpsnw|        1964-02-01|    RJ|   2023-02-16|  21.252.226.29|      Branco|  Promotor De Vendas|+55 (021) 4751 2004|\n",
      "|624.095.138-24|luizapeixoto@gmai...|TbKy82Kda$|        1959-02-01|    DF|   2023-02-25|  105.107.23.13|       Ciano|    Implantodontista|       84 1293 1906|\n",
      "+--------------+--------------------+----------+------------------+------+-------------+---------------+------------+--------------------+-------------------+\n",
      "only showing top 20 rows\n",
      "\n"
     ]
    }
   ],
   "source": [
    "df.show()"
   ]
  },
  {
   "cell_type": "code",
   "execution_count": 42,
   "id": "b32757d6-3533-4748-8a22-56b549872b98",
   "metadata": {},
   "outputs": [
    {
     "data": {
      "text/plain": [
       "1000"
      ]
     },
     "execution_count": 42,
     "metadata": {},
     "output_type": "execute_result"
    }
   ],
   "source": [
    "df.count()"
   ]
  },
  {
   "cell_type": "code",
   "execution_count": 44,
   "id": "ee29633a-542f-4dc3-a734-34e177a7ca53",
   "metadata": {},
   "outputs": [
    {
     "data": {
      "text/plain": [
       "['cpf',\n",
       " 'email',\n",
       " 'senha',\n",
       " 'data_de_nascimento',\n",
       " 'estado',\n",
       " 'data_cadastro',\n",
       " 'ipv4',\n",
       " 'cor_favorita',\n",
       " 'profissao',\n",
       " 'telefone']"
      ]
     },
     "execution_count": 44,
     "metadata": {},
     "output_type": "execute_result"
    }
   ],
   "source": [
    "df.columns"
   ]
  },
  {
   "cell_type": "code",
   "execution_count": 46,
   "id": "c1bdf744-9919-48c4-84a8-d4fd21e985db",
   "metadata": {
    "collapsed": true,
    "jupyter": {
     "outputs_hidden": true
    }
   },
   "outputs": [
    {
     "name": "stdout",
     "output_type": "stream",
     "text": [
      "root\n",
      " |-- cpf: string (nullable = true)\n",
      " |-- email: string (nullable = true)\n",
      " |-- senha: string (nullable = true)\n",
      " |-- data_de_nascimento: date (nullable = true)\n",
      " |-- estado: string (nullable = true)\n",
      " |-- data_cadastro: date (nullable = true)\n",
      " |-- ipv4: string (nullable = true)\n",
      " |-- cor_favorita: string (nullable = true)\n",
      " |-- profissao: string (nullable = true)\n",
      " |-- telefone: string (nullable = true)\n",
      "\n"
     ]
    }
   ],
   "source": [
    "df.printSchema()"
   ]
  },
  {
   "cell_type": "code",
   "execution_count": 55,
   "id": "1e830d57-3929-4ee0-af8d-c1d4e163532f",
   "metadata": {
    "collapsed": true,
    "jupyter": {
     "outputs_hidden": true
    },
    "scrolled": true
   },
   "outputs": [
    {
     "data": {
      "text/plain": [
       "[('cpf', 'string'),\n",
       " ('email', 'string'),\n",
       " ('senha', 'string'),\n",
       " ('data_de_nascimento', 'date'),\n",
       " ('estado', 'string'),\n",
       " ('data_cadastro', 'date'),\n",
       " ('ipv4', 'string'),\n",
       " ('cor_favorita', 'string'),\n",
       " ('profissao', 'string'),\n",
       " ('telefone', 'string')]"
      ]
     },
     "execution_count": 55,
     "metadata": {},
     "output_type": "execute_result"
    }
   ],
   "source": [
    "df.dtypes"
   ]
  },
  {
   "cell_type": "code",
   "execution_count": 59,
   "id": "2d208ab1-02b6-4367-909d-2e04bbfd3088",
   "metadata": {
    "collapsed": true,
    "jupyter": {
     "outputs_hidden": true
    }
   },
   "outputs": [
    {
     "data": {
      "text/html": [
       "<table border='1'>\n",
       "<tr><th>summary</th><th>cpf</th><th>email</th><th>senha</th><th>estado</th><th>ipv4</th><th>cor_favorita</th><th>profissao</th><th>telefone</th></tr>\n",
       "<tr><td>count</td><td>1000</td><td>1000</td><td>1000</td><td>1000</td><td>1000</td><td>1000</td><td>1000</td><td>1000</td></tr>\n",
       "<tr><td>mean</td><td>null</td><td>null</td><td>null</td><td>null</td><td>null</td><td>null</td><td>null</td><td>null</td></tr>\n",
       "<tr><td>stddev</td><td>null</td><td>null</td><td>null</td><td>null</td><td>null</td><td>null</td><td>null</td><td>null</td></tr>\n",
       "<tr><td>min</td><td>012.469.857-30</td><td>aaragao@hotmail.com</td><td>!$A)4EAxE$</td><td>AC</td><td>1.122.154.219</td><td>Amarelo</td><td>Acompanhante</td><td>(011) 0026-5893</td></tr>\n",
       "<tr><td>max</td><td>987.620.341-03</td><td>zpinto@yahoo.com.br</td><td>zm1eLH9t%o</td><td>TO</td><td>99.31.171.138</td><td>Violeta</td><td>Árbitro E Mediador</td><td>84 9747-8522</td></tr>\n",
       "</table>\n"
      ],
      "text/plain": [
       "+-------+--------------+-------------------+----------+------+-------------+------------+------------------+---------------+\n",
       "|summary|           cpf|              email|     senha|estado|         ipv4|cor_favorita|         profissao|       telefone|\n",
       "+-------+--------------+-------------------+----------+------+-------------+------------+------------------+---------------+\n",
       "|  count|          1000|               1000|      1000|  1000|         1000|        1000|              1000|           1000|\n",
       "|   mean|          null|               null|      null|  null|         null|        null|              null|           null|\n",
       "| stddev|          null|               null|      null|  null|         null|        null|              null|           null|\n",
       "|    min|012.469.857-30|aaragao@hotmail.com|!$A)4EAxE$|    AC|1.122.154.219|     Amarelo|      Acompanhante|(011) 0026-5893|\n",
       "|    max|987.620.341-03|zpinto@yahoo.com.br|zm1eLH9t%o|    TO|99.31.171.138|     Violeta|Árbitro E Mediador|   84 9747-8522|\n",
       "+-------+--------------+-------------------+----------+------+-------------+------------+------------------+---------------+"
      ]
     },
     "execution_count": 59,
     "metadata": {},
     "output_type": "execute_result"
    }
   ],
   "source": [
    "df.describe()"
   ]
  },
  {
   "cell_type": "markdown",
   "id": "02b77c6c-3f7c-4c43-baa9-c6f06b459c43",
   "metadata": {},
   "source": [
    "## Seleção de Colunas do DataFrame\n",
    "\n",
    "Comando básico é o `.select(coluna1, coluna2, coluna3, ...)`\\\n",
    "O que teremos de diferente aqui são as variações de chamada de colunas.\n",
    "\n",
    "OBS: sempre mantenha um padrão de uso no código, as formas mais eficazes são:\\\n",
    "`df.select(df.coluna1, df.coluna2)`\\\n",
    "`df.select(F.col('coluna1', 'coluna2')`"
   ]
  },
  {
   "cell_type": "code",
   "execution_count": 85,
   "id": "afe8addf-2888-4c3e-a452-8a5c28772826",
   "metadata": {
    "collapsed": true,
    "jupyter": {
     "outputs_hidden": true
    }
   },
   "outputs": [
    {
     "data": {
      "text/html": [
       "<table border='1'>\n",
       "<tr><th>email</th><th>ipv4</th></tr>\n",
       "<tr><td>pedro-lucas53@gma...</td><td>99.107.250.210</td></tr>\n",
       "<tr><td>rezendeisaac@hotm...</td><td>197.11.26.213</td></tr>\n",
       "<tr><td>felipepires@uol.c...</td><td>181.90.63.58</td></tr>\n",
       "<tr><td>stellamoraes@bol....</td><td>26.121.127.94</td></tr>\n",
       "<tr><td>wcarvalho@ig.com.br</td><td>76.184.52.163</td></tr>\n",
       "<tr><td>da-conceicaodavi-...</td><td>192.93.0.24</td></tr>\n",
       "<tr><td>efreitas@bol.com.br</td><td>76.251.188.148</td></tr>\n",
       "<tr><td>wnunes@bol.com.br</td><td>139.196.176.154</td></tr>\n",
       "<tr><td>jribeiro@bol.com.br</td><td>71.22.224.5</td></tr>\n",
       "<tr><td>murilo05@gmail.com</td><td>136.54.123.165</td></tr>\n",
       "<tr><td>joaquim57@ig.com.br</td><td>78.196.255.126</td></tr>\n",
       "<tr><td>alexiada-rocha@ig...</td><td>182.61.65.201</td></tr>\n",
       "<tr><td>pmendes@gmail.com</td><td>61.234.208.17</td></tr>\n",
       "<tr><td>renan46@bol.com.br</td><td>122.203.83.177</td></tr>\n",
       "<tr><td>manuelada-rosa@ho...</td><td>175.18.73.211</td></tr>\n",
       "<tr><td>usales@ig.com.br</td><td>97.93.29.75</td></tr>\n",
       "<tr><td>pereiranicolas@ho...</td><td>182.195.33.137</td></tr>\n",
       "<tr><td>cardosolivia@ig.c...</td><td>195.194.63.184</td></tr>\n",
       "<tr><td>brenda39@ig.com.br</td><td>21.252.226.29</td></tr>\n",
       "<tr><td>luizapeixoto@gmai...</td><td>105.107.23.13</td></tr>\n",
       "</table>\n",
       "only showing top 20 rows\n"
      ],
      "text/plain": [
       "+--------------------+---------------+\n",
       "|               email|           ipv4|\n",
       "+--------------------+---------------+\n",
       "|pedro-lucas53@gma...| 99.107.250.210|\n",
       "|rezendeisaac@hotm...|  197.11.26.213|\n",
       "|felipepires@uol.c...|   181.90.63.58|\n",
       "|stellamoraes@bol....|  26.121.127.94|\n",
       "| wcarvalho@ig.com.br|  76.184.52.163|\n",
       "|da-conceicaodavi-...|    192.93.0.24|\n",
       "| efreitas@bol.com.br| 76.251.188.148|\n",
       "|   wnunes@bol.com.br|139.196.176.154|\n",
       "| jribeiro@bol.com.br|    71.22.224.5|\n",
       "|  murilo05@gmail.com| 136.54.123.165|\n",
       "| joaquim57@ig.com.br| 78.196.255.126|\n",
       "|alexiada-rocha@ig...|  182.61.65.201|\n",
       "|   pmendes@gmail.com|  61.234.208.17|\n",
       "|  renan46@bol.com.br| 122.203.83.177|\n",
       "|manuelada-rosa@ho...|  175.18.73.211|\n",
       "|    usales@ig.com.br|    97.93.29.75|\n",
       "|pereiranicolas@ho...| 182.195.33.137|\n",
       "|cardosolivia@ig.c...| 195.194.63.184|\n",
       "|  brenda39@ig.com.br|  21.252.226.29|\n",
       "|luizapeixoto@gmai...|  105.107.23.13|\n",
       "+--------------------+---------------+\n",
       "only showing top 20 rows"
      ]
     },
     "execution_count": 85,
     "metadata": {},
     "output_type": "execute_result"
    }
   ],
   "source": [
    "df.select('email','ipv4')"
   ]
  },
  {
   "cell_type": "code",
   "execution_count": 76,
   "id": "190d1a4a-8a92-4cd4-95fa-da75d79c9eb4",
   "metadata": {
    "collapsed": true,
    "jupyter": {
     "outputs_hidden": true
    }
   },
   "outputs": [
    {
     "data": {
      "text/html": [
       "<table border='1'>\n",
       "<tr><th>email</th><th>ipv4</th></tr>\n",
       "<tr><td>pedro-lucas53@gma...</td><td>99.107.250.210</td></tr>\n",
       "<tr><td>rezendeisaac@hotm...</td><td>197.11.26.213</td></tr>\n",
       "<tr><td>felipepires@uol.c...</td><td>181.90.63.58</td></tr>\n",
       "<tr><td>stellamoraes@bol....</td><td>26.121.127.94</td></tr>\n",
       "<tr><td>wcarvalho@ig.com.br</td><td>76.184.52.163</td></tr>\n",
       "<tr><td>da-conceicaodavi-...</td><td>192.93.0.24</td></tr>\n",
       "<tr><td>efreitas@bol.com.br</td><td>76.251.188.148</td></tr>\n",
       "<tr><td>wnunes@bol.com.br</td><td>139.196.176.154</td></tr>\n",
       "<tr><td>jribeiro@bol.com.br</td><td>71.22.224.5</td></tr>\n",
       "<tr><td>murilo05@gmail.com</td><td>136.54.123.165</td></tr>\n",
       "<tr><td>joaquim57@ig.com.br</td><td>78.196.255.126</td></tr>\n",
       "<tr><td>alexiada-rocha@ig...</td><td>182.61.65.201</td></tr>\n",
       "<tr><td>pmendes@gmail.com</td><td>61.234.208.17</td></tr>\n",
       "<tr><td>renan46@bol.com.br</td><td>122.203.83.177</td></tr>\n",
       "<tr><td>manuelada-rosa@ho...</td><td>175.18.73.211</td></tr>\n",
       "<tr><td>usales@ig.com.br</td><td>97.93.29.75</td></tr>\n",
       "<tr><td>pereiranicolas@ho...</td><td>182.195.33.137</td></tr>\n",
       "<tr><td>cardosolivia@ig.c...</td><td>195.194.63.184</td></tr>\n",
       "<tr><td>brenda39@ig.com.br</td><td>21.252.226.29</td></tr>\n",
       "<tr><td>luizapeixoto@gmai...</td><td>105.107.23.13</td></tr>\n",
       "</table>\n",
       "only showing top 20 rows\n"
      ],
      "text/plain": [
       "+--------------------+---------------+\n",
       "|               email|           ipv4|\n",
       "+--------------------+---------------+\n",
       "|pedro-lucas53@gma...| 99.107.250.210|\n",
       "|rezendeisaac@hotm...|  197.11.26.213|\n",
       "|felipepires@uol.c...|   181.90.63.58|\n",
       "|stellamoraes@bol....|  26.121.127.94|\n",
       "| wcarvalho@ig.com.br|  76.184.52.163|\n",
       "|da-conceicaodavi-...|    192.93.0.24|\n",
       "| efreitas@bol.com.br| 76.251.188.148|\n",
       "|   wnunes@bol.com.br|139.196.176.154|\n",
       "| jribeiro@bol.com.br|    71.22.224.5|\n",
       "|  murilo05@gmail.com| 136.54.123.165|\n",
       "| joaquim57@ig.com.br| 78.196.255.126|\n",
       "|alexiada-rocha@ig...|  182.61.65.201|\n",
       "|   pmendes@gmail.com|  61.234.208.17|\n",
       "|  renan46@bol.com.br| 122.203.83.177|\n",
       "|manuelada-rosa@ho...|  175.18.73.211|\n",
       "|    usales@ig.com.br|    97.93.29.75|\n",
       "|pereiranicolas@ho...| 182.195.33.137|\n",
       "|cardosolivia@ig.c...| 195.194.63.184|\n",
       "|  brenda39@ig.com.br|  21.252.226.29|\n",
       "|luizapeixoto@gmai...|  105.107.23.13|\n",
       "+--------------------+---------------+\n",
       "only showing top 20 rows"
      ]
     },
     "execution_count": 76,
     "metadata": {},
     "output_type": "execute_result"
    }
   ],
   "source": [
    "df.select(df.email, df.ipv4)"
   ]
  },
  {
   "cell_type": "code",
   "execution_count": 78,
   "id": "7c0a0f0e-e9b5-4f9d-a31c-21f445aa5eb3",
   "metadata": {
    "collapsed": true,
    "jupyter": {
     "outputs_hidden": true
    }
   },
   "outputs": [
    {
     "data": {
      "text/html": [
       "<table border='1'>\n",
       "<tr><th>email</th><th>ipv4</th></tr>\n",
       "<tr><td>pedro-lucas53@gma...</td><td>99.107.250.210</td></tr>\n",
       "<tr><td>rezendeisaac@hotm...</td><td>197.11.26.213</td></tr>\n",
       "<tr><td>felipepires@uol.c...</td><td>181.90.63.58</td></tr>\n",
       "<tr><td>stellamoraes@bol....</td><td>26.121.127.94</td></tr>\n",
       "<tr><td>wcarvalho@ig.com.br</td><td>76.184.52.163</td></tr>\n",
       "<tr><td>da-conceicaodavi-...</td><td>192.93.0.24</td></tr>\n",
       "<tr><td>efreitas@bol.com.br</td><td>76.251.188.148</td></tr>\n",
       "<tr><td>wnunes@bol.com.br</td><td>139.196.176.154</td></tr>\n",
       "<tr><td>jribeiro@bol.com.br</td><td>71.22.224.5</td></tr>\n",
       "<tr><td>murilo05@gmail.com</td><td>136.54.123.165</td></tr>\n",
       "<tr><td>joaquim57@ig.com.br</td><td>78.196.255.126</td></tr>\n",
       "<tr><td>alexiada-rocha@ig...</td><td>182.61.65.201</td></tr>\n",
       "<tr><td>pmendes@gmail.com</td><td>61.234.208.17</td></tr>\n",
       "<tr><td>renan46@bol.com.br</td><td>122.203.83.177</td></tr>\n",
       "<tr><td>manuelada-rosa@ho...</td><td>175.18.73.211</td></tr>\n",
       "<tr><td>usales@ig.com.br</td><td>97.93.29.75</td></tr>\n",
       "<tr><td>pereiranicolas@ho...</td><td>182.195.33.137</td></tr>\n",
       "<tr><td>cardosolivia@ig.c...</td><td>195.194.63.184</td></tr>\n",
       "<tr><td>brenda39@ig.com.br</td><td>21.252.226.29</td></tr>\n",
       "<tr><td>luizapeixoto@gmai...</td><td>105.107.23.13</td></tr>\n",
       "</table>\n",
       "only showing top 20 rows\n"
      ],
      "text/plain": [
       "+--------------------+---------------+\n",
       "|               email|           ipv4|\n",
       "+--------------------+---------------+\n",
       "|pedro-lucas53@gma...| 99.107.250.210|\n",
       "|rezendeisaac@hotm...|  197.11.26.213|\n",
       "|felipepires@uol.c...|   181.90.63.58|\n",
       "|stellamoraes@bol....|  26.121.127.94|\n",
       "| wcarvalho@ig.com.br|  76.184.52.163|\n",
       "|da-conceicaodavi-...|    192.93.0.24|\n",
       "| efreitas@bol.com.br| 76.251.188.148|\n",
       "|   wnunes@bol.com.br|139.196.176.154|\n",
       "| jribeiro@bol.com.br|    71.22.224.5|\n",
       "|  murilo05@gmail.com| 136.54.123.165|\n",
       "| joaquim57@ig.com.br| 78.196.255.126|\n",
       "|alexiada-rocha@ig...|  182.61.65.201|\n",
       "|   pmendes@gmail.com|  61.234.208.17|\n",
       "|  renan46@bol.com.br| 122.203.83.177|\n",
       "|manuelada-rosa@ho...|  175.18.73.211|\n",
       "|    usales@ig.com.br|    97.93.29.75|\n",
       "|pereiranicolas@ho...| 182.195.33.137|\n",
       "|cardosolivia@ig.c...| 195.194.63.184|\n",
       "|  brenda39@ig.com.br|  21.252.226.29|\n",
       "|luizapeixoto@gmai...|  105.107.23.13|\n",
       "+--------------------+---------------+\n",
       "only showing top 20 rows"
      ]
     },
     "execution_count": 78,
     "metadata": {},
     "output_type": "execute_result"
    }
   ],
   "source": [
    "df.select(df['email'], df['ipv4'])"
   ]
  },
  {
   "cell_type": "code",
   "execution_count": 82,
   "id": "5aff7d81-a7f5-4614-8eec-f12b436e60cf",
   "metadata": {
    "collapsed": true,
    "jupyter": {
     "outputs_hidden": true
    }
   },
   "outputs": [
    {
     "data": {
      "text/html": [
       "<table border='1'>\n",
       "<tr><th>email</th><th>ipv4</th></tr>\n",
       "<tr><td>pedro-lucas53@gma...</td><td>99.107.250.210</td></tr>\n",
       "<tr><td>rezendeisaac@hotm...</td><td>197.11.26.213</td></tr>\n",
       "<tr><td>felipepires@uol.c...</td><td>181.90.63.58</td></tr>\n",
       "<tr><td>stellamoraes@bol....</td><td>26.121.127.94</td></tr>\n",
       "<tr><td>wcarvalho@ig.com.br</td><td>76.184.52.163</td></tr>\n",
       "<tr><td>da-conceicaodavi-...</td><td>192.93.0.24</td></tr>\n",
       "<tr><td>efreitas@bol.com.br</td><td>76.251.188.148</td></tr>\n",
       "<tr><td>wnunes@bol.com.br</td><td>139.196.176.154</td></tr>\n",
       "<tr><td>jribeiro@bol.com.br</td><td>71.22.224.5</td></tr>\n",
       "<tr><td>murilo05@gmail.com</td><td>136.54.123.165</td></tr>\n",
       "<tr><td>joaquim57@ig.com.br</td><td>78.196.255.126</td></tr>\n",
       "<tr><td>alexiada-rocha@ig...</td><td>182.61.65.201</td></tr>\n",
       "<tr><td>pmendes@gmail.com</td><td>61.234.208.17</td></tr>\n",
       "<tr><td>renan46@bol.com.br</td><td>122.203.83.177</td></tr>\n",
       "<tr><td>manuelada-rosa@ho...</td><td>175.18.73.211</td></tr>\n",
       "<tr><td>usales@ig.com.br</td><td>97.93.29.75</td></tr>\n",
       "<tr><td>pereiranicolas@ho...</td><td>182.195.33.137</td></tr>\n",
       "<tr><td>cardosolivia@ig.c...</td><td>195.194.63.184</td></tr>\n",
       "<tr><td>brenda39@ig.com.br</td><td>21.252.226.29</td></tr>\n",
       "<tr><td>luizapeixoto@gmai...</td><td>105.107.23.13</td></tr>\n",
       "</table>\n",
       "only showing top 20 rows\n"
      ],
      "text/plain": [
       "+--------------------+---------------+\n",
       "|               email|           ipv4|\n",
       "+--------------------+---------------+\n",
       "|pedro-lucas53@gma...| 99.107.250.210|\n",
       "|rezendeisaac@hotm...|  197.11.26.213|\n",
       "|felipepires@uol.c...|   181.90.63.58|\n",
       "|stellamoraes@bol....|  26.121.127.94|\n",
       "| wcarvalho@ig.com.br|  76.184.52.163|\n",
       "|da-conceicaodavi-...|    192.93.0.24|\n",
       "| efreitas@bol.com.br| 76.251.188.148|\n",
       "|   wnunes@bol.com.br|139.196.176.154|\n",
       "| jribeiro@bol.com.br|    71.22.224.5|\n",
       "|  murilo05@gmail.com| 136.54.123.165|\n",
       "| joaquim57@ig.com.br| 78.196.255.126|\n",
       "|alexiada-rocha@ig...|  182.61.65.201|\n",
       "|   pmendes@gmail.com|  61.234.208.17|\n",
       "|  renan46@bol.com.br| 122.203.83.177|\n",
       "|manuelada-rosa@ho...|  175.18.73.211|\n",
       "|    usales@ig.com.br|    97.93.29.75|\n",
       "|pereiranicolas@ho...| 182.195.33.137|\n",
       "|cardosolivia@ig.c...| 195.194.63.184|\n",
       "|  brenda39@ig.com.br|  21.252.226.29|\n",
       "|luizapeixoto@gmai...|  105.107.23.13|\n",
       "+--------------------+---------------+\n",
       "only showing top 20 rows"
      ]
     },
     "execution_count": 82,
     "metadata": {},
     "output_type": "execute_result"
    }
   ],
   "source": [
    "df.select(F.col('email'), F.col('ipv4'))"
   ]
  },
  {
   "cell_type": "markdown",
   "id": "9a13f30e-9443-4f87-b611-5a6ba988ceb9",
   "metadata": {},
   "source": [
    "### Filter\n",
    "\n",
    "Sintaxe: `df.filter(CÓDIGO DE FILTRAGEM)`\n",
    "\n",
    "- `df.filter(\"estado == 'MG'\")`\n",
    "- `df.filter(df.estado == \"MG\")`\n",
    "\n",
    "Podemos utilizar os condicionais AND e OR:\n",
    "- AND = `&`\n",
    "- OR = `|`\n",
    "\n",
    "Ex.:\n",
    "- `df.filter((df.estado == \"MG\") & (df.cor_favorita == 'Azul'))`\n",
    "- `df.filter((df.cor_favorita == 'Ciano') | (df.cor_favorita == 'Azul'))`\n",
    "\n",
    "`df.filter` = `df.where`\n",
    "\n",
    "Quando temos vários OR podemos substituir por `isin`:\\\n",
    "`df.filter(df.cor_favorita.isin('Ciano','Azul'))`\n",
    "\n",
    "OBS: por uma questão de boa prática, atenção com a sintaxe entre parenteses + identação"
   ]
  },
  {
   "cell_type": "code",
   "execution_count": 107,
   "id": "0724791d-e3cf-4f9b-91aa-e5e7f9099840",
   "metadata": {
    "collapsed": true,
    "jupyter": {
     "outputs_hidden": true
    }
   },
   "outputs": [
    {
     "data": {
      "text/html": [
       "<table border='1'>\n",
       "<tr><th>cpf</th><th>email</th><th>senha</th><th>data_de_nascimento</th><th>estado</th><th>data_cadastro</th><th>ipv4</th><th>cor_favorita</th><th>profissao</th><th>telefone</th></tr>\n",
       "<tr><td>398.471.625-73</td><td>felipepires@uol.c...</td><td>*Aw5EOAvy9</td><td>1921-11-11</td><td>MG</td><td>2023-01-02</td><td>181.90.63.58</td><td>Azul</td><td>Papiloscopista</td><td>11 9674-0553</td></tr>\n",
       "<tr><td>218.795.460-94</td><td>da-conceicaodavi-...</td><td>uhBbFxPA&amp;9</td><td>1986-05-19</td><td>MG</td><td>2023-03-07</td><td>192.93.0.24</td><td>Rosa</td><td>Taxista</td><td>+55 84 0652 9691</td></tr>\n",
       "<tr><td>715.836.940-48</td><td>efreitas@bol.com.br</td><td>s#q9VZt&amp;xl</td><td>2018-04-20</td><td>MG</td><td>2023-01-13</td><td>76.251.188.148</td><td>Branco</td><td>Produtor De Audio...</td><td>+55 (084) 1363 0052</td></tr>\n",
       "<tr><td>348.215.690-51</td><td>omoreira@bol.com.br</td><td>!8maDkdVnY</td><td>2008-10-24</td><td>MG</td><td>2023-02-20</td><td>177.2.242.176</td><td>Verde Escuro</td><td>Adestrador De Ani...</td><td>+55 61 3217-9930</td></tr>\n",
       "<tr><td>137.964.520-43</td><td>natalia72@ig.com.br</td><td>i71MdCj2*^</td><td>1939-06-26</td><td>MG</td><td>2023-02-03</td><td>141.28.225.40</td><td>Branco</td><td>Espeleologista</td><td>(041) 8471 8007</td></tr>\n",
       "<tr><td>790.482.315-23</td><td>noaharagao@hotmai...</td><td>#i_LhbOX52</td><td>1922-03-19</td><td>MG</td><td>2023-01-25</td><td>170.188.237.119</td><td>Preto</td><td>Empacotador</td><td>+55 (031) 9156-3903</td></tr>\n",
       "<tr><td>872.041.936-87</td><td>fsilva@yahoo.com.br</td><td>B+E9r_CkU^</td><td>1926-05-20</td><td>MG</td><td>2023-01-04</td><td>220.1.100.77</td><td>Marrom</td><td>Mecânico De Vôo</td><td>(031) 9834-4568</td></tr>\n",
       "<tr><td>832.714.650-53</td><td>ijesus@gmail.com</td><td>JLr@1Mlr!Z</td><td>1983-05-21</td><td>MG</td><td>2023-01-25</td><td>84.142.120.51</td><td>Roxo</td><td>Ministro</td><td>81 9463-7374</td></tr>\n",
       "<tr><td>529.610.873-68</td><td>barbosajuliana@bo...</td><td>$!3Td!uO%^</td><td>2016-09-03</td><td>MG</td><td>2023-02-15</td><td>85.36.21.190</td><td>Amarelo</td><td>Lenhador</td><td>(061) 3713 1708</td></tr>\n",
       "<tr><td>198.256.734-19</td><td>valentina08@ig.co...</td><td>@BJV)ATd!8</td><td>1962-01-11</td><td>MG</td><td>2023-02-23</td><td>4.122.66.211</td><td>Verde</td><td>Atuário</td><td>71 4313-7632</td></tr>\n",
       "<tr><td>568.037.192-86</td><td>correiabreno@uol....</td><td>+7Msf8JW$)</td><td>1979-04-29</td><td>MG</td><td>2023-01-16</td><td>94.151.189.72</td><td>Roxo</td><td>Guia Turistico</td><td>61 5868-4411</td></tr>\n",
       "<tr><td>915.074.832-79</td><td>jnunes@ig.com.br</td><td>$Z1&amp;Su4H+k</td><td>1917-09-13</td><td>MG</td><td>2023-01-28</td><td>68.252.77.213</td><td>Rosa</td><td>Chaveiro</td><td>0800-497-4568</td></tr>\n",
       "<tr><td>512.346.879-09</td><td>santosmiguel@bol....</td><td>3qYeSpr2$i</td><td>1948-11-14</td><td>MG</td><td>2023-01-02</td><td>23.111.181.66</td><td>Roxo</td><td>Mecânico</td><td>(051) 0292-9648</td></tr>\n",
       "<tr><td>012.469.857-30</td><td>diasrebeca@uol.co...</td><td>E%0%8VUeID</td><td>1936-03-01</td><td>MG</td><td>2023-02-18</td><td>172.155.210.224</td><td>Cinza</td><td>Engenheiro De Aqu...</td><td>(041) 9158 0476</td></tr>\n",
       "<tr><td>032.548.967-00</td><td>rochaagatha@uol.c...</td><td>azXJMV)0*2</td><td>1995-03-04</td><td>MG</td><td>2023-02-09</td><td>2.55.79.36</td><td>Laranja</td><td>Odontologista Pre...</td><td>31 5789 4432</td></tr>\n",
       "<tr><td>863.051.924-05</td><td>pintoryan@uol.com.br</td><td>P5jNqf8U*^</td><td>1932-10-30</td><td>MG</td><td>2023-03-01</td><td>139.5.71.51</td><td>Branco</td><td>Odontopediatra</td><td>31 5503 6600</td></tr>\n",
       "<tr><td>706.135.948-00</td><td>ana-vitoriafernan...</td><td>ye!oooXy$0</td><td>1935-05-09</td><td>MG</td><td>2023-02-11</td><td>103.28.141.203</td><td>Amarelo</td><td>Cientista De Alim...</td><td>71 0827-8838</td></tr>\n",
       "<tr><td>513.780.269-77</td><td>kaiqueda-cunha@bo...</td><td>gtn&amp;GsT^^5</td><td>1984-01-17</td><td>MG</td><td>2023-03-08</td><td>218.106.248.244</td><td>Verde Escuro</td><td>Taxidermista/Emba...</td><td>+55 (021) 9610-2123</td></tr>\n",
       "<tr><td>829.617.354-91</td><td>diegojesus@gmail.com</td><td>M6yxjF!w^G</td><td>2017-04-10</td><td>MG</td><td>2023-01-09</td><td>6.1.173.123</td><td>Violeta</td><td>Empresário</td><td>(041) 3905-6942</td></tr>\n",
       "<tr><td>068.234.915-15</td><td>stephany16@yahoo....</td><td>R7GnyM+M(w</td><td>1969-09-13</td><td>MG</td><td>2023-01-09</td><td>139.126.79.210</td><td>Azul Escuro</td><td>Adestrador De Ani...</td><td>31 3341 1801</td></tr>\n",
       "</table>\n",
       "only showing top 20 rows\n"
      ],
      "text/plain": [
       "+--------------+--------------------+----------+------------------+------+-------------+---------------+------------+--------------------+-------------------+\n",
       "|           cpf|               email|     senha|data_de_nascimento|estado|data_cadastro|           ipv4|cor_favorita|           profissao|           telefone|\n",
       "+--------------+--------------------+----------+------------------+------+-------------+---------------+------------+--------------------+-------------------+\n",
       "|398.471.625-73|felipepires@uol.c...|*Aw5EOAvy9|        1921-11-11|    MG|   2023-01-02|   181.90.63.58|        Azul|      Papiloscopista|       11 9674-0553|\n",
       "|218.795.460-94|da-conceicaodavi-...|uhBbFxPA&9|        1986-05-19|    MG|   2023-03-07|    192.93.0.24|        Rosa|             Taxista|   +55 84 0652 9691|\n",
       "|715.836.940-48| efreitas@bol.com.br|s#q9VZt&xl|        2018-04-20|    MG|   2023-01-13| 76.251.188.148|      Branco|Produtor De Audio...|+55 (084) 1363 0052|\n",
       "|348.215.690-51| omoreira@bol.com.br|!8maDkdVnY|        2008-10-24|    MG|   2023-02-20|  177.2.242.176|Verde Escuro|Adestrador De Ani...|   +55 61 3217-9930|\n",
       "|137.964.520-43| natalia72@ig.com.br|i71MdCj2*^|        1939-06-26|    MG|   2023-02-03|  141.28.225.40|      Branco|      Espeleologista|    (041) 8471 8007|\n",
       "|790.482.315-23|noaharagao@hotmai...|#i_LhbOX52|        1922-03-19|    MG|   2023-01-25|170.188.237.119|       Preto|         Empacotador|+55 (031) 9156-3903|\n",
       "|872.041.936-87| fsilva@yahoo.com.br|B+E9r_CkU^|        1926-05-20|    MG|   2023-01-04|   220.1.100.77|      Marrom|     Mecânico De Vôo|    (031) 9834-4568|\n",
       "|832.714.650-53|    ijesus@gmail.com|JLr@1Mlr!Z|        1983-05-21|    MG|   2023-01-25|  84.142.120.51|        Roxo|            Ministro|       81 9463-7374|\n",
       "|529.610.873-68|barbosajuliana@bo...|$!3Td!uO%^|        2016-09-03|    MG|   2023-02-15|   85.36.21.190|     Amarelo|            Lenhador|    (061) 3713 1708|\n",
       "|198.256.734-19|valentina08@ig.co...|@BJV)ATd!8|        1962-01-11|    MG|   2023-02-23|   4.122.66.211|       Verde|             Atuário|       71 4313-7632|\n",
       "|568.037.192-86|correiabreno@uol....|+7Msf8JW$)|        1979-04-29|    MG|   2023-01-16|  94.151.189.72|        Roxo|      Guia Turistico|       61 5868-4411|\n",
       "|915.074.832-79|    jnunes@ig.com.br|$Z1&Su4H+k|        1917-09-13|    MG|   2023-01-28|  68.252.77.213|        Rosa|            Chaveiro|      0800-497-4568|\n",
       "|512.346.879-09|santosmiguel@bol....|3qYeSpr2$i|        1948-11-14|    MG|   2023-01-02|  23.111.181.66|        Roxo|            Mecânico|    (051) 0292-9648|\n",
       "|012.469.857-30|diasrebeca@uol.co...|E%0%8VUeID|        1936-03-01|    MG|   2023-02-18|172.155.210.224|       Cinza|Engenheiro De Aqu...|    (041) 9158 0476|\n",
       "|032.548.967-00|rochaagatha@uol.c...|azXJMV)0*2|        1995-03-04|    MG|   2023-02-09|     2.55.79.36|     Laranja|Odontologista Pre...|       31 5789 4432|\n",
       "|863.051.924-05|pintoryan@uol.com.br|P5jNqf8U*^|        1932-10-30|    MG|   2023-03-01|    139.5.71.51|      Branco|      Odontopediatra|       31 5503 6600|\n",
       "|706.135.948-00|ana-vitoriafernan...|ye!oooXy$0|        1935-05-09|    MG|   2023-02-11| 103.28.141.203|     Amarelo|Cientista De Alim...|       71 0827-8838|\n",
       "|513.780.269-77|kaiqueda-cunha@bo...|gtn&GsT^^5|        1984-01-17|    MG|   2023-03-08|218.106.248.244|Verde Escuro|Taxidermista/Emba...|+55 (021) 9610-2123|\n",
       "|829.617.354-91|diegojesus@gmail.com|M6yxjF!w^G|        2017-04-10|    MG|   2023-01-09|    6.1.173.123|     Violeta|          Empresário|    (041) 3905-6942|\n",
       "|068.234.915-15|stephany16@yahoo....|R7GnyM+M(w|        1969-09-13|    MG|   2023-01-09| 139.126.79.210| Azul Escuro|Adestrador De Ani...|       31 3341 1801|\n",
       "+--------------+--------------------+----------+------------------+------+-------------+---------------+------------+--------------------+-------------------+\n",
       "only showing top 20 rows"
      ]
     },
     "execution_count": 107,
     "metadata": {},
     "output_type": "execute_result"
    }
   ],
   "source": [
    "df.filter(df.estado == \"MG\")"
   ]
  },
  {
   "cell_type": "code",
   "execution_count": 120,
   "id": "fdca7882-002f-4f09-9eda-a9dcb6746aa6",
   "metadata": {
    "collapsed": true,
    "jupyter": {
     "outputs_hidden": true
    }
   },
   "outputs": [
    {
     "data": {
      "text/html": [
       "<table border='1'>\n",
       "<tr><th>cpf</th><th>email</th><th>senha</th><th>data_de_nascimento</th><th>estado</th><th>data_cadastro</th><th>ipv4</th><th>cor_favorita</th><th>profissao</th><th>telefone</th></tr>\n",
       "<tr><td>398.471.625-73</td><td>felipepires@uol.c...</td><td>*Aw5EOAvy9</td><td>1921-11-11</td><td>MG</td><td>2023-01-02</td><td>181.90.63.58</td><td>Azul</td><td>Papiloscopista</td><td>11 9674-0553</td></tr>\n",
       "<tr><td>085.427.631-90</td><td>pedro-lucas79@yah...</td><td>B)9P4q+tLR</td><td>1944-03-01</td><td>MG</td><td>2023-01-06</td><td>171.175.90.138</td><td>Azul</td><td>Tecnólogo Em Espo...</td><td>+55 (081) 4438 9837</td></tr>\n",
       "<tr><td>940.578.623-74</td><td>fernandolopes@yah...</td><td>DE5Il)Thu*</td><td>1945-04-04</td><td>MG</td><td>2023-03-09</td><td>211.163.192.56</td><td>Azul</td><td>Tenente</td><td>0300-025-4031</td></tr>\n",
       "</table>\n"
      ],
      "text/plain": [
       "+--------------+--------------------+----------+------------------+------+-------------+--------------+------------+--------------------+-------------------+\n",
       "|           cpf|               email|     senha|data_de_nascimento|estado|data_cadastro|          ipv4|cor_favorita|           profissao|           telefone|\n",
       "+--------------+--------------------+----------+------------------+------+-------------+--------------+------------+--------------------+-------------------+\n",
       "|398.471.625-73|felipepires@uol.c...|*Aw5EOAvy9|        1921-11-11|    MG|   2023-01-02|  181.90.63.58|        Azul|      Papiloscopista|       11 9674-0553|\n",
       "|085.427.631-90|pedro-lucas79@yah...|B)9P4q+tLR|        1944-03-01|    MG|   2023-01-06|171.175.90.138|        Azul|Tecnólogo Em Espo...|+55 (081) 4438 9837|\n",
       "|940.578.623-74|fernandolopes@yah...|DE5Il)Thu*|        1945-04-04|    MG|   2023-03-09|211.163.192.56|        Azul|             Tenente|      0300-025-4031|\n",
       "+--------------+--------------------+----------+------------------+------+-------------+--------------+------------+--------------------+-------------------+"
      ]
     },
     "execution_count": 120,
     "metadata": {},
     "output_type": "execute_result"
    }
   ],
   "source": [
    "df.filter((df.estado == \"MG\") & (df.cor_favorita == \"Azul\")) # AND"
   ]
  },
  {
   "cell_type": "code",
   "execution_count": 122,
   "id": "d1b18b31-57ba-48e9-83c2-e78c93576868",
   "metadata": {
    "collapsed": true,
    "jupyter": {
     "outputs_hidden": true
    }
   },
   "outputs": [
    {
     "data": {
      "text/html": [
       "<table border='1'>\n",
       "<tr><th>cpf</th><th>email</th><th>senha</th><th>data_de_nascimento</th><th>estado</th><th>data_cadastro</th><th>ipv4</th><th>cor_favorita</th><th>profissao</th><th>telefone</th></tr>\n",
       "<tr><td>398.471.625-73</td><td>felipepires@uol.c...</td><td>*Aw5EOAvy9</td><td>1921-11-11</td><td>MG</td><td>2023-01-02</td><td>181.90.63.58</td><td>Azul</td><td>Papiloscopista</td><td>11 9674-0553</td></tr>\n",
       "<tr><td>218.795.460-94</td><td>da-conceicaodavi-...</td><td>uhBbFxPA&amp;9</td><td>1986-05-19</td><td>MG</td><td>2023-03-07</td><td>192.93.0.24</td><td>Rosa</td><td>Taxista</td><td>+55 84 0652 9691</td></tr>\n",
       "<tr><td>715.836.940-48</td><td>efreitas@bol.com.br</td><td>s#q9VZt&amp;xl</td><td>2018-04-20</td><td>MG</td><td>2023-01-13</td><td>76.251.188.148</td><td>Branco</td><td>Produtor De Audio...</td><td>+55 (084) 1363 0052</td></tr>\n",
       "<tr><td>475.698.032-56</td><td>wnunes@bol.com.br</td><td>_8az1W%n7g</td><td>1996-05-12</td><td>SE</td><td>2023-02-04</td><td>139.196.176.154</td><td>Azul</td><td>Cadeirinha</td><td>(071) 1640-3388</td></tr>\n",
       "<tr><td>348.215.690-51</td><td>omoreira@bol.com.br</td><td>!8maDkdVnY</td><td>2008-10-24</td><td>MG</td><td>2023-02-20</td><td>177.2.242.176</td><td>Verde Escuro</td><td>Adestrador De Ani...</td><td>+55 61 3217-9930</td></tr>\n",
       "<tr><td>498.071.356-48</td><td>davi47@bol.com.br</td><td>$XJ)MDIUj7</td><td>1985-08-25</td><td>MA</td><td>2023-03-10</td><td>211.146.130.224</td><td>Azul</td><td>Lenhador</td><td>0800 449 6212</td></tr>\n",
       "<tr><td>472.169.308-78</td><td>fnascimento@gmail...</td><td>tg4*MbRT%)</td><td>1916-10-13</td><td>SE</td><td>2023-01-26</td><td>170.27.50.118</td><td>Azul</td><td>Panificador/Padeiro</td><td>+55 81 3465 6714</td></tr>\n",
       "<tr><td>479.305.682-29</td><td>ebarros@bol.com.br</td><td>@RJR#F9i40</td><td>2022-11-28</td><td>RO</td><td>2023-02-05</td><td>25.193.96.93</td><td>Azul</td><td>Esteticista</td><td>51 8923 1493</td></tr>\n",
       "<tr><td>859.730.624-65</td><td>jesusjoao-pedro@b...</td><td>e6GTOgSu&amp;x</td><td>1934-12-10</td><td>RS</td><td>2023-03-14</td><td>166.167.217.88</td><td>Azul</td><td>Especialista Em A...</td><td>(061) 5783-0665</td></tr>\n",
       "<tr><td>876.534.029-92</td><td>pietrarocha@hotma...</td><td>YqG8G82#M(</td><td>2018-09-20</td><td>BA</td><td>2023-02-07</td><td>7.65.90.115</td><td>Azul</td><td>General</td><td>81 2134-1812</td></tr>\n",
       "<tr><td>387.940.612-03</td><td>renanda-rocha@ig....</td><td>J@7g(ZC2Za</td><td>2016-04-07</td><td>BA</td><td>2023-03-03</td><td>161.182.89.54</td><td>Azul</td><td>Windsurfer</td><td>11 7835-0713</td></tr>\n",
       "<tr><td>673.504.918-75</td><td>da-motaisabelly@g...</td><td>&amp;#1p4%Gqfz</td><td>2003-02-25</td><td>RS</td><td>2023-01-30</td><td>141.112.137.141</td><td>Azul</td><td>Intérprete</td><td>+55 (011) 2871 0453</td></tr>\n",
       "<tr><td>015.289.376-86</td><td>xcardoso@hotmail.com</td><td>2oNEEO5G(H</td><td>1916-09-11</td><td>SC</td><td>2023-02-07</td><td>78.128.223.183</td><td>Azul</td><td>Químico Farmacêutico</td><td>+55 (021) 5075-4981</td></tr>\n",
       "<tr><td>932.567.014-34</td><td>caio40@hotmail.com</td><td>2UQ2p)5q@Y</td><td>1986-01-31</td><td>GO</td><td>2023-01-22</td><td>112.23.224.126</td><td>Azul</td><td>Flautista</td><td>+55 (081) 5756-7067</td></tr>\n",
       "<tr><td>723.419.058-97</td><td>joana43@uol.com.br</td><td>vk7R1o#zI!</td><td>1936-01-31</td><td>RR</td><td>2023-02-07</td><td>23.153.28.160</td><td>Azul</td><td>Jogador De Futebol</td><td>0900 150 4170</td></tr>\n",
       "<tr><td>943.185.762-64</td><td>melissa97@bol.com.br</td><td>MBlZ9BOwp(</td><td>1953-06-09</td><td>PE</td><td>2023-01-16</td><td>97.254.23.196</td><td>Azul</td><td>Físico</td><td>31 6169-0705</td></tr>\n",
       "<tr><td>076.124.398-40</td><td>aragaoaugusto@hot...</td><td>Tou6EjY6+I</td><td>1987-07-10</td><td>RS</td><td>2023-03-09</td><td>202.143.70.72</td><td>Azul</td><td>Tosador</td><td>+55 71 5928-0948</td></tr>\n",
       "<tr><td>796.805.213-03</td><td>samuelfernandes@y...</td><td>h&amp;48Cv73ml</td><td>1961-08-23</td><td>DF</td><td>2023-01-11</td><td>183.76.213.133</td><td>Azul</td><td>Agricultor</td><td>+55 71 2448 9698</td></tr>\n",
       "<tr><td>026.358.719-30</td><td>alexiasilva@yahoo...</td><td>#aMFx)3wI1</td><td>1940-09-13</td><td>RO</td><td>2023-02-22</td><td>52.91.52.76</td><td>Azul</td><td>Baixista</td><td>(061) 3231-7250</td></tr>\n",
       "<tr><td>137.964.520-43</td><td>natalia72@ig.com.br</td><td>i71MdCj2*^</td><td>1939-06-26</td><td>MG</td><td>2023-02-03</td><td>141.28.225.40</td><td>Branco</td><td>Espeleologista</td><td>(041) 8471 8007</td></tr>\n",
       "</table>\n",
       "only showing top 20 rows\n"
      ],
      "text/plain": [
       "+--------------+--------------------+----------+------------------+------+-------------+---------------+------------+--------------------+-------------------+\n",
       "|           cpf|               email|     senha|data_de_nascimento|estado|data_cadastro|           ipv4|cor_favorita|           profissao|           telefone|\n",
       "+--------------+--------------------+----------+------------------+------+-------------+---------------+------------+--------------------+-------------------+\n",
       "|398.471.625-73|felipepires@uol.c...|*Aw5EOAvy9|        1921-11-11|    MG|   2023-01-02|   181.90.63.58|        Azul|      Papiloscopista|       11 9674-0553|\n",
       "|218.795.460-94|da-conceicaodavi-...|uhBbFxPA&9|        1986-05-19|    MG|   2023-03-07|    192.93.0.24|        Rosa|             Taxista|   +55 84 0652 9691|\n",
       "|715.836.940-48| efreitas@bol.com.br|s#q9VZt&xl|        2018-04-20|    MG|   2023-01-13| 76.251.188.148|      Branco|Produtor De Audio...|+55 (084) 1363 0052|\n",
       "|475.698.032-56|   wnunes@bol.com.br|_8az1W%n7g|        1996-05-12|    SE|   2023-02-04|139.196.176.154|        Azul|          Cadeirinha|    (071) 1640-3388|\n",
       "|348.215.690-51| omoreira@bol.com.br|!8maDkdVnY|        2008-10-24|    MG|   2023-02-20|  177.2.242.176|Verde Escuro|Adestrador De Ani...|   +55 61 3217-9930|\n",
       "|498.071.356-48|   davi47@bol.com.br|$XJ)MDIUj7|        1985-08-25|    MA|   2023-03-10|211.146.130.224|        Azul|            Lenhador|      0800 449 6212|\n",
       "|472.169.308-78|fnascimento@gmail...|tg4*MbRT%)|        1916-10-13|    SE|   2023-01-26|  170.27.50.118|        Azul| Panificador/Padeiro|   +55 81 3465 6714|\n",
       "|479.305.682-29|  ebarros@bol.com.br|@RJR#F9i40|        2022-11-28|    RO|   2023-02-05|   25.193.96.93|        Azul|         Esteticista|       51 8923 1493|\n",
       "|859.730.624-65|jesusjoao-pedro@b...|e6GTOgSu&x|        1934-12-10|    RS|   2023-03-14| 166.167.217.88|        Azul|Especialista Em A...|    (061) 5783-0665|\n",
       "|876.534.029-92|pietrarocha@hotma...|YqG8G82#M(|        2018-09-20|    BA|   2023-02-07|    7.65.90.115|        Azul|             General|       81 2134-1812|\n",
       "|387.940.612-03|renanda-rocha@ig....|J@7g(ZC2Za|        2016-04-07|    BA|   2023-03-03|  161.182.89.54|        Azul|          Windsurfer|       11 7835-0713|\n",
       "|673.504.918-75|da-motaisabelly@g...|&#1p4%Gqfz|        2003-02-25|    RS|   2023-01-30|141.112.137.141|        Azul|          Intérprete|+55 (011) 2871 0453|\n",
       "|015.289.376-86|xcardoso@hotmail.com|2oNEEO5G(H|        1916-09-11|    SC|   2023-02-07| 78.128.223.183|        Azul|Químico Farmacêutico|+55 (021) 5075-4981|\n",
       "|932.567.014-34|  caio40@hotmail.com|2UQ2p)5q@Y|        1986-01-31|    GO|   2023-01-22| 112.23.224.126|        Azul|           Flautista|+55 (081) 5756-7067|\n",
       "|723.419.058-97|  joana43@uol.com.br|vk7R1o#zI!|        1936-01-31|    RR|   2023-02-07|  23.153.28.160|        Azul|  Jogador De Futebol|      0900 150 4170|\n",
       "|943.185.762-64|melissa97@bol.com.br|MBlZ9BOwp(|        1953-06-09|    PE|   2023-01-16|  97.254.23.196|        Azul|              Físico|       31 6169-0705|\n",
       "|076.124.398-40|aragaoaugusto@hot...|Tou6EjY6+I|        1987-07-10|    RS|   2023-03-09|  202.143.70.72|        Azul|             Tosador|   +55 71 5928-0948|\n",
       "|796.805.213-03|samuelfernandes@y...|h&48Cv73ml|        1961-08-23|    DF|   2023-01-11| 183.76.213.133|        Azul|          Agricultor|   +55 71 2448 9698|\n",
       "|026.358.719-30|alexiasilva@yahoo...|#aMFx)3wI1|        1940-09-13|    RO|   2023-02-22|    52.91.52.76|        Azul|            Baixista|    (061) 3231-7250|\n",
       "|137.964.520-43| natalia72@ig.com.br|i71MdCj2*^|        1939-06-26|    MG|   2023-02-03|  141.28.225.40|      Branco|      Espeleologista|    (041) 8471 8007|\n",
       "+--------------+--------------------+----------+------------------+------+-------------+---------------+------------+--------------------+-------------------+\n",
       "only showing top 20 rows"
      ]
     },
     "execution_count": 122,
     "metadata": {},
     "output_type": "execute_result"
    }
   ],
   "source": [
    "df.filter((df.estado == \"MG\") | (df.cor_favorita == \"Azul\")) # OR"
   ]
  },
  {
   "cell_type": "code",
   "execution_count": 127,
   "id": "7498ca7c-4370-4a97-b51a-94329d114ceb",
   "metadata": {
    "collapsed": true,
    "jupyter": {
     "outputs_hidden": true
    }
   },
   "outputs": [
    {
     "data": {
      "text/html": [
       "<table border='1'>\n",
       "<tr><th>cpf</th><th>email</th><th>senha</th><th>data_de_nascimento</th><th>estado</th><th>data_cadastro</th><th>ipv4</th><th>cor_favorita</th><th>profissao</th><th>telefone</th></tr>\n",
       "<tr><td>398.471.625-73</td><td>felipepires@uol.c...</td><td>*Aw5EOAvy9</td><td>1921-11-11</td><td>MG</td><td>2023-01-02</td><td>181.90.63.58</td><td>Azul</td><td>Papiloscopista</td><td>11 9674-0553</td></tr>\n",
       "<tr><td>085.427.631-90</td><td>pedro-lucas79@yah...</td><td>B)9P4q+tLR</td><td>1944-03-01</td><td>MG</td><td>2023-01-06</td><td>171.175.90.138</td><td>Azul</td><td>Tecnólogo Em Espo...</td><td>+55 (081) 4438 9837</td></tr>\n",
       "<tr><td>940.578.623-74</td><td>fernandolopes@yah...</td><td>DE5Il)Thu*</td><td>1945-04-04</td><td>MG</td><td>2023-03-09</td><td>211.163.192.56</td><td>Azul</td><td>Tenente</td><td>0300-025-4031</td></tr>\n",
       "<tr><td>279.806.354-00</td><td>vianaigor@uol.com.br</td><td>y52dV55x*c</td><td>1947-11-30</td><td>MG</td><td>2023-02-28</td><td>223.84.98.58</td><td>Ciano</td><td>Engenheiro Aeroná...</td><td>11 8011-2481</td></tr>\n",
       "</table>\n"
      ],
      "text/plain": [
       "+--------------+--------------------+----------+------------------+------+-------------+--------------+------------+--------------------+-------------------+\n",
       "|           cpf|               email|     senha|data_de_nascimento|estado|data_cadastro|          ipv4|cor_favorita|           profissao|           telefone|\n",
       "+--------------+--------------------+----------+------------------+------+-------------+--------------+------------+--------------------+-------------------+\n",
       "|398.471.625-73|felipepires@uol.c...|*Aw5EOAvy9|        1921-11-11|    MG|   2023-01-02|  181.90.63.58|        Azul|      Papiloscopista|       11 9674-0553|\n",
       "|085.427.631-90|pedro-lucas79@yah...|B)9P4q+tLR|        1944-03-01|    MG|   2023-01-06|171.175.90.138|        Azul|Tecnólogo Em Espo...|+55 (081) 4438 9837|\n",
       "|940.578.623-74|fernandolopes@yah...|DE5Il)Thu*|        1945-04-04|    MG|   2023-03-09|211.163.192.56|        Azul|             Tenente|      0300-025-4031|\n",
       "|279.806.354-00|vianaigor@uol.com.br|y52dV55x*c|        1947-11-30|    MG|   2023-02-28|  223.84.98.58|       Ciano|Engenheiro Aeroná...|       11 8011-2481|\n",
       "+--------------+--------------------+----------+------------------+------+-------------+--------------+------------+--------------------+-------------------+"
      ]
     },
     "execution_count": 127,
     "metadata": {},
     "output_type": "execute_result"
    }
   ],
   "source": [
    "df.filter((df.estado == \"MG\" ) & ((df.cor_favorita == \"Azul\") | (df.cor_favorita == \"Ciano\"))) # Atenção com os parênteres"
   ]
  },
  {
   "cell_type": "code",
   "execution_count": 131,
   "id": "4535b1c9-36d2-455a-9ddc-81bf28e5f813",
   "metadata": {
    "collapsed": true,
    "jupyter": {
     "outputs_hidden": true
    }
   },
   "outputs": [
    {
     "data": {
      "text/html": [
       "<table border='1'>\n",
       "<tr><th>cpf</th><th>email</th><th>senha</th><th>data_de_nascimento</th><th>estado</th><th>data_cadastro</th><th>ipv4</th><th>cor_favorita</th><th>profissao</th><th>telefone</th></tr>\n",
       "<tr><td>398.471.625-73</td><td>felipepires@uol.c...</td><td>*Aw5EOAvy9</td><td>1921-11-11</td><td>MG</td><td>2023-01-02</td><td>181.90.63.58</td><td>Azul</td><td>Papiloscopista</td><td>11 9674-0553</td></tr>\n",
       "<tr><td>085.427.631-90</td><td>pedro-lucas79@yah...</td><td>B)9P4q+tLR</td><td>1944-03-01</td><td>MG</td><td>2023-01-06</td><td>171.175.90.138</td><td>Azul</td><td>Tecnólogo Em Espo...</td><td>+55 (081) 4438 9837</td></tr>\n",
       "<tr><td>940.578.623-74</td><td>fernandolopes@yah...</td><td>DE5Il)Thu*</td><td>1945-04-04</td><td>MG</td><td>2023-03-09</td><td>211.163.192.56</td><td>Azul</td><td>Tenente</td><td>0300-025-4031</td></tr>\n",
       "<tr><td>279.806.354-00</td><td>vianaigor@uol.com.br</td><td>y52dV55x*c</td><td>1947-11-30</td><td>MG</td><td>2023-02-28</td><td>223.84.98.58</td><td>Ciano</td><td>Engenheiro Aeroná...</td><td>11 8011-2481</td></tr>\n",
       "</table>\n"
      ],
      "text/plain": [
       "+--------------+--------------------+----------+------------------+------+-------------+--------------+------------+--------------------+-------------------+\n",
       "|           cpf|               email|     senha|data_de_nascimento|estado|data_cadastro|          ipv4|cor_favorita|           profissao|           telefone|\n",
       "+--------------+--------------------+----------+------------------+------+-------------+--------------+------------+--------------------+-------------------+\n",
       "|398.471.625-73|felipepires@uol.c...|*Aw5EOAvy9|        1921-11-11|    MG|   2023-01-02|  181.90.63.58|        Azul|      Papiloscopista|       11 9674-0553|\n",
       "|085.427.631-90|pedro-lucas79@yah...|B)9P4q+tLR|        1944-03-01|    MG|   2023-01-06|171.175.90.138|        Azul|Tecnólogo Em Espo...|+55 (081) 4438 9837|\n",
       "|940.578.623-74|fernandolopes@yah...|DE5Il)Thu*|        1945-04-04|    MG|   2023-03-09|211.163.192.56|        Azul|             Tenente|      0300-025-4031|\n",
       "|279.806.354-00|vianaigor@uol.com.br|y52dV55x*c|        1947-11-30|    MG|   2023-02-28|  223.84.98.58|       Ciano|Engenheiro Aeroná...|       11 8011-2481|\n",
       "+--------------+--------------------+----------+------------------+------+-------------+--------------+------------+--------------------+-------------------+"
      ]
     },
     "execution_count": 131,
     "metadata": {},
     "output_type": "execute_result"
    }
   ],
   "source": [
    "df.where(df.cor_favorita.isin('Ciano','Azul')).filter(df.estado == \"MG\")"
   ]
  },
  {
   "cell_type": "code",
   "execution_count": 134,
   "id": "4b78e45c-0669-468f-95e2-04c744a16800",
   "metadata": {},
   "outputs": [
    {
     "data": {
      "text/html": [
       "<table border='1'>\n",
       "<tr><th>cpf</th><th>email</th><th>senha</th><th>data_de_nascimento</th><th>estado</th><th>data_cadastro</th><th>ipv4</th><th>cor_favorita</th><th>profissao</th><th>telefone</th></tr>\n",
       "<tr><td>940.578.623-74</td><td>fernandolopes@yah...</td><td>DE5Il)Thu*</td><td>1945-04-04</td><td>MG</td><td>2023-03-09</td><td>211.163.192.56</td><td>Azul</td><td>Tenente</td><td>0300-025-4031</td></tr>\n",
       "</table>\n"
      ],
      "text/plain": [
       "+--------------+--------------------+----------+------------------+------+-------------+--------------+------------+---------+-------------+\n",
       "|           cpf|               email|     senha|data_de_nascimento|estado|data_cadastro|          ipv4|cor_favorita|profissao|     telefone|\n",
       "+--------------+--------------------+----------+------------------+------+-------------+--------------+------------+---------+-------------+\n",
       "|940.578.623-74|fernandolopes@yah...|DE5Il)Thu*|        1945-04-04|    MG|   2023-03-09|211.163.192.56|        Azul|  Tenente|0300-025-4031|\n",
       "+--------------+--------------------+----------+------------------+------+-------------+--------------+------------+---------+-------------+"
      ]
     },
     "execution_count": 134,
     "metadata": {},
     "output_type": "execute_result"
    }
   ],
   "source": [
    "(\n",
    "    df\n",
    "    .filter(F.col('estado') == 'MG')           # cada coluna, 1 filter\n",
    "    .filter(F.col('cor_favorita') == 'Azul')   # cada coluna, 1 filter\n",
    "    .filter(F.col('profissao') == 'Tenente')   # cada coluna, 1 filter\n",
    ") "
   ]
  },
  {
   "cell_type": "markdown",
   "id": "cf92a84b-4387-4e06-ae47-eed6754fd7b6",
   "metadata": {},
   "source": [
    "### Adicionando colunas no DataFrame\n",
    "\n",
    "Comando base para adicionar coluna:\\\n",
    "`withColumn` + `nome da coluna nova` + `valor da coluna`\n",
    "\n",
    "`df.withColumn('pais', F.lit('Brasil'))`\\\n",
    "`df.withColumn('pais', F.lit('Brasil')).withColumn('Sigla_estado', F.col('estado'))`\n",
    "\n",
    "Podemos usar o CASE WHEN:\\\n",
    "`.withColumn('Nome_Estados', F.when(df.estado == 'AC', 'Acre')`\\\n",
    "`.withColumn('flag_rosa', F.when(F.col('cor_favorita') == 'Rosa',1).otherwise(0))`\n",
    "\n",
    "`.otherwise(0)` --> +- um se não da operação CASE WHEN\n"
   ]
  },
  {
   "cell_type": "code",
   "execution_count": 152,
   "id": "9ddc2e14-2ae5-4292-abd7-5baa65aa6831",
   "metadata": {
    "collapsed": true,
    "jupyter": {
     "outputs_hidden": true
    }
   },
   "outputs": [
    {
     "data": {
      "text/html": [
       "<table border='1'>\n",
       "<tr><th>cpf</th><th>email</th><th>senha</th><th>data_de_nascimento</th><th>estado</th><th>data_cadastro</th><th>ipv4</th><th>cor_favorita</th><th>profissao</th><th>telefone</th><th>pais</th></tr>\n",
       "<tr><td>981.507.362-12</td><td>pedro-lucas53@gma...</td><td>+7^7E%xFBc</td><td>2006-12-18</td><td>RR</td><td>2023-02-26</td><td>99.107.250.210</td><td>Roxo</td><td>Jogador De Golfe</td><td>31 7785-4046</td><td>Brasil</td></tr>\n",
       "<tr><td>493.705.168-75</td><td>rezendeisaac@hotm...</td><td>_O_2GRnGOe</td><td>1992-06-17</td><td>GO</td><td>2023-02-16</td><td>197.11.26.213</td><td>Ciano</td><td>Atleta De Arremes...</td><td>(031) 0803-6753</td><td>Brasil</td></tr>\n",
       "<tr><td>398.471.625-73</td><td>felipepires@uol.c...</td><td>*Aw5EOAvy9</td><td>1921-11-11</td><td>MG</td><td>2023-01-02</td><td>181.90.63.58</td><td>Azul</td><td>Papiloscopista</td><td>11 9674-0553</td><td>Brasil</td></tr>\n",
       "<tr><td>092.618.354-06</td><td>stellamoraes@bol....</td><td>mw0AWYAs#s</td><td>2021-06-01</td><td>AC</td><td>2023-01-08</td><td>26.121.127.94</td><td>Marrom</td><td>Aeromoça</td><td>+55 (071) 3033 9177</td><td>Brasil</td></tr>\n",
       "<tr><td>509.427.136-99</td><td>wcarvalho@ig.com.br</td><td>pGD%!2Pq5X</td><td>1969-10-28</td><td>AP</td><td>2023-02-14</td><td>76.184.52.163</td><td>Laranja</td><td>Fonoaudiólogo</td><td>+55 (071) 6272 2468</td><td>Brasil</td></tr>\n",
       "<tr><td>218.795.460-94</td><td>da-conceicaodavi-...</td><td>uhBbFxPA&amp;9</td><td>1986-05-19</td><td>MG</td><td>2023-03-07</td><td>192.93.0.24</td><td>Rosa</td><td>Taxista</td><td>+55 84 0652 9691</td><td>Brasil</td></tr>\n",
       "<tr><td>715.836.940-48</td><td>efreitas@bol.com.br</td><td>s#q9VZt&amp;xl</td><td>2018-04-20</td><td>MG</td><td>2023-01-13</td><td>76.251.188.148</td><td>Branco</td><td>Produtor De Audio...</td><td>+55 (084) 1363 0052</td><td>Brasil</td></tr>\n",
       "<tr><td>475.698.032-56</td><td>wnunes@bol.com.br</td><td>_8az1W%n7g</td><td>1996-05-12</td><td>SE</td><td>2023-02-04</td><td>139.196.176.154</td><td>Azul</td><td>Cadeirinha</td><td>(071) 1640-3388</td><td>Brasil</td></tr>\n",
       "<tr><td>217.639.540-99</td><td>jribeiro@bol.com.br</td><td>MEf1X7fj_0</td><td>2021-10-05</td><td>PA</td><td>2023-03-02</td><td>71.22.224.5</td><td>Marrom</td><td>Geólogo</td><td>21 1432 4092</td><td>Brasil</td></tr>\n",
       "<tr><td>261.938.750-77</td><td>murilo05@gmail.com</td><td>Te&amp;gO7GkKs</td><td>1917-01-05</td><td>MT</td><td>2023-02-21</td><td>136.54.123.165</td><td>Marrom</td><td>Técnico De Som</td><td>+55 (084) 5878-3346</td><td>Brasil</td></tr>\n",
       "<tr><td>520.831.796-68</td><td>joaquim57@ig.com.br</td><td>&amp;2E1NY+ARc</td><td>1912-05-25</td><td>BA</td><td>2023-01-25</td><td>78.196.255.126</td><td>Rosa</td><td>Esteticista</td><td>41 7914-3753</td><td>Brasil</td></tr>\n",
       "<tr><td>413.087.526-44</td><td>alexiada-rocha@ig...</td><td>@f@!Z!2c*2</td><td>1920-05-26</td><td>MS</td><td>2023-02-18</td><td>182.61.65.201</td><td>Laranja</td><td>Microfonista</td><td>(021) 3739-2944</td><td>Brasil</td></tr>\n",
       "<tr><td>509.287.143-14</td><td>pmendes@gmail.com</td><td>M+^XDBfe(2</td><td>1938-03-11</td><td>RR</td><td>2023-01-19</td><td>61.234.208.17</td><td>Verde Claro</td><td>Fiscal</td><td>+55 (084) 5940-1932</td><td>Brasil</td></tr>\n",
       "<tr><td>563.170.492-70</td><td>renan46@bol.com.br</td><td>Rp%2pVqfe$</td><td>1922-09-01</td><td>PA</td><td>2023-02-01</td><td>122.203.83.177</td><td>Verde Escuro</td><td>Contabilista</td><td>+55 41 6248 5773</td><td>Brasil</td></tr>\n",
       "<tr><td>098.712.346-78</td><td>manuelada-rosa@ho...</td><td>#hEIEOztQ3</td><td>2013-01-10</td><td>SE</td><td>2023-01-07</td><td>175.18.73.211</td><td>Violeta</td><td>Seguidor De Compras</td><td>51 0278 0564</td><td>Brasil</td></tr>\n",
       "<tr><td>345.709.261-34</td><td>usales@ig.com.br</td><td>b_8xaY$ozJ</td><td>1992-10-16</td><td>AM</td><td>2023-01-05</td><td>97.93.29.75</td><td>Rosa</td><td>Almirante</td><td>(084) 8993-4521</td><td>Brasil</td></tr>\n",
       "<tr><td>318.254.906-51</td><td>pereiranicolas@ho...</td><td>YA9I85Wb+2</td><td>1945-11-18</td><td>MA</td><td>2023-01-24</td><td>182.195.33.137</td><td>Amarelo</td><td>Consultor De Moda</td><td>(084) 4591 3795</td><td>Brasil</td></tr>\n",
       "<tr><td>610.287.453-62</td><td>cardosolivia@ig.c...</td><td>yXkDW7Ebh*</td><td>1915-11-15</td><td>GO</td><td>2023-01-22</td><td>195.194.63.184</td><td>Laranja</td><td>Barbeiro</td><td>+55 61 8967-9563</td><td>Brasil</td></tr>\n",
       "<tr><td>615.790.842-49</td><td>brenda39@ig.com.br</td><td>XS$84Hpsnw</td><td>1964-02-01</td><td>RJ</td><td>2023-02-16</td><td>21.252.226.29</td><td>Branco</td><td>Promotor De Vendas</td><td>+55 (021) 4751 2004</td><td>Brasil</td></tr>\n",
       "<tr><td>624.095.138-24</td><td>luizapeixoto@gmai...</td><td>TbKy82Kda$</td><td>1959-02-01</td><td>DF</td><td>2023-02-25</td><td>105.107.23.13</td><td>Ciano</td><td>Implantodontista</td><td>84 1293 1906</td><td>Brasil</td></tr>\n",
       "</table>\n",
       "only showing top 20 rows\n"
      ],
      "text/plain": [
       "+--------------+--------------------+----------+------------------+------+-------------+---------------+------------+--------------------+-------------------+------+\n",
       "|           cpf|               email|     senha|data_de_nascimento|estado|data_cadastro|           ipv4|cor_favorita|           profissao|           telefone|  pais|\n",
       "+--------------+--------------------+----------+------------------+------+-------------+---------------+------------+--------------------+-------------------+------+\n",
       "|981.507.362-12|pedro-lucas53@gma...|+7^7E%xFBc|        2006-12-18|    RR|   2023-02-26| 99.107.250.210|        Roxo|    Jogador De Golfe|       31 7785-4046|Brasil|\n",
       "|493.705.168-75|rezendeisaac@hotm...|_O_2GRnGOe|        1992-06-17|    GO|   2023-02-16|  197.11.26.213|       Ciano|Atleta De Arremes...|    (031) 0803-6753|Brasil|\n",
       "|398.471.625-73|felipepires@uol.c...|*Aw5EOAvy9|        1921-11-11|    MG|   2023-01-02|   181.90.63.58|        Azul|      Papiloscopista|       11 9674-0553|Brasil|\n",
       "|092.618.354-06|stellamoraes@bol....|mw0AWYAs#s|        2021-06-01|    AC|   2023-01-08|  26.121.127.94|      Marrom|            Aeromoça|+55 (071) 3033 9177|Brasil|\n",
       "|509.427.136-99| wcarvalho@ig.com.br|pGD%!2Pq5X|        1969-10-28|    AP|   2023-02-14|  76.184.52.163|     Laranja|       Fonoaudiólogo|+55 (071) 6272 2468|Brasil|\n",
       "|218.795.460-94|da-conceicaodavi-...|uhBbFxPA&9|        1986-05-19|    MG|   2023-03-07|    192.93.0.24|        Rosa|             Taxista|   +55 84 0652 9691|Brasil|\n",
       "|715.836.940-48| efreitas@bol.com.br|s#q9VZt&xl|        2018-04-20|    MG|   2023-01-13| 76.251.188.148|      Branco|Produtor De Audio...|+55 (084) 1363 0052|Brasil|\n",
       "|475.698.032-56|   wnunes@bol.com.br|_8az1W%n7g|        1996-05-12|    SE|   2023-02-04|139.196.176.154|        Azul|          Cadeirinha|    (071) 1640-3388|Brasil|\n",
       "|217.639.540-99| jribeiro@bol.com.br|MEf1X7fj_0|        2021-10-05|    PA|   2023-03-02|    71.22.224.5|      Marrom|             Geólogo|       21 1432 4092|Brasil|\n",
       "|261.938.750-77|  murilo05@gmail.com|Te&gO7GkKs|        1917-01-05|    MT|   2023-02-21| 136.54.123.165|      Marrom|      Técnico De Som|+55 (084) 5878-3346|Brasil|\n",
       "|520.831.796-68| joaquim57@ig.com.br|&2E1NY+ARc|        1912-05-25|    BA|   2023-01-25| 78.196.255.126|        Rosa|         Esteticista|       41 7914-3753|Brasil|\n",
       "|413.087.526-44|alexiada-rocha@ig...|@f@!Z!2c*2|        1920-05-26|    MS|   2023-02-18|  182.61.65.201|     Laranja|        Microfonista|    (021) 3739-2944|Brasil|\n",
       "|509.287.143-14|   pmendes@gmail.com|M+^XDBfe(2|        1938-03-11|    RR|   2023-01-19|  61.234.208.17| Verde Claro|              Fiscal|+55 (084) 5940-1932|Brasil|\n",
       "|563.170.492-70|  renan46@bol.com.br|Rp%2pVqfe$|        1922-09-01|    PA|   2023-02-01| 122.203.83.177|Verde Escuro|        Contabilista|   +55 41 6248 5773|Brasil|\n",
       "|098.712.346-78|manuelada-rosa@ho...|#hEIEOztQ3|        2013-01-10|    SE|   2023-01-07|  175.18.73.211|     Violeta| Seguidor De Compras|       51 0278 0564|Brasil|\n",
       "|345.709.261-34|    usales@ig.com.br|b_8xaY$ozJ|        1992-10-16|    AM|   2023-01-05|    97.93.29.75|        Rosa|           Almirante|    (084) 8993-4521|Brasil|\n",
       "|318.254.906-51|pereiranicolas@ho...|YA9I85Wb+2|        1945-11-18|    MA|   2023-01-24| 182.195.33.137|     Amarelo|   Consultor De Moda|    (084) 4591 3795|Brasil|\n",
       "|610.287.453-62|cardosolivia@ig.c...|yXkDW7Ebh*|        1915-11-15|    GO|   2023-01-22| 195.194.63.184|     Laranja|            Barbeiro|   +55 61 8967-9563|Brasil|\n",
       "|615.790.842-49|  brenda39@ig.com.br|XS$84Hpsnw|        1964-02-01|    RJ|   2023-02-16|  21.252.226.29|      Branco|  Promotor De Vendas|+55 (021) 4751 2004|Brasil|\n",
       "|624.095.138-24|luizapeixoto@gmai...|TbKy82Kda$|        1959-02-01|    DF|   2023-02-25|  105.107.23.13|       Ciano|    Implantodontista|       84 1293 1906|Brasil|\n",
       "+--------------+--------------------+----------+------------------+------+-------------+---------------+------------+--------------------+-------------------+------+\n",
       "only showing top 20 rows"
      ]
     },
     "execution_count": 152,
     "metadata": {},
     "output_type": "execute_result"
    }
   ],
   "source": [
    "df.withColumn('pais', F.lit('Brasil'))"
   ]
  },
  {
   "cell_type": "code",
   "execution_count": 155,
   "id": "e75439c2-0906-4a4e-a1aa-440521d4e134",
   "metadata": {
    "collapsed": true,
    "jupyter": {
     "outputs_hidden": true
    }
   },
   "outputs": [
    {
     "data": {
      "text/html": [
       "<table border='1'>\n",
       "<tr><th>cpf</th><th>email</th><th>senha</th><th>data_de_nascimento</th><th>estado</th><th>data_cadastro</th><th>ipv4</th><th>cor_favorita</th><th>profissao</th><th>telefone</th><th>pais</th><th>Sigla_estado</th></tr>\n",
       "<tr><td>981.507.362-12</td><td>pedro-lucas53@gma...</td><td>+7^7E%xFBc</td><td>2006-12-18</td><td>RR</td><td>2023-02-26</td><td>99.107.250.210</td><td>Roxo</td><td>Jogador De Golfe</td><td>31 7785-4046</td><td>Brasil</td><td>RR</td></tr>\n",
       "<tr><td>493.705.168-75</td><td>rezendeisaac@hotm...</td><td>_O_2GRnGOe</td><td>1992-06-17</td><td>GO</td><td>2023-02-16</td><td>197.11.26.213</td><td>Ciano</td><td>Atleta De Arremes...</td><td>(031) 0803-6753</td><td>Brasil</td><td>GO</td></tr>\n",
       "<tr><td>398.471.625-73</td><td>felipepires@uol.c...</td><td>*Aw5EOAvy9</td><td>1921-11-11</td><td>MG</td><td>2023-01-02</td><td>181.90.63.58</td><td>Azul</td><td>Papiloscopista</td><td>11 9674-0553</td><td>Brasil</td><td>MG</td></tr>\n",
       "<tr><td>092.618.354-06</td><td>stellamoraes@bol....</td><td>mw0AWYAs#s</td><td>2021-06-01</td><td>AC</td><td>2023-01-08</td><td>26.121.127.94</td><td>Marrom</td><td>Aeromoça</td><td>+55 (071) 3033 9177</td><td>Brasil</td><td>AC</td></tr>\n",
       "<tr><td>509.427.136-99</td><td>wcarvalho@ig.com.br</td><td>pGD%!2Pq5X</td><td>1969-10-28</td><td>AP</td><td>2023-02-14</td><td>76.184.52.163</td><td>Laranja</td><td>Fonoaudiólogo</td><td>+55 (071) 6272 2468</td><td>Brasil</td><td>AP</td></tr>\n",
       "<tr><td>218.795.460-94</td><td>da-conceicaodavi-...</td><td>uhBbFxPA&amp;9</td><td>1986-05-19</td><td>MG</td><td>2023-03-07</td><td>192.93.0.24</td><td>Rosa</td><td>Taxista</td><td>+55 84 0652 9691</td><td>Brasil</td><td>MG</td></tr>\n",
       "<tr><td>715.836.940-48</td><td>efreitas@bol.com.br</td><td>s#q9VZt&amp;xl</td><td>2018-04-20</td><td>MG</td><td>2023-01-13</td><td>76.251.188.148</td><td>Branco</td><td>Produtor De Audio...</td><td>+55 (084) 1363 0052</td><td>Brasil</td><td>MG</td></tr>\n",
       "<tr><td>475.698.032-56</td><td>wnunes@bol.com.br</td><td>_8az1W%n7g</td><td>1996-05-12</td><td>SE</td><td>2023-02-04</td><td>139.196.176.154</td><td>Azul</td><td>Cadeirinha</td><td>(071) 1640-3388</td><td>Brasil</td><td>SE</td></tr>\n",
       "<tr><td>217.639.540-99</td><td>jribeiro@bol.com.br</td><td>MEf1X7fj_0</td><td>2021-10-05</td><td>PA</td><td>2023-03-02</td><td>71.22.224.5</td><td>Marrom</td><td>Geólogo</td><td>21 1432 4092</td><td>Brasil</td><td>PA</td></tr>\n",
       "<tr><td>261.938.750-77</td><td>murilo05@gmail.com</td><td>Te&amp;gO7GkKs</td><td>1917-01-05</td><td>MT</td><td>2023-02-21</td><td>136.54.123.165</td><td>Marrom</td><td>Técnico De Som</td><td>+55 (084) 5878-3346</td><td>Brasil</td><td>MT</td></tr>\n",
       "<tr><td>520.831.796-68</td><td>joaquim57@ig.com.br</td><td>&amp;2E1NY+ARc</td><td>1912-05-25</td><td>BA</td><td>2023-01-25</td><td>78.196.255.126</td><td>Rosa</td><td>Esteticista</td><td>41 7914-3753</td><td>Brasil</td><td>BA</td></tr>\n",
       "<tr><td>413.087.526-44</td><td>alexiada-rocha@ig...</td><td>@f@!Z!2c*2</td><td>1920-05-26</td><td>MS</td><td>2023-02-18</td><td>182.61.65.201</td><td>Laranja</td><td>Microfonista</td><td>(021) 3739-2944</td><td>Brasil</td><td>MS</td></tr>\n",
       "<tr><td>509.287.143-14</td><td>pmendes@gmail.com</td><td>M+^XDBfe(2</td><td>1938-03-11</td><td>RR</td><td>2023-01-19</td><td>61.234.208.17</td><td>Verde Claro</td><td>Fiscal</td><td>+55 (084) 5940-1932</td><td>Brasil</td><td>RR</td></tr>\n",
       "<tr><td>563.170.492-70</td><td>renan46@bol.com.br</td><td>Rp%2pVqfe$</td><td>1922-09-01</td><td>PA</td><td>2023-02-01</td><td>122.203.83.177</td><td>Verde Escuro</td><td>Contabilista</td><td>+55 41 6248 5773</td><td>Brasil</td><td>PA</td></tr>\n",
       "<tr><td>098.712.346-78</td><td>manuelada-rosa@ho...</td><td>#hEIEOztQ3</td><td>2013-01-10</td><td>SE</td><td>2023-01-07</td><td>175.18.73.211</td><td>Violeta</td><td>Seguidor De Compras</td><td>51 0278 0564</td><td>Brasil</td><td>SE</td></tr>\n",
       "<tr><td>345.709.261-34</td><td>usales@ig.com.br</td><td>b_8xaY$ozJ</td><td>1992-10-16</td><td>AM</td><td>2023-01-05</td><td>97.93.29.75</td><td>Rosa</td><td>Almirante</td><td>(084) 8993-4521</td><td>Brasil</td><td>AM</td></tr>\n",
       "<tr><td>318.254.906-51</td><td>pereiranicolas@ho...</td><td>YA9I85Wb+2</td><td>1945-11-18</td><td>MA</td><td>2023-01-24</td><td>182.195.33.137</td><td>Amarelo</td><td>Consultor De Moda</td><td>(084) 4591 3795</td><td>Brasil</td><td>MA</td></tr>\n",
       "<tr><td>610.287.453-62</td><td>cardosolivia@ig.c...</td><td>yXkDW7Ebh*</td><td>1915-11-15</td><td>GO</td><td>2023-01-22</td><td>195.194.63.184</td><td>Laranja</td><td>Barbeiro</td><td>+55 61 8967-9563</td><td>Brasil</td><td>GO</td></tr>\n",
       "<tr><td>615.790.842-49</td><td>brenda39@ig.com.br</td><td>XS$84Hpsnw</td><td>1964-02-01</td><td>RJ</td><td>2023-02-16</td><td>21.252.226.29</td><td>Branco</td><td>Promotor De Vendas</td><td>+55 (021) 4751 2004</td><td>Brasil</td><td>RJ</td></tr>\n",
       "<tr><td>624.095.138-24</td><td>luizapeixoto@gmai...</td><td>TbKy82Kda$</td><td>1959-02-01</td><td>DF</td><td>2023-02-25</td><td>105.107.23.13</td><td>Ciano</td><td>Implantodontista</td><td>84 1293 1906</td><td>Brasil</td><td>DF</td></tr>\n",
       "</table>\n",
       "only showing top 20 rows\n"
      ],
      "text/plain": [
       "+--------------+--------------------+----------+------------------+------+-------------+---------------+------------+--------------------+-------------------+------+------------+\n",
       "|           cpf|               email|     senha|data_de_nascimento|estado|data_cadastro|           ipv4|cor_favorita|           profissao|           telefone|  pais|Sigla_estado|\n",
       "+--------------+--------------------+----------+------------------+------+-------------+---------------+------------+--------------------+-------------------+------+------------+\n",
       "|981.507.362-12|pedro-lucas53@gma...|+7^7E%xFBc|        2006-12-18|    RR|   2023-02-26| 99.107.250.210|        Roxo|    Jogador De Golfe|       31 7785-4046|Brasil|          RR|\n",
       "|493.705.168-75|rezendeisaac@hotm...|_O_2GRnGOe|        1992-06-17|    GO|   2023-02-16|  197.11.26.213|       Ciano|Atleta De Arremes...|    (031) 0803-6753|Brasil|          GO|\n",
       "|398.471.625-73|felipepires@uol.c...|*Aw5EOAvy9|        1921-11-11|    MG|   2023-01-02|   181.90.63.58|        Azul|      Papiloscopista|       11 9674-0553|Brasil|          MG|\n",
       "|092.618.354-06|stellamoraes@bol....|mw0AWYAs#s|        2021-06-01|    AC|   2023-01-08|  26.121.127.94|      Marrom|            Aeromoça|+55 (071) 3033 9177|Brasil|          AC|\n",
       "|509.427.136-99| wcarvalho@ig.com.br|pGD%!2Pq5X|        1969-10-28|    AP|   2023-02-14|  76.184.52.163|     Laranja|       Fonoaudiólogo|+55 (071) 6272 2468|Brasil|          AP|\n",
       "|218.795.460-94|da-conceicaodavi-...|uhBbFxPA&9|        1986-05-19|    MG|   2023-03-07|    192.93.0.24|        Rosa|             Taxista|   +55 84 0652 9691|Brasil|          MG|\n",
       "|715.836.940-48| efreitas@bol.com.br|s#q9VZt&xl|        2018-04-20|    MG|   2023-01-13| 76.251.188.148|      Branco|Produtor De Audio...|+55 (084) 1363 0052|Brasil|          MG|\n",
       "|475.698.032-56|   wnunes@bol.com.br|_8az1W%n7g|        1996-05-12|    SE|   2023-02-04|139.196.176.154|        Azul|          Cadeirinha|    (071) 1640-3388|Brasil|          SE|\n",
       "|217.639.540-99| jribeiro@bol.com.br|MEf1X7fj_0|        2021-10-05|    PA|   2023-03-02|    71.22.224.5|      Marrom|             Geólogo|       21 1432 4092|Brasil|          PA|\n",
       "|261.938.750-77|  murilo05@gmail.com|Te&gO7GkKs|        1917-01-05|    MT|   2023-02-21| 136.54.123.165|      Marrom|      Técnico De Som|+55 (084) 5878-3346|Brasil|          MT|\n",
       "|520.831.796-68| joaquim57@ig.com.br|&2E1NY+ARc|        1912-05-25|    BA|   2023-01-25| 78.196.255.126|        Rosa|         Esteticista|       41 7914-3753|Brasil|          BA|\n",
       "|413.087.526-44|alexiada-rocha@ig...|@f@!Z!2c*2|        1920-05-26|    MS|   2023-02-18|  182.61.65.201|     Laranja|        Microfonista|    (021) 3739-2944|Brasil|          MS|\n",
       "|509.287.143-14|   pmendes@gmail.com|M+^XDBfe(2|        1938-03-11|    RR|   2023-01-19|  61.234.208.17| Verde Claro|              Fiscal|+55 (084) 5940-1932|Brasil|          RR|\n",
       "|563.170.492-70|  renan46@bol.com.br|Rp%2pVqfe$|        1922-09-01|    PA|   2023-02-01| 122.203.83.177|Verde Escuro|        Contabilista|   +55 41 6248 5773|Brasil|          PA|\n",
       "|098.712.346-78|manuelada-rosa@ho...|#hEIEOztQ3|        2013-01-10|    SE|   2023-01-07|  175.18.73.211|     Violeta| Seguidor De Compras|       51 0278 0564|Brasil|          SE|\n",
       "|345.709.261-34|    usales@ig.com.br|b_8xaY$ozJ|        1992-10-16|    AM|   2023-01-05|    97.93.29.75|        Rosa|           Almirante|    (084) 8993-4521|Brasil|          AM|\n",
       "|318.254.906-51|pereiranicolas@ho...|YA9I85Wb+2|        1945-11-18|    MA|   2023-01-24| 182.195.33.137|     Amarelo|   Consultor De Moda|    (084) 4591 3795|Brasil|          MA|\n",
       "|610.287.453-62|cardosolivia@ig.c...|yXkDW7Ebh*|        1915-11-15|    GO|   2023-01-22| 195.194.63.184|     Laranja|            Barbeiro|   +55 61 8967-9563|Brasil|          GO|\n",
       "|615.790.842-49|  brenda39@ig.com.br|XS$84Hpsnw|        1964-02-01|    RJ|   2023-02-16|  21.252.226.29|      Branco|  Promotor De Vendas|+55 (021) 4751 2004|Brasil|          RJ|\n",
       "|624.095.138-24|luizapeixoto@gmai...|TbKy82Kda$|        1959-02-01|    DF|   2023-02-25|  105.107.23.13|       Ciano|    Implantodontista|       84 1293 1906|Brasil|          DF|\n",
       "+--------------+--------------------+----------+------------------+------+-------------+---------------+------------+--------------------+-------------------+------+------------+\n",
       "only showing top 20 rows"
      ]
     },
     "execution_count": 155,
     "metadata": {},
     "output_type": "execute_result"
    }
   ],
   "source": [
    "df.withColumn('pais', F.lit('Brasil')).withColumn('Sigla_estado', F.col('estado'))"
   ]
  },
  {
   "cell_type": "code",
   "execution_count": 158,
   "id": "3bed1240-190d-4e2b-871d-b76e63ceb0f4",
   "metadata": {
    "collapsed": true,
    "jupyter": {
     "outputs_hidden": true
    }
   },
   "outputs": [
    {
     "data": {
      "text/html": [
       "<table border='1'>\n",
       "<tr><th>cpf</th><th>email</th><th>senha</th><th>data_de_nascimento</th><th>estado</th><th>data_cadastro</th><th>ipv4</th><th>cor_favorita</th><th>profissao</th><th>telefone</th><th>Nome_Estados</th><th>flag_rosa</th></tr>\n",
       "<tr><td>981.507.362-12</td><td>pedro-lucas53@gma...</td><td>+7^7E%xFBc</td><td>2006-12-18</td><td>RR</td><td>2023-02-26</td><td>99.107.250.210</td><td>Roxo</td><td>Jogador De Golfe</td><td>31 7785-4046</td><td>Outros Estados</td><td>0</td></tr>\n",
       "<tr><td>493.705.168-75</td><td>rezendeisaac@hotm...</td><td>_O_2GRnGOe</td><td>1992-06-17</td><td>GO</td><td>2023-02-16</td><td>197.11.26.213</td><td>Ciano</td><td>Atleta De Arremes...</td><td>(031) 0803-6753</td><td>Goiás</td><td>0</td></tr>\n",
       "<tr><td>398.471.625-73</td><td>felipepires@uol.c...</td><td>*Aw5EOAvy9</td><td>1921-11-11</td><td>MG</td><td>2023-01-02</td><td>181.90.63.58</td><td>Azul</td><td>Papiloscopista</td><td>11 9674-0553</td><td>Outros Estados</td><td>0</td></tr>\n",
       "<tr><td>092.618.354-06</td><td>stellamoraes@bol....</td><td>mw0AWYAs#s</td><td>2021-06-01</td><td>AC</td><td>2023-01-08</td><td>26.121.127.94</td><td>Marrom</td><td>Aeromoça</td><td>+55 (071) 3033 9177</td><td>Acre</td><td>0</td></tr>\n",
       "<tr><td>509.427.136-99</td><td>wcarvalho@ig.com.br</td><td>pGD%!2Pq5X</td><td>1969-10-28</td><td>AP</td><td>2023-02-14</td><td>76.184.52.163</td><td>Laranja</td><td>Fonoaudiólogo</td><td>+55 (071) 6272 2468</td><td>Amapá</td><td>0</td></tr>\n",
       "<tr><td>218.795.460-94</td><td>da-conceicaodavi-...</td><td>uhBbFxPA&amp;9</td><td>1986-05-19</td><td>MG</td><td>2023-03-07</td><td>192.93.0.24</td><td>Rosa</td><td>Taxista</td><td>+55 84 0652 9691</td><td>Outros Estados</td><td>1</td></tr>\n",
       "<tr><td>715.836.940-48</td><td>efreitas@bol.com.br</td><td>s#q9VZt&amp;xl</td><td>2018-04-20</td><td>MG</td><td>2023-01-13</td><td>76.251.188.148</td><td>Branco</td><td>Produtor De Audio...</td><td>+55 (084) 1363 0052</td><td>Outros Estados</td><td>0</td></tr>\n",
       "<tr><td>475.698.032-56</td><td>wnunes@bol.com.br</td><td>_8az1W%n7g</td><td>1996-05-12</td><td>SE</td><td>2023-02-04</td><td>139.196.176.154</td><td>Azul</td><td>Cadeirinha</td><td>(071) 1640-3388</td><td>Outros Estados</td><td>0</td></tr>\n",
       "<tr><td>217.639.540-99</td><td>jribeiro@bol.com.br</td><td>MEf1X7fj_0</td><td>2021-10-05</td><td>PA</td><td>2023-03-02</td><td>71.22.224.5</td><td>Marrom</td><td>Geólogo</td><td>21 1432 4092</td><td>Outros Estados</td><td>0</td></tr>\n",
       "<tr><td>261.938.750-77</td><td>murilo05@gmail.com</td><td>Te&amp;gO7GkKs</td><td>1917-01-05</td><td>MT</td><td>2023-02-21</td><td>136.54.123.165</td><td>Marrom</td><td>Técnico De Som</td><td>+55 (084) 5878-3346</td><td>Outros Estados</td><td>0</td></tr>\n",
       "<tr><td>520.831.796-68</td><td>joaquim57@ig.com.br</td><td>&amp;2E1NY+ARc</td><td>1912-05-25</td><td>BA</td><td>2023-01-25</td><td>78.196.255.126</td><td>Rosa</td><td>Esteticista</td><td>41 7914-3753</td><td>Outros Estados</td><td>1</td></tr>\n",
       "<tr><td>413.087.526-44</td><td>alexiada-rocha@ig...</td><td>@f@!Z!2c*2</td><td>1920-05-26</td><td>MS</td><td>2023-02-18</td><td>182.61.65.201</td><td>Laranja</td><td>Microfonista</td><td>(021) 3739-2944</td><td>Outros Estados</td><td>0</td></tr>\n",
       "<tr><td>509.287.143-14</td><td>pmendes@gmail.com</td><td>M+^XDBfe(2</td><td>1938-03-11</td><td>RR</td><td>2023-01-19</td><td>61.234.208.17</td><td>Verde Claro</td><td>Fiscal</td><td>+55 (084) 5940-1932</td><td>Outros Estados</td><td>0</td></tr>\n",
       "<tr><td>563.170.492-70</td><td>renan46@bol.com.br</td><td>Rp%2pVqfe$</td><td>1922-09-01</td><td>PA</td><td>2023-02-01</td><td>122.203.83.177</td><td>Verde Escuro</td><td>Contabilista</td><td>+55 41 6248 5773</td><td>Outros Estados</td><td>0</td></tr>\n",
       "<tr><td>098.712.346-78</td><td>manuelada-rosa@ho...</td><td>#hEIEOztQ3</td><td>2013-01-10</td><td>SE</td><td>2023-01-07</td><td>175.18.73.211</td><td>Violeta</td><td>Seguidor De Compras</td><td>51 0278 0564</td><td>Outros Estados</td><td>0</td></tr>\n",
       "<tr><td>345.709.261-34</td><td>usales@ig.com.br</td><td>b_8xaY$ozJ</td><td>1992-10-16</td><td>AM</td><td>2023-01-05</td><td>97.93.29.75</td><td>Rosa</td><td>Almirante</td><td>(084) 8993-4521</td><td>Outros Estados</td><td>1</td></tr>\n",
       "<tr><td>318.254.906-51</td><td>pereiranicolas@ho...</td><td>YA9I85Wb+2</td><td>1945-11-18</td><td>MA</td><td>2023-01-24</td><td>182.195.33.137</td><td>Amarelo</td><td>Consultor De Moda</td><td>(084) 4591 3795</td><td>Outros Estados</td><td>0</td></tr>\n",
       "<tr><td>610.287.453-62</td><td>cardosolivia@ig.c...</td><td>yXkDW7Ebh*</td><td>1915-11-15</td><td>GO</td><td>2023-01-22</td><td>195.194.63.184</td><td>Laranja</td><td>Barbeiro</td><td>+55 61 8967-9563</td><td>Goiás</td><td>0</td></tr>\n",
       "<tr><td>615.790.842-49</td><td>brenda39@ig.com.br</td><td>XS$84Hpsnw</td><td>1964-02-01</td><td>RJ</td><td>2023-02-16</td><td>21.252.226.29</td><td>Branco</td><td>Promotor De Vendas</td><td>+55 (021) 4751 2004</td><td>Outros Estados</td><td>0</td></tr>\n",
       "<tr><td>624.095.138-24</td><td>luizapeixoto@gmai...</td><td>TbKy82Kda$</td><td>1959-02-01</td><td>DF</td><td>2023-02-25</td><td>105.107.23.13</td><td>Ciano</td><td>Implantodontista</td><td>84 1293 1906</td><td>Outros Estados</td><td>0</td></tr>\n",
       "</table>\n",
       "only showing top 20 rows\n"
      ],
      "text/plain": [
       "+--------------+--------------------+----------+------------------+------+-------------+---------------+------------+--------------------+-------------------+--------------+---------+\n",
       "|           cpf|               email|     senha|data_de_nascimento|estado|data_cadastro|           ipv4|cor_favorita|           profissao|           telefone|  Nome_Estados|flag_rosa|\n",
       "+--------------+--------------------+----------+------------------+------+-------------+---------------+------------+--------------------+-------------------+--------------+---------+\n",
       "|981.507.362-12|pedro-lucas53@gma...|+7^7E%xFBc|        2006-12-18|    RR|   2023-02-26| 99.107.250.210|        Roxo|    Jogador De Golfe|       31 7785-4046|Outros Estados|        0|\n",
       "|493.705.168-75|rezendeisaac@hotm...|_O_2GRnGOe|        1992-06-17|    GO|   2023-02-16|  197.11.26.213|       Ciano|Atleta De Arremes...|    (031) 0803-6753|         Goiás|        0|\n",
       "|398.471.625-73|felipepires@uol.c...|*Aw5EOAvy9|        1921-11-11|    MG|   2023-01-02|   181.90.63.58|        Azul|      Papiloscopista|       11 9674-0553|Outros Estados|        0|\n",
       "|092.618.354-06|stellamoraes@bol....|mw0AWYAs#s|        2021-06-01|    AC|   2023-01-08|  26.121.127.94|      Marrom|            Aeromoça|+55 (071) 3033 9177|          Acre|        0|\n",
       "|509.427.136-99| wcarvalho@ig.com.br|pGD%!2Pq5X|        1969-10-28|    AP|   2023-02-14|  76.184.52.163|     Laranja|       Fonoaudiólogo|+55 (071) 6272 2468|         Amapá|        0|\n",
       "|218.795.460-94|da-conceicaodavi-...|uhBbFxPA&9|        1986-05-19|    MG|   2023-03-07|    192.93.0.24|        Rosa|             Taxista|   +55 84 0652 9691|Outros Estados|        1|\n",
       "|715.836.940-48| efreitas@bol.com.br|s#q9VZt&xl|        2018-04-20|    MG|   2023-01-13| 76.251.188.148|      Branco|Produtor De Audio...|+55 (084) 1363 0052|Outros Estados|        0|\n",
       "|475.698.032-56|   wnunes@bol.com.br|_8az1W%n7g|        1996-05-12|    SE|   2023-02-04|139.196.176.154|        Azul|          Cadeirinha|    (071) 1640-3388|Outros Estados|        0|\n",
       "|217.639.540-99| jribeiro@bol.com.br|MEf1X7fj_0|        2021-10-05|    PA|   2023-03-02|    71.22.224.5|      Marrom|             Geólogo|       21 1432 4092|Outros Estados|        0|\n",
       "|261.938.750-77|  murilo05@gmail.com|Te&gO7GkKs|        1917-01-05|    MT|   2023-02-21| 136.54.123.165|      Marrom|      Técnico De Som|+55 (084) 5878-3346|Outros Estados|        0|\n",
       "|520.831.796-68| joaquim57@ig.com.br|&2E1NY+ARc|        1912-05-25|    BA|   2023-01-25| 78.196.255.126|        Rosa|         Esteticista|       41 7914-3753|Outros Estados|        1|\n",
       "|413.087.526-44|alexiada-rocha@ig...|@f@!Z!2c*2|        1920-05-26|    MS|   2023-02-18|  182.61.65.201|     Laranja|        Microfonista|    (021) 3739-2944|Outros Estados|        0|\n",
       "|509.287.143-14|   pmendes@gmail.com|M+^XDBfe(2|        1938-03-11|    RR|   2023-01-19|  61.234.208.17| Verde Claro|              Fiscal|+55 (084) 5940-1932|Outros Estados|        0|\n",
       "|563.170.492-70|  renan46@bol.com.br|Rp%2pVqfe$|        1922-09-01|    PA|   2023-02-01| 122.203.83.177|Verde Escuro|        Contabilista|   +55 41 6248 5773|Outros Estados|        0|\n",
       "|098.712.346-78|manuelada-rosa@ho...|#hEIEOztQ3|        2013-01-10|    SE|   2023-01-07|  175.18.73.211|     Violeta| Seguidor De Compras|       51 0278 0564|Outros Estados|        0|\n",
       "|345.709.261-34|    usales@ig.com.br|b_8xaY$ozJ|        1992-10-16|    AM|   2023-01-05|    97.93.29.75|        Rosa|           Almirante|    (084) 8993-4521|Outros Estados|        1|\n",
       "|318.254.906-51|pereiranicolas@ho...|YA9I85Wb+2|        1945-11-18|    MA|   2023-01-24| 182.195.33.137|     Amarelo|   Consultor De Moda|    (084) 4591 3795|Outros Estados|        0|\n",
       "|610.287.453-62|cardosolivia@ig.c...|yXkDW7Ebh*|        1915-11-15|    GO|   2023-01-22| 195.194.63.184|     Laranja|            Barbeiro|   +55 61 8967-9563|         Goiás|        0|\n",
       "|615.790.842-49|  brenda39@ig.com.br|XS$84Hpsnw|        1964-02-01|    RJ|   2023-02-16|  21.252.226.29|      Branco|  Promotor De Vendas|+55 (021) 4751 2004|Outros Estados|        0|\n",
       "|624.095.138-24|luizapeixoto@gmai...|TbKy82Kda$|        1959-02-01|    DF|   2023-02-25|  105.107.23.13|       Ciano|    Implantodontista|       84 1293 1906|Outros Estados|        0|\n",
       "+--------------+--------------------+----------+------------------+------+-------------+---------------+------------+--------------------+-------------------+--------------+---------+\n",
       "only showing top 20 rows"
      ]
     },
     "execution_count": 158,
     "metadata": {},
     "output_type": "execute_result"
    }
   ],
   "source": [
    "(\n",
    "    df\n",
    "    .withColumn('Nome_Estados', F.when(df.estado == 'AC', 'Acre')\n",
    "                                 .when(df['estado'] == 'AL', 'Alagoas')\n",
    "                                 .when(F.col('estado') == 'AP', 'Amapá')\n",
    "                                 .when(F.col('estado') == 'GO', 'Goiás')\n",
    "                                 .otherwise('Outros Estados')\n",
    "               )\n",
    "    .withColumn('flag_rosa', F.when(F.col('cor_favorita') == 'Rosa',1).otherwise(0))\n",
    ")"
   ]
  },
  {
   "cell_type": "markdown",
   "id": "890b1a1d-d9a3-4e4c-a899-7283d0726903",
   "metadata": {},
   "source": [
    "### Manipulação de Strings\n",
    "\n",
    "- SPLIT -> separa a string e aloca o resultado em uma lista usando como parâmetro um str: `.withColumn('email_separado', F.split(df_01.email, '@'))`\n",
    "- CONCAT -> junta dois trechos de STR: `.withColumn('concat', F.concat(df_01.profissao, df_01.cor_favorita))`\n",
    "- LOWER -> todos caracteres minusculas: `.withColumn('lower', F.lower(df.estado))`\n",
    "- UPPER -> todos caracteres maiúsculas: `.withColumn('upper', F.upper(df.cor_favorita))`\n",
    "- INIT_CAP -> primeira letra maiúscula: `.withColumn('init_cap', F.initcap(F.col('lower')))`\n",
    "- SUBSTRING -> possibilita um recorte dos valores da string: `.withColumn('substring', F.substring(df_01.cor_favorita,1,3))`\n",
    "- FORMAT_STRING -> é IGUAL ao `.format` do python, única diferença é que utilizamos essa notação com o `%d`,`%s`,`%i`, etc...:\n",
    "    - `.withColumn('format_string', F.format_string('Olá %s, sua cor favorita é %s',df_01.email, df_01.cor_favorita))`\n",
    "- INSTR -> mostra o índice que o caractere se encontra: `.withColumn('instr', F.instr(df_01.email, '@'))`\n",
    "- LENGTH -> tamanha da string: `.withColumn('tamanho_str', F.length(df_01.profissao))`\n",
    "- REPEAT -> repete o valor da string n vezes: `.withColumn('repete', F.repeat(df_01.estado, 3))`\n",
    "- TRIM -> elimina os espaços iniciais e finais na string: `.withColumn('Retira_Espaço', F.trim(df_01.estado))`\n",
    "- LPAD & RPAD -> determina um valor fixo para a string, caso o valor importado não preencha por completo, ele completa com algum outro caractere:\n",
    "    - `.withColumn('preenche_esqueda', F.lpad(df_01.cor_favorita,10,':'))`\n",
    "    - `.withColumn('preenche_direita', F.rpad(df_01.cor_favorita,10,':'))`\n"
   ]
  },
  {
   "cell_type": "code",
   "execution_count": 162,
   "id": "b2139393-486f-49f4-bece-adb84c5ba984",
   "metadata": {
    "collapsed": true,
    "jupyter": {
     "outputs_hidden": true
    }
   },
   "outputs": [
    {
     "data": {
      "text/html": [
       "<table border='1'>\n",
       "<tr><th>email</th><th>senha</th><th>estado</th><th>cor_favorita</th><th>profissao</th></tr>\n",
       "<tr><td>pedro-lucas53@gma...</td><td>+7^7E%xFBc</td><td>RR</td><td>Roxo</td><td>Jogador De Golfe</td></tr>\n",
       "<tr><td>rezendeisaac@hotm...</td><td>_O_2GRnGOe</td><td>GO</td><td>Ciano</td><td>Atleta De Arremes...</td></tr>\n",
       "<tr><td>felipepires@uol.c...</td><td>*Aw5EOAvy9</td><td>MG</td><td>Azul</td><td>Papiloscopista</td></tr>\n",
       "<tr><td>stellamoraes@bol....</td><td>mw0AWYAs#s</td><td>AC</td><td>Marrom</td><td>Aeromoça</td></tr>\n",
       "<tr><td>wcarvalho@ig.com.br</td><td>pGD%!2Pq5X</td><td>AP</td><td>Laranja</td><td>Fonoaudiólogo</td></tr>\n",
       "<tr><td>da-conceicaodavi-...</td><td>uhBbFxPA&amp;9</td><td>MG</td><td>Rosa</td><td>Taxista</td></tr>\n",
       "<tr><td>efreitas@bol.com.br</td><td>s#q9VZt&amp;xl</td><td>MG</td><td>Branco</td><td>Produtor De Audio...</td></tr>\n",
       "<tr><td>wnunes@bol.com.br</td><td>_8az1W%n7g</td><td>SE</td><td>Azul</td><td>Cadeirinha</td></tr>\n",
       "<tr><td>jribeiro@bol.com.br</td><td>MEf1X7fj_0</td><td>PA</td><td>Marrom</td><td>Geólogo</td></tr>\n",
       "<tr><td>murilo05@gmail.com</td><td>Te&amp;gO7GkKs</td><td>MT</td><td>Marrom</td><td>Técnico De Som</td></tr>\n",
       "<tr><td>joaquim57@ig.com.br</td><td>&amp;2E1NY+ARc</td><td>BA</td><td>Rosa</td><td>Esteticista</td></tr>\n",
       "<tr><td>alexiada-rocha@ig...</td><td>@f@!Z!2c*2</td><td>MS</td><td>Laranja</td><td>Microfonista</td></tr>\n",
       "<tr><td>pmendes@gmail.com</td><td>M+^XDBfe(2</td><td>RR</td><td>Verde Claro</td><td>Fiscal</td></tr>\n",
       "<tr><td>renan46@bol.com.br</td><td>Rp%2pVqfe$</td><td>PA</td><td>Verde Escuro</td><td>Contabilista</td></tr>\n",
       "<tr><td>manuelada-rosa@ho...</td><td>#hEIEOztQ3</td><td>SE</td><td>Violeta</td><td>Seguidor De Compras</td></tr>\n",
       "<tr><td>usales@ig.com.br</td><td>b_8xaY$ozJ</td><td>AM</td><td>Rosa</td><td>Almirante</td></tr>\n",
       "<tr><td>pereiranicolas@ho...</td><td>YA9I85Wb+2</td><td>MA</td><td>Amarelo</td><td>Consultor De Moda</td></tr>\n",
       "<tr><td>cardosolivia@ig.c...</td><td>yXkDW7Ebh*</td><td>GO</td><td>Laranja</td><td>Barbeiro</td></tr>\n",
       "<tr><td>brenda39@ig.com.br</td><td>XS$84Hpsnw</td><td>RJ</td><td>Branco</td><td>Promotor De Vendas</td></tr>\n",
       "<tr><td>luizapeixoto@gmai...</td><td>TbKy82Kda$</td><td>DF</td><td>Ciano</td><td>Implantodontista</td></tr>\n",
       "</table>\n",
       "only showing top 20 rows\n"
      ],
      "text/plain": [
       "+--------------------+----------+------+------------+--------------------+\n",
       "|               email|     senha|estado|cor_favorita|           profissao|\n",
       "+--------------------+----------+------+------------+--------------------+\n",
       "|pedro-lucas53@gma...|+7^7E%xFBc|    RR|        Roxo|    Jogador De Golfe|\n",
       "|rezendeisaac@hotm...|_O_2GRnGOe|    GO|       Ciano|Atleta De Arremes...|\n",
       "|felipepires@uol.c...|*Aw5EOAvy9|    MG|        Azul|      Papiloscopista|\n",
       "|stellamoraes@bol....|mw0AWYAs#s|    AC|      Marrom|            Aeromoça|\n",
       "| wcarvalho@ig.com.br|pGD%!2Pq5X|    AP|     Laranja|       Fonoaudiólogo|\n",
       "|da-conceicaodavi-...|uhBbFxPA&9|    MG|        Rosa|             Taxista|\n",
       "| efreitas@bol.com.br|s#q9VZt&xl|    MG|      Branco|Produtor De Audio...|\n",
       "|   wnunes@bol.com.br|_8az1W%n7g|    SE|        Azul|          Cadeirinha|\n",
       "| jribeiro@bol.com.br|MEf1X7fj_0|    PA|      Marrom|             Geólogo|\n",
       "|  murilo05@gmail.com|Te&gO7GkKs|    MT|      Marrom|      Técnico De Som|\n",
       "| joaquim57@ig.com.br|&2E1NY+ARc|    BA|        Rosa|         Esteticista|\n",
       "|alexiada-rocha@ig...|@f@!Z!2c*2|    MS|     Laranja|        Microfonista|\n",
       "|   pmendes@gmail.com|M+^XDBfe(2|    RR| Verde Claro|              Fiscal|\n",
       "|  renan46@bol.com.br|Rp%2pVqfe$|    PA|Verde Escuro|        Contabilista|\n",
       "|manuelada-rosa@ho...|#hEIEOztQ3|    SE|     Violeta| Seguidor De Compras|\n",
       "|    usales@ig.com.br|b_8xaY$ozJ|    AM|        Rosa|           Almirante|\n",
       "|pereiranicolas@ho...|YA9I85Wb+2|    MA|     Amarelo|   Consultor De Moda|\n",
       "|cardosolivia@ig.c...|yXkDW7Ebh*|    GO|     Laranja|            Barbeiro|\n",
       "|  brenda39@ig.com.br|XS$84Hpsnw|    RJ|      Branco|  Promotor De Vendas|\n",
       "|luizapeixoto@gmai...|TbKy82Kda$|    DF|       Ciano|    Implantodontista|\n",
       "+--------------------+----------+------+------------+--------------------+\n",
       "only showing top 20 rows"
      ]
     },
     "execution_count": 162,
     "metadata": {},
     "output_type": "execute_result"
    }
   ],
   "source": [
    "df_01 = df.select('email','senha','estado','cor_favorita','profissao')\n",
    "df_01"
   ]
  },
  {
   "cell_type": "code",
   "execution_count": 175,
   "id": "2dc0e1ca-93dd-49c9-84ee-995694750b76",
   "metadata": {
    "scrolled": true
   },
   "outputs": [
    {
     "name": "stdout",
     "output_type": "stream",
     "text": [
      "+------------------------+----------+------+------------+---------------------------+---------------------------+-------------+-----------+-------------+\n",
      "|email                   |senha     |estado|cor_favorita|profissao                  |email_separado             |usuario      |provedor   |nome_provedor|\n",
      "+------------------------+----------+------+------------+---------------------------+---------------------------+-------------+-----------+-------------+\n",
      "|pedro-lucas53@gmail.com |+7^7E%xFBc|RR    |Roxo        |Jogador De Golfe           |[pedro-lucas53, gmail.com] |pedro-lucas53|gmail.com  |gmail        |\n",
      "|rezendeisaac@hotmail.com|_O_2GRnGOe|GO    |Ciano       |Atleta De Arremesso De Peso|[rezendeisaac, hotmail.com]|rezendeisaac |hotmail.com|hotmail      |\n",
      "|felipepires@uol.com.br  |*Aw5EOAvy9|MG    |Azul        |Papiloscopista             |[felipepires, uol.com.br]  |felipepires  |uol.com.br |uol          |\n",
      "|stellamoraes@bol.com.br |mw0AWYAs#s|AC    |Marrom      |Aeromoça                   |[stellamoraes, bol.com.br] |stellamoraes |bol.com.br |bol          |\n",
      "|wcarvalho@ig.com.br     |pGD%!2Pq5X|AP    |Laranja     |Fonoaudiólogo              |[wcarvalho, ig.com.br]     |wcarvalho    |ig.com.br  |ig           |\n",
      "+------------------------+----------+------+------------+---------------------------+---------------------------+-------------+-----------+-------------+\n",
      "only showing top 5 rows\n",
      "\n"
     ]
    },
    {
     "name": "stderr",
     "output_type": "stream",
     "text": [
      "<>:6: SyntaxWarning: invalid escape sequence '\\.'\n",
      "<>:6: SyntaxWarning: invalid escape sequence '\\.'\n",
      "C:\\Users\\Kimura\\AppData\\Local\\Temp\\ipykernel_14536\\3903086521.py:6: SyntaxWarning: invalid escape sequence '\\.'\n",
      "  .withColumn('nome_provedor', F.split(F.col('provedor'), '\\.').getItem(0))\n"
     ]
    }
   ],
   "source": [
    "(\n",
    "    df_01\n",
    "    .withColumn('email_separado', F.split(df_01.email, '@'))\n",
    "    .withColumn('usuario', F.split(df_01.email, '@').getItem(0))\n",
    "    .withColumn('provedor', F.split(df_01.email, '@').getItem(1))\n",
    "    .withColumn('nome_provedor', F.split(F.col('provedor'), '\\.').getItem(0))\n",
    "    .show(5,False)  \n",
    ")"
   ]
  },
  {
   "cell_type": "code",
   "execution_count": 204,
   "id": "806c8958-5d91-4af0-9766-b33d77871818",
   "metadata": {
    "scrolled": true
   },
   "outputs": [
    {
     "name": "stdout",
     "output_type": "stream",
     "text": [
      "+------------------------+----------+------+------------+---------------------------+--------------------------------+-----------+\n",
      "|email                   |senha     |estado|cor_favorita|profissao                  |concat                          |concat_2   |\n",
      "+------------------------+----------+------+------------+---------------------------+--------------------------------+-----------+\n",
      "|pedro-lucas53@gmail.com |+7^7E%xFBc|RR    |Roxo        |Jogador De Golfe           |Jogador De GolfeRoxo            |RR - Brasil|\n",
      "|rezendeisaac@hotmail.com|_O_2GRnGOe|GO    |Ciano       |Atleta De Arremesso De Peso|Atleta De Arremesso De PesoCiano|GO - Brasil|\n",
      "|felipepires@uol.com.br  |*Aw5EOAvy9|MG    |Azul        |Papiloscopista             |PapiloscopistaAzul              |MG - Brasil|\n",
      "|stellamoraes@bol.com.br |mw0AWYAs#s|AC    |Marrom      |Aeromoça                   |AeromoçaMarrom                  |AC - Brasil|\n",
      "|wcarvalho@ig.com.br     |pGD%!2Pq5X|AP    |Laranja     |Fonoaudiólogo              |FonoaudiólogoLaranja            |AP - Brasil|\n",
      "+------------------------+----------+------+------------+---------------------------+--------------------------------+-----------+\n",
      "only showing top 5 rows\n",
      "\n"
     ]
    }
   ],
   "source": [
    "(\n",
    "    df_01\n",
    "    .withColumn('concat', F.concat(df_01.profissao, df_01.cor_favorita))\n",
    "    .withColumn('concat_2', F.concat(df_01.estado, F.lit(' - Brasil' )))\n",
    "    .show(5,False)\n",
    ")"
   ]
  },
  {
   "cell_type": "code",
   "execution_count": 173,
   "id": "5f04c6b6-2e41-415e-a46b-b4fdbe5a2399",
   "metadata": {},
   "outputs": [
    {
     "name": "stdout",
     "output_type": "stream",
     "text": [
      "+------------------------+----------+------+------------+---------------------------+-----+-------+--------+---------+------------------------------------------------------+\n",
      "|email                   |senha     |estado|cor_favorita|profissao                  |lower|upper  |init_cap|substring|format_string                                         |\n",
      "+------------------------+----------+------+------------+---------------------------+-----+-------+--------+---------+------------------------------------------------------+\n",
      "|pedro-lucas53@gmail.com |+7^7E%xFBc|RR    |Roxo        |Jogador De Golfe           |rr   |ROXO   |Rr      |Rox      |Olá pedro-lucas53@gmail.com, sua cor favorita é Roxo  |\n",
      "|rezendeisaac@hotmail.com|_O_2GRnGOe|GO    |Ciano       |Atleta De Arremesso De Peso|go   |CIANO  |Go      |Cia      |Olá rezendeisaac@hotmail.com, sua cor favorita é Ciano|\n",
      "|felipepires@uol.com.br  |*Aw5EOAvy9|MG    |Azul        |Papiloscopista             |mg   |AZUL   |Mg      |Azu      |Olá felipepires@uol.com.br, sua cor favorita é Azul   |\n",
      "|stellamoraes@bol.com.br |mw0AWYAs#s|AC    |Marrom      |Aeromoça                   |ac   |MARROM |Ac      |Mar      |Olá stellamoraes@bol.com.br, sua cor favorita é Marrom|\n",
      "|wcarvalho@ig.com.br     |pGD%!2Pq5X|AP    |Laranja     |Fonoaudiólogo              |ap   |LARANJA|Ap      |Lar      |Olá wcarvalho@ig.com.br, sua cor favorita é Laranja   |\n",
      "+------------------------+----------+------+------------+---------------------------+-----+-------+--------+---------+------------------------------------------------------+\n",
      "only showing top 5 rows\n",
      "\n"
     ]
    }
   ],
   "source": [
    "(\n",
    "    df_01\n",
    "    .withColumn('lower', F.lower(df.estado))\n",
    "    .withColumn('upper', F.upper(df.cor_favorita))\n",
    "    .withColumn('init_cap', F.initcap(F.col('lower')))\n",
    "    .withColumn('substring', F.substring(df_01.cor_favorita,1,3))\n",
    "    .withColumn('format_string', F.format_string('Olá %s, sua cor favorita é %s',df_01.email, df_01.cor_favorita))\n",
    "    .show(5,False)\n",
    ")"
   ]
  },
  {
   "cell_type": "code",
   "execution_count": 210,
   "id": "8734e37f-27f7-4ba2-8fa1-99fad10a1157",
   "metadata": {
    "scrolled": true
   },
   "outputs": [
    {
     "name": "stdout",
     "output_type": "stream",
     "text": [
      "+------------------------+----------+------+------------+---------------------------+-----+-----------+------+-------------+----------------+----------------+\n",
      "|email                   |senha     |estado|cor_favorita|profissao                  |instr|tamanho_str|repete|Retira_Espaço|preenche_esqueda|preenche_direita|\n",
      "+------------------------+----------+------+------------+---------------------------+-----+-----------+------+-------------+----------------+----------------+\n",
      "|pedro-lucas53@gmail.com |+7^7E%xFBc|RR    |Roxo        |Jogador De Golfe           |14   |16         |RRRRRR|RR           |::::::Roxo      |Roxo::::::      |\n",
      "|rezendeisaac@hotmail.com|_O_2GRnGOe|GO    |Ciano       |Atleta De Arremesso De Peso|0    |27         |GOGOGO|GO           |:::::Ciano      |Ciano:::::      |\n",
      "|felipepires@uol.com.br  |*Aw5EOAvy9|MG    |Azul        |Papiloscopista             |0    |14         |MGMGMG|MG           |::::::Azul      |Azul::::::      |\n",
      "|stellamoraes@bol.com.br |mw0AWYAs#s|AC    |Marrom      |Aeromoça                   |0    |8          |ACACAC|AC           |::::Marrom      |Marrom::::      |\n",
      "|wcarvalho@ig.com.br     |pGD%!2Pq5X|AP    |Laranja     |Fonoaudiólogo              |0    |13         |APAPAP|AP           |:::Laranja      |Laranja:::      |\n",
      "+------------------------+----------+------+------------+---------------------------+-----+-----------+------+-------------+----------------+----------------+\n",
      "only showing top 5 rows\n",
      "\n"
     ]
    }
   ],
   "source": [
    "(\n",
    "    df_01\n",
    "    .withColumn('instr', F.instr(df_01.email, '@'))\n",
    "    .withColumn('instr', F.instr(df_01.email, '@gmail'))\n",
    "    .withColumn('tamanho_str', F.length(df_01.profissao))\n",
    "    .withColumn('repete', F.repeat(df_01.estado, 3))\n",
    "    .withColumn('Retira_Espaço', F.trim(df_01.estado))\n",
    "    .withColumn('preenche_esqueda', F.lpad(df_01.cor_favorita,10,':'))\n",
    "    .withColumn('preenche_direita', F.rpad(df_01.cor_favorita,10,':'))\n",
    "    .show(5,False)\n",
    ")"
   ]
  },
  {
   "cell_type": "markdown",
   "id": "4c5fcd6e-271e-45a0-97b9-d2efdeb15c32",
   "metadata": {},
   "source": [
    "### Manipulação de Números\n",
    "\n",
    "- ROUND -> `.withColumn('Round', F.round(df.peso,1))`\n",
    "- CEIL -> `.withColumn('Ceil', F.ceil(df.peso))`\n",
    "- FLOOR -> `.withColumn('Floor', F.floor(df.peso))`\n",
    "- ABS -> `.withColumn('Valor_Abs', F.abs(df.altura))`\n",
    "- POW -> `.withColumn('Potencia', F.pow(df.peso,2))`\n",
    "- SQRT -> `.withColumn('Raiz', F.sqrt(F.col('Potencia')))`"
   ]
  },
  {
   "cell_type": "code",
   "execution_count": 237,
   "id": "a536fd9f-a5ea-4a5b-96e0-51886ba7f9e2",
   "metadata": {
    "collapsed": true,
    "jupyter": {
     "outputs_hidden": true
    }
   },
   "outputs": [
    {
     "data": {
      "text/html": [
       "<table border='1'>\n",
       "<tr><th>nome</th><th>altura</th><th>peso</th></tr>\n",
       "<tr><td>Pietra Fernandes</td><td>176</td><td>97.88</td></tr>\n",
       "<tr><td>Ana Júlia da Rosa</td><td>163</td><td>80.56</td></tr>\n",
       "<tr><td>Fernando Martins</td><td>150</td><td>85.55</td></tr>\n",
       "<tr><td>Isis Silveira</td><td>173</td><td>70.1</td></tr>\n",
       "<tr><td>Cecília Porto</td><td>190</td><td>93.42</td></tr>\n",
       "<tr><td>Sra. Bruna Almeida</td><td>198</td><td>73.07</td></tr>\n",
       "<tr><td>Maria Julia Silva</td><td>170</td><td>71.36</td></tr>\n",
       "<tr><td>Pedro Henrique da...</td><td>188</td><td>105.57</td></tr>\n",
       "<tr><td>Davi Lucas Campos</td><td>180</td><td>98.49</td></tr>\n",
       "<tr><td>Juan Gonçalves</td><td>175</td><td>71.87</td></tr>\n",
       "</table>\n"
      ],
      "text/plain": [
       "+--------------------+------+------+\n",
       "|                nome|altura|  peso|\n",
       "+--------------------+------+------+\n",
       "|    Pietra Fernandes|   176| 97.88|\n",
       "|   Ana Júlia da Rosa|   163| 80.56|\n",
       "|    Fernando Martins|   150| 85.55|\n",
       "|       Isis Silveira|   173|  70.1|\n",
       "|       Cecília Porto|   190| 93.42|\n",
       "|  Sra. Bruna Almeida|   198| 73.07|\n",
       "|   Maria Julia Silva|   170| 71.36|\n",
       "|Pedro Henrique da...|   188|105.57|\n",
       "|   Davi Lucas Campos|   180| 98.49|\n",
       "|      Juan Gonçalves|   175| 71.87|\n",
       "+--------------------+------+------+"
      ]
     },
     "execution_count": 237,
     "metadata": {},
     "output_type": "execute_result"
    }
   ],
   "source": [
    "df_02 = spark.read.parquet('C:/Users/Kimura/Desktop/Curso PySpark/DATASETS/DATASETS/IMC.parquet')\n",
    "df_02"
   ]
  },
  {
   "cell_type": "code",
   "execution_count": 244,
   "id": "51b5dd26-a375-4b04-831b-84f5ef6cc294",
   "metadata": {
    "collapsed": true,
    "jupyter": {
     "outputs_hidden": true
    }
   },
   "outputs": [
    {
     "data": {
      "text/html": [
       "<table border='1'>\n",
       "<tr><th>nome</th><th>altura</th><th>peso</th><th>Round</th><th>Ceil</th><th>Floor</th><th>Valor_Abs</th><th>Potencia</th><th>Raiz</th></tr>\n",
       "<tr><td>Pietra Fernandes</td><td>176</td><td>97.88</td><td>97.9</td><td>98</td><td>97</td><td>176</td><td>9580.4944</td><td>97.88</td></tr>\n",
       "<tr><td>Ana Júlia da Rosa</td><td>163</td><td>80.56</td><td>80.6</td><td>81</td><td>80</td><td>163</td><td>6489.913600000001</td><td>80.56</td></tr>\n",
       "<tr><td>Fernando Martins</td><td>150</td><td>85.55</td><td>85.6</td><td>86</td><td>85</td><td>150</td><td>7318.8025</td><td>85.55</td></tr>\n",
       "<tr><td>Isis Silveira</td><td>173</td><td>70.1</td><td>70.1</td><td>71</td><td>70</td><td>173</td><td>4914.009999999999</td><td>70.1</td></tr>\n",
       "<tr><td>Cecília Porto</td><td>190</td><td>93.42</td><td>93.4</td><td>94</td><td>93</td><td>190</td><td>8727.296400000001</td><td>93.42</td></tr>\n",
       "<tr><td>Sra. Bruna Almeida</td><td>198</td><td>73.07</td><td>73.1</td><td>74</td><td>73</td><td>198</td><td>5339.224899999999</td><td>73.07</td></tr>\n",
       "<tr><td>Maria Julia Silva</td><td>170</td><td>71.36</td><td>71.4</td><td>72</td><td>71</td><td>170</td><td>5092.2496</td><td>71.36</td></tr>\n",
       "<tr><td>Pedro Henrique da...</td><td>188</td><td>105.57</td><td>105.6</td><td>106</td><td>105</td><td>188</td><td>11145.024899999999</td><td>105.57</td></tr>\n",
       "<tr><td>Davi Lucas Campos</td><td>180</td><td>98.49</td><td>98.5</td><td>99</td><td>98</td><td>180</td><td>9700.280099999998</td><td>98.49</td></tr>\n",
       "<tr><td>Juan Gonçalves</td><td>175</td><td>71.87</td><td>71.9</td><td>72</td><td>71</td><td>175</td><td>5165.2969</td><td>71.87</td></tr>\n",
       "</table>\n"
      ],
      "text/plain": [
       "+--------------------+------+------+-----+----+-----+---------+------------------+------+\n",
       "|                nome|altura|  peso|Round|Ceil|Floor|Valor_Abs|          Potencia|  Raiz|\n",
       "+--------------------+------+------+-----+----+-----+---------+------------------+------+\n",
       "|    Pietra Fernandes|   176| 97.88| 97.9|  98|   97|      176|         9580.4944| 97.88|\n",
       "|   Ana Júlia da Rosa|   163| 80.56| 80.6|  81|   80|      163| 6489.913600000001| 80.56|\n",
       "|    Fernando Martins|   150| 85.55| 85.6|  86|   85|      150|         7318.8025| 85.55|\n",
       "|       Isis Silveira|   173|  70.1| 70.1|  71|   70|      173| 4914.009999999999|  70.1|\n",
       "|       Cecília Porto|   190| 93.42| 93.4|  94|   93|      190| 8727.296400000001| 93.42|\n",
       "|  Sra. Bruna Almeida|   198| 73.07| 73.1|  74|   73|      198| 5339.224899999999| 73.07|\n",
       "|   Maria Julia Silva|   170| 71.36| 71.4|  72|   71|      170|         5092.2496| 71.36|\n",
       "|Pedro Henrique da...|   188|105.57|105.6| 106|  105|      188|11145.024899999999|105.57|\n",
       "|   Davi Lucas Campos|   180| 98.49| 98.5|  99|   98|      180| 9700.280099999998| 98.49|\n",
       "|      Juan Gonçalves|   175| 71.87| 71.9|  72|   71|      175|         5165.2969| 71.87|\n",
       "+--------------------+------+------+-----+----+-----+---------+------------------+------+"
      ]
     },
     "execution_count": 244,
     "metadata": {},
     "output_type": "execute_result"
    }
   ],
   "source": [
    "(\n",
    "    df_02\n",
    "    .withColumn('Round', F.round(df_02.peso,1))\n",
    "    .withColumn('Ceil', F.ceil(df_02.peso))\n",
    "    .withColumn('Floor', F.floor(df_02.peso))\n",
    "    .withColumn('Valor_Abs', F.abs(df_02.altura))\n",
    "    .withColumn('Potencia', F.pow(df_02.peso,2))\n",
    "    .withColumn('Raiz', F.sqrt(F.col('Potencia')))\n",
    ")"
   ]
  },
  {
   "cell_type": "markdown",
   "id": "0ea370fa-2587-472f-a673-5a1e2e9b1286",
   "metadata": {},
   "source": [
    "### Manipulação de Data\n",
    "\n",
    "- Adicionar ou Subtrair `MESES`:\n",
    "    - `.withColumn('Adicionar_mês', F.add_months(df.data_cadastro, 1))` -> Adiciona meses\n",
    "    - `.withColumn('Subtrair_mês', F.add_months(df.data_cadastro, -1))` -> Subtrai meses\n",
    "\n",
    "- Tempo Atual: `current_date` ou `current_timestamp`\n",
    "    - `.withColumn('Data_atual', F.current_date())` -> traz a data atual\n",
    "    - `.withColumn('Data_hora_atual', F.current_timestamp())` -> traz a data e hora atual\n",
    "\n",
    "- Adicionar ou Subtrair DIAS: `date_add` ou `date_sub`\n",
    "    - `.withColumn('Adicionar_dias', F.date_add(df.data_cadastro, 15))` -> adiciona 15 dias;\n",
    "    - `.withColumn('Subtrair_dias', F.date_add(df.data_cadastro, -15))` -> subtrai 15 dias;\n",
    "    - `.withColumn('Subtrair_dias_sub', F.date_sub(df.data_cadastro, -15))` -> adiciona 15 dias;\n",
    "    - `.withColumn('Subtrair_dias_sub', F.date_sub(df.data_cadastro, 15))` -> subtrai 15 dias\n",
    "\n",
    "- Formatação Data: `date_format` | `'dd/MM/yyyy'` | `'E, dd-MMM-yyyy'` | `F.to_date(F.lit('1996-06-19')`\n",
    "    - `.withColumn('Formatação_Data', F.date_format(df.data_de_nascimento, 'dd/MM/yyyy'))` -> altera para o formato dia mes ano\n",
    "    - `.withColumn('Formatação_Data', F.date_format(df.data_de_nascimento, 'E, dd-MMM-yyyy'))` -> altera para o formato dia_semana dia mes ano\n",
    "\n",
    "- Diferença entre datas: `datediff` e o `date_between`\n",
    "    - `.withColumn('Diferença_Datas', F.datediff(F.current_date(), df.data_de_nascimento))` -> diferença entre dias\n",
    "    - `.withColumn('Meses_Entre', F.months_between(F.current_date(), df.data_de_nascimento))` -> diferença entre meses\n",
    "\n",
    "- Seleção de parte da data:\n",
    "    - Seleção de ANO:\n",
    "        - `year` : `.withColumn('Ano', F.year(df.data_de_nascimento))` -> retorna o ano da data\n",
    "    - Seleção de MêS:\n",
    "        - `month` : `.withColumn('Mês', F.month(df.data_de_nascimento))` -> retorna o mês da data\n",
    "    - Seleção do último dia do MêS:\n",
    "        - `last_day` : `.withColumn('Ultimo_dia_mês', F.last_day(df.data_de_nascimento))` -> retorna a última data do mês\n",
    "    - Seleção do próximo dia da data selecionada (necessário indicar qual dia deseja selecionar):\n",
    "        - `next_day` : `.withColumn('Próximo_Dia', F.next_day(df.data_de_nascimento, 'Mon'))` -> no exemplo, retorna a próxima segunda feira a partir da data da coluna\n",
    "    - Criação de data:\n",
    "        - `make_date` : `.withColumn('Criar_Data', F.make_date(F.lit(1996), F.lit(6), F.lit(19)))` -> cria uma data a partir de valores LITERAIS `(.lit)`\n",
    "\n"
   ]
  },
  {
   "cell_type": "code",
   "execution_count": 250,
   "id": "545ce964-1098-456b-966a-d890ac62c265",
   "metadata": {
    "collapsed": true,
    "jupyter": {
     "outputs_hidden": true
    }
   },
   "outputs": [
    {
     "data": {
      "text/html": [
       "<table border='1'>\n",
       "<tr><th>data_de_nascimento</th><th>data_cadastro</th></tr>\n",
       "<tr><td>2006-12-18</td><td>2023-02-26</td></tr>\n",
       "<tr><td>1992-06-17</td><td>2023-02-16</td></tr>\n",
       "<tr><td>1921-11-11</td><td>2023-01-02</td></tr>\n",
       "<tr><td>2021-06-01</td><td>2023-01-08</td></tr>\n",
       "<tr><td>1969-10-28</td><td>2023-02-14</td></tr>\n",
       "<tr><td>1986-05-19</td><td>2023-03-07</td></tr>\n",
       "<tr><td>2018-04-20</td><td>2023-01-13</td></tr>\n",
       "<tr><td>1996-05-12</td><td>2023-02-04</td></tr>\n",
       "<tr><td>2021-10-05</td><td>2023-03-02</td></tr>\n",
       "<tr><td>1917-01-05</td><td>2023-02-21</td></tr>\n",
       "<tr><td>1912-05-25</td><td>2023-01-25</td></tr>\n",
       "<tr><td>1920-05-26</td><td>2023-02-18</td></tr>\n",
       "<tr><td>1938-03-11</td><td>2023-01-19</td></tr>\n",
       "<tr><td>1922-09-01</td><td>2023-02-01</td></tr>\n",
       "<tr><td>2013-01-10</td><td>2023-01-07</td></tr>\n",
       "<tr><td>1992-10-16</td><td>2023-01-05</td></tr>\n",
       "<tr><td>1945-11-18</td><td>2023-01-24</td></tr>\n",
       "<tr><td>1915-11-15</td><td>2023-01-22</td></tr>\n",
       "<tr><td>1964-02-01</td><td>2023-02-16</td></tr>\n",
       "<tr><td>1959-02-01</td><td>2023-02-25</td></tr>\n",
       "</table>\n",
       "only showing top 20 rows\n"
      ],
      "text/plain": [
       "+------------------+-------------+\n",
       "|data_de_nascimento|data_cadastro|\n",
       "+------------------+-------------+\n",
       "|        2006-12-18|   2023-02-26|\n",
       "|        1992-06-17|   2023-02-16|\n",
       "|        1921-11-11|   2023-01-02|\n",
       "|        2021-06-01|   2023-01-08|\n",
       "|        1969-10-28|   2023-02-14|\n",
       "|        1986-05-19|   2023-03-07|\n",
       "|        2018-04-20|   2023-01-13|\n",
       "|        1996-05-12|   2023-02-04|\n",
       "|        2021-10-05|   2023-03-02|\n",
       "|        1917-01-05|   2023-02-21|\n",
       "|        1912-05-25|   2023-01-25|\n",
       "|        1920-05-26|   2023-02-18|\n",
       "|        1938-03-11|   2023-01-19|\n",
       "|        1922-09-01|   2023-02-01|\n",
       "|        2013-01-10|   2023-01-07|\n",
       "|        1992-10-16|   2023-01-05|\n",
       "|        1945-11-18|   2023-01-24|\n",
       "|        1915-11-15|   2023-01-22|\n",
       "|        1964-02-01|   2023-02-16|\n",
       "|        1959-02-01|   2023-02-25|\n",
       "+------------------+-------------+\n",
       "only showing top 20 rows"
      ]
     },
     "execution_count": 250,
     "metadata": {},
     "output_type": "execute_result"
    }
   ],
   "source": [
    "df_03 = spark.read.parquet('C:/Users/Kimura/Desktop/Curso PySpark/DATASETS/DATASETS/LOGINS.parquet').select('data_de_nascimento','data_cadastro')\n",
    "df_03"
   ]
  },
  {
   "cell_type": "code",
   "execution_count": 284,
   "id": "8606f24e-4214-41bd-a8e9-05ad8418e99c",
   "metadata": {
    "collapsed": true,
    "jupyter": {
     "outputs_hidden": true
    }
   },
   "outputs": [
    {
     "data": {
      "text/html": [
       "<table border='1'>\n",
       "<tr><th>data_de_nascimento</th><th>data_cadastro</th><th>Adicionar_mês</th><th>Subtrair_mês</th><th>Data_atual</th><th>Data_hora_atual</th><th>Adicionar_dias</th><th>Subtrair_dias</th><th>Subtrair_dias_sub</th><th>Formatação_Data</th><th>Diferença_Datas</th><th>Dia_do_Mês</th><th>Dia_da_Semana</th><th>Semana_do_ano</th><th>Ano</th><th>Mês</th><th>Ultimo_dia_mês</th><th>Meses_Entre</th><th>Próximo_Dia</th><th>Criar_Data</th><th>Formatar_como_data</th></tr>\n",
       "<tr><td>2006-12-18</td><td>2023-02-26</td><td>2023-03-26</td><td>2023-01-26</td><td>2025-04-09</td><td>2025-04-09 08:28:...</td><td>2023-03-13</td><td>2023-02-11</td><td>2023-03-13</td><td>Mon, 18-Dec-2006</td><td>6687</td><td>18</td><td>2</td><td>51</td><td>2006</td><td>12</td><td>2006-12-31</td><td>219.70967742</td><td>2006-12-25</td><td>1996-06-19</td><td>1996-06-19</td></tr>\n",
       "<tr><td>1992-06-17</td><td>2023-02-16</td><td>2023-03-16</td><td>2023-01-16</td><td>2025-04-09</td><td>2025-04-09 08:28:...</td><td>2023-03-03</td><td>2023-02-01</td><td>2023-03-03</td><td>Wed, 17-Jun-1992</td><td>11984</td><td>17</td><td>4</td><td>25</td><td>1992</td><td>6</td><td>1992-06-30</td><td>393.74193548</td><td>1992-06-22</td><td>1996-06-19</td><td>1996-06-19</td></tr>\n",
       "<tr><td>1921-11-11</td><td>2023-01-02</td><td>2023-02-02</td><td>2022-12-02</td><td>2025-04-09</td><td>2025-04-09 08:28:...</td><td>2023-01-17</td><td>2022-12-18</td><td>2023-01-17</td><td>Fri, 11-Nov-1921</td><td>37770</td><td>11</td><td>6</td><td>45</td><td>1921</td><td>11</td><td>1921-11-30</td><td>1240.93548387</td><td>1921-11-14</td><td>1996-06-19</td><td>1996-06-19</td></tr>\n",
       "<tr><td>2021-06-01</td><td>2023-01-08</td><td>2023-02-08</td><td>2022-12-08</td><td>2025-04-09</td><td>2025-04-09 08:28:...</td><td>2023-01-23</td><td>2022-12-24</td><td>2023-01-23</td><td>Tue, 01-Jun-2021</td><td>1408</td><td>1</td><td>3</td><td>22</td><td>2021</td><td>6</td><td>2021-06-30</td><td>46.25806452</td><td>2021-06-07</td><td>1996-06-19</td><td>1996-06-19</td></tr>\n",
       "<tr><td>1969-10-28</td><td>2023-02-14</td><td>2023-03-14</td><td>2023-01-14</td><td>2025-04-09</td><td>2025-04-09 08:28:...</td><td>2023-03-01</td><td>2023-01-30</td><td>2023-03-01</td><td>Tue, 28-Oct-1969</td><td>20252</td><td>28</td><td>3</td><td>44</td><td>1969</td><td>10</td><td>1969-10-31</td><td>665.38709677</td><td>1969-11-03</td><td>1996-06-19</td><td>1996-06-19</td></tr>\n",
       "<tr><td>1986-05-19</td><td>2023-03-07</td><td>2023-04-07</td><td>2023-02-07</td><td>2025-04-09</td><td>2025-04-09 08:28:...</td><td>2023-03-22</td><td>2023-02-20</td><td>2023-03-22</td><td>Mon, 19-May-1986</td><td>14205</td><td>19</td><td>2</td><td>21</td><td>1986</td><td>5</td><td>1986-05-31</td><td>466.67741935</td><td>1986-05-26</td><td>1996-06-19</td><td>1996-06-19</td></tr>\n",
       "<tr><td>2018-04-20</td><td>2023-01-13</td><td>2023-02-13</td><td>2022-12-13</td><td>2025-04-09</td><td>2025-04-09 08:28:...</td><td>2023-01-28</td><td>2022-12-29</td><td>2023-01-28</td><td>Fri, 20-Apr-2018</td><td>2546</td><td>20</td><td>6</td><td>16</td><td>2018</td><td>4</td><td>2018-04-30</td><td>83.64516129</td><td>2018-04-23</td><td>1996-06-19</td><td>1996-06-19</td></tr>\n",
       "<tr><td>1996-05-12</td><td>2023-02-04</td><td>2023-03-04</td><td>2023-01-04</td><td>2025-04-09</td><td>2025-04-09 08:28:...</td><td>2023-02-19</td><td>2023-01-20</td><td>2023-02-19</td><td>Sun, 12-May-1996</td><td>10559</td><td>12</td><td>1</td><td>19</td><td>1996</td><td>5</td><td>1996-05-31</td><td>346.90322581</td><td>1996-05-13</td><td>1996-06-19</td><td>1996-06-19</td></tr>\n",
       "<tr><td>2021-10-05</td><td>2023-03-02</td><td>2023-04-02</td><td>2023-02-02</td><td>2025-04-09</td><td>2025-04-09 08:28:...</td><td>2023-03-17</td><td>2023-02-15</td><td>2023-03-17</td><td>Tue, 05-Oct-2021</td><td>1282</td><td>5</td><td>3</td><td>40</td><td>2021</td><td>10</td><td>2021-10-31</td><td>42.12903226</td><td>2021-10-11</td><td>1996-06-19</td><td>1996-06-19</td></tr>\n",
       "<tr><td>1917-01-05</td><td>2023-02-21</td><td>2023-03-21</td><td>2023-01-21</td><td>2025-04-09</td><td>2025-04-09 08:28:...</td><td>2023-03-08</td><td>2023-02-06</td><td>2023-03-08</td><td>Fri, 05-Jan-1917</td><td>39541</td><td>5</td><td>6</td><td>1</td><td>1917</td><td>1</td><td>1917-01-31</td><td>1299.12903226</td><td>1917-01-08</td><td>1996-06-19</td><td>1996-06-19</td></tr>\n",
       "<tr><td>1912-05-25</td><td>2023-01-25</td><td>2023-02-25</td><td>2022-12-25</td><td>2025-04-09</td><td>2025-04-09 08:28:...</td><td>2023-02-09</td><td>2023-01-10</td><td>2023-02-09</td><td>Sat, 25-May-1912</td><td>41227</td><td>25</td><td>7</td><td>21</td><td>1912</td><td>5</td><td>1912-05-31</td><td>1354.48387097</td><td>1912-05-27</td><td>1996-06-19</td><td>1996-06-19</td></tr>\n",
       "<tr><td>1920-05-26</td><td>2023-02-18</td><td>2023-03-18</td><td>2023-01-18</td><td>2025-04-09</td><td>2025-04-09 08:28:...</td><td>2023-03-05</td><td>2023-02-03</td><td>2023-03-05</td><td>Wed, 26-May-1920</td><td>38304</td><td>26</td><td>4</td><td>22</td><td>1920</td><td>5</td><td>1920-05-31</td><td>1258.4516129</td><td>1920-05-31</td><td>1996-06-19</td><td>1996-06-19</td></tr>\n",
       "<tr><td>1938-03-11</td><td>2023-01-19</td><td>2023-02-19</td><td>2022-12-19</td><td>2025-04-09</td><td>2025-04-09 08:28:...</td><td>2023-02-03</td><td>2023-01-04</td><td>2023-02-03</td><td>Fri, 11-Mar-1938</td><td>31806</td><td>11</td><td>6</td><td>10</td><td>1938</td><td>3</td><td>1938-03-31</td><td>1044.93548387</td><td>1938-03-14</td><td>1996-06-19</td><td>1996-06-19</td></tr>\n",
       "<tr><td>1922-09-01</td><td>2023-02-01</td><td>2023-03-01</td><td>2023-01-01</td><td>2025-04-09</td><td>2025-04-09 08:28:...</td><td>2023-02-16</td><td>2023-01-17</td><td>2023-02-16</td><td>Fri, 01-Sep-1922</td><td>37476</td><td>1</td><td>6</td><td>35</td><td>1922</td><td>9</td><td>1922-09-30</td><td>1231.25806452</td><td>1922-09-04</td><td>1996-06-19</td><td>1996-06-19</td></tr>\n",
       "<tr><td>2013-01-10</td><td>2023-01-07</td><td>2023-02-07</td><td>2022-12-07</td><td>2025-04-09</td><td>2025-04-09 08:28:...</td><td>2023-01-22</td><td>2022-12-23</td><td>2023-01-22</td><td>Thu, 10-Jan-2013</td><td>4472</td><td>10</td><td>5</td><td>2</td><td>2013</td><td>1</td><td>2013-01-31</td><td>146.96774194</td><td>2013-01-14</td><td>1996-06-19</td><td>1996-06-19</td></tr>\n",
       "<tr><td>1992-10-16</td><td>2023-01-05</td><td>2023-02-05</td><td>2022-12-05</td><td>2025-04-09</td><td>2025-04-09 08:28:...</td><td>2023-01-20</td><td>2022-12-21</td><td>2023-01-20</td><td>Fri, 16-Oct-1992</td><td>11863</td><td>16</td><td>6</td><td>42</td><td>1992</td><td>10</td><td>1992-10-31</td><td>389.77419355</td><td>1992-10-19</td><td>1996-06-19</td><td>1996-06-19</td></tr>\n",
       "<tr><td>1945-11-18</td><td>2023-01-24</td><td>2023-02-24</td><td>2022-12-24</td><td>2025-04-09</td><td>2025-04-09 08:28:...</td><td>2023-02-08</td><td>2023-01-09</td><td>2023-02-08</td><td>Sun, 18-Nov-1945</td><td>28997</td><td>18</td><td>1</td><td>46</td><td>1945</td><td>11</td><td>1945-11-30</td><td>952.70967742</td><td>1945-11-19</td><td>1996-06-19</td><td>1996-06-19</td></tr>\n",
       "<tr><td>1915-11-15</td><td>2023-01-22</td><td>2023-02-22</td><td>2022-12-22</td><td>2025-04-09</td><td>2025-04-09 08:28:...</td><td>2023-02-06</td><td>2023-01-07</td><td>2023-02-06</td><td>Mon, 15-Nov-1915</td><td>39958</td><td>15</td><td>2</td><td>46</td><td>1915</td><td>11</td><td>1915-11-30</td><td>1312.80645161</td><td>1915-11-22</td><td>1996-06-19</td><td>1996-06-19</td></tr>\n",
       "<tr><td>1964-02-01</td><td>2023-02-16</td><td>2023-03-16</td><td>2023-01-16</td><td>2025-04-09</td><td>2025-04-09 08:28:...</td><td>2023-03-03</td><td>2023-02-01</td><td>2023-03-03</td><td>Sat, 01-Feb-1964</td><td>22348</td><td>1</td><td>7</td><td>5</td><td>1964</td><td>2</td><td>1964-02-29</td><td>734.25806452</td><td>1964-02-03</td><td>1996-06-19</td><td>1996-06-19</td></tr>\n",
       "<tr><td>1959-02-01</td><td>2023-02-25</td><td>2023-03-25</td><td>2023-01-25</td><td>2025-04-09</td><td>2025-04-09 08:28:...</td><td>2023-03-12</td><td>2023-02-10</td><td>2023-03-12</td><td>Sun, 01-Feb-1959</td><td>24174</td><td>1</td><td>1</td><td>5</td><td>1959</td><td>2</td><td>1959-02-28</td><td>794.25806452</td><td>1959-02-02</td><td>1996-06-19</td><td>1996-06-19</td></tr>\n",
       "</table>\n",
       "only showing top 20 rows\n"
      ],
      "text/plain": [
       "+------------------+-------------+-------------+------------+----------+--------------------+--------------+-------------+-----------------+----------------+---------------+----------+-------------+-------------+----+---+--------------+-------------+-----------+----------+------------------+\n",
       "|data_de_nascimento|data_cadastro|Adicionar_mês|Subtrair_mês|Data_atual|     Data_hora_atual|Adicionar_dias|Subtrair_dias|Subtrair_dias_sub| Formatação_Data|Diferença_Datas|Dia_do_Mês|Dia_da_Semana|Semana_do_ano| Ano|Mês|Ultimo_dia_mês|  Meses_Entre|Próximo_Dia|Criar_Data|Formatar_como_data|\n",
       "+------------------+-------------+-------------+------------+----------+--------------------+--------------+-------------+-----------------+----------------+---------------+----------+-------------+-------------+----+---+--------------+-------------+-----------+----------+------------------+\n",
       "|        2006-12-18|   2023-02-26|   2023-03-26|  2023-01-26|2025-04-09|2025-04-09 08:28:...|    2023-03-13|   2023-02-11|       2023-03-13|Mon, 18-Dec-2006|           6687|        18|            2|           51|2006| 12|    2006-12-31| 219.70967742| 2006-12-25|1996-06-19|        1996-06-19|\n",
       "|        1992-06-17|   2023-02-16|   2023-03-16|  2023-01-16|2025-04-09|2025-04-09 08:28:...|    2023-03-03|   2023-02-01|       2023-03-03|Wed, 17-Jun-1992|          11984|        17|            4|           25|1992|  6|    1992-06-30| 393.74193548| 1992-06-22|1996-06-19|        1996-06-19|\n",
       "|        1921-11-11|   2023-01-02|   2023-02-02|  2022-12-02|2025-04-09|2025-04-09 08:28:...|    2023-01-17|   2022-12-18|       2023-01-17|Fri, 11-Nov-1921|          37770|        11|            6|           45|1921| 11|    1921-11-30|1240.93548387| 1921-11-14|1996-06-19|        1996-06-19|\n",
       "|        2021-06-01|   2023-01-08|   2023-02-08|  2022-12-08|2025-04-09|2025-04-09 08:28:...|    2023-01-23|   2022-12-24|       2023-01-23|Tue, 01-Jun-2021|           1408|         1|            3|           22|2021|  6|    2021-06-30|  46.25806452| 2021-06-07|1996-06-19|        1996-06-19|\n",
       "|        1969-10-28|   2023-02-14|   2023-03-14|  2023-01-14|2025-04-09|2025-04-09 08:28:...|    2023-03-01|   2023-01-30|       2023-03-01|Tue, 28-Oct-1969|          20252|        28|            3|           44|1969| 10|    1969-10-31| 665.38709677| 1969-11-03|1996-06-19|        1996-06-19|\n",
       "|        1986-05-19|   2023-03-07|   2023-04-07|  2023-02-07|2025-04-09|2025-04-09 08:28:...|    2023-03-22|   2023-02-20|       2023-03-22|Mon, 19-May-1986|          14205|        19|            2|           21|1986|  5|    1986-05-31| 466.67741935| 1986-05-26|1996-06-19|        1996-06-19|\n",
       "|        2018-04-20|   2023-01-13|   2023-02-13|  2022-12-13|2025-04-09|2025-04-09 08:28:...|    2023-01-28|   2022-12-29|       2023-01-28|Fri, 20-Apr-2018|           2546|        20|            6|           16|2018|  4|    2018-04-30|  83.64516129| 2018-04-23|1996-06-19|        1996-06-19|\n",
       "|        1996-05-12|   2023-02-04|   2023-03-04|  2023-01-04|2025-04-09|2025-04-09 08:28:...|    2023-02-19|   2023-01-20|       2023-02-19|Sun, 12-May-1996|          10559|        12|            1|           19|1996|  5|    1996-05-31| 346.90322581| 1996-05-13|1996-06-19|        1996-06-19|\n",
       "|        2021-10-05|   2023-03-02|   2023-04-02|  2023-02-02|2025-04-09|2025-04-09 08:28:...|    2023-03-17|   2023-02-15|       2023-03-17|Tue, 05-Oct-2021|           1282|         5|            3|           40|2021| 10|    2021-10-31|  42.12903226| 2021-10-11|1996-06-19|        1996-06-19|\n",
       "|        1917-01-05|   2023-02-21|   2023-03-21|  2023-01-21|2025-04-09|2025-04-09 08:28:...|    2023-03-08|   2023-02-06|       2023-03-08|Fri, 05-Jan-1917|          39541|         5|            6|            1|1917|  1|    1917-01-31|1299.12903226| 1917-01-08|1996-06-19|        1996-06-19|\n",
       "|        1912-05-25|   2023-01-25|   2023-02-25|  2022-12-25|2025-04-09|2025-04-09 08:28:...|    2023-02-09|   2023-01-10|       2023-02-09|Sat, 25-May-1912|          41227|        25|            7|           21|1912|  5|    1912-05-31|1354.48387097| 1912-05-27|1996-06-19|        1996-06-19|\n",
       "|        1920-05-26|   2023-02-18|   2023-03-18|  2023-01-18|2025-04-09|2025-04-09 08:28:...|    2023-03-05|   2023-02-03|       2023-03-05|Wed, 26-May-1920|          38304|        26|            4|           22|1920|  5|    1920-05-31| 1258.4516129| 1920-05-31|1996-06-19|        1996-06-19|\n",
       "|        1938-03-11|   2023-01-19|   2023-02-19|  2022-12-19|2025-04-09|2025-04-09 08:28:...|    2023-02-03|   2023-01-04|       2023-02-03|Fri, 11-Mar-1938|          31806|        11|            6|           10|1938|  3|    1938-03-31|1044.93548387| 1938-03-14|1996-06-19|        1996-06-19|\n",
       "|        1922-09-01|   2023-02-01|   2023-03-01|  2023-01-01|2025-04-09|2025-04-09 08:28:...|    2023-02-16|   2023-01-17|       2023-02-16|Fri, 01-Sep-1922|          37476|         1|            6|           35|1922|  9|    1922-09-30|1231.25806452| 1922-09-04|1996-06-19|        1996-06-19|\n",
       "|        2013-01-10|   2023-01-07|   2023-02-07|  2022-12-07|2025-04-09|2025-04-09 08:28:...|    2023-01-22|   2022-12-23|       2023-01-22|Thu, 10-Jan-2013|           4472|        10|            5|            2|2013|  1|    2013-01-31| 146.96774194| 2013-01-14|1996-06-19|        1996-06-19|\n",
       "|        1992-10-16|   2023-01-05|   2023-02-05|  2022-12-05|2025-04-09|2025-04-09 08:28:...|    2023-01-20|   2022-12-21|       2023-01-20|Fri, 16-Oct-1992|          11863|        16|            6|           42|1992| 10|    1992-10-31| 389.77419355| 1992-10-19|1996-06-19|        1996-06-19|\n",
       "|        1945-11-18|   2023-01-24|   2023-02-24|  2022-12-24|2025-04-09|2025-04-09 08:28:...|    2023-02-08|   2023-01-09|       2023-02-08|Sun, 18-Nov-1945|          28997|        18|            1|           46|1945| 11|    1945-11-30| 952.70967742| 1945-11-19|1996-06-19|        1996-06-19|\n",
       "|        1915-11-15|   2023-01-22|   2023-02-22|  2022-12-22|2025-04-09|2025-04-09 08:28:...|    2023-02-06|   2023-01-07|       2023-02-06|Mon, 15-Nov-1915|          39958|        15|            2|           46|1915| 11|    1915-11-30|1312.80645161| 1915-11-22|1996-06-19|        1996-06-19|\n",
       "|        1964-02-01|   2023-02-16|   2023-03-16|  2023-01-16|2025-04-09|2025-04-09 08:28:...|    2023-03-03|   2023-02-01|       2023-03-03|Sat, 01-Feb-1964|          22348|         1|            7|            5|1964|  2|    1964-02-29| 734.25806452| 1964-02-03|1996-06-19|        1996-06-19|\n",
       "|        1959-02-01|   2023-02-25|   2023-03-25|  2023-01-25|2025-04-09|2025-04-09 08:28:...|    2023-03-12|   2023-02-10|       2023-03-12|Sun, 01-Feb-1959|          24174|         1|            1|            5|1959|  2|    1959-02-28| 794.25806452| 1959-02-02|1996-06-19|        1996-06-19|\n",
       "+------------------+-------------+-------------+------------+----------+--------------------+--------------+-------------+-----------------+----------------+---------------+----------+-------------+-------------+----+---+--------------+-------------+-----------+----------+------------------+\n",
       "only showing top 20 rows"
      ]
     },
     "execution_count": 284,
     "metadata": {},
     "output_type": "execute_result"
    }
   ],
   "source": [
    "(\n",
    "    df_03\n",
    "    .withColumn('Adicionar_mês', F.add_months(df_03.data_cadastro, 1))\n",
    "    .withColumn('Subtrair_mês', F.add_months(df_03.data_cadastro, -1))\n",
    "    .withColumn('Data_atual', F.current_date())\n",
    "    .withColumn('Data_hora_atual', F.current_timestamp())\n",
    "    .withColumn('Adicionar_dias', F.date_add(df_03.data_cadastro, 15))\n",
    "    .withColumn('Subtrair_dias', F.date_add(df_03.data_cadastro, -15))\n",
    "    .withColumn('Subtrair_dias_sub', F.date_sub(df_03.data_cadastro, 15))\n",
    "    .withColumn('Subtrair_dias_sub', F.date_sub(df_03.data_cadastro, -15))\n",
    "    .withColumn('Formatação_Data', F.date_format(df_03.data_de_nascimento, 'dd/MM/yyyy'))\n",
    "    .withColumn('Formatação_Data', F.date_format(df_03.data_de_nascimento, 'E, dd-MMM-yyyy'))\n",
    "    .withColumn('Diferença_Datas', F.datediff(F.current_date(), df_03.data_de_nascimento))\n",
    "    .withColumn('Dia_do_Mês', F.dayofmonth(df_03.data_de_nascimento))\n",
    "    .withColumn('Dia_da_Semana', F.dayofweek(df_03.data_de_nascimento))\n",
    "    .withColumn('Semana_do_ano', F.weekofyear(df_03.data_de_nascimento))\n",
    "    .withColumn('Ano', F.year(df_03.data_de_nascimento))\n",
    "    .withColumn('Mês', F.month(df_03.data_de_nascimento))\n",
    "    .withColumn('Ultimo_dia_mês', F.last_day(df_03.data_de_nascimento))\n",
    "    .withColumn('Meses_Entre', F.months_between(F.current_date(), df_03.data_de_nascimento))\n",
    "    .withColumn('Próximo_Dia', F.next_day(df_03.data_de_nascimento, 'Mon'))\n",
    "    .withColumn('Criar_Data', F.make_date(F.lit(1996), F.lit(6), F.lit(19)))\n",
    "    .withColumn('Formatar_como_data', F.to_date(F.lit('1996-06-19')))\n",
    ")"
   ]
  },
  {
   "cell_type": "markdown",
   "id": "2329e5d3-70aa-4401-89c8-e7703b594e74",
   "metadata": {},
   "source": [
    "### Ordenação das colunas\n",
    "\n",
    "Utilizamos o método `.orderBy` para realizar a ordenação das colunas de um DataFrame.\\\n",
    "Default: `.orderBy = ASC`\n",
    "\n",
    "- `df.orderBy('email')` -> está ordenando todos os email em ordem alfabética A - Z;\n",
    "- `df.orderBy(F.desc('email'))` -> está ordenando os emails ao contrátio da ordem alfabética Z - A;\n",
    "- `df.orderBy('estado', 'data_cadastro', F.desc(df.cor_favorita))` -> Podemos ordenar várias colunas tanto ascendente quanto descendente."
   ]
  },
  {
   "cell_type": "code",
   "execution_count": 296,
   "id": "9059d176-a23f-4e09-a4c7-bc9508c3a8f2",
   "metadata": {
    "collapsed": true,
    "jupyter": {
     "outputs_hidden": true
    }
   },
   "outputs": [
    {
     "data": {
      "text/html": [
       "<table border='1'>\n",
       "<tr><th>cpf</th><th>email</th><th>senha</th><th>data_de_nascimento</th><th>estado</th><th>data_cadastro</th><th>ipv4</th><th>cor_favorita</th><th>profissao</th><th>telefone</th></tr>\n",
       "<tr><td>621.405.389-51</td><td>aaragao@hotmail.com</td><td>_JYL0DQtf2</td><td>1914-01-28</td><td>CE</td><td>2023-02-14</td><td>13.16.193.193</td><td>Violeta</td><td>Mestre-De-Obras</td><td>(084) 5160 2174</td></tr>\n",
       "<tr><td>634.205.971-34</td><td>aazevedo@yahoo.co...</td><td>&amp;3HILwOn4R</td><td>1924-09-25</td><td>AL</td><td>2023-03-09</td><td>219.11.145.237</td><td>Verde Escuro</td><td>Senador</td><td>+55 (061) 7082-6767</td></tr>\n",
       "<tr><td>298.356.041-42</td><td>acardoso@gmail.com</td><td>$F7V+mgg**</td><td>1935-12-02</td><td>MS</td><td>2023-01-07</td><td>184.215.220.225</td><td>Preto</td><td>Transcritor</td><td>+55 (021) 0076-2292</td></tr>\n",
       "<tr><td>341.698.720-96</td><td>acarvalho@uol.com.br</td><td>1jtUGOLd!X</td><td>2006-06-22</td><td>AL</td><td>2023-02-23</td><td>11.122.146.214</td><td>Laranja</td><td>Tenista</td><td>+55 61 9832 2237</td></tr>\n",
       "<tr><td>208.754.391-79</td><td>acosta@hotmail.com</td><td>!0CNLeSz_u</td><td>1984-10-25</td><td>SC</td><td>2023-02-14</td><td>20.111.50.200</td><td>Amarelo</td><td>Artesão</td><td>71 6561 0125</td></tr>\n",
       "<tr><td>259.781.036-40</td><td>adas-neves@hotmai...</td><td>P^6VzcbuGq</td><td>1954-05-13</td><td>DF</td><td>2023-03-15</td><td>129.233.47.92</td><td>Rosa</td><td>Engenheiro De Mat...</td><td>21 0388-2423</td></tr>\n",
       "<tr><td>410.732.986-04</td><td>afernandes@gmail.com</td><td>x0gGbTtp^X</td><td>1924-05-07</td><td>AM</td><td>2023-01-18</td><td>218.29.94.87</td><td>Marrom</td><td>Estatístico</td><td>0300 825 2508</td></tr>\n",
       "<tr><td>623.047.198-13</td><td>aferreira@hotmail...</td><td>q@7vNfPpE@</td><td>1943-10-09</td><td>BA</td><td>2023-02-17</td><td>130.49.142.235</td><td>Marrom</td><td>Flautista</td><td>(031) 4448-2587</td></tr>\n",
       "<tr><td>734.825.106-44</td><td>agatha76@bol.com.br</td><td>*VHMNZa4&amp;9</td><td>1919-05-27</td><td>PE</td><td>2023-01-05</td><td>222.173.123.246</td><td>Magenta</td><td>Assistente Social</td><td>+55 (021) 8031-1835</td></tr>\n",
       "<tr><td>517.806.342-26</td><td>agatha82@ig.com.br</td><td>#4Zhn3k67a</td><td>2011-08-31</td><td>TO</td><td>2023-02-14</td><td>92.13.130.231</td><td>Roxo</td><td>Tenente</td><td>+55 (084) 2134 9259</td></tr>\n",
       "<tr><td>495.068.172-94</td><td>alana94@bol.com.br</td><td>IfV2bMYl(*</td><td>1930-06-26</td><td>ES</td><td>2023-03-04</td><td>32.46.82.32</td><td>Marrom</td><td>Catador De Materi...</td><td>11 7683-1500</td></tr>\n",
       "<tr><td>123.485.607-71</td><td>alexandreda-paz@g...</td><td>0LDkoQVu(p</td><td>2005-07-31</td><td>RO</td><td>2023-01-03</td><td>70.108.33.80</td><td>Verde Escuro</td><td>Orientador Educac...</td><td>+55 51 5580 9105</td></tr>\n",
       "<tr><td>984.576.023-65</td><td>alexandrenovaes@b...</td><td>5dOPQdpy+K</td><td>2007-12-18</td><td>RJ</td><td>2023-01-10</td><td>31.99.42.130</td><td>Amarelo</td><td>Triatleta</td><td>71 3730 3757</td></tr>\n",
       "<tr><td>704.391.285-79</td><td>alexia76@bol.com.br</td><td>@8(aMEorP_</td><td>1996-01-21</td><td>MA</td><td>2023-02-24</td><td>108.191.88.153</td><td>Verde Claro</td><td>Sacoleira</td><td>+55 (051) 1760 8904</td></tr>\n",
       "<tr><td>370.986.215-95</td><td>alexiacavalcanti@...</td><td>vXwc9HTp&amp;6</td><td>1947-04-14</td><td>DF</td><td>2023-01-06</td><td>137.162.224.251</td><td>Rosa</td><td>Engenheiro Agrônomo</td><td>(061) 9714-2240</td></tr>\n",
       "<tr><td>413.087.526-44</td><td>alexiada-rocha@ig...</td><td>@f@!Z!2c*2</td><td>1920-05-26</td><td>MS</td><td>2023-02-18</td><td>182.61.65.201</td><td>Laranja</td><td>Microfonista</td><td>(021) 3739-2944</td></tr>\n",
       "<tr><td>026.358.719-30</td><td>alexiasilva@yahoo...</td><td>#aMFx)3wI1</td><td>1940-09-13</td><td>RO</td><td>2023-02-22</td><td>52.91.52.76</td><td>Azul</td><td>Baixista</td><td>(061) 3231-7250</td></tr>\n",
       "<tr><td>361.280.594-06</td><td>alice20@hotmail.com</td><td>@0JRBP$&amp;j)</td><td>2012-02-08</td><td>SE</td><td>2023-01-02</td><td>129.116.136.189</td><td>Verde Claro</td><td>Otorrinolaringolo...</td><td>11 6808 5565</td></tr>\n",
       "<tr><td>593.206.418-89</td><td>alice27@bol.com.br</td><td>^CBQA4*v$1</td><td>2022-11-28</td><td>PE</td><td>2023-03-11</td><td>155.80.98.177</td><td>Preto</td><td>Salva-Vidas</td><td>+55 (051) 8804 3153</td></tr>\n",
       "<tr><td>631.524.890-05</td><td>alicia95@ig.com.br</td><td>ySH4*YDv#i</td><td>1985-04-13</td><td>MS</td><td>2023-03-09</td><td>35.69.58.7</td><td>Ciano</td><td>Dublador</td><td>+55 71 2435-3716</td></tr>\n",
       "</table>\n",
       "only showing top 20 rows\n"
      ],
      "text/plain": [
       "+--------------+--------------------+----------+------------------+------+-------------+---------------+------------+--------------------+-------------------+\n",
       "|           cpf|               email|     senha|data_de_nascimento|estado|data_cadastro|           ipv4|cor_favorita|           profissao|           telefone|\n",
       "+--------------+--------------------+----------+------------------+------+-------------+---------------+------------+--------------------+-------------------+\n",
       "|621.405.389-51| aaragao@hotmail.com|_JYL0DQtf2|        1914-01-28|    CE|   2023-02-14|  13.16.193.193|     Violeta|     Mestre-De-Obras|    (084) 5160 2174|\n",
       "|634.205.971-34|aazevedo@yahoo.co...|&3HILwOn4R|        1924-09-25|    AL|   2023-03-09| 219.11.145.237|Verde Escuro|             Senador|+55 (061) 7082-6767|\n",
       "|298.356.041-42|  acardoso@gmail.com|$F7V+mgg**|        1935-12-02|    MS|   2023-01-07|184.215.220.225|       Preto|         Transcritor|+55 (021) 0076-2292|\n",
       "|341.698.720-96|acarvalho@uol.com.br|1jtUGOLd!X|        2006-06-22|    AL|   2023-02-23| 11.122.146.214|     Laranja|             Tenista|   +55 61 9832 2237|\n",
       "|208.754.391-79|  acosta@hotmail.com|!0CNLeSz_u|        1984-10-25|    SC|   2023-02-14|  20.111.50.200|     Amarelo|             Artesão|       71 6561 0125|\n",
       "|259.781.036-40|adas-neves@hotmai...|P^6VzcbuGq|        1954-05-13|    DF|   2023-03-15|  129.233.47.92|        Rosa|Engenheiro De Mat...|       21 0388-2423|\n",
       "|410.732.986-04|afernandes@gmail.com|x0gGbTtp^X|        1924-05-07|    AM|   2023-01-18|   218.29.94.87|      Marrom|         Estatístico|      0300 825 2508|\n",
       "|623.047.198-13|aferreira@hotmail...|q@7vNfPpE@|        1943-10-09|    BA|   2023-02-17| 130.49.142.235|      Marrom|           Flautista|    (031) 4448-2587|\n",
       "|734.825.106-44| agatha76@bol.com.br|*VHMNZa4&9|        1919-05-27|    PE|   2023-01-05|222.173.123.246|     Magenta|   Assistente Social|+55 (021) 8031-1835|\n",
       "|517.806.342-26|  agatha82@ig.com.br|#4Zhn3k67a|        2011-08-31|    TO|   2023-02-14|  92.13.130.231|        Roxo|             Tenente|+55 (084) 2134 9259|\n",
       "|495.068.172-94|  alana94@bol.com.br|IfV2bMYl(*|        1930-06-26|    ES|   2023-03-04|    32.46.82.32|      Marrom|Catador De Materi...|       11 7683-1500|\n",
       "|123.485.607-71|alexandreda-paz@g...|0LDkoQVu(p|        2005-07-31|    RO|   2023-01-03|   70.108.33.80|Verde Escuro|Orientador Educac...|   +55 51 5580 9105|\n",
       "|984.576.023-65|alexandrenovaes@b...|5dOPQdpy+K|        2007-12-18|    RJ|   2023-01-10|   31.99.42.130|     Amarelo|           Triatleta|       71 3730 3757|\n",
       "|704.391.285-79| alexia76@bol.com.br|@8(aMEorP_|        1996-01-21|    MA|   2023-02-24| 108.191.88.153| Verde Claro|           Sacoleira|+55 (051) 1760 8904|\n",
       "|370.986.215-95|alexiacavalcanti@...|vXwc9HTp&6|        1947-04-14|    DF|   2023-01-06|137.162.224.251|        Rosa| Engenheiro Agrônomo|    (061) 9714-2240|\n",
       "|413.087.526-44|alexiada-rocha@ig...|@f@!Z!2c*2|        1920-05-26|    MS|   2023-02-18|  182.61.65.201|     Laranja|        Microfonista|    (021) 3739-2944|\n",
       "|026.358.719-30|alexiasilva@yahoo...|#aMFx)3wI1|        1940-09-13|    RO|   2023-02-22|    52.91.52.76|        Azul|            Baixista|    (061) 3231-7250|\n",
       "|361.280.594-06| alice20@hotmail.com|@0JRBP$&j)|        2012-02-08|    SE|   2023-01-02|129.116.136.189| Verde Claro|Otorrinolaringolo...|       11 6808 5565|\n",
       "|593.206.418-89|  alice27@bol.com.br|^CBQA4*v$1|        2022-11-28|    PE|   2023-03-11|  155.80.98.177|       Preto|         Salva-Vidas|+55 (051) 8804 3153|\n",
       "|631.524.890-05|  alicia95@ig.com.br|ySH4*YDv#i|        1985-04-13|    MS|   2023-03-09|     35.69.58.7|       Ciano|            Dublador|   +55 71 2435-3716|\n",
       "+--------------+--------------------+----------+------------------+------+-------------+---------------+------------+--------------------+-------------------+\n",
       "only showing top 20 rows"
      ]
     },
     "execution_count": 296,
     "metadata": {},
     "output_type": "execute_result"
    }
   ],
   "source": [
    "df.orderBy('email')\n"
   ]
  },
  {
   "cell_type": "code",
   "execution_count": 298,
   "id": "71df902f-e4e8-4ea0-ae7e-d1c404dfbfc4",
   "metadata": {
    "collapsed": true,
    "jupyter": {
     "outputs_hidden": true
    }
   },
   "outputs": [
    {
     "data": {
      "text/html": [
       "<table border='1'>\n",
       "<tr><th>cpf</th><th>email</th><th>senha</th><th>data_de_nascimento</th><th>estado</th><th>data_cadastro</th><th>ipv4</th><th>cor_favorita</th><th>profissao</th><th>telefone</th></tr>\n",
       "<tr><td>837.021.546-71</td><td>zpinto@yahoo.com.br</td><td>(5R*_#XVDl</td><td>1955-06-08</td><td>RR</td><td>2023-02-06</td><td>52.26.104.153</td><td>Rosa</td><td>Argumentista</td><td>(081) 8099 9690</td></tr>\n",
       "<tr><td>037.862.951-40</td><td>zlopes@gmail.com</td><td>_LYcJLlu&amp;8</td><td>1966-10-15</td><td>RR</td><td>2023-03-14</td><td>64.236.21.52</td><td>Branco</td><td>Ourives</td><td>+55 61 4893 1165</td></tr>\n",
       "<tr><td>398.051.472-23</td><td>zgomes@uol.com.br</td><td>0QZ0RHjHw%</td><td>1945-02-04</td><td>SE</td><td>2023-02-07</td><td>126.249.226.142</td><td>Magenta</td><td>Cadista</td><td>(021) 0775 2915</td></tr>\n",
       "<tr><td>482.063.597-29</td><td>zgomes@uol.com.br</td><td>zIEEb2Oma^</td><td>1990-04-25</td><td>PI</td><td>2023-03-05</td><td>152.70.106.84</td><td>Verde Escuro</td><td>Baterista</td><td>+55 (061) 9491 2341</td></tr>\n",
       "<tr><td>063.581.249-51</td><td>zfernandes@hotmai...</td><td>+I%Lr!wz0(</td><td>1962-08-22</td><td>MT</td><td>2023-02-12</td><td>53.238.78.76</td><td>Azul</td><td>Fundidor De Placa...</td><td>71 1659-6052</td></tr>\n",
       "<tr><td>341.697.025-06</td><td>ypeixoto@yahoo.co...</td><td>&amp;3H*Q_soD4</td><td>1973-12-18</td><td>BA</td><td>2023-03-15</td><td>36.64.228.53</td><td>Verde Claro</td><td>Ferreiro</td><td>0500-012-9429</td></tr>\n",
       "<tr><td>365.841.029-98</td><td>ypeixoto@hotmail.com</td><td>c$8TxYirOu</td><td>1995-06-11</td><td>SE</td><td>2023-03-13</td><td>160.93.14.250</td><td>Magenta</td><td>Engenheiro Cartog...</td><td>0800-480-3407</td></tr>\n",
       "<tr><td>891.034.672-87</td><td>ynogueira@hotmail...</td><td>@3AJHqIWkV</td><td>2021-07-30</td><td>AL</td><td>2023-01-05</td><td>143.134.33.192</td><td>Azul Escuro</td><td>Torneiro Mecânico</td><td>0500-324-4347</td></tr>\n",
       "<tr><td>794.623.805-38</td><td>ymoura@gmail.com</td><td>*bZGnLObY0</td><td>1946-05-30</td><td>AC</td><td>2023-01-02</td><td>22.66.90.218</td><td>Azul Escuro</td><td>Investigador Part...</td><td>(051) 4288 6754</td></tr>\n",
       "<tr><td>561.438.072-80</td><td>ymoraes@ig.com.br</td><td>c(6&amp;FoouMR</td><td>1998-02-23</td><td>AC</td><td>2023-02-15</td><td>8.207.21.132</td><td>Marrom</td><td>Odontologista Pre...</td><td>(061) 5069 4948</td></tr>\n",
       "<tr><td>054.681.327-53</td><td>ymelo@ig.com.br</td><td>_&amp;(RxJ@b9i</td><td>1941-11-13</td><td>MA</td><td>2023-01-21</td><td>177.136.210.154</td><td>Cinza</td><td>Argumentista</td><td>11 9674-4969</td></tr>\n",
       "<tr><td>854.209.361-51</td><td>ylima@yahoo.com.br</td><td>(w&amp;9QnOv#B</td><td>1954-07-28</td><td>PI</td><td>2023-03-01</td><td>129.24.96.93</td><td>Cinza</td><td>Dj</td><td>(081) 0026 6407</td></tr>\n",
       "<tr><td>974.612.805-11</td><td>yferreira@uol.com.br</td><td>#2KsZ_zn_P</td><td>1981-02-05</td><td>SP</td><td>2023-01-31</td><td>110.94.27.112</td><td>Verde Claro</td><td>Moldador</td><td>+55 (051) 2735 3651</td></tr>\n",
       "<tr><td>562.713.480-17</td><td>ydas-neves@bol.co...</td><td>p@0Ukod4xl</td><td>1940-03-12</td><td>SC</td><td>2023-02-22</td><td>150.110.65.174</td><td>Amarelo</td><td>Técnico Em Rede</td><td>(071) 1865 1558</td></tr>\n",
       "<tr><td>947.615.238-91</td><td>yda-paz@bol.com.br</td><td>wVmsBsEn@4</td><td>1950-11-29</td><td>SC</td><td>2023-02-13</td><td>100.172.217.120</td><td>Magenta</td><td>Surfista</td><td>+55 41 6990 8024</td></tr>\n",
       "<tr><td>395.184.760-39</td><td>yda-luz@uol.com.br</td><td>6^8)1tranG</td><td>1940-09-12</td><td>AM</td><td>2023-01-31</td><td>40.183.73.149</td><td>Marrom</td><td>Tintureiro</td><td>(021) 2493 8417</td></tr>\n",
       "<tr><td>096.741.853-48</td><td>yda-costa@uol.com.br</td><td>x7J&amp;2$a2(7</td><td>2018-08-06</td><td>RS</td><td>2023-03-09</td><td>34.94.78.134</td><td>Branco</td><td>Técnico Em Arquivo</td><td>+55 (081) 5917 4735</td></tr>\n",
       "<tr><td>076.541.328-08</td><td>ycorreia@yahoo.co...</td><td>N6S1Xk0YD)</td><td>2003-07-25</td><td>SP</td><td>2023-02-22</td><td>108.16.1.197</td><td>Magenta</td><td>Jogador De Handebol</td><td>+55 71 9877-2831</td></tr>\n",
       "<tr><td>126.958.304-24</td><td>ycavalcanti@bol.c...</td><td>xoKn)JSQ^7</td><td>2006-10-28</td><td>AM</td><td>2023-02-21</td><td>146.140.176.146</td><td>Azul</td><td>Patinador</td><td>0800-596-5498</td></tr>\n",
       "<tr><td>134.985.067-57</td><td>yago35@bol.com.br</td><td>Mcp&amp;6MYtbL</td><td>1993-12-03</td><td>PE</td><td>2023-02-14</td><td>10.67.124.77</td><td>Magenta</td><td>Engenheiro Mecatr...</td><td>81 5269-9143</td></tr>\n",
       "</table>\n",
       "only showing top 20 rows\n"
      ],
      "text/plain": [
       "+--------------+--------------------+----------+------------------+------+-------------+---------------+------------+--------------------+-------------------+\n",
       "|           cpf|               email|     senha|data_de_nascimento|estado|data_cadastro|           ipv4|cor_favorita|           profissao|           telefone|\n",
       "+--------------+--------------------+----------+------------------+------+-------------+---------------+------------+--------------------+-------------------+\n",
       "|837.021.546-71| zpinto@yahoo.com.br|(5R*_#XVDl|        1955-06-08|    RR|   2023-02-06|  52.26.104.153|        Rosa|        Argumentista|    (081) 8099 9690|\n",
       "|037.862.951-40|    zlopes@gmail.com|_LYcJLlu&8|        1966-10-15|    RR|   2023-03-14|   64.236.21.52|      Branco|             Ourives|   +55 61 4893 1165|\n",
       "|398.051.472-23|   zgomes@uol.com.br|0QZ0RHjHw%|        1945-02-04|    SE|   2023-02-07|126.249.226.142|     Magenta|             Cadista|    (021) 0775 2915|\n",
       "|482.063.597-29|   zgomes@uol.com.br|zIEEb2Oma^|        1990-04-25|    PI|   2023-03-05|  152.70.106.84|Verde Escuro|           Baterista|+55 (061) 9491 2341|\n",
       "|063.581.249-51|zfernandes@hotmai...|+I%Lr!wz0(|        1962-08-22|    MT|   2023-02-12|   53.238.78.76|        Azul|Fundidor De Placa...|       71 1659-6052|\n",
       "|341.697.025-06|ypeixoto@yahoo.co...|&3H*Q_soD4|        1973-12-18|    BA|   2023-03-15|   36.64.228.53| Verde Claro|            Ferreiro|      0500-012-9429|\n",
       "|365.841.029-98|ypeixoto@hotmail.com|c$8TxYirOu|        1995-06-11|    SE|   2023-03-13|  160.93.14.250|     Magenta|Engenheiro Cartog...|      0800-480-3407|\n",
       "|891.034.672-87|ynogueira@hotmail...|@3AJHqIWkV|        2021-07-30|    AL|   2023-01-05| 143.134.33.192| Azul Escuro|   Torneiro Mecânico|      0500-324-4347|\n",
       "|794.623.805-38|    ymoura@gmail.com|*bZGnLObY0|        1946-05-30|    AC|   2023-01-02|   22.66.90.218| Azul Escuro|Investigador Part...|    (051) 4288 6754|\n",
       "|561.438.072-80|   ymoraes@ig.com.br|c(6&FoouMR|        1998-02-23|    AC|   2023-02-15|   8.207.21.132|      Marrom|Odontologista Pre...|    (061) 5069 4948|\n",
       "|054.681.327-53|     ymelo@ig.com.br|_&(RxJ@b9i|        1941-11-13|    MA|   2023-01-21|177.136.210.154|       Cinza|        Argumentista|       11 9674-4969|\n",
       "|854.209.361-51|  ylima@yahoo.com.br|(w&9QnOv#B|        1954-07-28|    PI|   2023-03-01|   129.24.96.93|       Cinza|                  Dj|    (081) 0026 6407|\n",
       "|974.612.805-11|yferreira@uol.com.br|#2KsZ_zn_P|        1981-02-05|    SP|   2023-01-31|  110.94.27.112| Verde Claro|            Moldador|+55 (051) 2735 3651|\n",
       "|562.713.480-17|ydas-neves@bol.co...|p@0Ukod4xl|        1940-03-12|    SC|   2023-02-22| 150.110.65.174|     Amarelo|     Técnico Em Rede|    (071) 1865 1558|\n",
       "|947.615.238-91|  yda-paz@bol.com.br|wVmsBsEn@4|        1950-11-29|    SC|   2023-02-13|100.172.217.120|     Magenta|            Surfista|   +55 41 6990 8024|\n",
       "|395.184.760-39|  yda-luz@uol.com.br|6^8)1tranG|        1940-09-12|    AM|   2023-01-31|  40.183.73.149|      Marrom|          Tintureiro|    (021) 2493 8417|\n",
       "|096.741.853-48|yda-costa@uol.com.br|x7J&2$a2(7|        2018-08-06|    RS|   2023-03-09|   34.94.78.134|      Branco|  Técnico Em Arquivo|+55 (081) 5917 4735|\n",
       "|076.541.328-08|ycorreia@yahoo.co...|N6S1Xk0YD)|        2003-07-25|    SP|   2023-02-22|   108.16.1.197|     Magenta| Jogador De Handebol|   +55 71 9877-2831|\n",
       "|126.958.304-24|ycavalcanti@bol.c...|xoKn)JSQ^7|        2006-10-28|    AM|   2023-02-21|146.140.176.146|        Azul|           Patinador|      0800-596-5498|\n",
       "|134.985.067-57|   yago35@bol.com.br|Mcp&6MYtbL|        1993-12-03|    PE|   2023-02-14|   10.67.124.77|     Magenta|Engenheiro Mecatr...|       81 5269-9143|\n",
       "+--------------+--------------------+----------+------------------+------+-------------+---------------+------------+--------------------+-------------------+\n",
       "only showing top 20 rows"
      ]
     },
     "execution_count": 298,
     "metadata": {},
     "output_type": "execute_result"
    }
   ],
   "source": [
    "df.orderBy(F.desc('email'))"
   ]
  },
  {
   "cell_type": "code",
   "execution_count": 301,
   "id": "a8a25c4f-a094-451a-a1f1-52da0ad6a25f",
   "metadata": {
    "collapsed": true,
    "jupyter": {
     "outputs_hidden": true
    }
   },
   "outputs": [
    {
     "data": {
      "text/html": [
       "<table border='1'>\n",
       "<tr><th>cpf</th><th>email</th><th>senha</th><th>data_de_nascimento</th><th>estado</th><th>data_cadastro</th><th>ipv4</th><th>cor_favorita</th><th>profissao</th><th>telefone</th></tr>\n",
       "<tr><td>794.623.805-38</td><td>ymoura@gmail.com</td><td>*bZGnLObY0</td><td>1946-05-30</td><td>AC</td><td>2023-01-02</td><td>22.66.90.218</td><td>Azul Escuro</td><td>Investigador Part...</td><td>(051) 4288 6754</td></tr>\n",
       "<tr><td>340.879.561-48</td><td>ana-vitoria98@gma...</td><td>i0_lIkL9)P</td><td>1994-08-12</td><td>AC</td><td>2023-01-04</td><td>121.45.91.188</td><td>Marrom</td><td>Gestor De Recurso...</td><td>0300 277 1989</td></tr>\n",
       "<tr><td>573.809.621-59</td><td>novaesana-julia@h...</td><td>DfbV7W1^&amp;4</td><td>1972-08-15</td><td>AC</td><td>2023-01-04</td><td>208.213.179.222</td><td>Laranja</td><td>Tecelão</td><td>+55 (031) 6916 9086</td></tr>\n",
       "<tr><td>032.185.976-68</td><td>benjaminda-paz@ig...</td><td>(9l1UVIkot</td><td>1966-12-12</td><td>AC</td><td>2023-01-06</td><td>2.186.91.148</td><td>Azul Escuro</td><td>Ator</td><td>+55 51 8053 7792</td></tr>\n",
       "<tr><td>069.382.471-96</td><td>bernardo78@gmail.com</td><td>2oQQtOOW!5</td><td>2003-10-11</td><td>AC</td><td>2023-01-08</td><td>153.126.72.36</td><td>Roxo</td><td>Major</td><td>61 8633 7694</td></tr>\n",
       "<tr><td>092.618.354-06</td><td>stellamoraes@bol....</td><td>mw0AWYAs#s</td><td>2021-06-01</td><td>AC</td><td>2023-01-08</td><td>26.121.127.94</td><td>Marrom</td><td>Aeromoça</td><td>+55 (071) 3033 9177</td></tr>\n",
       "<tr><td>471.980.623-69</td><td>usales@gmail.com</td><td>d^Q%6WjKqH</td><td>1958-04-06</td><td>AC</td><td>2023-01-08</td><td>97.110.23.119</td><td>Branco</td><td>Administrador</td><td>(071) 7881 3570</td></tr>\n",
       "<tr><td>852.637.194-00</td><td>miguel01@gmail.com</td><td>*0H6kcApJz</td><td>1980-01-26</td><td>AC</td><td>2023-01-11</td><td>54.56.177.130</td><td>Marrom</td><td>Político</td><td>(041) 7434-8164</td></tr>\n",
       "<tr><td>761.208.953-02</td><td>joanada-costa@uol...</td><td>K59n!CGwZ+</td><td>1970-04-01</td><td>AC</td><td>2023-01-14</td><td>130.246.237.68</td><td>Rosa</td><td>Engenheiro Petroq...</td><td>0500 075 5159</td></tr>\n",
       "<tr><td>613.948.520-70</td><td>julia44@gmail.com</td><td>&amp;asN*lDI2f</td><td>1992-07-06</td><td>AC</td><td>2023-01-18</td><td>182.219.231.186</td><td>Branco</td><td>Manicure</td><td>+55 21 9340 4355</td></tr>\n",
       "<tr><td>789.604.513-39</td><td>ana-sophia73@uol....</td><td>5N^x%@Bw!j</td><td>1973-03-09</td><td>AC</td><td>2023-01-18</td><td>144.86.229.3</td><td>Azul</td><td>Produtor Musical</td><td>+55 (061) 7367 9582</td></tr>\n",
       "<tr><td>791.534.862-00</td><td>melissacavalcanti...</td><td>VIF7Lx2G$+</td><td>1919-02-24</td><td>AC</td><td>2023-01-22</td><td>11.72.46.60</td><td>Azul</td><td>Obstetra</td><td>0500-547-3522</td></tr>\n",
       "<tr><td>803.697.254-92</td><td>da-luzjoana@gmail...</td><td>*ubv^RIl+8</td><td>1977-03-30</td><td>AC</td><td>2023-01-23</td><td>204.226.56.149</td><td>Marrom</td><td>Fisioterapeuta</td><td>(084) 9169-7053</td></tr>\n",
       "<tr><td>127.643.985-73</td><td>emoraes@ig.com.br</td><td>!J6u!cSjPW</td><td>1988-09-13</td><td>AC</td><td>2023-01-28</td><td>18.170.136.154</td><td>Preto</td><td>Quiropraxista</td><td>+55 81 0646 7649</td></tr>\n",
       "<tr><td>640.819.273-40</td><td>ccampos@yahoo.com.br</td><td>2(1Zl@#aZT</td><td>2010-06-10</td><td>AC</td><td>2023-01-28</td><td>115.38.244.24</td><td>Azul</td><td>Pedicure</td><td>+55 71 9382-8891</td></tr>\n",
       "<tr><td>136.905.427-07</td><td>rrocha@hotmail.com</td><td>NT7kF(gv%K</td><td>1951-06-08</td><td>AC</td><td>2023-01-29</td><td>45.239.135.110</td><td>Preto</td><td>Taxidermista/Emba...</td><td>+55 (051) 5854 6525</td></tr>\n",
       "<tr><td>428.653.907-56</td><td>benjamin68@gmail.com</td><td>AC2Ygssr(1</td><td>1937-03-26</td><td>AC</td><td>2023-01-30</td><td>60.134.117.62</td><td>Preto</td><td>Tecnólogo Em Roch...</td><td>+55 81 4441 2349</td></tr>\n",
       "<tr><td>107.896.452-11</td><td>noliveira@ig.com.br</td><td>_yz7O!TmJ)</td><td>1983-04-18</td><td>AC</td><td>2023-02-01</td><td>40.237.149.73</td><td>Azul Escuro</td><td>Diplomata</td><td>+55 61 8031 9299</td></tr>\n",
       "<tr><td>864.503.712-26</td><td>paulo28@hotmail.com</td><td>$5ZpxaKOg1</td><td>1927-07-07</td><td>AC</td><td>2023-02-02</td><td>180.32.36.194</td><td>Azul Escuro</td><td>Alpinista</td><td>41 8376-1717</td></tr>\n",
       "<tr><td>195.047.632-43</td><td>ramoseduarda@yaho...</td><td>_9$Vtn5A(E</td><td>1976-07-22</td><td>AC</td><td>2023-02-03</td><td>58.217.210.56</td><td>Branco</td><td>Engenheiro Acústico</td><td>61 6019-9240</td></tr>\n",
       "</table>\n",
       "only showing top 20 rows\n"
      ],
      "text/plain": [
       "+--------------+--------------------+----------+------------------+------+-------------+---------------+------------+--------------------+-------------------+\n",
       "|           cpf|               email|     senha|data_de_nascimento|estado|data_cadastro|           ipv4|cor_favorita|           profissao|           telefone|\n",
       "+--------------+--------------------+----------+------------------+------+-------------+---------------+------------+--------------------+-------------------+\n",
       "|794.623.805-38|    ymoura@gmail.com|*bZGnLObY0|        1946-05-30|    AC|   2023-01-02|   22.66.90.218| Azul Escuro|Investigador Part...|    (051) 4288 6754|\n",
       "|340.879.561-48|ana-vitoria98@gma...|i0_lIkL9)P|        1994-08-12|    AC|   2023-01-04|  121.45.91.188|      Marrom|Gestor De Recurso...|      0300 277 1989|\n",
       "|573.809.621-59|novaesana-julia@h...|DfbV7W1^&4|        1972-08-15|    AC|   2023-01-04|208.213.179.222|     Laranja|             Tecelão|+55 (031) 6916 9086|\n",
       "|032.185.976-68|benjaminda-paz@ig...|(9l1UVIkot|        1966-12-12|    AC|   2023-01-06|   2.186.91.148| Azul Escuro|                Ator|   +55 51 8053 7792|\n",
       "|069.382.471-96|bernardo78@gmail.com|2oQQtOOW!5|        2003-10-11|    AC|   2023-01-08|  153.126.72.36|        Roxo|               Major|       61 8633 7694|\n",
       "|092.618.354-06|stellamoraes@bol....|mw0AWYAs#s|        2021-06-01|    AC|   2023-01-08|  26.121.127.94|      Marrom|            Aeromoça|+55 (071) 3033 9177|\n",
       "|471.980.623-69|    usales@gmail.com|d^Q%6WjKqH|        1958-04-06|    AC|   2023-01-08|  97.110.23.119|      Branco|       Administrador|    (071) 7881 3570|\n",
       "|852.637.194-00|  miguel01@gmail.com|*0H6kcApJz|        1980-01-26|    AC|   2023-01-11|  54.56.177.130|      Marrom|            Político|    (041) 7434-8164|\n",
       "|761.208.953-02|joanada-costa@uol...|K59n!CGwZ+|        1970-04-01|    AC|   2023-01-14| 130.246.237.68|        Rosa|Engenheiro Petroq...|      0500 075 5159|\n",
       "|613.948.520-70|   julia44@gmail.com|&asN*lDI2f|        1992-07-06|    AC|   2023-01-18|182.219.231.186|      Branco|            Manicure|   +55 21 9340 4355|\n",
       "|789.604.513-39|ana-sophia73@uol....|5N^x%@Bw!j|        1973-03-09|    AC|   2023-01-18|   144.86.229.3|        Azul|    Produtor Musical|+55 (061) 7367 9582|\n",
       "|791.534.862-00|melissacavalcanti...|VIF7Lx2G$+|        1919-02-24|    AC|   2023-01-22|    11.72.46.60|        Azul|            Obstetra|      0500-547-3522|\n",
       "|803.697.254-92|da-luzjoana@gmail...|*ubv^RIl+8|        1977-03-30|    AC|   2023-01-23| 204.226.56.149|      Marrom|      Fisioterapeuta|    (084) 9169-7053|\n",
       "|127.643.985-73|   emoraes@ig.com.br|!J6u!cSjPW|        1988-09-13|    AC|   2023-01-28| 18.170.136.154|       Preto|       Quiropraxista|   +55 81 0646 7649|\n",
       "|640.819.273-40|ccampos@yahoo.com.br|2(1Zl@#aZT|        2010-06-10|    AC|   2023-01-28|  115.38.244.24|        Azul|            Pedicure|   +55 71 9382-8891|\n",
       "|136.905.427-07|  rrocha@hotmail.com|NT7kF(gv%K|        1951-06-08|    AC|   2023-01-29| 45.239.135.110|       Preto|Taxidermista/Emba...|+55 (051) 5854 6525|\n",
       "|428.653.907-56|benjamin68@gmail.com|AC2Ygssr(1|        1937-03-26|    AC|   2023-01-30|  60.134.117.62|       Preto|Tecnólogo Em Roch...|   +55 81 4441 2349|\n",
       "|107.896.452-11| noliveira@ig.com.br|_yz7O!TmJ)|        1983-04-18|    AC|   2023-02-01|  40.237.149.73| Azul Escuro|           Diplomata|   +55 61 8031 9299|\n",
       "|864.503.712-26| paulo28@hotmail.com|$5ZpxaKOg1|        1927-07-07|    AC|   2023-02-02|  180.32.36.194| Azul Escuro|           Alpinista|       41 8376-1717|\n",
       "|195.047.632-43|ramoseduarda@yaho...|_9$Vtn5A(E|        1976-07-22|    AC|   2023-02-03|  58.217.210.56|      Branco| Engenheiro Acústico|       61 6019-9240|\n",
       "+--------------+--------------------+----------+------------------+------+-------------+---------------+------------+--------------------+-------------------+\n",
       "only showing top 20 rows"
      ]
     },
     "execution_count": 301,
     "metadata": {},
     "output_type": "execute_result"
    }
   ],
   "source": [
    "#            asc           asc              desc\n",
    "df.orderBy(df.estado, df.data_cadastro, F.desc(df.cor_favorita))"
   ]
  },
  {
   "cell_type": "markdown",
   "id": "b56764f0-da35-49c5-9428-356d06688c56",
   "metadata": {},
   "source": [
    "### Agrupamentos GROUPBY\n",
    "\n",
    "A lógica do `groupBy` é bem simples.\n",
    "- Primeiro nós indicamos a coluna ou colunas que serão usadas no processo de agrupamento;\n",
    "- Em seguida nós indicamos qual será o cálculo a ser aplicado nessa aplicação\n",
    "\n",
    "EX.:\n",
    "- `df.groupBy('cor_favorita').count()` -> Realiza a contagem de ocorrência de casos de cada elemento da coluna 'cor_favorita'\n",
    "- `df.groupBy('estado','cor_favorita').count()` -> Agrupa os dados pelas colunas 'estado' e 'cor_favorita' e conta quantas vezes cada combinação aparece no DataFrame.\n",
    "- `df.groupBy('estado','cor_favorita').count().groupBy('estado').sum('count')` -> Primeiro agrupa os dados pelas colunas 'estado' e 'cor_favorita' e conta quantas vezes cada combinação ocorre. Em seguida, agrupa novamente por 'estado' e soma os valores da contagem, obtendo o total de registros por estado.\n",
    "- `df.groupBy(F.year('data_de_nascimento')).count()` -> Agrupo os dados baseado no ANO da coluna 'data_de_nascimento' e realizo a contagem de ocorrências."
   ]
  },
  {
   "cell_type": "code",
   "execution_count": 324,
   "id": "1bd4e88d-a2ea-4bc7-816b-5fff3b505853",
   "metadata": {
    "collapsed": true,
    "jupyter": {
     "outputs_hidden": true
    }
   },
   "outputs": [
    {
     "data": {
      "text/html": [
       "<table border='1'>\n",
       "<tr><th>estado</th><th>count</th></tr>\n",
       "<tr><td>AC</td><td>37</td></tr>\n",
       "<tr><td>AL</td><td>36</td></tr>\n",
       "<tr><td>AM</td><td>34</td></tr>\n",
       "<tr><td>AP</td><td>30</td></tr>\n",
       "<tr><td>BA</td><td>42</td></tr>\n",
       "<tr><td>CE</td><td>45</td></tr>\n",
       "<tr><td>DF</td><td>38</td></tr>\n",
       "<tr><td>ES</td><td>38</td></tr>\n",
       "<tr><td>GO</td><td>45</td></tr>\n",
       "<tr><td>MA</td><td>34</td></tr>\n",
       "<tr><td>MG</td><td>46</td></tr>\n",
       "<tr><td>MS</td><td>42</td></tr>\n",
       "<tr><td>MT</td><td>29</td></tr>\n",
       "<tr><td>PA</td><td>28</td></tr>\n",
       "<tr><td>PB</td><td>34</td></tr>\n",
       "<tr><td>PE</td><td>34</td></tr>\n",
       "<tr><td>PI</td><td>35</td></tr>\n",
       "<tr><td>PR</td><td>23</td></tr>\n",
       "<tr><td>RJ</td><td>40</td></tr>\n",
       "<tr><td>RN</td><td>28</td></tr>\n",
       "</table>\n",
       "only showing top 20 rows\n"
      ],
      "text/plain": [
       "+------+-----+\n",
       "|estado|count|\n",
       "+------+-----+\n",
       "|    AC|   37|\n",
       "|    AL|   36|\n",
       "|    AM|   34|\n",
       "|    AP|   30|\n",
       "|    BA|   42|\n",
       "|    CE|   45|\n",
       "|    DF|   38|\n",
       "|    ES|   38|\n",
       "|    GO|   45|\n",
       "|    MA|   34|\n",
       "|    MG|   46|\n",
       "|    MS|   42|\n",
       "|    MT|   29|\n",
       "|    PA|   28|\n",
       "|    PB|   34|\n",
       "|    PE|   34|\n",
       "|    PI|   35|\n",
       "|    PR|   23|\n",
       "|    RJ|   40|\n",
       "|    RN|   28|\n",
       "+------+-----+\n",
       "only showing top 20 rows"
      ]
     },
     "execution_count": 324,
     "metadata": {},
     "output_type": "execute_result"
    }
   ],
   "source": [
    "df.groupBy('estado').count().orderBy('estado')"
   ]
  },
  {
   "cell_type": "code",
   "execution_count": 316,
   "id": "f0e41a88-23e7-4fba-88d6-0b91cc6806fb",
   "metadata": {
    "collapsed": true,
    "jupyter": {
     "outputs_hidden": true
    }
   },
   "outputs": [
    {
     "data": {
      "text/html": [
       "<table border='1'>\n",
       "<tr><th>estado</th><th>cor_favorita</th><th>count</th></tr>\n",
       "<tr><td>AM</td><td>Cinza</td><td>2</td></tr>\n",
       "<tr><td>MA</td><td>Ciano</td><td>1</td></tr>\n",
       "<tr><td>AC</td><td>Ciano</td><td>1</td></tr>\n",
       "<tr><td>RS</td><td>Roxo</td><td>1</td></tr>\n",
       "<tr><td>RJ</td><td>Azul</td><td>4</td></tr>\n",
       "<tr><td>ES</td><td>Verde Claro</td><td>2</td></tr>\n",
       "<tr><td>CE</td><td>Azul</td><td>5</td></tr>\n",
       "<tr><td>AM</td><td>Marrom</td><td>6</td></tr>\n",
       "<tr><td>AP</td><td>Preto</td><td>2</td></tr>\n",
       "<tr><td>MA</td><td>Verde Escuro</td><td>2</td></tr>\n",
       "<tr><td>SP</td><td>Verde Claro</td><td>7</td></tr>\n",
       "<tr><td>GO</td><td>Branco</td><td>2</td></tr>\n",
       "<tr><td>RN</td><td>Amarelo</td><td>1</td></tr>\n",
       "<tr><td>PR</td><td>Verde</td><td>1</td></tr>\n",
       "<tr><td>DF</td><td>Ciano</td><td>1</td></tr>\n",
       "<tr><td>PA</td><td>Laranja</td><td>3</td></tr>\n",
       "<tr><td>TO</td><td>Rosa</td><td>3</td></tr>\n",
       "<tr><td>TO</td><td>Branco</td><td>1</td></tr>\n",
       "<tr><td>RJ</td><td>Preto</td><td>2</td></tr>\n",
       "<tr><td>RO</td><td>Amarelo</td><td>1</td></tr>\n",
       "</table>\n",
       "only showing top 20 rows\n"
      ],
      "text/plain": [
       "+------+------------+-----+\n",
       "|estado|cor_favorita|count|\n",
       "+------+------------+-----+\n",
       "|    AM|       Cinza|    2|\n",
       "|    MA|       Ciano|    1|\n",
       "|    AC|       Ciano|    1|\n",
       "|    RS|        Roxo|    1|\n",
       "|    RJ|        Azul|    4|\n",
       "|    ES| Verde Claro|    2|\n",
       "|    CE|        Azul|    5|\n",
       "|    AM|      Marrom|    6|\n",
       "|    AP|       Preto|    2|\n",
       "|    MA|Verde Escuro|    2|\n",
       "|    SP| Verde Claro|    7|\n",
       "|    GO|      Branco|    2|\n",
       "|    RN|     Amarelo|    1|\n",
       "|    PR|       Verde|    1|\n",
       "|    DF|       Ciano|    1|\n",
       "|    PA|     Laranja|    3|\n",
       "|    TO|        Rosa|    3|\n",
       "|    TO|      Branco|    1|\n",
       "|    RJ|       Preto|    2|\n",
       "|    RO|     Amarelo|    1|\n",
       "+------+------------+-----+\n",
       "only showing top 20 rows"
      ]
     },
     "execution_count": 316,
     "metadata": {},
     "output_type": "execute_result"
    }
   ],
   "source": [
    "df.groupBy('estado','cor_favorita').count()"
   ]
  },
  {
   "cell_type": "code",
   "execution_count": 326,
   "id": "daabf7eb-9efb-4d3b-9554-d990819ec2b2",
   "metadata": {
    "collapsed": true,
    "jupyter": {
     "outputs_hidden": true
    }
   },
   "outputs": [
    {
     "data": {
      "text/html": [
       "<table border='1'>\n",
       "<tr><th>estado</th><th>sum(count)</th></tr>\n",
       "<tr><td>AC</td><td>37</td></tr>\n",
       "<tr><td>AL</td><td>36</td></tr>\n",
       "<tr><td>AM</td><td>34</td></tr>\n",
       "<tr><td>AP</td><td>30</td></tr>\n",
       "<tr><td>BA</td><td>42</td></tr>\n",
       "<tr><td>CE</td><td>45</td></tr>\n",
       "<tr><td>DF</td><td>38</td></tr>\n",
       "<tr><td>ES</td><td>38</td></tr>\n",
       "<tr><td>GO</td><td>45</td></tr>\n",
       "<tr><td>MA</td><td>34</td></tr>\n",
       "<tr><td>MG</td><td>46</td></tr>\n",
       "<tr><td>MS</td><td>42</td></tr>\n",
       "<tr><td>MT</td><td>29</td></tr>\n",
       "<tr><td>PA</td><td>28</td></tr>\n",
       "<tr><td>PB</td><td>34</td></tr>\n",
       "<tr><td>PE</td><td>34</td></tr>\n",
       "<tr><td>PI</td><td>35</td></tr>\n",
       "<tr><td>PR</td><td>23</td></tr>\n",
       "<tr><td>RJ</td><td>40</td></tr>\n",
       "<tr><td>RN</td><td>28</td></tr>\n",
       "</table>\n",
       "only showing top 20 rows\n"
      ],
      "text/plain": [
       "+------+----------+\n",
       "|estado|sum(count)|\n",
       "+------+----------+\n",
       "|    AC|        37|\n",
       "|    AL|        36|\n",
       "|    AM|        34|\n",
       "|    AP|        30|\n",
       "|    BA|        42|\n",
       "|    CE|        45|\n",
       "|    DF|        38|\n",
       "|    ES|        38|\n",
       "|    GO|        45|\n",
       "|    MA|        34|\n",
       "|    MG|        46|\n",
       "|    MS|        42|\n",
       "|    MT|        29|\n",
       "|    PA|        28|\n",
       "|    PB|        34|\n",
       "|    PE|        34|\n",
       "|    PI|        35|\n",
       "|    PR|        23|\n",
       "|    RJ|        40|\n",
       "|    RN|        28|\n",
       "+------+----------+\n",
       "only showing top 20 rows"
      ]
     },
     "execution_count": 326,
     "metadata": {},
     "output_type": "execute_result"
    }
   ],
   "source": [
    "df.groupBy('estado','cor_favorita').count().groupBy('estado').sum('count').orderBy('estado')"
   ]
  },
  {
   "cell_type": "code",
   "execution_count": 330,
   "id": "91b64b1b-7ed3-4c20-8e3b-b217da61ddea",
   "metadata": {
    "collapsed": true,
    "jupyter": {
     "outputs_hidden": true
    }
   },
   "outputs": [
    {
     "data": {
      "text/html": [
       "<table border='1'>\n",
       "<tr><th>year(data_de_nascimento)</th><th>count</th></tr>\n",
       "<tr><td>1959</td><td>8</td></tr>\n",
       "<tr><td>1990</td><td>7</td></tr>\n",
       "<tr><td>1975</td><td>7</td></tr>\n",
       "<tr><td>1977</td><td>5</td></tr>\n",
       "<tr><td>1924</td><td>9</td></tr>\n",
       "<tr><td>2003</td><td>7</td></tr>\n",
       "<tr><td>2007</td><td>12</td></tr>\n",
       "<tr><td>2018</td><td>13</td></tr>\n",
       "<tr><td>1974</td><td>7</td></tr>\n",
       "<tr><td>2015</td><td>9</td></tr>\n",
       "<tr><td>2023</td><td>2</td></tr>\n",
       "<tr><td>1927</td><td>6</td></tr>\n",
       "<tr><td>1955</td><td>13</td></tr>\n",
       "<tr><td>2006</td><td>14</td></tr>\n",
       "<tr><td>2022</td><td>9</td></tr>\n",
       "<tr><td>1978</td><td>6</td></tr>\n",
       "<tr><td>1908</td><td>8</td></tr>\n",
       "<tr><td>1925</td><td>7</td></tr>\n",
       "<tr><td>1961</td><td>7</td></tr>\n",
       "<tr><td>2013</td><td>9</td></tr>\n",
       "</table>\n",
       "only showing top 20 rows\n"
      ],
      "text/plain": [
       "+------------------------+-----+\n",
       "|year(data_de_nascimento)|count|\n",
       "+------------------------+-----+\n",
       "|                    1959|    8|\n",
       "|                    1990|    7|\n",
       "|                    1975|    7|\n",
       "|                    1977|    5|\n",
       "|                    1924|    9|\n",
       "|                    2003|    7|\n",
       "|                    2007|   12|\n",
       "|                    2018|   13|\n",
       "|                    1974|    7|\n",
       "|                    2015|    9|\n",
       "|                    2023|    2|\n",
       "|                    1927|    6|\n",
       "|                    1955|   13|\n",
       "|                    2006|   14|\n",
       "|                    2022|    9|\n",
       "|                    1978|    6|\n",
       "|                    1908|    8|\n",
       "|                    1925|    7|\n",
       "|                    1961|    7|\n",
       "|                    2013|    9|\n",
       "+------------------------+-----+\n",
       "only showing top 20 rows"
      ]
     },
     "execution_count": 330,
     "metadata": {},
     "output_type": "execute_result"
    }
   ],
   "source": [
    "df.groupBy(F.year('data_de_nascimento')).count()"
   ]
  },
  {
   "cell_type": "markdown",
   "id": "5ad154fc-b5e6-403a-b50f-6740f8408f0c",
   "metadata": {},
   "source": [
    "### Agregando vários métodos em um DataFrame\n",
    "\n",
    "Iremos necessitar utilizar o método `.agg` para realizar várias agregações no DataFrame:\n",
    "- `df.groupBy('cor_favorita').agg(F.count('*'), F.sum('num'), F.avg('num'), F.max('num'), F.min('num'), F.stddev('num'))` -> nesse exemplo o `.agg` serve para aplicar 1 ou mais funções de agregação no mesmo DataFrame."
   ]
  },
  {
   "cell_type": "code",
   "execution_count": 344,
   "id": "246e7e38-8901-4036-a3f3-9189020da252",
   "metadata": {},
   "outputs": [],
   "source": [
    "df_05 =df.withColumn('num', F.dayofmonth(df.data_de_nascimento))"
   ]
  },
  {
   "cell_type": "code",
   "execution_count": 347,
   "id": "58017872-204c-42ac-9abd-55caff1d5eeb",
   "metadata": {
    "collapsed": true,
    "jupyter": {
     "outputs_hidden": true
    }
   },
   "outputs": [
    {
     "data": {
      "text/html": [
       "<table border='1'>\n",
       "<tr><th>cor_favorita</th><th>count</th></tr>\n",
       "<tr><td>Preto</td><td>57</td></tr>\n",
       "<tr><td>Violeta</td><td>47</td></tr>\n",
       "<tr><td>Rosa</td><td>81</td></tr>\n",
       "<tr><td>Marrom</td><td>62</td></tr>\n",
       "<tr><td>Ciano</td><td>59</td></tr>\n",
       "<tr><td>Laranja</td><td>53</td></tr>\n",
       "<tr><td>Azul</td><td>76</td></tr>\n",
       "<tr><td>Verde Claro</td><td>66</td></tr>\n",
       "<tr><td>Roxo</td><td>64</td></tr>\n",
       "<tr><td>Branco</td><td>66</td></tr>\n",
       "<tr><td>Verde Escuro</td><td>65</td></tr>\n",
       "<tr><td>Azul Escuro</td><td>62</td></tr>\n",
       "<tr><td>Verde</td><td>53</td></tr>\n",
       "<tr><td>Magenta</td><td>54</td></tr>\n",
       "<tr><td>Cinza</td><td>75</td></tr>\n",
       "<tr><td>Amarelo</td><td>60</td></tr>\n",
       "</table>\n"
      ],
      "text/plain": [
       "+------------+-----+\n",
       "|cor_favorita|count|\n",
       "+------------+-----+\n",
       "|       Preto|   57|\n",
       "|     Violeta|   47|\n",
       "|        Rosa|   81|\n",
       "|      Marrom|   62|\n",
       "|       Ciano|   59|\n",
       "|     Laranja|   53|\n",
       "|        Azul|   76|\n",
       "| Verde Claro|   66|\n",
       "|        Roxo|   64|\n",
       "|      Branco|   66|\n",
       "|Verde Escuro|   65|\n",
       "| Azul Escuro|   62|\n",
       "|       Verde|   53|\n",
       "|     Magenta|   54|\n",
       "|       Cinza|   75|\n",
       "|     Amarelo|   60|\n",
       "+------------+-----+"
      ]
     },
     "execution_count": 347,
     "metadata": {},
     "output_type": "execute_result"
    }
   ],
   "source": [
    "df_05.groupBy('cor_favorita').count()"
   ]
  },
  {
   "cell_type": "code",
   "execution_count": 350,
   "id": "d79771ad-4ea2-4b4f-92f8-7a14657ba29b",
   "metadata": {
    "collapsed": true,
    "jupyter": {
     "outputs_hidden": true
    }
   },
   "outputs": [
    {
     "data": {
      "text/html": [
       "<table border='1'>\n",
       "<tr><th>cor_favorita</th><th>sum(num)</th></tr>\n",
       "<tr><td>Preto</td><td>893</td></tr>\n",
       "<tr><td>Violeta</td><td>773</td></tr>\n",
       "<tr><td>Rosa</td><td>1146</td></tr>\n",
       "<tr><td>Marrom</td><td>916</td></tr>\n",
       "<tr><td>Ciano</td><td>1085</td></tr>\n",
       "<tr><td>Laranja</td><td>956</td></tr>\n",
       "<tr><td>Azul</td><td>1295</td></tr>\n",
       "<tr><td>Verde Claro</td><td>1179</td></tr>\n",
       "<tr><td>Roxo</td><td>1025</td></tr>\n",
       "<tr><td>Branco</td><td>1085</td></tr>\n",
       "<tr><td>Verde Escuro</td><td>1103</td></tr>\n",
       "<tr><td>Azul Escuro</td><td>1042</td></tr>\n",
       "<tr><td>Verde</td><td>858</td></tr>\n",
       "<tr><td>Magenta</td><td>935</td></tr>\n",
       "<tr><td>Cinza</td><td>1208</td></tr>\n",
       "<tr><td>Amarelo</td><td>828</td></tr>\n",
       "</table>\n"
      ],
      "text/plain": [
       "+------------+--------+\n",
       "|cor_favorita|sum(num)|\n",
       "+------------+--------+\n",
       "|       Preto|     893|\n",
       "|     Violeta|     773|\n",
       "|        Rosa|    1146|\n",
       "|      Marrom|     916|\n",
       "|       Ciano|    1085|\n",
       "|     Laranja|     956|\n",
       "|        Azul|    1295|\n",
       "| Verde Claro|    1179|\n",
       "|        Roxo|    1025|\n",
       "|      Branco|    1085|\n",
       "|Verde Escuro|    1103|\n",
       "| Azul Escuro|    1042|\n",
       "|       Verde|     858|\n",
       "|     Magenta|     935|\n",
       "|       Cinza|    1208|\n",
       "|     Amarelo|     828|\n",
       "+------------+--------+"
      ]
     },
     "execution_count": 350,
     "metadata": {},
     "output_type": "execute_result"
    }
   ],
   "source": [
    "df_05.groupBy('cor_favorita').sum('num')"
   ]
  },
  {
   "cell_type": "code",
   "execution_count": 353,
   "id": "57b394c5-b945-4bc7-ab26-6973cad711d2",
   "metadata": {
    "collapsed": true,
    "jupyter": {
     "outputs_hidden": true
    }
   },
   "outputs": [
    {
     "data": {
      "text/html": [
       "<table border='1'>\n",
       "<tr><th>cor_favorita</th><th>count(1)</th><th>sum(num)</th><th>avg(num)</th><th>max(num)</th><th>min(num)</th><th>stddev_samp(num)</th></tr>\n",
       "<tr><td>Preto</td><td>57</td><td>893</td><td>15.666666666666666</td><td>31</td><td>1</td><td>9.158004565354158</td></tr>\n",
       "<tr><td>Violeta</td><td>47</td><td>773</td><td>16.4468085106383</td><td>31</td><td>1</td><td>8.609419792191972</td></tr>\n",
       "<tr><td>Rosa</td><td>81</td><td>1146</td><td>14.148148148148149</td><td>31</td><td>1</td><td>8.153390569436604</td></tr>\n",
       "<tr><td>Marrom</td><td>62</td><td>916</td><td>14.774193548387096</td><td>31</td><td>1</td><td>8.952368227455667</td></tr>\n",
       "<tr><td>Ciano</td><td>59</td><td>1085</td><td>18.389830508474578</td><td>31</td><td>1</td><td>9.02681245369735</td></tr>\n",
       "<tr><td>Laranja</td><td>53</td><td>956</td><td>18.037735849056602</td><td>31</td><td>1</td><td>8.735344350904686</td></tr>\n",
       "<tr><td>Azul</td><td>76</td><td>1295</td><td>17.039473684210527</td><td>31</td><td>1</td><td>9.107419377589803</td></tr>\n",
       "<tr><td>Verde Claro</td><td>66</td><td>1179</td><td>17.863636363636363</td><td>31</td><td>1</td><td>9.121211734002424</td></tr>\n",
       "<tr><td>Roxo</td><td>64</td><td>1025</td><td>16.015625</td><td>31</td><td>1</td><td>9.005275680364543</td></tr>\n",
       "<tr><td>Branco</td><td>66</td><td>1085</td><td>16.439393939393938</td><td>31</td><td>1</td><td>9.907462281422465</td></tr>\n",
       "<tr><td>Verde Escuro</td><td>65</td><td>1103</td><td>16.96923076923077</td><td>31</td><td>1</td><td>8.96341388431542</td></tr>\n",
       "<tr><td>Azul Escuro</td><td>62</td><td>1042</td><td>16.806451612903224</td><td>31</td><td>1</td><td>9.289229987459422</td></tr>\n",
       "<tr><td>Verde</td><td>53</td><td>858</td><td>16.18867924528302</td><td>31</td><td>1</td><td>8.991569991629305</td></tr>\n",
       "<tr><td>Magenta</td><td>54</td><td>935</td><td>17.314814814814813</td><td>29</td><td>1</td><td>8.871884941650764</td></tr>\n",
       "<tr><td>Cinza</td><td>75</td><td>1208</td><td>16.106666666666666</td><td>31</td><td>1</td><td>8.658027572226912</td></tr>\n",
       "<tr><td>Amarelo</td><td>60</td><td>828</td><td>13.8</td><td>30</td><td>1</td><td>9.34607685301019</td></tr>\n",
       "</table>\n"
      ],
      "text/plain": [
       "+------------+--------+--------+------------------+--------+--------+-----------------+\n",
       "|cor_favorita|count(1)|sum(num)|          avg(num)|max(num)|min(num)| stddev_samp(num)|\n",
       "+------------+--------+--------+------------------+--------+--------+-----------------+\n",
       "|       Preto|      57|     893|15.666666666666666|      31|       1|9.158004565354158|\n",
       "|     Violeta|      47|     773|  16.4468085106383|      31|       1|8.609419792191972|\n",
       "|        Rosa|      81|    1146|14.148148148148149|      31|       1|8.153390569436604|\n",
       "|      Marrom|      62|     916|14.774193548387096|      31|       1|8.952368227455667|\n",
       "|       Ciano|      59|    1085|18.389830508474578|      31|       1| 9.02681245369735|\n",
       "|     Laranja|      53|     956|18.037735849056602|      31|       1|8.735344350904686|\n",
       "|        Azul|      76|    1295|17.039473684210527|      31|       1|9.107419377589803|\n",
       "| Verde Claro|      66|    1179|17.863636363636363|      31|       1|9.121211734002424|\n",
       "|        Roxo|      64|    1025|         16.015625|      31|       1|9.005275680364543|\n",
       "|      Branco|      66|    1085|16.439393939393938|      31|       1|9.907462281422465|\n",
       "|Verde Escuro|      65|    1103| 16.96923076923077|      31|       1| 8.96341388431542|\n",
       "| Azul Escuro|      62|    1042|16.806451612903224|      31|       1|9.289229987459422|\n",
       "|       Verde|      53|     858| 16.18867924528302|      31|       1|8.991569991629305|\n",
       "|     Magenta|      54|     935|17.314814814814813|      29|       1|8.871884941650764|\n",
       "|       Cinza|      75|    1208|16.106666666666666|      31|       1|8.658027572226912|\n",
       "|     Amarelo|      60|     828|              13.8|      30|       1| 9.34607685301019|\n",
       "+------------+--------+--------+------------------+--------+--------+-----------------+"
      ]
     },
     "execution_count": 353,
     "metadata": {},
     "output_type": "execute_result"
    }
   ],
   "source": [
    "df_05.groupBy('cor_favorita').agg(F.count('*'), F.sum('num'), F.avg('num'), F.max('num'), F.min('num'), F.stddev('num'))"
   ]
  },
  {
   "cell_type": "markdown",
   "id": "b96e6657-2908-4b34-9f1b-559870820ac3",
   "metadata": {},
   "source": [
    "### JOINs \n",
    "\n",
    "Usamos o método `.join` para realizar as conexões com as tabelas.\\\n",
    "O método join tem 3 argumentos:\n",
    "- `other` = tabela que vai ser conectada com a tabela base\n",
    "- `on` = coluna que iremos utilizar para realizar a conexão\n",
    "- `how` = tipo de join (normalmente usamos o `left` e o `inner`\n",
    "\n",
    "`tabela_A.join(other = Tabela_B, on = Coluna PF, how = Tipo de JOIN)`"
   ]
  },
  {
   "cell_type": "code",
   "execution_count": 358,
   "id": "84536195-628f-4447-90d3-fef3ad6229bc",
   "metadata": {},
   "outputs": [],
   "source": [
    "autores = spark.read.parquet('C:/Users/Kimura/Desktop/Curso PySpark/DATASETS/DATASETS/AUTORES.parquet')\n",
    "livros = spark.read.parquet('C:/Users/Kimura/Desktop/Curso PySpark/DATASETS/DATASETS/LIVROS.parquet')\n",
    "clientes = spark.read.parquet('C:/Users/Kimura/Desktop/Curso PySpark/DATASETS/DATASETS/CLIENTES.parquet')\n",
    "compras = spark.read.parquet('C:/Users/Kimura/Desktop/Curso PySpark/DATASETS/DATASETS/COMPRAS.parquet')"
   ]
  },
  {
   "cell_type": "code",
   "execution_count": 361,
   "id": "1f32e72d-6698-459f-b8d9-8315ee6a9be4",
   "metadata": {
    "collapsed": true,
    "jupyter": {
     "outputs_hidden": true
    },
    "scrolled": true
   },
   "outputs": [
    {
     "data": {
      "text/html": [
       "<table border='1'>\n",
       "<tr><th>id</th><th>titulo</th><th>autor</th><th>cnpj_editora</th><th>data_lancamento</th><th>ean</th><th>isbn10</th><th>numero_paginas</th><th>preco</th></tr>\n",
       "<tr><td>106042959</td><td>1984 </td><td>George Orwell</td><td>null</td><td>null</td><td>null</td><td>null</td><td>null</td><td>null</td></tr>\n",
       "<tr><td>017551704</td><td>200 Crônicas Esco...</td><td>Rubem Braga</td><td>14.857.032/0001-12</td><td>2018-10-19</td><td>2352660010751</td><td>0-7433-6026-5</td><td>645</td><td>44.38</td></tr>\n",
       "<tr><td>054099410</td><td>A Alma Encantador...</td><td>João do Rio</td><td>null</td><td>null</td><td>null</td><td>null</td><td>null</td><td>null</td></tr>\n",
       "<tr><td>128422117</td><td>A Biblioteca da M...</td><td>Matt Haig</td><td>null</td><td>null</td><td>null</td><td>null</td><td>null</td><td>null</td></tr>\n",
       "<tr><td>049141399</td><td>A Coleira do Cão </td><td>Rubem Fonseca</td><td>null</td><td>null</td><td>null</td><td>null</td><td>null</td><td>null</td></tr>\n",
       "<tr><td>065490862</td><td>A Cor Púrpura </td><td>Alice Walker</td><td>null</td><td>null</td><td>null</td><td>null</td><td>null</td><td>null</td></tr>\n",
       "<tr><td>029077001</td><td>A Educação Sentim...</td><td>Gustave Flaubert</td><td>null</td><td>null</td><td>null</td><td>null</td><td>null</td><td>null</td></tr>\n",
       "<tr><td>032275599</td><td>A Escrava Isaura </td><td>Bernardo Guimarães</td><td>49.037.512/0001-11</td><td>2001-05-15</td><td>2964406383663</td><td>1-83335-705-1</td><td>752</td><td>184.42</td></tr>\n",
       "<tr><td>090690941</td><td>A Estrela Sobe </td><td>Marques Rebelo</td><td>null</td><td>null</td><td>null</td><td>null</td><td>null</td><td>null</td></tr>\n",
       "<tr><td>095695255</td><td>A Hora da Estrela </td><td>Clarice Lispector</td><td>94.567.038/0001-94</td><td>2015-04-23</td><td>4084520465552</td><td>0-7650-7381-1</td><td>572</td><td>83.33</td></tr>\n",
       "<tr><td>036365230</td><td>A Hora dos Rumina...</td><td>José J. Veiga</td><td>null</td><td>null</td><td>null</td><td>null</td><td>null</td><td>null</td></tr>\n",
       "<tr><td>069146824</td><td>A Letra Escarlate </td><td>Nathaniel Hawthorne</td><td>null</td><td>null</td><td>null</td><td>null</td><td>null</td><td>null</td></tr>\n",
       "<tr><td>025903823</td><td>A Metamorfose </td><td>Franz Kafka</td><td>64.315.082/0001-46</td><td>2006-01-05</td><td>7561853479861</td><td>0-10-032263-8</td><td>760</td><td>215.52</td></tr>\n",
       "<tr><td>015903574</td><td>A Montanha Mágica </td><td>Thomas Mann</td><td>25.908.643/0001-69</td><td>2006-03-03</td><td>7694802204365</td><td>0-931131-95-2</td><td>600</td><td>90.22</td></tr>\n",
       "<tr><td>076938216</td><td>A Moreninha </td><td>Joaquim Manuel de...</td><td>null</td><td>null</td><td>null</td><td>null</td><td>null</td><td>null</td></tr>\n",
       "<tr><td>010325500</td><td>A Obscena Senhora D </td><td>Hilda Hilst</td><td>27.689.540/0001-80</td><td>2000-09-09</td><td>8793472196570</td><td>0-933627-98-X</td><td>306</td><td>30.62</td></tr>\n",
       "<tr><td>095678890</td><td>A Paixão Segundo ...</td><td>Clarice Lispector</td><td>null</td><td>null</td><td>null</td><td>null</td><td>null</td><td>null</td></tr>\n",
       "<tr><td>073269564</td><td>A Revolução dos B...</td><td>George Orwell</td><td>null</td><td>null</td><td>null</td><td>null</td><td>null</td><td>null</td></tr>\n",
       "<tr><td>076121829</td><td>A Rosa do Povo </td><td>Carlos Drummond d...</td><td>null</td><td>null</td><td>null</td><td>null</td><td>null</td><td>null</td></tr>\n",
       "<tr><td>087365849</td><td>A Senhorita Simpson </td><td>Sérgio Sant’anna</td><td>null</td><td>null</td><td>null</td><td>null</td><td>null</td><td>null</td></tr>\n",
       "</table>\n",
       "only showing top 20 rows\n"
      ],
      "text/plain": [
       "+---------+--------------------+--------------------+------------------+---------------+-------------+-------------+--------------+------+\n",
       "|       id|              titulo|               autor|      cnpj_editora|data_lancamento|          ean|       isbn10|numero_paginas| preco|\n",
       "+---------+--------------------+--------------------+------------------+---------------+-------------+-------------+--------------+------+\n",
       "|106042959|               1984 |       George Orwell|              null|           null|         null|         null|          null|  null|\n",
       "|017551704|200 Crônicas Esco...|         Rubem Braga|14.857.032/0001-12|     2018-10-19|2352660010751|0-7433-6026-5|           645| 44.38|\n",
       "|054099410|A Alma Encantador...|         João do Rio|              null|           null|         null|         null|          null|  null|\n",
       "|128422117|A Biblioteca da M...|           Matt Haig|              null|           null|         null|         null|          null|  null|\n",
       "|049141399|   A Coleira do Cão |       Rubem Fonseca|              null|           null|         null|         null|          null|  null|\n",
       "|065490862|      A Cor Púrpura |        Alice Walker|              null|           null|         null|         null|          null|  null|\n",
       "|029077001|A Educação Sentim...|    Gustave Flaubert|              null|           null|         null|         null|          null|  null|\n",
       "|032275599|   A Escrava Isaura |  Bernardo Guimarães|49.037.512/0001-11|     2001-05-15|2964406383663|1-83335-705-1|           752|184.42|\n",
       "|090690941|     A Estrela Sobe |      Marques Rebelo|              null|           null|         null|         null|          null|  null|\n",
       "|095695255|  A Hora da Estrela |   Clarice Lispector|94.567.038/0001-94|     2015-04-23|4084520465552|0-7650-7381-1|           572| 83.33|\n",
       "|036365230|A Hora dos Rumina...|       José J. Veiga|              null|           null|         null|         null|          null|  null|\n",
       "|069146824|  A Letra Escarlate | Nathaniel Hawthorne|              null|           null|         null|         null|          null|  null|\n",
       "|025903823|      A Metamorfose |         Franz Kafka|64.315.082/0001-46|     2006-01-05|7561853479861|0-10-032263-8|           760|215.52|\n",
       "|015903574|  A Montanha Mágica |         Thomas Mann|25.908.643/0001-69|     2006-03-03|7694802204365|0-931131-95-2|           600| 90.22|\n",
       "|076938216|        A Moreninha |Joaquim Manuel de...|              null|           null|         null|         null|          null|  null|\n",
       "|010325500|A Obscena Senhora D |         Hilda Hilst|27.689.540/0001-80|     2000-09-09|8793472196570|0-933627-98-X|           306| 30.62|\n",
       "|095678890|A Paixão Segundo ...|   Clarice Lispector|              null|           null|         null|         null|          null|  null|\n",
       "|073269564|A Revolução dos B...|       George Orwell|              null|           null|         null|         null|          null|  null|\n",
       "|076121829|     A Rosa do Povo |Carlos Drummond d...|              null|           null|         null|         null|          null|  null|\n",
       "|087365849|A Senhorita Simpson |    Sérgio Sant’anna|              null|           null|         null|         null|          null|  null|\n",
       "+---------+--------------------+--------------------+------------------+---------------+-------------+-------------+--------------+------+\n",
       "only showing top 20 rows"
      ]
     },
     "execution_count": 361,
     "metadata": {},
     "output_type": "execute_result"
    }
   ],
   "source": [
    "autores.join(other=livros, on='id', how='left')"
   ]
  },
  {
   "cell_type": "code",
   "execution_count": 371,
   "id": "adc2a6fa-d2a2-4652-a19b-ae6b6d72e44e",
   "metadata": {
    "collapsed": true,
    "jupyter": {
     "outputs_hidden": true
    }
   },
   "outputs": [
    {
     "data": {
      "text/html": [
       "<table border='1'>\n",
       "<tr><th>id</th><th>cartao_data_expiracao</th><th>cartao_numero</th><th>cartao_bandeira</th><th>cartao_cvc</th><th>codigo_transacao_bancaria</th><th>data</th><th>hora</th><th>ipv4</th><th>ipv6</th><th>cep_entrega</th><th>cd_livro</th><th>cd_cliente</th><th>id</th><th>cnpj_editora</th><th>data_lancamento</th><th>ean</th><th>isbn10</th><th>numero_paginas</th><th>preco</th></tr>\n",
       "<tr><td>012389</td><td>11/25</td><td>5500804500517692</td><td>Discover</td><td>959</td><td>GB98MPIH622108593...</td><td>2021-07-24</td><td>03:21:28</td><td>62.145.31.164</td><td>b23d:58a2:9eff:36...</td><td>36629-219</td><td>030334762</td><td>3339828</td><td>030334762</td><td>80.463.719/0001-06</td><td>2013-05-08</td><td>7122725133429</td><td>0-85193-340-8</td><td>099</td><td>123.47</td></tr>\n",
       "<tr><td>012476</td><td>01/31</td><td>4609489235873</td><td>VISA 16 digit</td><td>6979</td><td>GB79GAVL233010819...</td><td>2021-08-23</td><td>11:15:52</td><td>185.150.224.52</td><td>1e2c:f641:49d1:5a...</td><td>17012-747</td><td>013721981</td><td>7624624</td><td>013721981</td><td>76.351.940/0001-97</td><td>2004-01-27</td><td>8786391051693</td><td>1-60705-523-6</td><td>379</td><td>133.43</td></tr>\n",
       "<tr><td>012478</td><td>07/23</td><td>30072722359174</td><td>American Express</td><td>689</td><td>GB51SZOU538484531...</td><td>2020-01-27</td><td>17:08:10</td><td>40.179.153.24</td><td>9bcd:ee0c:af68:33...</td><td>25921298</td><td>019458805</td><td>8703114</td><td>019458805</td><td>81.253.490/0001-30</td><td>2007-12-13</td><td>2628486550239</td><td>0-916523-25-X</td><td>788</td><td>238.54</td></tr>\n",
       "<tr><td>012534</td><td>09/29</td><td>4561935154572</td><td>VISA 16 digit</td><td>353</td><td>GB05UNEX021466511...</td><td>2021-07-15</td><td>07:39:25</td><td>86.20.51.194</td><td>be57:8f94:132:1cb...</td><td>73799370</td><td>014347542</td><td>7799936</td><td>014347542</td><td>76.415.890/0001-64</td><td>2007-04-05</td><td>3883750237349</td><td>0-8360-5203-X</td><td>452</td><td>182.43</td></tr>\n",
       "<tr><td>012549</td><td>01/31</td><td>3541220668415122</td><td>JCB 15 digit</td><td>967</td><td>GB97RCCC581942620...</td><td>2020-07-22</td><td>23:56:14</td><td>55.189.220.65</td><td>a1fd:9dd:115f:9d5...</td><td>50727-454</td><td>020215846</td><td>6703678</td><td>020215846</td><td>27.659.813/0001-44</td><td>2014-03-25</td><td>7684001180416</td><td>0-216-16469-9</td><td>794</td><td>155.18</td></tr>\n",
       "<tr><td>012574</td><td>06/24</td><td>4155061214506542</td><td>JCB 16 digit</td><td>362</td><td>GB93YATI197164292...</td><td>2020-05-19</td><td>10:47:09</td><td>212.26.253.42</td><td>1815:dc0e:c557:96...</td><td>67662-182</td><td>010325500</td><td>6273720</td><td>010325500</td><td>27.689.540/0001-80</td><td>2000-09-09</td><td>8793472196570</td><td>0-933627-98-X</td><td>306</td><td>30.62</td></tr>\n",
       "<tr><td>012579</td><td>01/27</td><td>30554213514227</td><td>Maestro</td><td>9847</td><td>GB54PQLN799705859...</td><td>2021-04-15</td><td>10:36:56</td><td>168.197.230.167</td><td>7f3b:4ada:4c62:3f...</td><td>61193-110</td><td>053479015</td><td>6977964</td><td>053479015</td><td>54.327.896/0001-47</td><td>2018-12-21</td><td>1750535865566</td><td>0-518-04786-5</td><td>105</td><td>207.52</td></tr>\n",
       "<tr><td>012648</td><td>05/24</td><td>347386847428278</td><td>VISA 16 digit</td><td>823</td><td>GB90MYZL510193283...</td><td>2021-06-19</td><td>13:07:48</td><td>146.108.131.11</td><td>c52d:53d8:371a:34...</td><td>10059-723</td><td>012331534</td><td>6616715</td><td>012331534</td><td>84.317.925/0001-50</td><td>2010-05-29</td><td>3177832263150</td><td>1-62649-755-9</td><td>129</td><td>175.67</td></tr>\n",
       "<tr><td>012675</td><td>04/29</td><td>4534805013764</td><td>Mastercard</td><td>384</td><td>GB11XMUH824876351...</td><td>2021-07-11</td><td>07:55:08</td><td>148.155.72.234</td><td>b290:d2b7:6a58:86...</td><td>79292884</td><td>035940339</td><td>649001</td><td>035940339</td><td>71.530.496/0001-53</td><td>2014-08-11</td><td>6764222732753</td><td>1-396-90787-4</td><td>327</td><td>213.6</td></tr>\n",
       "<tr><td>012698</td><td>12/31</td><td>4450657280386776</td><td>American Express</td><td>247</td><td>GB79ECRO017868447...</td><td>2021-08-11</td><td>12:06:48</td><td>190.135.5.172</td><td>7cbc:4554:7f5d:65...</td><td>93609312</td><td>058320651</td><td>4523531</td><td>058320651</td><td>82.439.107/0001-03</td><td>2013-01-30</td><td>6024459409867</td><td>1-61357-201-8</td><td>290</td><td>196.35</td></tr>\n",
       "<tr><td>012845</td><td>01/32</td><td>6589457551152257</td><td>Diners Club / Car...</td><td>081</td><td>GB54ZAJA800810561...</td><td>2023-02-27</td><td>09:34:58</td><td>117.107.7.243</td><td>d3f6:6a7f:32a8:eb...</td><td>65177115</td><td>032169692</td><td>8443760</td><td>032169692</td><td>14.603.275/0001-24</td><td>2000-05-15</td><td>4659106631807</td><td>1-81244-634-9</td><td>956</td><td>176.73</td></tr>\n",
       "<tr><td>012948</td><td>12/28</td><td>373871288580551</td><td>Diners Club / Car...</td><td>619</td><td>GB43SXJF889505944...</td><td>2020-02-20</td><td>03:10:01</td><td>210.130.27.213</td><td>9ae4:b03a:1a1f:c6...</td><td>39334-766</td><td>032169692</td><td>1235431</td><td>032169692</td><td>14.603.275/0001-24</td><td>2000-05-15</td><td>4659106631807</td><td>1-81244-634-9</td><td>956</td><td>176.73</td></tr>\n",
       "<tr><td>012964</td><td>12/30</td><td>4852311914204</td><td>Mastercard</td><td>555</td><td>GB64DLQF090053954...</td><td>2022-10-04</td><td>06:40:47</td><td>129.93.60.161</td><td>5bfe:ad1b:a4f1:f2...</td><td>41199-650</td><td>033338998</td><td>7811168</td><td>033338998</td><td>43.597.816/0001-57</td><td>2015-07-10</td><td>5973438592186</td><td>0-7598-2346-4</td><td>337</td><td>150.51</td></tr>\n",
       "<tr><td>012984</td><td>06/31</td><td>4513536757134128830</td><td>VISA 19 digit</td><td>834</td><td>GB32QSLY821583204...</td><td>2020-08-05</td><td>09:45:12</td><td>141.203.245.233</td><td>7528:d2f8:fa09:82...</td><td>84410-583</td><td>042900595</td><td>2093927</td><td>042900595</td><td>28.936.451/0001-54</td><td>2010-12-15</td><td>2655132597959</td><td>0-86582-172-0</td><td>169</td><td>59.35</td></tr>\n",
       "<tr><td>012986</td><td>10/26</td><td>3585620838660639</td><td>Mastercard</td><td>440</td><td>GB79ZFSL741355562...</td><td>2020-05-06</td><td>23:22:03</td><td>221.251.216.243</td><td>5da7:4583:5800:96...</td><td>16961-730</td><td>019458805</td><td>3945329</td><td>019458805</td><td>81.253.490/0001-30</td><td>2007-12-13</td><td>2628486550239</td><td>0-916523-25-X</td><td>788</td><td>238.54</td></tr>\n",
       "<tr><td>013257</td><td>05/23</td><td>6579633995016199</td><td>VISA 13 digit</td><td>9804</td><td>GB93NZLK218118563...</td><td>2022-11-28</td><td>02:09:43</td><td>189.189.141.229</td><td>7b91:3b21:d3f1:36...</td><td>83312054</td><td>027740385</td><td>6689138</td><td>027740385</td><td>13.695.847/0001-80</td><td>2008-01-05</td><td>7379429364080</td><td>1-327-99249-3</td><td>991</td><td>105.73</td></tr>\n",
       "<tr><td>013265</td><td>12/31</td><td>3535506018736607</td><td>JCB 15 digit</td><td>702</td><td>GB97UUHZ239804882...</td><td>2020-10-27</td><td>18:17:07</td><td>24.152.218.181</td><td>77da:6ce5:522a:ac...</td><td>06479-166</td><td>049141690</td><td>1942388</td><td>049141690</td><td>95.037.812/0001-18</td><td>2016-12-24</td><td>9032214793899</td><td>1-4076-9870-2</td><td>454</td><td>210.52</td></tr>\n",
       "<tr><td>013274</td><td>01/24</td><td>3568580151701777</td><td>JCB 16 digit</td><td>257</td><td>GB80ISML116442671...</td><td>2021-12-20</td><td>14:44:09</td><td>42.253.7.153</td><td>cf6a:3335:55be:e0...</td><td>30462-427</td><td>104361784</td><td>2487770</td><td>104361784</td><td>46.527.081/0001-83</td><td>2013-12-08</td><td>1491898510198</td><td>1-101-80944-2</td><td>478</td><td>109.14</td></tr>\n",
       "<tr><td>013457</td><td>06/28</td><td>4589839699652790803</td><td>Maestro</td><td>280</td><td>GB22HUUD094642820...</td><td>2021-10-26</td><td>23:04:27</td><td>207.179.196.45</td><td>9b03:e5f0:c72f:c7...</td><td>10506549</td><td>021006591</td><td>4312106</td><td>021006591</td><td>87.521.043/0001-09</td><td>2019-02-24</td><td>1222716689648</td><td>1-955093-40-7</td><td>382</td><td>96.84</td></tr>\n",
       "<tr><td>013478</td><td>07/24</td><td>3560452545224585</td><td>VISA 16 digit</td><td>126</td><td>GB63LUHF437452702...</td><td>2020-05-10</td><td>02:33:28</td><td>105.127.245.188</td><td>dd79:3fca:9d38:98...</td><td>10354-560</td><td>019488257</td><td>670483</td><td>019488257</td><td>56.783.210/0001-58</td><td>2013-05-19</td><td>3993489629534</td><td>0-589-10612-0</td><td>734</td><td>17.11</td></tr>\n",
       "</table>\n",
       "only showing top 20 rows\n"
      ],
      "text/plain": [
       "+------+---------------------+-------------------+--------------------+----------+-------------------------+----------+--------+---------------+--------------------+-----------+---------+----------+---------+------------------+---------------+-------------+-------------+--------------+------+\n",
       "|    id|cartao_data_expiracao|      cartao_numero|     cartao_bandeira|cartao_cvc|codigo_transacao_bancaria|      data|    hora|           ipv4|                ipv6|cep_entrega| cd_livro|cd_cliente|       id|      cnpj_editora|data_lancamento|          ean|       isbn10|numero_paginas| preco|\n",
       "+------+---------------------+-------------------+--------------------+----------+-------------------------+----------+--------+---------------+--------------------+-----------+---------+----------+---------+------------------+---------------+-------------+-------------+--------------+------+\n",
       "|012389|                11/25|   5500804500517692|            Discover|       959|     GB98MPIH622108593...|2021-07-24|03:21:28|  62.145.31.164|b23d:58a2:9eff:36...|  36629-219|030334762|   3339828|030334762|80.463.719/0001-06|     2013-05-08|7122725133429|0-85193-340-8|           099|123.47|\n",
       "|012476|                01/31|      4609489235873|       VISA 16 digit|      6979|     GB79GAVL233010819...|2021-08-23|11:15:52| 185.150.224.52|1e2c:f641:49d1:5a...|  17012-747|013721981|   7624624|013721981|76.351.940/0001-97|     2004-01-27|8786391051693|1-60705-523-6|           379|133.43|\n",
       "|012478|                07/23|     30072722359174|    American Express|       689|     GB51SZOU538484531...|2020-01-27|17:08:10|  40.179.153.24|9bcd:ee0c:af68:33...|   25921298|019458805|   8703114|019458805|81.253.490/0001-30|     2007-12-13|2628486550239|0-916523-25-X|           788|238.54|\n",
       "|012534|                09/29|      4561935154572|       VISA 16 digit|       353|     GB05UNEX021466511...|2021-07-15|07:39:25|   86.20.51.194|be57:8f94:132:1cb...|   73799370|014347542|   7799936|014347542|76.415.890/0001-64|     2007-04-05|3883750237349|0-8360-5203-X|           452|182.43|\n",
       "|012549|                01/31|   3541220668415122|        JCB 15 digit|       967|     GB97RCCC581942620...|2020-07-22|23:56:14|  55.189.220.65|a1fd:9dd:115f:9d5...|  50727-454|020215846|   6703678|020215846|27.659.813/0001-44|     2014-03-25|7684001180416|0-216-16469-9|           794|155.18|\n",
       "|012574|                06/24|   4155061214506542|        JCB 16 digit|       362|     GB93YATI197164292...|2020-05-19|10:47:09|  212.26.253.42|1815:dc0e:c557:96...|  67662-182|010325500|   6273720|010325500|27.689.540/0001-80|     2000-09-09|8793472196570|0-933627-98-X|           306| 30.62|\n",
       "|012579|                01/27|     30554213514227|             Maestro|      9847|     GB54PQLN799705859...|2021-04-15|10:36:56|168.197.230.167|7f3b:4ada:4c62:3f...|  61193-110|053479015|   6977964|053479015|54.327.896/0001-47|     2018-12-21|1750535865566|0-518-04786-5|           105|207.52|\n",
       "|012648|                05/24|    347386847428278|       VISA 16 digit|       823|     GB90MYZL510193283...|2021-06-19|13:07:48| 146.108.131.11|c52d:53d8:371a:34...|  10059-723|012331534|   6616715|012331534|84.317.925/0001-50|     2010-05-29|3177832263150|1-62649-755-9|           129|175.67|\n",
       "|012675|                04/29|      4534805013764|          Mastercard|       384|     GB11XMUH824876351...|2021-07-11|07:55:08| 148.155.72.234|b290:d2b7:6a58:86...|   79292884|035940339|    649001|035940339|71.530.496/0001-53|     2014-08-11|6764222732753|1-396-90787-4|           327| 213.6|\n",
       "|012698|                12/31|   4450657280386776|    American Express|       247|     GB79ECRO017868447...|2021-08-11|12:06:48|  190.135.5.172|7cbc:4554:7f5d:65...|   93609312|058320651|   4523531|058320651|82.439.107/0001-03|     2013-01-30|6024459409867|1-61357-201-8|           290|196.35|\n",
       "|012845|                01/32|   6589457551152257|Diners Club / Car...|       081|     GB54ZAJA800810561...|2023-02-27|09:34:58|  117.107.7.243|d3f6:6a7f:32a8:eb...|   65177115|032169692|   8443760|032169692|14.603.275/0001-24|     2000-05-15|4659106631807|1-81244-634-9|           956|176.73|\n",
       "|012948|                12/28|    373871288580551|Diners Club / Car...|       619|     GB43SXJF889505944...|2020-02-20|03:10:01| 210.130.27.213|9ae4:b03a:1a1f:c6...|  39334-766|032169692|   1235431|032169692|14.603.275/0001-24|     2000-05-15|4659106631807|1-81244-634-9|           956|176.73|\n",
       "|012964|                12/30|      4852311914204|          Mastercard|       555|     GB64DLQF090053954...|2022-10-04|06:40:47|  129.93.60.161|5bfe:ad1b:a4f1:f2...|  41199-650|033338998|   7811168|033338998|43.597.816/0001-57|     2015-07-10|5973438592186|0-7598-2346-4|           337|150.51|\n",
       "|012984|                06/31|4513536757134128830|       VISA 19 digit|       834|     GB32QSLY821583204...|2020-08-05|09:45:12|141.203.245.233|7528:d2f8:fa09:82...|  84410-583|042900595|   2093927|042900595|28.936.451/0001-54|     2010-12-15|2655132597959|0-86582-172-0|           169| 59.35|\n",
       "|012986|                10/26|   3585620838660639|          Mastercard|       440|     GB79ZFSL741355562...|2020-05-06|23:22:03|221.251.216.243|5da7:4583:5800:96...|  16961-730|019458805|   3945329|019458805|81.253.490/0001-30|     2007-12-13|2628486550239|0-916523-25-X|           788|238.54|\n",
       "|013257|                05/23|   6579633995016199|       VISA 13 digit|      9804|     GB93NZLK218118563...|2022-11-28|02:09:43|189.189.141.229|7b91:3b21:d3f1:36...|   83312054|027740385|   6689138|027740385|13.695.847/0001-80|     2008-01-05|7379429364080|1-327-99249-3|           991|105.73|\n",
       "|013265|                12/31|   3535506018736607|        JCB 15 digit|       702|     GB97UUHZ239804882...|2020-10-27|18:17:07| 24.152.218.181|77da:6ce5:522a:ac...|  06479-166|049141690|   1942388|049141690|95.037.812/0001-18|     2016-12-24|9032214793899|1-4076-9870-2|           454|210.52|\n",
       "|013274|                01/24|   3568580151701777|        JCB 16 digit|       257|     GB80ISML116442671...|2021-12-20|14:44:09|   42.253.7.153|cf6a:3335:55be:e0...|  30462-427|104361784|   2487770|104361784|46.527.081/0001-83|     2013-12-08|1491898510198|1-101-80944-2|           478|109.14|\n",
       "|013457|                06/28|4589839699652790803|             Maestro|       280|     GB22HUUD094642820...|2021-10-26|23:04:27| 207.179.196.45|9b03:e5f0:c72f:c7...|   10506549|021006591|   4312106|021006591|87.521.043/0001-09|     2019-02-24|1222716689648|1-955093-40-7|           382| 96.84|\n",
       "|013478|                07/24|   3560452545224585|       VISA 16 digit|       126|     GB63LUHF437452702...|2020-05-10|02:33:28|105.127.245.188|dd79:3fca:9d38:98...|  10354-560|019488257|    670483|019488257|56.783.210/0001-58|     2013-05-19|3993489629534|0-589-10612-0|           734| 17.11|\n",
       "+------+---------------------+-------------------+--------------------+----------+-------------------------+----------+--------+---------------+--------------------+-----------+---------+----------+---------+------------------+---------------+-------------+-------------+--------------+------+\n",
       "only showing top 20 rows"
      ]
     },
     "execution_count": 371,
     "metadata": {},
     "output_type": "execute_result"
    }
   ],
   "source": [
    "# estamos apenas especificando no parâmetro ON a conexão de PK e PF\n",
    "# tabela_A.ColunaPK = tabela_B.ColunaPF\n",
    "compras.join(other=livros, on=compras.cd_livro==livros.id, how='inner')"
   ]
  },
  {
   "cell_type": "markdown",
   "id": "07886254-8369-4de4-8ac1-d8d5545607fa",
   "metadata": {},
   "source": [
    "### Aias (renomeando colunas)\n",
    "\n",
    "Muito simples, basta adicionar no final do código o `.alias(NOVO NOME COLUNA_`\\\n",
    "Para renomar colunas use o método `.withColumnRenamed(nome atual , novo nome)`"
   ]
  },
  {
   "cell_type": "code",
   "execution_count": 381,
   "id": "d0bd09d7-5e9b-4b20-8f00-90eb543f2e22",
   "metadata": {
    "collapsed": true,
    "jupyter": {
     "outputs_hidden": true
    }
   },
   "outputs": [
    {
     "data": {
      "text/html": [
       "<table border='1'>\n",
       "<tr><th>estado</th><th>quantidade</th></tr>\n",
       "<tr><td>SC</td><td>44</td></tr>\n",
       "<tr><td>RO</td><td>39</td></tr>\n",
       "<tr><td>PI</td><td>35</td></tr>\n",
       "<tr><td>AM</td><td>34</td></tr>\n",
       "<tr><td>RR</td><td>33</td></tr>\n",
       "<tr><td>GO</td><td>45</td></tr>\n",
       "<tr><td>TO</td><td>34</td></tr>\n",
       "<tr><td>MT</td><td>29</td></tr>\n",
       "<tr><td>SP</td><td>49</td></tr>\n",
       "<tr><td>ES</td><td>38</td></tr>\n",
       "<tr><td>PB</td><td>34</td></tr>\n",
       "<tr><td>RS</td><td>39</td></tr>\n",
       "<tr><td>MS</td><td>42</td></tr>\n",
       "<tr><td>AL</td><td>36</td></tr>\n",
       "<tr><td>MG</td><td>46</td></tr>\n",
       "<tr><td>PA</td><td>28</td></tr>\n",
       "<tr><td>BA</td><td>42</td></tr>\n",
       "<tr><td>SE</td><td>44</td></tr>\n",
       "<tr><td>PE</td><td>34</td></tr>\n",
       "<tr><td>CE</td><td>45</td></tr>\n",
       "</table>\n",
       "only showing top 20 rows\n"
      ],
      "text/plain": [
       "+------+----------+\n",
       "|estado|quantidade|\n",
       "+------+----------+\n",
       "|    SC|        44|\n",
       "|    RO|        39|\n",
       "|    PI|        35|\n",
       "|    AM|        34|\n",
       "|    RR|        33|\n",
       "|    GO|        45|\n",
       "|    TO|        34|\n",
       "|    MT|        29|\n",
       "|    SP|        49|\n",
       "|    ES|        38|\n",
       "|    PB|        34|\n",
       "|    RS|        39|\n",
       "|    MS|        42|\n",
       "|    AL|        36|\n",
       "|    MG|        46|\n",
       "|    PA|        28|\n",
       "|    BA|        42|\n",
       "|    SE|        44|\n",
       "|    PE|        34|\n",
       "|    CE|        45|\n",
       "+------+----------+\n",
       "only showing top 20 rows"
      ]
     },
     "execution_count": 381,
     "metadata": {},
     "output_type": "execute_result"
    }
   ],
   "source": [
    "df.groupBy('estado').agg(F.count('*').alias('quantidade'))"
   ]
  },
  {
   "cell_type": "code",
   "execution_count": 394,
   "id": "18e87985-8dce-4d9f-9b13-fbdc2e672310",
   "metadata": {
    "collapsed": true,
    "jupyter": {
     "outputs_hidden": true
    }
   },
   "outputs": [
    {
     "data": {
      "text/html": [
       "<table border='1'>\n",
       "<tr><th>teste</th><th>senha</th><th>estado</th><th>cor_favorita</th><th>profissao</th></tr>\n",
       "<tr><td>pedro-lucas53@gma...</td><td>+7^7E%xFBc</td><td>RR</td><td>Roxo</td><td>Jogador De Golfe</td></tr>\n",
       "<tr><td>rezendeisaac@hotm...</td><td>_O_2GRnGOe</td><td>GO</td><td>Ciano</td><td>Atleta De Arremes...</td></tr>\n",
       "<tr><td>felipepires@uol.c...</td><td>*Aw5EOAvy9</td><td>MG</td><td>Azul</td><td>Papiloscopista</td></tr>\n",
       "<tr><td>stellamoraes@bol....</td><td>mw0AWYAs#s</td><td>AC</td><td>Marrom</td><td>Aeromoça</td></tr>\n",
       "<tr><td>wcarvalho@ig.com.br</td><td>pGD%!2Pq5X</td><td>AP</td><td>Laranja</td><td>Fonoaudiólogo</td></tr>\n",
       "<tr><td>da-conceicaodavi-...</td><td>uhBbFxPA&amp;9</td><td>MG</td><td>Rosa</td><td>Taxista</td></tr>\n",
       "<tr><td>efreitas@bol.com.br</td><td>s#q9VZt&amp;xl</td><td>MG</td><td>Branco</td><td>Produtor De Audio...</td></tr>\n",
       "<tr><td>wnunes@bol.com.br</td><td>_8az1W%n7g</td><td>SE</td><td>Azul</td><td>Cadeirinha</td></tr>\n",
       "<tr><td>jribeiro@bol.com.br</td><td>MEf1X7fj_0</td><td>PA</td><td>Marrom</td><td>Geólogo</td></tr>\n",
       "<tr><td>murilo05@gmail.com</td><td>Te&amp;gO7GkKs</td><td>MT</td><td>Marrom</td><td>Técnico De Som</td></tr>\n",
       "<tr><td>joaquim57@ig.com.br</td><td>&amp;2E1NY+ARc</td><td>BA</td><td>Rosa</td><td>Esteticista</td></tr>\n",
       "<tr><td>alexiada-rocha@ig...</td><td>@f@!Z!2c*2</td><td>MS</td><td>Laranja</td><td>Microfonista</td></tr>\n",
       "<tr><td>pmendes@gmail.com</td><td>M+^XDBfe(2</td><td>RR</td><td>Verde Claro</td><td>Fiscal</td></tr>\n",
       "<tr><td>renan46@bol.com.br</td><td>Rp%2pVqfe$</td><td>PA</td><td>Verde Escuro</td><td>Contabilista</td></tr>\n",
       "<tr><td>manuelada-rosa@ho...</td><td>#hEIEOztQ3</td><td>SE</td><td>Violeta</td><td>Seguidor De Compras</td></tr>\n",
       "<tr><td>usales@ig.com.br</td><td>b_8xaY$ozJ</td><td>AM</td><td>Rosa</td><td>Almirante</td></tr>\n",
       "<tr><td>pereiranicolas@ho...</td><td>YA9I85Wb+2</td><td>MA</td><td>Amarelo</td><td>Consultor De Moda</td></tr>\n",
       "<tr><td>cardosolivia@ig.c...</td><td>yXkDW7Ebh*</td><td>GO</td><td>Laranja</td><td>Barbeiro</td></tr>\n",
       "<tr><td>brenda39@ig.com.br</td><td>XS$84Hpsnw</td><td>RJ</td><td>Branco</td><td>Promotor De Vendas</td></tr>\n",
       "<tr><td>luizapeixoto@gmai...</td><td>TbKy82Kda$</td><td>DF</td><td>Ciano</td><td>Implantodontista</td></tr>\n",
       "</table>\n",
       "only showing top 20 rows\n"
      ],
      "text/plain": [
       "+--------------------+----------+------+------------+--------------------+\n",
       "|               teste|     senha|estado|cor_favorita|           profissao|\n",
       "+--------------------+----------+------+------------+--------------------+\n",
       "|pedro-lucas53@gma...|+7^7E%xFBc|    RR|        Roxo|    Jogador De Golfe|\n",
       "|rezendeisaac@hotm...|_O_2GRnGOe|    GO|       Ciano|Atleta De Arremes...|\n",
       "|felipepires@uol.c...|*Aw5EOAvy9|    MG|        Azul|      Papiloscopista|\n",
       "|stellamoraes@bol....|mw0AWYAs#s|    AC|      Marrom|            Aeromoça|\n",
       "| wcarvalho@ig.com.br|pGD%!2Pq5X|    AP|     Laranja|       Fonoaudiólogo|\n",
       "|da-conceicaodavi-...|uhBbFxPA&9|    MG|        Rosa|             Taxista|\n",
       "| efreitas@bol.com.br|s#q9VZt&xl|    MG|      Branco|Produtor De Audio...|\n",
       "|   wnunes@bol.com.br|_8az1W%n7g|    SE|        Azul|          Cadeirinha|\n",
       "| jribeiro@bol.com.br|MEf1X7fj_0|    PA|      Marrom|             Geólogo|\n",
       "|  murilo05@gmail.com|Te&gO7GkKs|    MT|      Marrom|      Técnico De Som|\n",
       "| joaquim57@ig.com.br|&2E1NY+ARc|    BA|        Rosa|         Esteticista|\n",
       "|alexiada-rocha@ig...|@f@!Z!2c*2|    MS|     Laranja|        Microfonista|\n",
       "|   pmendes@gmail.com|M+^XDBfe(2|    RR| Verde Claro|              Fiscal|\n",
       "|  renan46@bol.com.br|Rp%2pVqfe$|    PA|Verde Escuro|        Contabilista|\n",
       "|manuelada-rosa@ho...|#hEIEOztQ3|    SE|     Violeta| Seguidor De Compras|\n",
       "|    usales@ig.com.br|b_8xaY$ozJ|    AM|        Rosa|           Almirante|\n",
       "|pereiranicolas@ho...|YA9I85Wb+2|    MA|     Amarelo|   Consultor De Moda|\n",
       "|cardosolivia@ig.c...|yXkDW7Ebh*|    GO|     Laranja|            Barbeiro|\n",
       "|  brenda39@ig.com.br|XS$84Hpsnw|    RJ|      Branco|  Promotor De Vendas|\n",
       "|luizapeixoto@gmai...|TbKy82Kda$|    DF|       Ciano|    Implantodontista|\n",
       "+--------------------+----------+------+------------+--------------------+\n",
       "only showing top 20 rows"
      ]
     },
     "execution_count": 394,
     "metadata": {},
     "output_type": "execute_result"
    }
   ],
   "source": [
    "df_01.withColumnRenamed('email', 'teste')"
   ]
  },
  {
   "cell_type": "markdown",
   "id": "e23cde83-ff62-4008-bd29-22f6fd8afc70",
   "metadata": {},
   "source": [
    "### Mais manipulação de dados\n",
    "\n",
    "Um muito popular é o `F.regexp_replace`\\\n",
    "`F.regexp_replace(Nome da Coluna, STR a ser corrigido, Valor de correção)`\n"
   ]
  },
  {
   "cell_type": "code",
   "execution_count": 401,
   "id": "2ddd2460-9499-43bf-b2bb-1b5130014ca4",
   "metadata": {
    "collapsed": true,
    "jupyter": {
     "outputs_hidden": true
    }
   },
   "outputs": [
    {
     "data": {
      "text/html": [
       "<table border='1'>\n",
       "<tr><th>cpf</th><th>email</th><th>senha</th><th>data_de_nascimento</th><th>estado</th><th>data_cadastro</th><th>ipv4</th><th>cor_favorita</th><th>profissao</th><th>telefone</th><th>tel</th></tr>\n",
       "<tr><td>981.507.362-12</td><td>pedro-lucas53@gma...</td><td>+7^7E%xFBc</td><td>2006-12-18</td><td>RR</td><td>2023-02-26</td><td>99.107.250.210</td><td>Roxo</td><td>Jogador De Golfe</td><td>31 7785-4046</td><td>317785-4046</td></tr>\n",
       "<tr><td>493.705.168-75</td><td>rezendeisaac@hotm...</td><td>_O_2GRnGOe</td><td>1992-06-17</td><td>GO</td><td>2023-02-16</td><td>197.11.26.213</td><td>Ciano</td><td>Atleta De Arremes...</td><td>(031) 0803-6753</td><td>(031)0803-6753</td></tr>\n",
       "<tr><td>398.471.625-73</td><td>felipepires@uol.c...</td><td>*Aw5EOAvy9</td><td>1921-11-11</td><td>MG</td><td>2023-01-02</td><td>181.90.63.58</td><td>Azul</td><td>Papiloscopista</td><td>11 9674-0553</td><td>119674-0553</td></tr>\n",
       "<tr><td>092.618.354-06</td><td>stellamoraes@bol....</td><td>mw0AWYAs#s</td><td>2021-06-01</td><td>AC</td><td>2023-01-08</td><td>26.121.127.94</td><td>Marrom</td><td>Aeromoça</td><td>+55 (071) 3033 9177</td><td>+55(071)30339177</td></tr>\n",
       "<tr><td>509.427.136-99</td><td>wcarvalho@ig.com.br</td><td>pGD%!2Pq5X</td><td>1969-10-28</td><td>AP</td><td>2023-02-14</td><td>76.184.52.163</td><td>Laranja</td><td>Fonoaudiólogo</td><td>+55 (071) 6272 2468</td><td>+55(071)62722468</td></tr>\n",
       "<tr><td>218.795.460-94</td><td>da-conceicaodavi-...</td><td>uhBbFxPA&amp;9</td><td>1986-05-19</td><td>MG</td><td>2023-03-07</td><td>192.93.0.24</td><td>Rosa</td><td>Taxista</td><td>+55 84 0652 9691</td><td>+558406529691</td></tr>\n",
       "<tr><td>715.836.940-48</td><td>efreitas@bol.com.br</td><td>s#q9VZt&amp;xl</td><td>2018-04-20</td><td>MG</td><td>2023-01-13</td><td>76.251.188.148</td><td>Branco</td><td>Produtor De Audio...</td><td>+55 (084) 1363 0052</td><td>+55(084)13630052</td></tr>\n",
       "<tr><td>475.698.032-56</td><td>wnunes@bol.com.br</td><td>_8az1W%n7g</td><td>1996-05-12</td><td>SE</td><td>2023-02-04</td><td>139.196.176.154</td><td>Azul</td><td>Cadeirinha</td><td>(071) 1640-3388</td><td>(071)1640-3388</td></tr>\n",
       "<tr><td>217.639.540-99</td><td>jribeiro@bol.com.br</td><td>MEf1X7fj_0</td><td>2021-10-05</td><td>PA</td><td>2023-03-02</td><td>71.22.224.5</td><td>Marrom</td><td>Geólogo</td><td>21 1432 4092</td><td>2114324092</td></tr>\n",
       "<tr><td>261.938.750-77</td><td>murilo05@gmail.com</td><td>Te&amp;gO7GkKs</td><td>1917-01-05</td><td>MT</td><td>2023-02-21</td><td>136.54.123.165</td><td>Marrom</td><td>Técnico De Som</td><td>+55 (084) 5878-3346</td><td>+55(084)5878-3346</td></tr>\n",
       "<tr><td>520.831.796-68</td><td>joaquim57@ig.com.br</td><td>&amp;2E1NY+ARc</td><td>1912-05-25</td><td>BA</td><td>2023-01-25</td><td>78.196.255.126</td><td>Rosa</td><td>Esteticista</td><td>41 7914-3753</td><td>417914-3753</td></tr>\n",
       "<tr><td>413.087.526-44</td><td>alexiada-rocha@ig...</td><td>@f@!Z!2c*2</td><td>1920-05-26</td><td>MS</td><td>2023-02-18</td><td>182.61.65.201</td><td>Laranja</td><td>Microfonista</td><td>(021) 3739-2944</td><td>(021)3739-2944</td></tr>\n",
       "<tr><td>509.287.143-14</td><td>pmendes@gmail.com</td><td>M+^XDBfe(2</td><td>1938-03-11</td><td>RR</td><td>2023-01-19</td><td>61.234.208.17</td><td>Verde Claro</td><td>Fiscal</td><td>+55 (084) 5940-1932</td><td>+55(084)5940-1932</td></tr>\n",
       "<tr><td>563.170.492-70</td><td>renan46@bol.com.br</td><td>Rp%2pVqfe$</td><td>1922-09-01</td><td>PA</td><td>2023-02-01</td><td>122.203.83.177</td><td>Verde Escuro</td><td>Contabilista</td><td>+55 41 6248 5773</td><td>+554162485773</td></tr>\n",
       "<tr><td>098.712.346-78</td><td>manuelada-rosa@ho...</td><td>#hEIEOztQ3</td><td>2013-01-10</td><td>SE</td><td>2023-01-07</td><td>175.18.73.211</td><td>Violeta</td><td>Seguidor De Compras</td><td>51 0278 0564</td><td>5102780564</td></tr>\n",
       "<tr><td>345.709.261-34</td><td>usales@ig.com.br</td><td>b_8xaY$ozJ</td><td>1992-10-16</td><td>AM</td><td>2023-01-05</td><td>97.93.29.75</td><td>Rosa</td><td>Almirante</td><td>(084) 8993-4521</td><td>(084)8993-4521</td></tr>\n",
       "<tr><td>318.254.906-51</td><td>pereiranicolas@ho...</td><td>YA9I85Wb+2</td><td>1945-11-18</td><td>MA</td><td>2023-01-24</td><td>182.195.33.137</td><td>Amarelo</td><td>Consultor De Moda</td><td>(084) 4591 3795</td><td>(084)45913795</td></tr>\n",
       "<tr><td>610.287.453-62</td><td>cardosolivia@ig.c...</td><td>yXkDW7Ebh*</td><td>1915-11-15</td><td>GO</td><td>2023-01-22</td><td>195.194.63.184</td><td>Laranja</td><td>Barbeiro</td><td>+55 61 8967-9563</td><td>+55618967-9563</td></tr>\n",
       "<tr><td>615.790.842-49</td><td>brenda39@ig.com.br</td><td>XS$84Hpsnw</td><td>1964-02-01</td><td>RJ</td><td>2023-02-16</td><td>21.252.226.29</td><td>Branco</td><td>Promotor De Vendas</td><td>+55 (021) 4751 2004</td><td>+55(021)47512004</td></tr>\n",
       "<tr><td>624.095.138-24</td><td>luizapeixoto@gmai...</td><td>TbKy82Kda$</td><td>1959-02-01</td><td>DF</td><td>2023-02-25</td><td>105.107.23.13</td><td>Ciano</td><td>Implantodontista</td><td>84 1293 1906</td><td>8412931906</td></tr>\n",
       "</table>\n",
       "only showing top 20 rows\n"
      ],
      "text/plain": [
       "+--------------+--------------------+----------+------------------+------+-------------+---------------+------------+--------------------+-------------------+-----------------+\n",
       "|           cpf|               email|     senha|data_de_nascimento|estado|data_cadastro|           ipv4|cor_favorita|           profissao|           telefone|              tel|\n",
       "+--------------+--------------------+----------+------------------+------+-------------+---------------+------------+--------------------+-------------------+-----------------+\n",
       "|981.507.362-12|pedro-lucas53@gma...|+7^7E%xFBc|        2006-12-18|    RR|   2023-02-26| 99.107.250.210|        Roxo|    Jogador De Golfe|       31 7785-4046|      317785-4046|\n",
       "|493.705.168-75|rezendeisaac@hotm...|_O_2GRnGOe|        1992-06-17|    GO|   2023-02-16|  197.11.26.213|       Ciano|Atleta De Arremes...|    (031) 0803-6753|   (031)0803-6753|\n",
       "|398.471.625-73|felipepires@uol.c...|*Aw5EOAvy9|        1921-11-11|    MG|   2023-01-02|   181.90.63.58|        Azul|      Papiloscopista|       11 9674-0553|      119674-0553|\n",
       "|092.618.354-06|stellamoraes@bol....|mw0AWYAs#s|        2021-06-01|    AC|   2023-01-08|  26.121.127.94|      Marrom|            Aeromoça|+55 (071) 3033 9177| +55(071)30339177|\n",
       "|509.427.136-99| wcarvalho@ig.com.br|pGD%!2Pq5X|        1969-10-28|    AP|   2023-02-14|  76.184.52.163|     Laranja|       Fonoaudiólogo|+55 (071) 6272 2468| +55(071)62722468|\n",
       "|218.795.460-94|da-conceicaodavi-...|uhBbFxPA&9|        1986-05-19|    MG|   2023-03-07|    192.93.0.24|        Rosa|             Taxista|   +55 84 0652 9691|    +558406529691|\n",
       "|715.836.940-48| efreitas@bol.com.br|s#q9VZt&xl|        2018-04-20|    MG|   2023-01-13| 76.251.188.148|      Branco|Produtor De Audio...|+55 (084) 1363 0052| +55(084)13630052|\n",
       "|475.698.032-56|   wnunes@bol.com.br|_8az1W%n7g|        1996-05-12|    SE|   2023-02-04|139.196.176.154|        Azul|          Cadeirinha|    (071) 1640-3388|   (071)1640-3388|\n",
       "|217.639.540-99| jribeiro@bol.com.br|MEf1X7fj_0|        2021-10-05|    PA|   2023-03-02|    71.22.224.5|      Marrom|             Geólogo|       21 1432 4092|       2114324092|\n",
       "|261.938.750-77|  murilo05@gmail.com|Te&gO7GkKs|        1917-01-05|    MT|   2023-02-21| 136.54.123.165|      Marrom|      Técnico De Som|+55 (084) 5878-3346|+55(084)5878-3346|\n",
       "|520.831.796-68| joaquim57@ig.com.br|&2E1NY+ARc|        1912-05-25|    BA|   2023-01-25| 78.196.255.126|        Rosa|         Esteticista|       41 7914-3753|      417914-3753|\n",
       "|413.087.526-44|alexiada-rocha@ig...|@f@!Z!2c*2|        1920-05-26|    MS|   2023-02-18|  182.61.65.201|     Laranja|        Microfonista|    (021) 3739-2944|   (021)3739-2944|\n",
       "|509.287.143-14|   pmendes@gmail.com|M+^XDBfe(2|        1938-03-11|    RR|   2023-01-19|  61.234.208.17| Verde Claro|              Fiscal|+55 (084) 5940-1932|+55(084)5940-1932|\n",
       "|563.170.492-70|  renan46@bol.com.br|Rp%2pVqfe$|        1922-09-01|    PA|   2023-02-01| 122.203.83.177|Verde Escuro|        Contabilista|   +55 41 6248 5773|    +554162485773|\n",
       "|098.712.346-78|manuelada-rosa@ho...|#hEIEOztQ3|        2013-01-10|    SE|   2023-01-07|  175.18.73.211|     Violeta| Seguidor De Compras|       51 0278 0564|       5102780564|\n",
       "|345.709.261-34|    usales@ig.com.br|b_8xaY$ozJ|        1992-10-16|    AM|   2023-01-05|    97.93.29.75|        Rosa|           Almirante|    (084) 8993-4521|   (084)8993-4521|\n",
       "|318.254.906-51|pereiranicolas@ho...|YA9I85Wb+2|        1945-11-18|    MA|   2023-01-24| 182.195.33.137|     Amarelo|   Consultor De Moda|    (084) 4591 3795|    (084)45913795|\n",
       "|610.287.453-62|cardosolivia@ig.c...|yXkDW7Ebh*|        1915-11-15|    GO|   2023-01-22| 195.194.63.184|     Laranja|            Barbeiro|   +55 61 8967-9563|   +55618967-9563|\n",
       "|615.790.842-49|  brenda39@ig.com.br|XS$84Hpsnw|        1964-02-01|    RJ|   2023-02-16|  21.252.226.29|      Branco|  Promotor De Vendas|+55 (021) 4751 2004| +55(021)47512004|\n",
       "|624.095.138-24|luizapeixoto@gmai...|TbKy82Kda$|        1959-02-01|    DF|   2023-02-25|  105.107.23.13|       Ciano|    Implantodontista|       84 1293 1906|       8412931906|\n",
       "+--------------+--------------------+----------+------------------+------+-------------+---------------+------------+--------------------+-------------------+-----------------+\n",
       "only showing top 20 rows"
      ]
     },
     "execution_count": 401,
     "metadata": {},
     "output_type": "execute_result"
    }
   ],
   "source": [
    "(\n",
    "    df\n",
    "    .withColumn('tel', F.regexp_replace('telefone',' ',''))\n",
    ")"
   ]
  },
  {
   "cell_type": "code",
   "execution_count": 404,
   "id": "8dcaf9d3-fa83-4f5a-91a8-d4f95d95c629",
   "metadata": {
    "collapsed": true,
    "jupyter": {
     "outputs_hidden": true
    }
   },
   "outputs": [
    {
     "name": "stderr",
     "output_type": "stream",
     "text": [
      "<>:3: SyntaxWarning: invalid escape sequence '\\D'\n",
      "<>:3: SyntaxWarning: invalid escape sequence '\\D'\n",
      "C:\\Users\\Kimura\\AppData\\Local\\Temp\\ipykernel_14536\\2692659803.py:3: SyntaxWarning: invalid escape sequence '\\D'\n",
      "  .withColumn('tel', F.regexp_replace('telefone','(\\D)','')) #(\\D) deixa apenas numeros\n"
     ]
    },
    {
     "data": {
      "text/html": [
       "<table border='1'>\n",
       "<tr><th>cpf</th><th>email</th><th>senha</th><th>data_de_nascimento</th><th>estado</th><th>data_cadastro</th><th>ipv4</th><th>cor_favorita</th><th>profissao</th><th>telefone</th><th>tel</th></tr>\n",
       "<tr><td>981.507.362-12</td><td>pedro-lucas53@gma...</td><td>+7^7E%xFBc</td><td>2006-12-18</td><td>RR</td><td>2023-02-26</td><td>99.107.250.210</td><td>Roxo</td><td>Jogador De Golfe</td><td>31 7785-4046</td><td>3177854046</td></tr>\n",
       "<tr><td>493.705.168-75</td><td>rezendeisaac@hotm...</td><td>_O_2GRnGOe</td><td>1992-06-17</td><td>GO</td><td>2023-02-16</td><td>197.11.26.213</td><td>Ciano</td><td>Atleta De Arremes...</td><td>(031) 0803-6753</td><td>03108036753</td></tr>\n",
       "<tr><td>398.471.625-73</td><td>felipepires@uol.c...</td><td>*Aw5EOAvy9</td><td>1921-11-11</td><td>MG</td><td>2023-01-02</td><td>181.90.63.58</td><td>Azul</td><td>Papiloscopista</td><td>11 9674-0553</td><td>1196740553</td></tr>\n",
       "<tr><td>092.618.354-06</td><td>stellamoraes@bol....</td><td>mw0AWYAs#s</td><td>2021-06-01</td><td>AC</td><td>2023-01-08</td><td>26.121.127.94</td><td>Marrom</td><td>Aeromoça</td><td>+55 (071) 3033 9177</td><td>5507130339177</td></tr>\n",
       "<tr><td>509.427.136-99</td><td>wcarvalho@ig.com.br</td><td>pGD%!2Pq5X</td><td>1969-10-28</td><td>AP</td><td>2023-02-14</td><td>76.184.52.163</td><td>Laranja</td><td>Fonoaudiólogo</td><td>+55 (071) 6272 2468</td><td>5507162722468</td></tr>\n",
       "<tr><td>218.795.460-94</td><td>da-conceicaodavi-...</td><td>uhBbFxPA&amp;9</td><td>1986-05-19</td><td>MG</td><td>2023-03-07</td><td>192.93.0.24</td><td>Rosa</td><td>Taxista</td><td>+55 84 0652 9691</td><td>558406529691</td></tr>\n",
       "<tr><td>715.836.940-48</td><td>efreitas@bol.com.br</td><td>s#q9VZt&amp;xl</td><td>2018-04-20</td><td>MG</td><td>2023-01-13</td><td>76.251.188.148</td><td>Branco</td><td>Produtor De Audio...</td><td>+55 (084) 1363 0052</td><td>5508413630052</td></tr>\n",
       "<tr><td>475.698.032-56</td><td>wnunes@bol.com.br</td><td>_8az1W%n7g</td><td>1996-05-12</td><td>SE</td><td>2023-02-04</td><td>139.196.176.154</td><td>Azul</td><td>Cadeirinha</td><td>(071) 1640-3388</td><td>07116403388</td></tr>\n",
       "<tr><td>217.639.540-99</td><td>jribeiro@bol.com.br</td><td>MEf1X7fj_0</td><td>2021-10-05</td><td>PA</td><td>2023-03-02</td><td>71.22.224.5</td><td>Marrom</td><td>Geólogo</td><td>21 1432 4092</td><td>2114324092</td></tr>\n",
       "<tr><td>261.938.750-77</td><td>murilo05@gmail.com</td><td>Te&amp;gO7GkKs</td><td>1917-01-05</td><td>MT</td><td>2023-02-21</td><td>136.54.123.165</td><td>Marrom</td><td>Técnico De Som</td><td>+55 (084) 5878-3346</td><td>5508458783346</td></tr>\n",
       "<tr><td>520.831.796-68</td><td>joaquim57@ig.com.br</td><td>&amp;2E1NY+ARc</td><td>1912-05-25</td><td>BA</td><td>2023-01-25</td><td>78.196.255.126</td><td>Rosa</td><td>Esteticista</td><td>41 7914-3753</td><td>4179143753</td></tr>\n",
       "<tr><td>413.087.526-44</td><td>alexiada-rocha@ig...</td><td>@f@!Z!2c*2</td><td>1920-05-26</td><td>MS</td><td>2023-02-18</td><td>182.61.65.201</td><td>Laranja</td><td>Microfonista</td><td>(021) 3739-2944</td><td>02137392944</td></tr>\n",
       "<tr><td>509.287.143-14</td><td>pmendes@gmail.com</td><td>M+^XDBfe(2</td><td>1938-03-11</td><td>RR</td><td>2023-01-19</td><td>61.234.208.17</td><td>Verde Claro</td><td>Fiscal</td><td>+55 (084) 5940-1932</td><td>5508459401932</td></tr>\n",
       "<tr><td>563.170.492-70</td><td>renan46@bol.com.br</td><td>Rp%2pVqfe$</td><td>1922-09-01</td><td>PA</td><td>2023-02-01</td><td>122.203.83.177</td><td>Verde Escuro</td><td>Contabilista</td><td>+55 41 6248 5773</td><td>554162485773</td></tr>\n",
       "<tr><td>098.712.346-78</td><td>manuelada-rosa@ho...</td><td>#hEIEOztQ3</td><td>2013-01-10</td><td>SE</td><td>2023-01-07</td><td>175.18.73.211</td><td>Violeta</td><td>Seguidor De Compras</td><td>51 0278 0564</td><td>5102780564</td></tr>\n",
       "<tr><td>345.709.261-34</td><td>usales@ig.com.br</td><td>b_8xaY$ozJ</td><td>1992-10-16</td><td>AM</td><td>2023-01-05</td><td>97.93.29.75</td><td>Rosa</td><td>Almirante</td><td>(084) 8993-4521</td><td>08489934521</td></tr>\n",
       "<tr><td>318.254.906-51</td><td>pereiranicolas@ho...</td><td>YA9I85Wb+2</td><td>1945-11-18</td><td>MA</td><td>2023-01-24</td><td>182.195.33.137</td><td>Amarelo</td><td>Consultor De Moda</td><td>(084) 4591 3795</td><td>08445913795</td></tr>\n",
       "<tr><td>610.287.453-62</td><td>cardosolivia@ig.c...</td><td>yXkDW7Ebh*</td><td>1915-11-15</td><td>GO</td><td>2023-01-22</td><td>195.194.63.184</td><td>Laranja</td><td>Barbeiro</td><td>+55 61 8967-9563</td><td>556189679563</td></tr>\n",
       "<tr><td>615.790.842-49</td><td>brenda39@ig.com.br</td><td>XS$84Hpsnw</td><td>1964-02-01</td><td>RJ</td><td>2023-02-16</td><td>21.252.226.29</td><td>Branco</td><td>Promotor De Vendas</td><td>+55 (021) 4751 2004</td><td>5502147512004</td></tr>\n",
       "<tr><td>624.095.138-24</td><td>luizapeixoto@gmai...</td><td>TbKy82Kda$</td><td>1959-02-01</td><td>DF</td><td>2023-02-25</td><td>105.107.23.13</td><td>Ciano</td><td>Implantodontista</td><td>84 1293 1906</td><td>8412931906</td></tr>\n",
       "</table>\n",
       "only showing top 20 rows\n"
      ],
      "text/plain": [
       "+--------------+--------------------+----------+------------------+------+-------------+---------------+------------+--------------------+-------------------+-------------+\n",
       "|           cpf|               email|     senha|data_de_nascimento|estado|data_cadastro|           ipv4|cor_favorita|           profissao|           telefone|          tel|\n",
       "+--------------+--------------------+----------+------------------+------+-------------+---------------+------------+--------------------+-------------------+-------------+\n",
       "|981.507.362-12|pedro-lucas53@gma...|+7^7E%xFBc|        2006-12-18|    RR|   2023-02-26| 99.107.250.210|        Roxo|    Jogador De Golfe|       31 7785-4046|   3177854046|\n",
       "|493.705.168-75|rezendeisaac@hotm...|_O_2GRnGOe|        1992-06-17|    GO|   2023-02-16|  197.11.26.213|       Ciano|Atleta De Arremes...|    (031) 0803-6753|  03108036753|\n",
       "|398.471.625-73|felipepires@uol.c...|*Aw5EOAvy9|        1921-11-11|    MG|   2023-01-02|   181.90.63.58|        Azul|      Papiloscopista|       11 9674-0553|   1196740553|\n",
       "|092.618.354-06|stellamoraes@bol....|mw0AWYAs#s|        2021-06-01|    AC|   2023-01-08|  26.121.127.94|      Marrom|            Aeromoça|+55 (071) 3033 9177|5507130339177|\n",
       "|509.427.136-99| wcarvalho@ig.com.br|pGD%!2Pq5X|        1969-10-28|    AP|   2023-02-14|  76.184.52.163|     Laranja|       Fonoaudiólogo|+55 (071) 6272 2468|5507162722468|\n",
       "|218.795.460-94|da-conceicaodavi-...|uhBbFxPA&9|        1986-05-19|    MG|   2023-03-07|    192.93.0.24|        Rosa|             Taxista|   +55 84 0652 9691| 558406529691|\n",
       "|715.836.940-48| efreitas@bol.com.br|s#q9VZt&xl|        2018-04-20|    MG|   2023-01-13| 76.251.188.148|      Branco|Produtor De Audio...|+55 (084) 1363 0052|5508413630052|\n",
       "|475.698.032-56|   wnunes@bol.com.br|_8az1W%n7g|        1996-05-12|    SE|   2023-02-04|139.196.176.154|        Azul|          Cadeirinha|    (071) 1640-3388|  07116403388|\n",
       "|217.639.540-99| jribeiro@bol.com.br|MEf1X7fj_0|        2021-10-05|    PA|   2023-03-02|    71.22.224.5|      Marrom|             Geólogo|       21 1432 4092|   2114324092|\n",
       "|261.938.750-77|  murilo05@gmail.com|Te&gO7GkKs|        1917-01-05|    MT|   2023-02-21| 136.54.123.165|      Marrom|      Técnico De Som|+55 (084) 5878-3346|5508458783346|\n",
       "|520.831.796-68| joaquim57@ig.com.br|&2E1NY+ARc|        1912-05-25|    BA|   2023-01-25| 78.196.255.126|        Rosa|         Esteticista|       41 7914-3753|   4179143753|\n",
       "|413.087.526-44|alexiada-rocha@ig...|@f@!Z!2c*2|        1920-05-26|    MS|   2023-02-18|  182.61.65.201|     Laranja|        Microfonista|    (021) 3739-2944|  02137392944|\n",
       "|509.287.143-14|   pmendes@gmail.com|M+^XDBfe(2|        1938-03-11|    RR|   2023-01-19|  61.234.208.17| Verde Claro|              Fiscal|+55 (084) 5940-1932|5508459401932|\n",
       "|563.170.492-70|  renan46@bol.com.br|Rp%2pVqfe$|        1922-09-01|    PA|   2023-02-01| 122.203.83.177|Verde Escuro|        Contabilista|   +55 41 6248 5773| 554162485773|\n",
       "|098.712.346-78|manuelada-rosa@ho...|#hEIEOztQ3|        2013-01-10|    SE|   2023-01-07|  175.18.73.211|     Violeta| Seguidor De Compras|       51 0278 0564|   5102780564|\n",
       "|345.709.261-34|    usales@ig.com.br|b_8xaY$ozJ|        1992-10-16|    AM|   2023-01-05|    97.93.29.75|        Rosa|           Almirante|    (084) 8993-4521|  08489934521|\n",
       "|318.254.906-51|pereiranicolas@ho...|YA9I85Wb+2|        1945-11-18|    MA|   2023-01-24| 182.195.33.137|     Amarelo|   Consultor De Moda|    (084) 4591 3795|  08445913795|\n",
       "|610.287.453-62|cardosolivia@ig.c...|yXkDW7Ebh*|        1915-11-15|    GO|   2023-01-22| 195.194.63.184|     Laranja|            Barbeiro|   +55 61 8967-9563| 556189679563|\n",
       "|615.790.842-49|  brenda39@ig.com.br|XS$84Hpsnw|        1964-02-01|    RJ|   2023-02-16|  21.252.226.29|      Branco|  Promotor De Vendas|+55 (021) 4751 2004|5502147512004|\n",
       "|624.095.138-24|luizapeixoto@gmai...|TbKy82Kda$|        1959-02-01|    DF|   2023-02-25|  105.107.23.13|       Ciano|    Implantodontista|       84 1293 1906|   8412931906|\n",
       "+--------------+--------------------+----------+------------------+------+-------------+---------------+------------+--------------------+-------------------+-------------+\n",
       "only showing top 20 rows"
      ]
     },
     "execution_count": 404,
     "metadata": {},
     "output_type": "execute_result"
    }
   ],
   "source": [
    "(\n",
    "    df\n",
    "    .withColumn('tel', F.regexp_replace('telefone','(\\D)','')) #(\\D) deixa apenas numeros\n",
    ")"
   ]
  },
  {
   "cell_type": "code",
   "execution_count": 409,
   "id": "46bb3bff-5af5-4535-bef3-dacb0e963158",
   "metadata": {
    "collapsed": true,
    "jupyter": {
     "outputs_hidden": true
    }
   },
   "outputs": [
    {
     "data": {
      "text/html": [
       "<table border='1'>\n",
       "<tr><th>cpf</th><th>email</th><th>senha</th><th>data_de_nascimento</th><th>estado</th><th>data_cadastro</th><th>ipv4</th><th>cor_favorita</th><th>profissao</th><th>telefone</th><th>tel</th></tr>\n",
       "<tr><td>981.507.362-12</td><td>pedro-lucas53@gma...</td><td>+7^7E%xFBc</td><td>2006-12-18</td><td>RR</td><td>2023-02-26</td><td>99.107.250.210</td><td>Roxo</td><td>Jogador De Golfe</td><td>31 7785-4046</td><td>null</td></tr>\n",
       "<tr><td>493.705.168-75</td><td>rezendeisaac@hotm...</td><td>_O_2GRnGOe</td><td>1992-06-17</td><td>GO</td><td>2023-02-16</td><td>197.11.26.213</td><td>Ciano</td><td>Atleta De Arremes...</td><td>(031) 0803-6753</td><td>null</td></tr>\n",
       "<tr><td>398.471.625-73</td><td>felipepires@uol.c...</td><td>*Aw5EOAvy9</td><td>1921-11-11</td><td>MG</td><td>2023-01-02</td><td>181.90.63.58</td><td>Azul</td><td>Papiloscopista</td><td>11 9674-0553</td><td>null</td></tr>\n",
       "<tr><td>092.618.354-06</td><td>stellamoraes@bol....</td><td>mw0AWYAs#s</td><td>2021-06-01</td><td>AC</td><td>2023-01-08</td><td>26.121.127.94</td><td>Marrom</td><td>Aeromoça</td><td>+55 (071) 3033 9177</td><td>null</td></tr>\n",
       "<tr><td>509.427.136-99</td><td>wcarvalho@ig.com.br</td><td>pGD%!2Pq5X</td><td>1969-10-28</td><td>AP</td><td>2023-02-14</td><td>76.184.52.163</td><td>Laranja</td><td>Fonoaudiólogo</td><td>+55 (071) 6272 2468</td><td>null</td></tr>\n",
       "<tr><td>218.795.460-94</td><td>da-conceicaodavi-...</td><td>uhBbFxPA&amp;9</td><td>1986-05-19</td><td>MG</td><td>2023-03-07</td><td>192.93.0.24</td><td>Rosa</td><td>Taxista</td><td>+55 84 0652 9691</td><td>null</td></tr>\n",
       "<tr><td>715.836.940-48</td><td>efreitas@bol.com.br</td><td>s#q9VZt&amp;xl</td><td>2018-04-20</td><td>MG</td><td>2023-01-13</td><td>76.251.188.148</td><td>Branco</td><td>Produtor De Audio...</td><td>+55 (084) 1363 0052</td><td>null</td></tr>\n",
       "<tr><td>475.698.032-56</td><td>wnunes@bol.com.br</td><td>_8az1W%n7g</td><td>1996-05-12</td><td>SE</td><td>2023-02-04</td><td>139.196.176.154</td><td>Azul</td><td>Cadeirinha</td><td>(071) 1640-3388</td><td>null</td></tr>\n",
       "<tr><td>217.639.540-99</td><td>jribeiro@bol.com.br</td><td>MEf1X7fj_0</td><td>2021-10-05</td><td>PA</td><td>2023-03-02</td><td>71.22.224.5</td><td>Marrom</td><td>Geólogo</td><td>21 1432 4092</td><td>2114324092</td></tr>\n",
       "<tr><td>261.938.750-77</td><td>murilo05@gmail.com</td><td>Te&amp;gO7GkKs</td><td>1917-01-05</td><td>MT</td><td>2023-02-21</td><td>136.54.123.165</td><td>Marrom</td><td>Técnico De Som</td><td>+55 (084) 5878-3346</td><td>null</td></tr>\n",
       "<tr><td>520.831.796-68</td><td>joaquim57@ig.com.br</td><td>&amp;2E1NY+ARc</td><td>1912-05-25</td><td>BA</td><td>2023-01-25</td><td>78.196.255.126</td><td>Rosa</td><td>Esteticista</td><td>41 7914-3753</td><td>null</td></tr>\n",
       "<tr><td>413.087.526-44</td><td>alexiada-rocha@ig...</td><td>@f@!Z!2c*2</td><td>1920-05-26</td><td>MS</td><td>2023-02-18</td><td>182.61.65.201</td><td>Laranja</td><td>Microfonista</td><td>(021) 3739-2944</td><td>null</td></tr>\n",
       "<tr><td>509.287.143-14</td><td>pmendes@gmail.com</td><td>M+^XDBfe(2</td><td>1938-03-11</td><td>RR</td><td>2023-01-19</td><td>61.234.208.17</td><td>Verde Claro</td><td>Fiscal</td><td>+55 (084) 5940-1932</td><td>null</td></tr>\n",
       "<tr><td>563.170.492-70</td><td>renan46@bol.com.br</td><td>Rp%2pVqfe$</td><td>1922-09-01</td><td>PA</td><td>2023-02-01</td><td>122.203.83.177</td><td>Verde Escuro</td><td>Contabilista</td><td>+55 41 6248 5773</td><td>null</td></tr>\n",
       "<tr><td>098.712.346-78</td><td>manuelada-rosa@ho...</td><td>#hEIEOztQ3</td><td>2013-01-10</td><td>SE</td><td>2023-01-07</td><td>175.18.73.211</td><td>Violeta</td><td>Seguidor De Compras</td><td>51 0278 0564</td><td>null</td></tr>\n",
       "<tr><td>345.709.261-34</td><td>usales@ig.com.br</td><td>b_8xaY$ozJ</td><td>1992-10-16</td><td>AM</td><td>2023-01-05</td><td>97.93.29.75</td><td>Rosa</td><td>Almirante</td><td>(084) 8993-4521</td><td>null</td></tr>\n",
       "<tr><td>318.254.906-51</td><td>pereiranicolas@ho...</td><td>YA9I85Wb+2</td><td>1945-11-18</td><td>MA</td><td>2023-01-24</td><td>182.195.33.137</td><td>Amarelo</td><td>Consultor De Moda</td><td>(084) 4591 3795</td><td>null</td></tr>\n",
       "<tr><td>610.287.453-62</td><td>cardosolivia@ig.c...</td><td>yXkDW7Ebh*</td><td>1915-11-15</td><td>GO</td><td>2023-01-22</td><td>195.194.63.184</td><td>Laranja</td><td>Barbeiro</td><td>+55 61 8967-9563</td><td>null</td></tr>\n",
       "<tr><td>615.790.842-49</td><td>brenda39@ig.com.br</td><td>XS$84Hpsnw</td><td>1964-02-01</td><td>RJ</td><td>2023-02-16</td><td>21.252.226.29</td><td>Branco</td><td>Promotor De Vendas</td><td>+55 (021) 4751 2004</td><td>null</td></tr>\n",
       "<tr><td>624.095.138-24</td><td>luizapeixoto@gmai...</td><td>TbKy82Kda$</td><td>1959-02-01</td><td>DF</td><td>2023-02-25</td><td>105.107.23.13</td><td>Ciano</td><td>Implantodontista</td><td>84 1293 1906</td><td>null</td></tr>\n",
       "</table>\n",
       "only showing top 20 rows\n"
      ],
      "text/plain": [
       "+--------------+--------------------+----------+------------------+------+-------------+---------------+------------+--------------------+-------------------+----------+\n",
       "|           cpf|               email|     senha|data_de_nascimento|estado|data_cadastro|           ipv4|cor_favorita|           profissao|           telefone|       tel|\n",
       "+--------------+--------------------+----------+------------------+------+-------------+---------------+------------+--------------------+-------------------+----------+\n",
       "|981.507.362-12|pedro-lucas53@gma...|+7^7E%xFBc|        2006-12-18|    RR|   2023-02-26| 99.107.250.210|        Roxo|    Jogador De Golfe|       31 7785-4046|      null|\n",
       "|493.705.168-75|rezendeisaac@hotm...|_O_2GRnGOe|        1992-06-17|    GO|   2023-02-16|  197.11.26.213|       Ciano|Atleta De Arremes...|    (031) 0803-6753|      null|\n",
       "|398.471.625-73|felipepires@uol.c...|*Aw5EOAvy9|        1921-11-11|    MG|   2023-01-02|   181.90.63.58|        Azul|      Papiloscopista|       11 9674-0553|      null|\n",
       "|092.618.354-06|stellamoraes@bol....|mw0AWYAs#s|        2021-06-01|    AC|   2023-01-08|  26.121.127.94|      Marrom|            Aeromoça|+55 (071) 3033 9177|      null|\n",
       "|509.427.136-99| wcarvalho@ig.com.br|pGD%!2Pq5X|        1969-10-28|    AP|   2023-02-14|  76.184.52.163|     Laranja|       Fonoaudiólogo|+55 (071) 6272 2468|      null|\n",
       "|218.795.460-94|da-conceicaodavi-...|uhBbFxPA&9|        1986-05-19|    MG|   2023-03-07|    192.93.0.24|        Rosa|             Taxista|   +55 84 0652 9691|      null|\n",
       "|715.836.940-48| efreitas@bol.com.br|s#q9VZt&xl|        2018-04-20|    MG|   2023-01-13| 76.251.188.148|      Branco|Produtor De Audio...|+55 (084) 1363 0052|      null|\n",
       "|475.698.032-56|   wnunes@bol.com.br|_8az1W%n7g|        1996-05-12|    SE|   2023-02-04|139.196.176.154|        Azul|          Cadeirinha|    (071) 1640-3388|      null|\n",
       "|217.639.540-99| jribeiro@bol.com.br|MEf1X7fj_0|        2021-10-05|    PA|   2023-03-02|    71.22.224.5|      Marrom|             Geólogo|       21 1432 4092|2114324092|\n",
       "|261.938.750-77|  murilo05@gmail.com|Te&gO7GkKs|        1917-01-05|    MT|   2023-02-21| 136.54.123.165|      Marrom|      Técnico De Som|+55 (084) 5878-3346|      null|\n",
       "|520.831.796-68| joaquim57@ig.com.br|&2E1NY+ARc|        1912-05-25|    BA|   2023-01-25| 78.196.255.126|        Rosa|         Esteticista|       41 7914-3753|      null|\n",
       "|413.087.526-44|alexiada-rocha@ig...|@f@!Z!2c*2|        1920-05-26|    MS|   2023-02-18|  182.61.65.201|     Laranja|        Microfonista|    (021) 3739-2944|      null|\n",
       "|509.287.143-14|   pmendes@gmail.com|M+^XDBfe(2|        1938-03-11|    RR|   2023-01-19|  61.234.208.17| Verde Claro|              Fiscal|+55 (084) 5940-1932|      null|\n",
       "|563.170.492-70|  renan46@bol.com.br|Rp%2pVqfe$|        1922-09-01|    PA|   2023-02-01| 122.203.83.177|Verde Escuro|        Contabilista|   +55 41 6248 5773|      null|\n",
       "|098.712.346-78|manuelada-rosa@ho...|#hEIEOztQ3|        2013-01-10|    SE|   2023-01-07|  175.18.73.211|     Violeta| Seguidor De Compras|       51 0278 0564|      null|\n",
       "|345.709.261-34|    usales@ig.com.br|b_8xaY$ozJ|        1992-10-16|    AM|   2023-01-05|    97.93.29.75|        Rosa|           Almirante|    (084) 8993-4521|      null|\n",
       "|318.254.906-51|pereiranicolas@ho...|YA9I85Wb+2|        1945-11-18|    MA|   2023-01-24| 182.195.33.137|     Amarelo|   Consultor De Moda|    (084) 4591 3795|      null|\n",
       "|610.287.453-62|cardosolivia@ig.c...|yXkDW7Ebh*|        1915-11-15|    GO|   2023-01-22| 195.194.63.184|     Laranja|            Barbeiro|   +55 61 8967-9563|      null|\n",
       "|615.790.842-49|  brenda39@ig.com.br|XS$84Hpsnw|        1964-02-01|    RJ|   2023-02-16|  21.252.226.29|      Branco|  Promotor De Vendas|+55 (021) 4751 2004|      null|\n",
       "|624.095.138-24|luizapeixoto@gmai...|TbKy82Kda$|        1959-02-01|    DF|   2023-02-25|  105.107.23.13|       Ciano|    Implantodontista|       84 1293 1906|      null|\n",
       "+--------------+--------------------+----------+------------------+------+-------------+---------------+------------+--------------------+-------------------+----------+\n",
       "only showing top 20 rows"
      ]
     },
     "execution_count": 409,
     "metadata": {},
     "output_type": "execute_result"
    }
   ],
   "source": [
    "(\n",
    "    df\n",
    "    .withColumn('tel', F.regexp_replace('telefone',' ','').cast('int')) # CAST = Converção\n",
    ")"
   ]
  },
  {
   "cell_type": "code",
   "execution_count": null,
   "id": "e10cf504-10d3-4758-bf08-43b9dcad2999",
   "metadata": {},
   "outputs": [],
   "source": []
  },
  {
   "cell_type": "code",
   "execution_count": null,
   "id": "e09e8d76-bb19-432f-9851-740ac7d4bbbc",
   "metadata": {},
   "outputs": [],
   "source": []
  },
  {
   "cell_type": "code",
   "execution_count": null,
   "id": "0c59b712-8233-487f-9296-03ad69c269d5",
   "metadata": {},
   "outputs": [],
   "source": []
  },
  {
   "cell_type": "code",
   "execution_count": null,
   "id": "cf9c2adc-7f0b-49a8-933e-69cecde7222e",
   "metadata": {},
   "outputs": [],
   "source": []
  },
  {
   "cell_type": "code",
   "execution_count": null,
   "id": "42eeed74-fdf0-47c8-93f8-14c892994505",
   "metadata": {},
   "outputs": [],
   "source": []
  },
  {
   "cell_type": "code",
   "execution_count": null,
   "id": "2fc4c9ca-70ff-4843-943b-b08bc4aeb6c0",
   "metadata": {},
   "outputs": [],
   "source": []
  },
  {
   "cell_type": "code",
   "execution_count": null,
   "id": "2ff474ab-c627-4fce-89ed-37bcbd0f1298",
   "metadata": {},
   "outputs": [],
   "source": []
  },
  {
   "cell_type": "code",
   "execution_count": null,
   "id": "11370af3-618d-42b9-a134-baee4334fad7",
   "metadata": {},
   "outputs": [],
   "source": []
  },
  {
   "cell_type": "code",
   "execution_count": null,
   "id": "44333896-2684-44ce-89e9-b985fdeaa422",
   "metadata": {},
   "outputs": [],
   "source": []
  },
  {
   "cell_type": "code",
   "execution_count": null,
   "id": "b98ef723-8583-4b11-b0c0-a013aa0480cd",
   "metadata": {},
   "outputs": [],
   "source": []
  },
  {
   "cell_type": "code",
   "execution_count": null,
   "id": "c0b4ba05-e179-47cc-b0c3-2e4d5afd742c",
   "metadata": {},
   "outputs": [],
   "source": []
  },
  {
   "cell_type": "code",
   "execution_count": null,
   "id": "cd31aa02-6bd7-445a-b740-b7d6eb8280a5",
   "metadata": {},
   "outputs": [],
   "source": []
  },
  {
   "cell_type": "code",
   "execution_count": null,
   "id": "3e29d052-3b7e-4c96-b2a6-b730a89abdcd",
   "metadata": {},
   "outputs": [],
   "source": []
  },
  {
   "cell_type": "code",
   "execution_count": null,
   "id": "e9043dcd-a661-42af-a725-5e5b7961d011",
   "metadata": {},
   "outputs": [],
   "source": []
  },
  {
   "cell_type": "code",
   "execution_count": null,
   "id": "0e124cef-5ea7-4c28-bb88-f6c836daf029",
   "metadata": {},
   "outputs": [],
   "source": []
  },
  {
   "cell_type": "code",
   "execution_count": null,
   "id": "adb8914f-7381-4fe4-8356-4b6cc54806bb",
   "metadata": {},
   "outputs": [],
   "source": []
  },
  {
   "cell_type": "code",
   "execution_count": null,
   "id": "243c44ba-551d-4168-90ba-66645c6c382a",
   "metadata": {},
   "outputs": [],
   "source": []
  },
  {
   "cell_type": "code",
   "execution_count": null,
   "id": "a13119f0-eb52-4a82-9cda-91d8a2a7cb0c",
   "metadata": {},
   "outputs": [],
   "source": []
  }
 ],
 "metadata": {
  "kernelspec": {
   "display_name": "Python [conda env:base] *",
   "language": "python",
   "name": "conda-base-py"
  },
  "language_info": {
   "codemirror_mode": {
    "name": "ipython",
    "version": 3
   },
   "file_extension": ".py",
   "mimetype": "text/x-python",
   "name": "python",
   "nbconvert_exporter": "python",
   "pygments_lexer": "ipython3",
   "version": "3.12.7"
  }
 },
 "nbformat": 4,
 "nbformat_minor": 5
}
